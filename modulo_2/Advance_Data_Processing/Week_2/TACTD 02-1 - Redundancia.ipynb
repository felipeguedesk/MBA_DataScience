{
 "cells": [
  {
   "cell_type": "markdown",
   "metadata": {},
   "source": [
    "# MBA em Ciência de Dados\n",
    "# Técnicas Avançadas de Captura e Tratamento de Dados\n",
    "\n",
    "### <span style=\"color:darkred\">Módulo II - Tratamento e Limpeza de Dados</span>\n",
    "\n",
    "### <span style=\"color:darkred\">Redundância</span>\n",
    "\n",
    "Material Produzido por Moacir Antonelli Ponti\n",
    "\n",
    "CeMEAI - ICMC/USP São Carlos\n",
    "\n",
    "---"
   ]
  },
  {
   "cell_type": "markdown",
   "metadata": {},
   "source": [
    "__Referências:__\n",
    "- Salvador García, Julián Luengo, Francisco Herrera. Data Processing in Data Mining, 2015.\n",
    "- Hadley Wickham, Tidy Data. Journal of Statistical Software, v.59, n.10, 2014.\n",
    "- Katti Faceli; Ana Carolina Lorena; João Gama; André C.P.L.F. Carvalho. Inteligência Artificial: uma abordagem de aprendizado de máquina, 2011.\n",
    "\n",
    "__Referência complementar:__\n",
    "- PRATI, Ronaldo C.; BATISTA, Gustavo EAPA; SILVA, Diego F. Class imbalance revisited: a new experimental setup to assess the performance of treatment methods. Knowledge and Information Systems, v. 45, n. 1, p. 247-270, 2015.\n",
    "\n",
    "***"
   ]
  },
  {
   "cell_type": "markdown",
   "metadata": {},
   "source": [
    "## Redundância em dados\n",
    "\n",
    "**Redundância em dados não-estruturados**\n",
    "\n",
    "Muito comum pois dados binários e textuais possuem elementos que não auxiliam na análise. Exemplos incluem:\n",
    "\n",
    "- o fundo de imagens e documentos\n",
    "\n",
    "- timbre em documentos e cartas\n",
    "\n",
    "- tipos de palavras em textos: artigos, conjunções, etc.\n",
    "\n",
    "\n",
    "**Redundância em dados estruturados**\n",
    "\n",
    "Diretamente relacionada a:\n",
    "1. linhas/instâncias com valores repetidos (duplicados) \n",
    "2. colunas/atributos com valores constantes (iguais para todas as instâncias)\n",
    "3. colunas/atributos com alta correlação\n",
    "\n",
    "Nesse notebook tratar apenas de *dados estruturados*"
   ]
  },
  {
   "cell_type": "markdown",
   "metadata": {},
   "source": [
    "## Dados duplicados ou constantes\n",
    "\n",
    "Bases de dados que contém informações repetidas ou atributos irrelevantes para obter as respostas que se espera da análise.\n",
    "\n",
    "A redundância pode atrapalhar no projeto de modelos de aprendizado e estatísticos pois a quantidade de exemplos pode influenciar no viés do modelo.\n",
    "\n",
    "**Redundância em bases de dados estruturadas**:\n",
    "\n",
    "* Registros duplicados\n",
    "\n",
    "* Atributos com valores iguais em todas as observacoes\n",
    "\n",
    "\n",
    "Vamos carregar uma base de dados para mostrar exemplos"
   ]
  },
  {
   "cell_type": "code",
   "execution_count": 1,
   "metadata": {
    "scrolled": false
   },
   "outputs": [
    {
     "data": {
      "text/plain": [
       "Name                object\n",
       "Sex                 object\n",
       "Year of Birth        int64\n",
       "Country of Birth    object\n",
       "Religion            object\n",
       "City                object\n",
       "Profession          object\n",
       "Age                  int64\n",
       "Experience           int64\n",
       "Salary               int64\n",
       "dtype: object"
      ]
     },
     "execution_count": 1,
     "metadata": {},
     "output_type": "execute_result"
    }
   ],
   "source": [
    "import numpy as np\n",
    "import matplotlib.pyplot as plt\n",
    "import pandas as pd\n",
    "\n",
    "data = pd.read_csv(\"./dados/people_prof_relig.csv\")\n",
    "data.dtypes"
   ]
  },
  {
   "cell_type": "code",
   "execution_count": 2,
   "metadata": {},
   "outputs": [
    {
     "data": {
      "text/html": [
       "<div>\n",
       "<style scoped>\n",
       "    .dataframe tbody tr th:only-of-type {\n",
       "        vertical-align: middle;\n",
       "    }\n",
       "\n",
       "    .dataframe tbody tr th {\n",
       "        vertical-align: top;\n",
       "    }\n",
       "\n",
       "    .dataframe thead th {\n",
       "        text-align: right;\n",
       "    }\n",
       "</style>\n",
       "<table border=\"1\" class=\"dataframe\">\n",
       "  <thead>\n",
       "    <tr style=\"text-align: right;\">\n",
       "      <th></th>\n",
       "      <th>Name</th>\n",
       "      <th>Sex</th>\n",
       "      <th>Year of Birth</th>\n",
       "      <th>Country of Birth</th>\n",
       "      <th>Religion</th>\n",
       "      <th>City</th>\n",
       "      <th>Profession</th>\n",
       "      <th>Age</th>\n",
       "      <th>Experience</th>\n",
       "      <th>Salary</th>\n",
       "    </tr>\n",
       "  </thead>\n",
       "  <tbody>\n",
       "    <tr>\n",
       "      <th>0</th>\n",
       "      <td>Eugenio Ewell</td>\n",
       "      <td>M</td>\n",
       "      <td>1968</td>\n",
       "      <td>USA</td>\n",
       "      <td>Christian</td>\n",
       "      <td>New Orleans</td>\n",
       "      <td>Nurse</td>\n",
       "      <td>53</td>\n",
       "      <td>21</td>\n",
       "      <td>4140</td>\n",
       "    </tr>\n",
       "    <tr>\n",
       "      <th>1</th>\n",
       "      <td>Ivo Izidro</td>\n",
       "      <td>M</td>\n",
       "      <td>1988</td>\n",
       "      <td>Mexico</td>\n",
       "      <td>Christian</td>\n",
       "      <td>Acapulco</td>\n",
       "      <td>Nurse</td>\n",
       "      <td>33</td>\n",
       "      <td>2</td>\n",
       "      <td>2709</td>\n",
       "    </tr>\n",
       "    <tr>\n",
       "      <th>2</th>\n",
       "      <td>Lindsey Lever</td>\n",
       "      <td>M</td>\n",
       "      <td>1965</td>\n",
       "      <td>USA</td>\n",
       "      <td>Christian</td>\n",
       "      <td>New Orleans</td>\n",
       "      <td>Nurse</td>\n",
       "      <td>56</td>\n",
       "      <td>37</td>\n",
       "      <td>7896</td>\n",
       "    </tr>\n",
       "    <tr>\n",
       "      <th>3</th>\n",
       "      <td>Desiree Dardar</td>\n",
       "      <td>F</td>\n",
       "      <td>1995</td>\n",
       "      <td>USA</td>\n",
       "      <td>Christian</td>\n",
       "      <td>New Orleans</td>\n",
       "      <td>Nurse</td>\n",
       "      <td>26</td>\n",
       "      <td>1</td>\n",
       "      <td>2580</td>\n",
       "    </tr>\n",
       "    <tr>\n",
       "      <th>4</th>\n",
       "      <td>Mariann Mulero</td>\n",
       "      <td>F</td>\n",
       "      <td>1973</td>\n",
       "      <td>USA</td>\n",
       "      <td>Christian</td>\n",
       "      <td>New Orleans</td>\n",
       "      <td>Nurse</td>\n",
       "      <td>48</td>\n",
       "      <td>16</td>\n",
       "      <td>3668</td>\n",
       "    </tr>\n",
       "  </tbody>\n",
       "</table>\n",
       "</div>"
      ],
      "text/plain": [
       "             Name Sex  Year of Birth Country of Birth   Religion         City  \\\n",
       "0   Eugenio Ewell   M           1968              USA  Christian  New Orleans   \n",
       "1      Ivo Izidro   M           1988           Mexico  Christian     Acapulco   \n",
       "2   Lindsey Lever   M           1965              USA  Christian  New Orleans   \n",
       "3  Desiree Dardar   F           1995              USA  Christian  New Orleans   \n",
       "4  Mariann Mulero   F           1973              USA  Christian  New Orleans   \n",
       "\n",
       "  Profession  Age  Experience  Salary  \n",
       "0      Nurse   53          21    4140  \n",
       "1      Nurse   33           2    2709  \n",
       "2      Nurse   56          37    7896  \n",
       "3      Nurse   26           1    2580  \n",
       "4      Nurse   48          16    3668  "
      ]
     },
     "execution_count": 2,
     "metadata": {},
     "output_type": "execute_result"
    }
   ],
   "source": [
    "data.head()"
   ]
  },
  {
   "cell_type": "markdown",
   "metadata": {},
   "source": [
    "**Linhas/registros duplicados**\n",
    "\n",
    "O tipo mais comum de dados redundantes são as linhas ou registros duplicados, ou seja, aquelas que possuem todos os valores de atributos iguais."
   ]
  },
  {
   "cell_type": "code",
   "execution_count": 3,
   "metadata": {
    "scrolled": true
   },
   "outputs": [
    {
     "data": {
      "text/plain": [
       "0     False\n",
       "1     False\n",
       "2     False\n",
       "3     False\n",
       "4     False\n",
       "      ...  \n",
       "95    False\n",
       "96    False\n",
       "97    False\n",
       "98    False\n",
       "99    False\n",
       "Length: 100, dtype: bool"
      ]
     },
     "execution_count": 3,
     "metadata": {},
     "output_type": "execute_result"
    }
   ],
   "source": [
    "data.duplicated()"
   ]
  },
  {
   "cell_type": "code",
   "execution_count": 4,
   "metadata": {},
   "outputs": [
    {
     "data": {
      "text/html": [
       "<div>\n",
       "<style scoped>\n",
       "    .dataframe tbody tr th:only-of-type {\n",
       "        vertical-align: middle;\n",
       "    }\n",
       "\n",
       "    .dataframe tbody tr th {\n",
       "        vertical-align: top;\n",
       "    }\n",
       "\n",
       "    .dataframe thead th {\n",
       "        text-align: right;\n",
       "    }\n",
       "</style>\n",
       "<table border=\"1\" class=\"dataframe\">\n",
       "  <thead>\n",
       "    <tr style=\"text-align: right;\">\n",
       "      <th></th>\n",
       "      <th>Name</th>\n",
       "      <th>Sex</th>\n",
       "      <th>Year of Birth</th>\n",
       "      <th>Country of Birth</th>\n",
       "      <th>Religion</th>\n",
       "      <th>City</th>\n",
       "      <th>Profession</th>\n",
       "      <th>Age</th>\n",
       "      <th>Experience</th>\n",
       "      <th>Salary</th>\n",
       "    </tr>\n",
       "  </thead>\n",
       "  <tbody>\n",
       "    <tr>\n",
       "      <th>33</th>\n",
       "      <td>Apolonia Abler</td>\n",
       "      <td>F</td>\n",
       "      <td>1967</td>\n",
       "      <td>Canada</td>\n",
       "      <td>Christian</td>\n",
       "      <td>Vancouver</td>\n",
       "      <td>Nurse</td>\n",
       "      <td>54</td>\n",
       "      <td>35</td>\n",
       "      <td>7141</td>\n",
       "    </tr>\n",
       "    <tr>\n",
       "      <th>51</th>\n",
       "      <td>Carlos Cobre</td>\n",
       "      <td>M</td>\n",
       "      <td>1983</td>\n",
       "      <td>Brazil</td>\n",
       "      <td>Christian</td>\n",
       "      <td>São Paulo</td>\n",
       "      <td>Nurse</td>\n",
       "      <td>38</td>\n",
       "      <td>15</td>\n",
       "      <td>6300</td>\n",
       "    </tr>\n",
       "    <tr>\n",
       "      <th>61</th>\n",
       "      <td>Apolonia Abler</td>\n",
       "      <td>F</td>\n",
       "      <td>1967</td>\n",
       "      <td>Canada</td>\n",
       "      <td>Christian</td>\n",
       "      <td>Vancouver</td>\n",
       "      <td>Nurse</td>\n",
       "      <td>54</td>\n",
       "      <td>35</td>\n",
       "      <td>7141</td>\n",
       "    </tr>\n",
       "    <tr>\n",
       "      <th>68</th>\n",
       "      <td>Ricardo Rima</td>\n",
       "      <td>M</td>\n",
       "      <td>1977</td>\n",
       "      <td>Peru</td>\n",
       "      <td>Christian</td>\n",
       "      <td>Arequipa</td>\n",
       "      <td>Nurse</td>\n",
       "      <td>44</td>\n",
       "      <td>16</td>\n",
       "      <td>6677</td>\n",
       "    </tr>\n",
       "  </tbody>\n",
       "</table>\n",
       "</div>"
      ],
      "text/plain": [
       "              Name Sex  Year of Birth Country of Birth   Religion       City  \\\n",
       "33  Apolonia Abler   F           1967           Canada  Christian  Vancouver   \n",
       "51    Carlos Cobre   M           1983           Brazil  Christian  São Paulo   \n",
       "61  Apolonia Abler   F           1967           Canada  Christian  Vancouver   \n",
       "68    Ricardo Rima   M           1977             Peru  Christian   Arequipa   \n",
       "\n",
       "   Profession  Age  Experience  Salary  \n",
       "33      Nurse   54          35    7141  \n",
       "51      Nurse   38          15    6300  \n",
       "61      Nurse   54          35    7141  \n",
       "68      Nurse   44          16    6677  "
      ]
     },
     "execution_count": 4,
     "metadata": {},
     "output_type": "execute_result"
    }
   ],
   "source": [
    "data[data.duplicated()]"
   ]
  },
  {
   "cell_type": "markdown",
   "metadata": {},
   "source": [
    "A consulta acima mostra apenas as linhas \"extra\", ou seja, as duplicadas encontradas após a ocorrência da primeira linha original.\n",
    "\n",
    "Assim, ao consultar por um dos nomes que temos acima duplicados, veremos que há duas linhas para ele, sendo a duplicada considerada a linha 51."
   ]
  },
  {
   "cell_type": "code",
   "execution_count": 5,
   "metadata": {},
   "outputs": [
    {
     "data": {
      "text/html": [
       "<div>\n",
       "<style scoped>\n",
       "    .dataframe tbody tr th:only-of-type {\n",
       "        vertical-align: middle;\n",
       "    }\n",
       "\n",
       "    .dataframe tbody tr th {\n",
       "        vertical-align: top;\n",
       "    }\n",
       "\n",
       "    .dataframe thead th {\n",
       "        text-align: right;\n",
       "    }\n",
       "</style>\n",
       "<table border=\"1\" class=\"dataframe\">\n",
       "  <thead>\n",
       "    <tr style=\"text-align: right;\">\n",
       "      <th></th>\n",
       "      <th>Name</th>\n",
       "      <th>Sex</th>\n",
       "      <th>Year of Birth</th>\n",
       "      <th>Country of Birth</th>\n",
       "      <th>Religion</th>\n",
       "      <th>City</th>\n",
       "      <th>Profession</th>\n",
       "      <th>Age</th>\n",
       "      <th>Experience</th>\n",
       "      <th>Salary</th>\n",
       "    </tr>\n",
       "  </thead>\n",
       "  <tbody>\n",
       "    <tr>\n",
       "      <th>13</th>\n",
       "      <td>Carlos Cobre</td>\n",
       "      <td>M</td>\n",
       "      <td>1983</td>\n",
       "      <td>Brazil</td>\n",
       "      <td>Christian</td>\n",
       "      <td>São Paulo</td>\n",
       "      <td>Nurse</td>\n",
       "      <td>38</td>\n",
       "      <td>15</td>\n",
       "      <td>6300</td>\n",
       "    </tr>\n",
       "    <tr>\n",
       "      <th>51</th>\n",
       "      <td>Carlos Cobre</td>\n",
       "      <td>M</td>\n",
       "      <td>1983</td>\n",
       "      <td>Brazil</td>\n",
       "      <td>Christian</td>\n",
       "      <td>São Paulo</td>\n",
       "      <td>Nurse</td>\n",
       "      <td>38</td>\n",
       "      <td>15</td>\n",
       "      <td>6300</td>\n",
       "    </tr>\n",
       "  </tbody>\n",
       "</table>\n",
       "</div>"
      ],
      "text/plain": [
       "            Name Sex  Year of Birth Country of Birth   Religion       City  \\\n",
       "13  Carlos Cobre   M           1983           Brazil  Christian  São Paulo   \n",
       "51  Carlos Cobre   M           1983           Brazil  Christian  São Paulo   \n",
       "\n",
       "   Profession  Age  Experience  Salary  \n",
       "13      Nurse   38          15    6300  \n",
       "51      Nurse   38          15    6300  "
      ]
     },
     "execution_count": 5,
     "metadata": {},
     "output_type": "execute_result"
    }
   ],
   "source": [
    "data[data['Name']=='Carlos Cobre']"
   ]
  },
  {
   "cell_type": "markdown",
   "metadata": {},
   "source": [
    "Podemos usar a opção `keep` para manter todas as duplicatas, mostrando seus valores"
   ]
  },
  {
   "cell_type": "code",
   "execution_count": 6,
   "metadata": {},
   "outputs": [
    {
     "data": {
      "text/html": [
       "<div>\n",
       "<style scoped>\n",
       "    .dataframe tbody tr th:only-of-type {\n",
       "        vertical-align: middle;\n",
       "    }\n",
       "\n",
       "    .dataframe tbody tr th {\n",
       "        vertical-align: top;\n",
       "    }\n",
       "\n",
       "    .dataframe thead th {\n",
       "        text-align: right;\n",
       "    }\n",
       "</style>\n",
       "<table border=\"1\" class=\"dataframe\">\n",
       "  <thead>\n",
       "    <tr style=\"text-align: right;\">\n",
       "      <th></th>\n",
       "      <th>Name</th>\n",
       "      <th>Sex</th>\n",
       "      <th>Year of Birth</th>\n",
       "      <th>Country of Birth</th>\n",
       "      <th>Religion</th>\n",
       "      <th>City</th>\n",
       "      <th>Profession</th>\n",
       "      <th>Age</th>\n",
       "      <th>Experience</th>\n",
       "      <th>Salary</th>\n",
       "    </tr>\n",
       "  </thead>\n",
       "  <tbody>\n",
       "    <tr>\n",
       "      <th>13</th>\n",
       "      <td>Carlos Cobre</td>\n",
       "      <td>M</td>\n",
       "      <td>1983</td>\n",
       "      <td>Brazil</td>\n",
       "      <td>Christian</td>\n",
       "      <td>São Paulo</td>\n",
       "      <td>Nurse</td>\n",
       "      <td>38</td>\n",
       "      <td>15</td>\n",
       "      <td>6300</td>\n",
       "    </tr>\n",
       "    <tr>\n",
       "      <th>18</th>\n",
       "      <td>Ricardo Rima</td>\n",
       "      <td>M</td>\n",
       "      <td>1977</td>\n",
       "      <td>Peru</td>\n",
       "      <td>Christian</td>\n",
       "      <td>Arequipa</td>\n",
       "      <td>Nurse</td>\n",
       "      <td>44</td>\n",
       "      <td>16</td>\n",
       "      <td>6677</td>\n",
       "    </tr>\n",
       "    <tr>\n",
       "      <th>19</th>\n",
       "      <td>Apolonia Abler</td>\n",
       "      <td>F</td>\n",
       "      <td>1967</td>\n",
       "      <td>Canada</td>\n",
       "      <td>Christian</td>\n",
       "      <td>Vancouver</td>\n",
       "      <td>Nurse</td>\n",
       "      <td>54</td>\n",
       "      <td>35</td>\n",
       "      <td>7141</td>\n",
       "    </tr>\n",
       "    <tr>\n",
       "      <th>33</th>\n",
       "      <td>Apolonia Abler</td>\n",
       "      <td>F</td>\n",
       "      <td>1967</td>\n",
       "      <td>Canada</td>\n",
       "      <td>Christian</td>\n",
       "      <td>Vancouver</td>\n",
       "      <td>Nurse</td>\n",
       "      <td>54</td>\n",
       "      <td>35</td>\n",
       "      <td>7141</td>\n",
       "    </tr>\n",
       "    <tr>\n",
       "      <th>51</th>\n",
       "      <td>Carlos Cobre</td>\n",
       "      <td>M</td>\n",
       "      <td>1983</td>\n",
       "      <td>Brazil</td>\n",
       "      <td>Christian</td>\n",
       "      <td>São Paulo</td>\n",
       "      <td>Nurse</td>\n",
       "      <td>38</td>\n",
       "      <td>15</td>\n",
       "      <td>6300</td>\n",
       "    </tr>\n",
       "    <tr>\n",
       "      <th>61</th>\n",
       "      <td>Apolonia Abler</td>\n",
       "      <td>F</td>\n",
       "      <td>1967</td>\n",
       "      <td>Canada</td>\n",
       "      <td>Christian</td>\n",
       "      <td>Vancouver</td>\n",
       "      <td>Nurse</td>\n",
       "      <td>54</td>\n",
       "      <td>35</td>\n",
       "      <td>7141</td>\n",
       "    </tr>\n",
       "    <tr>\n",
       "      <th>68</th>\n",
       "      <td>Ricardo Rima</td>\n",
       "      <td>M</td>\n",
       "      <td>1977</td>\n",
       "      <td>Peru</td>\n",
       "      <td>Christian</td>\n",
       "      <td>Arequipa</td>\n",
       "      <td>Nurse</td>\n",
       "      <td>44</td>\n",
       "      <td>16</td>\n",
       "      <td>6677</td>\n",
       "    </tr>\n",
       "  </tbody>\n",
       "</table>\n",
       "</div>"
      ],
      "text/plain": [
       "              Name Sex  Year of Birth Country of Birth   Religion       City  \\\n",
       "13    Carlos Cobre   M           1983           Brazil  Christian  São Paulo   \n",
       "18    Ricardo Rima   M           1977             Peru  Christian   Arequipa   \n",
       "19  Apolonia Abler   F           1967           Canada  Christian  Vancouver   \n",
       "33  Apolonia Abler   F           1967           Canada  Christian  Vancouver   \n",
       "51    Carlos Cobre   M           1983           Brazil  Christian  São Paulo   \n",
       "61  Apolonia Abler   F           1967           Canada  Christian  Vancouver   \n",
       "68    Ricardo Rima   M           1977             Peru  Christian   Arequipa   \n",
       "\n",
       "   Profession  Age  Experience  Salary  \n",
       "13      Nurse   38          15    6300  \n",
       "18      Nurse   44          16    6677  \n",
       "19      Nurse   54          35    7141  \n",
       "33      Nurse   54          35    7141  \n",
       "51      Nurse   38          15    6300  \n",
       "61      Nurse   54          35    7141  \n",
       "68      Nurse   44          16    6677  "
      ]
     },
     "execution_count": 6,
     "metadata": {},
     "output_type": "execute_result"
    }
   ],
   "source": [
    "data[data.duplicated(keep=False)]"
   ]
  },
  {
   "cell_type": "markdown",
   "metadata": {},
   "source": [
    "Felizmente, temos uma funcão pronta para remover duplicatas de dataframes, `drop_duplicates()`, na qual podemos manter a primeira ocorrência da linha duplicada: `first`, a última: `last`, ou remover todas as que aparecem duplicadas: `False`."
   ]
  },
  {
   "cell_type": "code",
   "execution_count": 7,
   "metadata": {},
   "outputs": [
    {
     "data": {
      "text/html": [
       "<div>\n",
       "<style scoped>\n",
       "    .dataframe tbody tr th:only-of-type {\n",
       "        vertical-align: middle;\n",
       "    }\n",
       "\n",
       "    .dataframe tbody tr th {\n",
       "        vertical-align: top;\n",
       "    }\n",
       "\n",
       "    .dataframe thead th {\n",
       "        text-align: right;\n",
       "    }\n",
       "</style>\n",
       "<table border=\"1\" class=\"dataframe\">\n",
       "  <thead>\n",
       "    <tr style=\"text-align: right;\">\n",
       "      <th></th>\n",
       "      <th>Name</th>\n",
       "      <th>Sex</th>\n",
       "      <th>Year of Birth</th>\n",
       "      <th>Country of Birth</th>\n",
       "      <th>Religion</th>\n",
       "      <th>City</th>\n",
       "      <th>Profession</th>\n",
       "      <th>Age</th>\n",
       "      <th>Experience</th>\n",
       "      <th>Salary</th>\n",
       "    </tr>\n",
       "  </thead>\n",
       "  <tbody>\n",
       "    <tr>\n",
       "      <th>13</th>\n",
       "      <td>Carlos Cobre</td>\n",
       "      <td>M</td>\n",
       "      <td>1983</td>\n",
       "      <td>Brazil</td>\n",
       "      <td>Christian</td>\n",
       "      <td>São Paulo</td>\n",
       "      <td>Nurse</td>\n",
       "      <td>38</td>\n",
       "      <td>15</td>\n",
       "      <td>6300</td>\n",
       "    </tr>\n",
       "  </tbody>\n",
       "</table>\n",
       "</div>"
      ],
      "text/plain": [
       "            Name Sex  Year of Birth Country of Birth   Religion       City  \\\n",
       "13  Carlos Cobre   M           1983           Brazil  Christian  São Paulo   \n",
       "\n",
       "   Profession  Age  Experience  Salary  \n",
       "13      Nurse   38          15    6300  "
      ]
     },
     "execution_count": 7,
     "metadata": {},
     "output_type": "execute_result"
    }
   ],
   "source": [
    "d_ndup = data.drop_duplicates(keep='first')\n",
    "d_ndup[d_ndup['Name']=='Carlos Cobre']"
   ]
  },
  {
   "cell_type": "code",
   "execution_count": 8,
   "metadata": {},
   "outputs": [
    {
     "data": {
      "text/html": [
       "<div>\n",
       "<style scoped>\n",
       "    .dataframe tbody tr th:only-of-type {\n",
       "        vertical-align: middle;\n",
       "    }\n",
       "\n",
       "    .dataframe tbody tr th {\n",
       "        vertical-align: top;\n",
       "    }\n",
       "\n",
       "    .dataframe thead th {\n",
       "        text-align: right;\n",
       "    }\n",
       "</style>\n",
       "<table border=\"1\" class=\"dataframe\">\n",
       "  <thead>\n",
       "    <tr style=\"text-align: right;\">\n",
       "      <th></th>\n",
       "      <th>Name</th>\n",
       "      <th>Sex</th>\n",
       "      <th>Year of Birth</th>\n",
       "      <th>Country of Birth</th>\n",
       "      <th>Religion</th>\n",
       "      <th>City</th>\n",
       "      <th>Profession</th>\n",
       "      <th>Age</th>\n",
       "      <th>Experience</th>\n",
       "      <th>Salary</th>\n",
       "    </tr>\n",
       "  </thead>\n",
       "  <tbody>\n",
       "  </tbody>\n",
       "</table>\n",
       "</div>"
      ],
      "text/plain": [
       "Empty DataFrame\n",
       "Columns: [Name, Sex, Year of Birth, Country of Birth, Religion, City, Profession, Age, Experience, Salary]\n",
       "Index: []"
      ]
     },
     "execution_count": 8,
     "metadata": {},
     "output_type": "execute_result"
    }
   ],
   "source": [
    "d_ndup[d_ndup.duplicated(keep=False)]"
   ]
  },
  {
   "cell_type": "markdown",
   "metadata": {},
   "source": [
    "---\n",
    "\n",
    "**Duplicidade em atributos**\n",
    "\n",
    "A duplicidade pode gerar problemas quando aparece isolada em determinado atributo. \n",
    "\n",
    "Nessa base de dados um atributo que pode ser sensível a isso é o nome"
   ]
  },
  {
   "cell_type": "code",
   "execution_count": 9,
   "metadata": {},
   "outputs": [
    {
     "data": {
      "text/plain": [
       "0     False\n",
       "1     False\n",
       "2     False\n",
       "3     False\n",
       "4     False\n",
       "      ...  \n",
       "95    False\n",
       "96    False\n",
       "97    False\n",
       "98    False\n",
       "99    False\n",
       "Length: 96, dtype: bool"
      ]
     },
     "execution_count": 9,
     "metadata": {},
     "output_type": "execute_result"
    }
   ],
   "source": [
    "d_ndup.duplicated(['Name'])"
   ]
  },
  {
   "cell_type": "code",
   "execution_count": 10,
   "metadata": {},
   "outputs": [
    {
     "data": {
      "text/html": [
       "<div>\n",
       "<style scoped>\n",
       "    .dataframe tbody tr th:only-of-type {\n",
       "        vertical-align: middle;\n",
       "    }\n",
       "\n",
       "    .dataframe tbody tr th {\n",
       "        vertical-align: top;\n",
       "    }\n",
       "\n",
       "    .dataframe thead th {\n",
       "        text-align: right;\n",
       "    }\n",
       "</style>\n",
       "<table border=\"1\" class=\"dataframe\">\n",
       "  <thead>\n",
       "    <tr style=\"text-align: right;\">\n",
       "      <th></th>\n",
       "      <th>Name</th>\n",
       "      <th>Sex</th>\n",
       "      <th>Year of Birth</th>\n",
       "      <th>Country of Birth</th>\n",
       "      <th>Religion</th>\n",
       "      <th>City</th>\n",
       "      <th>Profession</th>\n",
       "      <th>Age</th>\n",
       "      <th>Experience</th>\n",
       "      <th>Salary</th>\n",
       "    </tr>\n",
       "  </thead>\n",
       "  <tbody>\n",
       "    <tr>\n",
       "      <th>19</th>\n",
       "      <td>Apolonia Abler</td>\n",
       "      <td>F</td>\n",
       "      <td>1967</td>\n",
       "      <td>Canada</td>\n",
       "      <td>Christian</td>\n",
       "      <td>Vancouver</td>\n",
       "      <td>Nurse</td>\n",
       "      <td>54</td>\n",
       "      <td>35</td>\n",
       "      <td>7141</td>\n",
       "    </tr>\n",
       "    <tr>\n",
       "      <th>93</th>\n",
       "      <td>Apolonia Abler</td>\n",
       "      <td>F</td>\n",
       "      <td>1967</td>\n",
       "      <td>Australia</td>\n",
       "      <td>Christian</td>\n",
       "      <td>Brisbane</td>\n",
       "      <td>Nurse</td>\n",
       "      <td>54</td>\n",
       "      <td>23</td>\n",
       "      <td>5496</td>\n",
       "    </tr>\n",
       "  </tbody>\n",
       "</table>\n",
       "</div>"
      ],
      "text/plain": [
       "              Name Sex  Year of Birth Country of Birth   Religion       City  \\\n",
       "19  Apolonia Abler   F           1967           Canada  Christian  Vancouver   \n",
       "93  Apolonia Abler   F           1967        Australia  Christian   Brisbane   \n",
       "\n",
       "   Profession  Age  Experience  Salary  \n",
       "19      Nurse   54          35    7141  \n",
       "93      Nurse   54          23    5496  "
      ]
     },
     "execution_count": 10,
     "metadata": {},
     "output_type": "execute_result"
    }
   ],
   "source": [
    "d_ndup[d_ndup.duplicated(['Name'], keep=False)]"
   ]
  },
  {
   "cell_type": "markdown",
   "metadata": {},
   "source": [
    "Notamos que, apesar de ter o mesmo nome, sexo e ano de nascimento, as duas pessoas nasceram em países diferentes e portanto não há redundância ou dados duplicados a remover."
   ]
  },
  {
   "cell_type": "markdown",
   "metadata": {},
   "source": [
    "---\n",
    "**Atributos constantes**\n",
    "\n",
    "Investigando os atributos Profession e Religion, mostrando seus histogramas, notamos que todas as linhas tem o mesmo valor para esses atributos.\n",
    "\n",
    "Apesar do valor informativo, ao construir modelos computacionais, por exemplo classificadores, esses atributos representam um aumento na dimensionalidade sem contribuir para a tarefa principal, classificação.\n",
    "\n",
    "Podemos usar o método `nunique()` para obter a contagem de valores distintos"
   ]
  },
  {
   "cell_type": "code",
   "execution_count": 14,
   "metadata": {},
   "outputs": [
    {
     "name": "stdout",
     "output_type": "stream",
     "text": [
      "['Religion' 'Profession']\n"
     ]
    }
   ],
   "source": [
    "att_const = np.array(d_ndup.columns[d_ndup.nunique() <= 1])\n",
    "print(att_const)"
   ]
  },
  {
   "cell_type": "code",
   "execution_count": 15,
   "metadata": {},
   "outputs": [
    {
     "data": {
      "image/png": "[encoded data removed]",
      "text/plain": [
       "<Figure size 432x288 with 1 Axes>"
      ]
     },
     "metadata": {
      "needs_background": "light"
     },
     "output_type": "display_data"
    }
   ],
   "source": [
    "for att in att_const:\n",
    "    d_ndup[att].hist(xrot=45)"
   ]
  },
  {
   "cell_type": "code",
   "execution_count": 16,
   "metadata": {},
   "outputs": [
    {
     "data": {
      "text/html": [
       "<div>\n",
       "<style scoped>\n",
       "    .dataframe tbody tr th:only-of-type {\n",
       "        vertical-align: middle;\n",
       "    }\n",
       "\n",
       "    .dataframe tbody tr th {\n",
       "        vertical-align: top;\n",
       "    }\n",
       "\n",
       "    .dataframe thead th {\n",
       "        text-align: right;\n",
       "    }\n",
       "</style>\n",
       "<table border=\"1\" class=\"dataframe\">\n",
       "  <thead>\n",
       "    <tr style=\"text-align: right;\">\n",
       "      <th></th>\n",
       "      <th>Religion</th>\n",
       "      <th>Profession</th>\n",
       "    </tr>\n",
       "  </thead>\n",
       "  <tbody>\n",
       "    <tr>\n",
       "      <th>0</th>\n",
       "      <td>Christian</td>\n",
       "      <td>Nurse</td>\n",
       "    </tr>\n",
       "    <tr>\n",
       "      <th>1</th>\n",
       "      <td>Christian</td>\n",
       "      <td>Nurse</td>\n",
       "    </tr>\n",
       "    <tr>\n",
       "      <th>2</th>\n",
       "      <td>Christian</td>\n",
       "      <td>Nurse</td>\n",
       "    </tr>\n",
       "    <tr>\n",
       "      <th>3</th>\n",
       "      <td>Christian</td>\n",
       "      <td>Nurse</td>\n",
       "    </tr>\n",
       "    <tr>\n",
       "      <th>4</th>\n",
       "      <td>Christian</td>\n",
       "      <td>Nurse</td>\n",
       "    </tr>\n",
       "    <tr>\n",
       "      <th>...</th>\n",
       "      <td>...</td>\n",
       "      <td>...</td>\n",
       "    </tr>\n",
       "    <tr>\n",
       "      <th>95</th>\n",
       "      <td>Christian</td>\n",
       "      <td>Nurse</td>\n",
       "    </tr>\n",
       "    <tr>\n",
       "      <th>96</th>\n",
       "      <td>Christian</td>\n",
       "      <td>Nurse</td>\n",
       "    </tr>\n",
       "    <tr>\n",
       "      <th>97</th>\n",
       "      <td>Christian</td>\n",
       "      <td>Nurse</td>\n",
       "    </tr>\n",
       "    <tr>\n",
       "      <th>98</th>\n",
       "      <td>Christian</td>\n",
       "      <td>Nurse</td>\n",
       "    </tr>\n",
       "    <tr>\n",
       "      <th>99</th>\n",
       "      <td>Christian</td>\n",
       "      <td>Nurse</td>\n",
       "    </tr>\n",
       "  </tbody>\n",
       "</table>\n",
       "<p>96 rows × 2 columns</p>\n",
       "</div>"
      ],
      "text/plain": [
       "     Religion Profession\n",
       "0   Christian      Nurse\n",
       "1   Christian      Nurse\n",
       "2   Christian      Nurse\n",
       "3   Christian      Nurse\n",
       "4   Christian      Nurse\n",
       "..        ...        ...\n",
       "95  Christian      Nurse\n",
       "96  Christian      Nurse\n",
       "97  Christian      Nurse\n",
       "98  Christian      Nurse\n",
       "99  Christian      Nurse\n",
       "\n",
       "[96 rows x 2 columns]"
      ]
     },
     "execution_count": 16,
     "metadata": {},
     "output_type": "execute_result"
    }
   ],
   "source": [
    "d_ndup[att_const]"
   ]
  },
  {
   "cell_type": "code",
   "execution_count": 18,
   "metadata": {},
   "outputs": [],
   "source": [
    "data_nred = d_ndup.drop(att_const, axis=1)"
   ]
  },
  {
   "cell_type": "code",
   "execution_count": 19,
   "metadata": {},
   "outputs": [
    {
     "data": {
      "text/html": [
       "<div>\n",
       "<style scoped>\n",
       "    .dataframe tbody tr th:only-of-type {\n",
       "        vertical-align: middle;\n",
       "    }\n",
       "\n",
       "    .dataframe tbody tr th {\n",
       "        vertical-align: top;\n",
       "    }\n",
       "\n",
       "    .dataframe thead th {\n",
       "        text-align: right;\n",
       "    }\n",
       "</style>\n",
       "<table border=\"1\" class=\"dataframe\">\n",
       "  <thead>\n",
       "    <tr style=\"text-align: right;\">\n",
       "      <th></th>\n",
       "      <th>Name</th>\n",
       "      <th>Sex</th>\n",
       "      <th>Year of Birth</th>\n",
       "      <th>Country of Birth</th>\n",
       "      <th>City</th>\n",
       "      <th>Age</th>\n",
       "      <th>Experience</th>\n",
       "      <th>Salary</th>\n",
       "    </tr>\n",
       "  </thead>\n",
       "  <tbody>\n",
       "    <tr>\n",
       "      <th>66</th>\n",
       "      <td>Terri Wilson</td>\n",
       "      <td>F</td>\n",
       "      <td>1962</td>\n",
       "      <td>Canada</td>\n",
       "      <td>Vancouver</td>\n",
       "      <td>59</td>\n",
       "      <td>28</td>\n",
       "      <td>4811</td>\n",
       "    </tr>\n",
       "    <tr>\n",
       "      <th>42</th>\n",
       "      <td>Miriam Riley</td>\n",
       "      <td>F</td>\n",
       "      <td>1970</td>\n",
       "      <td>Portugal</td>\n",
       "      <td>Lisbon</td>\n",
       "      <td>51</td>\n",
       "      <td>28</td>\n",
       "      <td>5544</td>\n",
       "    </tr>\n",
       "    <tr>\n",
       "      <th>41</th>\n",
       "      <td>Donnie Adkins</td>\n",
       "      <td>M</td>\n",
       "      <td>1962</td>\n",
       "      <td>Spain</td>\n",
       "      <td>Valencia</td>\n",
       "      <td>59</td>\n",
       "      <td>27</td>\n",
       "      <td>3247</td>\n",
       "    </tr>\n",
       "    <tr>\n",
       "      <th>21</th>\n",
       "      <td>Marcos Magro</td>\n",
       "      <td>M</td>\n",
       "      <td>1989</td>\n",
       "      <td>Brazil</td>\n",
       "      <td>São Paulo</td>\n",
       "      <td>32</td>\n",
       "      <td>8</td>\n",
       "      <td>3457</td>\n",
       "    </tr>\n",
       "    <tr>\n",
       "      <th>17</th>\n",
       "      <td>Kathy Kerrigan</td>\n",
       "      <td>F</td>\n",
       "      <td>1973</td>\n",
       "      <td>USA</td>\n",
       "      <td>New Orleans</td>\n",
       "      <td>48</td>\n",
       "      <td>24</td>\n",
       "      <td>4445</td>\n",
       "    </tr>\n",
       "  </tbody>\n",
       "</table>\n",
       "</div>"
      ],
      "text/plain": [
       "              Name Sex  Year of Birth Country of Birth         City  Age  \\\n",
       "66    Terri Wilson   F           1962           Canada    Vancouver   59   \n",
       "42    Miriam Riley   F           1970         Portugal       Lisbon   51   \n",
       "41   Donnie Adkins   M           1962            Spain     Valencia   59   \n",
       "21    Marcos Magro   M           1989           Brazil    São Paulo   32   \n",
       "17  Kathy Kerrigan   F           1973              USA  New Orleans   48   \n",
       "\n",
       "    Experience  Salary  \n",
       "66          28    4811  \n",
       "42          28    5544  \n",
       "41          27    3247  \n",
       "21           8    3457  \n",
       "17          24    4445  "
      ]
     },
     "execution_count": 19,
     "metadata": {},
     "output_type": "execute_result"
    }
   ],
   "source": [
    "data_nred.sample(5)"
   ]
  },
  {
   "cell_type": "markdown",
   "metadata": {},
   "source": [
    "## Atributos correlacionados\n",
    "\n",
    "Alguns atributos podem estar altamente correlacionados com outros. Esses atributos oferecem pouca contribuição no sentido de melhorar o que sabemos sobre o conjunto de dados. \n",
    "\n",
    "Ainda, quando se trata de treinar modelos podemos incorrer em maior custo computacional ou problemas de convergência.\n",
    "\n",
    "Uma ferramenta interessante para entender *dependências lineares* entre atributos é a correlação.\n",
    "\n",
    "No entanto, a correlação só é computada com valores numéricos."
   ]
  },
  {
   "cell_type": "code",
   "execution_count": 20,
   "metadata": {},
   "outputs": [
    {
     "data": {
      "text/html": [
       "<div>\n",
       "<style scoped>\n",
       "    .dataframe tbody tr th:only-of-type {\n",
       "        vertical-align: middle;\n",
       "    }\n",
       "\n",
       "    .dataframe tbody tr th {\n",
       "        vertical-align: top;\n",
       "    }\n",
       "\n",
       "    .dataframe thead th {\n",
       "        text-align: right;\n",
       "    }\n",
       "</style>\n",
       "<table border=\"1\" class=\"dataframe\">\n",
       "  <thead>\n",
       "    <tr style=\"text-align: right;\">\n",
       "      <th></th>\n",
       "      <th>Year of Birth</th>\n",
       "      <th>Age</th>\n",
       "      <th>Experience</th>\n",
       "      <th>Salary</th>\n",
       "    </tr>\n",
       "  </thead>\n",
       "  <tbody>\n",
       "    <tr>\n",
       "      <th>Year of Birth</th>\n",
       "      <td>1.000000</td>\n",
       "      <td>-1.000000</td>\n",
       "      <td>-0.908208</td>\n",
       "      <td>-0.362197</td>\n",
       "    </tr>\n",
       "    <tr>\n",
       "      <th>Age</th>\n",
       "      <td>-1.000000</td>\n",
       "      <td>1.000000</td>\n",
       "      <td>0.908208</td>\n",
       "      <td>0.362197</td>\n",
       "    </tr>\n",
       "    <tr>\n",
       "      <th>Experience</th>\n",
       "      <td>-0.908208</td>\n",
       "      <td>0.908208</td>\n",
       "      <td>1.000000</td>\n",
       "      <td>0.432904</td>\n",
       "    </tr>\n",
       "    <tr>\n",
       "      <th>Salary</th>\n",
       "      <td>-0.362197</td>\n",
       "      <td>0.362197</td>\n",
       "      <td>0.432904</td>\n",
       "      <td>1.000000</td>\n",
       "    </tr>\n",
       "  </tbody>\n",
       "</table>\n",
       "</div>"
      ],
      "text/plain": [
       "               Year of Birth       Age  Experience    Salary\n",
       "Year of Birth       1.000000 -1.000000   -0.908208 -0.362197\n",
       "Age                -1.000000  1.000000    0.908208  0.362197\n",
       "Experience         -0.908208  0.908208    1.000000  0.432904\n",
       "Salary             -0.362197  0.362197    0.432904  1.000000"
      ]
     },
     "execution_count": 20,
     "metadata": {},
     "output_type": "execute_result"
    }
   ],
   "source": [
    "mat_corr = data_nred.corr()\n",
    "mat_corr"
   ]
  },
  {
   "cell_type": "markdown",
   "metadata": {},
   "source": [
    "Características da matriz de correlação:\n",
    "- valores negativos indicam correlação inversa\n",
    "- tem diagonal igual a 1 (auto-correlação)\n",
    "- é simétrica\n",
    "\n",
    "Vamos considerar como alta correlação atributos com valores iguais ou superiores a 0.95\n",
    "\n",
    "Para facilitar:\n",
    "- pegamos o valor absoluto da correlação, \n",
    "- consideramos apenas a matriz triangular superior - devido a simetria, e\n",
    "- não incluimos a diagonal principal (para a qual todos os valores são 1)"
   ]
  },
  {
   "cell_type": "code",
   "execution_count": 21,
   "metadata": {},
   "outputs": [
    {
     "data": {
      "text/html": [
       "<div>\n",
       "<style scoped>\n",
       "    .dataframe tbody tr th:only-of-type {\n",
       "        vertical-align: middle;\n",
       "    }\n",
       "\n",
       "    .dataframe tbody tr th {\n",
       "        vertical-align: top;\n",
       "    }\n",
       "\n",
       "    .dataframe thead th {\n",
       "        text-align: right;\n",
       "    }\n",
       "</style>\n",
       "<table border=\"1\" class=\"dataframe\">\n",
       "  <thead>\n",
       "    <tr style=\"text-align: right;\">\n",
       "      <th></th>\n",
       "      <th>Year of Birth</th>\n",
       "      <th>Age</th>\n",
       "      <th>Experience</th>\n",
       "      <th>Salary</th>\n",
       "    </tr>\n",
       "  </thead>\n",
       "  <tbody>\n",
       "    <tr>\n",
       "      <th>Year of Birth</th>\n",
       "      <td>1.000000</td>\n",
       "      <td>1.000000</td>\n",
       "      <td>0.908208</td>\n",
       "      <td>0.362197</td>\n",
       "    </tr>\n",
       "    <tr>\n",
       "      <th>Age</th>\n",
       "      <td>1.000000</td>\n",
       "      <td>1.000000</td>\n",
       "      <td>0.908208</td>\n",
       "      <td>0.362197</td>\n",
       "    </tr>\n",
       "    <tr>\n",
       "      <th>Experience</th>\n",
       "      <td>0.908208</td>\n",
       "      <td>0.908208</td>\n",
       "      <td>1.000000</td>\n",
       "      <td>0.432904</td>\n",
       "    </tr>\n",
       "    <tr>\n",
       "      <th>Salary</th>\n",
       "      <td>0.362197</td>\n",
       "      <td>0.362197</td>\n",
       "      <td>0.432904</td>\n",
       "      <td>1.000000</td>\n",
       "    </tr>\n",
       "  </tbody>\n",
       "</table>\n",
       "</div>"
      ],
      "text/plain": [
       "               Year of Birth       Age  Experience    Salary\n",
       "Year of Birth       1.000000  1.000000    0.908208  0.362197\n",
       "Age                 1.000000  1.000000    0.908208  0.362197\n",
       "Experience          0.908208  0.908208    1.000000  0.432904\n",
       "Salary              0.362197  0.362197    0.432904  1.000000"
      ]
     },
     "execution_count": 21,
     "metadata": {},
     "output_type": "execute_result"
    }
   ],
   "source": [
    "mat_corr = np.abs(mat_corr)\n",
    "mat_corr"
   ]
  },
  {
   "cell_type": "code",
   "execution_count": 23,
   "metadata": {},
   "outputs": [
    {
     "name": "stdout",
     "output_type": "stream",
     "text": [
      "[[False  True  True  True]\n",
      " [False False  True  True]\n",
      " [False False False  True]\n",
      " [False False False False]]\n"
     ]
    }
   ],
   "source": [
    "# o parametro k indica para nao incluir a diagonal principal\n",
    "mask_tri = np.triu(np.ones(mat_corr.shape),k=1).astype(np.bool)\n",
    "print(mask_tri)"
   ]
  },
  {
   "cell_type": "code",
   "execution_count": 24,
   "metadata": {
    "scrolled": true
   },
   "outputs": [
    {
     "name": "stdout",
     "output_type": "stream",
     "text": [
      "               Year of Birth  Age  Experience    Salary\n",
      "Year of Birth            NaN  1.0    0.908208  0.362197\n",
      "Age                      NaN  NaN    0.908208  0.362197\n",
      "Experience               NaN  NaN         NaN  0.432904\n",
      "Salary                   NaN  NaN         NaN       NaN\n"
     ]
    }
   ],
   "source": [
    "tri_sup = mat_corr.where(mask_tri)\n",
    "print(tri_sup)"
   ]
  },
  {
   "cell_type": "markdown",
   "metadata": {},
   "source": [
    "Para cada coluna das colunas da matriz triangular nas quais qualquer valor seja maior ou igual a 0.95"
   ]
  },
  {
   "cell_type": "code",
   "execution_count": 25,
   "metadata": {},
   "outputs": [],
   "source": [
    "atrib_altacor = [col for col in tri_sup.columns if any(tri_sup[col] >= 0.95)]"
   ]
  },
  {
   "cell_type": "code",
   "execution_count": 26,
   "metadata": {},
   "outputs": [
    {
     "data": {
      "text/plain": [
       "['Age']"
      ]
     },
     "execution_count": 26,
     "metadata": {},
     "output_type": "execute_result"
    }
   ],
   "source": [
    "atrib_altacor"
   ]
  },
  {
   "cell_type": "code",
   "execution_count": 27,
   "metadata": {},
   "outputs": [],
   "source": [
    "data_clean = data_nred.drop(data_nred[atrib_altacor], axis=1)"
   ]
  },
  {
   "cell_type": "code",
   "execution_count": 28,
   "metadata": {},
   "outputs": [
    {
     "data": {
      "text/html": [
       "<div>\n",
       "<style scoped>\n",
       "    .dataframe tbody tr th:only-of-type {\n",
       "        vertical-align: middle;\n",
       "    }\n",
       "\n",
       "    .dataframe tbody tr th {\n",
       "        vertical-align: top;\n",
       "    }\n",
       "\n",
       "    .dataframe thead th {\n",
       "        text-align: right;\n",
       "    }\n",
       "</style>\n",
       "<table border=\"1\" class=\"dataframe\">\n",
       "  <thead>\n",
       "    <tr style=\"text-align: right;\">\n",
       "      <th></th>\n",
       "      <th>Name</th>\n",
       "      <th>Sex</th>\n",
       "      <th>Year of Birth</th>\n",
       "      <th>Country of Birth</th>\n",
       "      <th>City</th>\n",
       "      <th>Experience</th>\n",
       "      <th>Salary</th>\n",
       "    </tr>\n",
       "  </thead>\n",
       "  <tbody>\n",
       "    <tr>\n",
       "      <th>2</th>\n",
       "      <td>Lindsey Lever</td>\n",
       "      <td>M</td>\n",
       "      <td>1965</td>\n",
       "      <td>USA</td>\n",
       "      <td>New Orleans</td>\n",
       "      <td>37</td>\n",
       "      <td>7896</td>\n",
       "    </tr>\n",
       "    <tr>\n",
       "      <th>81</th>\n",
       "      <td>Izaiah Duarte</td>\n",
       "      <td>M</td>\n",
       "      <td>1997</td>\n",
       "      <td>Brazil</td>\n",
       "      <td>São Paulo</td>\n",
       "      <td>4</td>\n",
       "      <td>3833</td>\n",
       "    </tr>\n",
       "    <tr>\n",
       "      <th>14</th>\n",
       "      <td>Valeri Vanegas</td>\n",
       "      <td>F</td>\n",
       "      <td>1966</td>\n",
       "      <td>Spain</td>\n",
       "      <td>Valencia</td>\n",
       "      <td>26</td>\n",
       "      <td>7372</td>\n",
       "    </tr>\n",
       "    <tr>\n",
       "      <th>6</th>\n",
       "      <td>Rupert Rollison</td>\n",
       "      <td>M</td>\n",
       "      <td>1986</td>\n",
       "      <td>England</td>\n",
       "      <td>Birmingham</td>\n",
       "      <td>8</td>\n",
       "      <td>2878</td>\n",
       "    </tr>\n",
       "    <tr>\n",
       "      <th>66</th>\n",
       "      <td>Terri Wilson</td>\n",
       "      <td>F</td>\n",
       "      <td>1962</td>\n",
       "      <td>Canada</td>\n",
       "      <td>Vancouver</td>\n",
       "      <td>28</td>\n",
       "      <td>4811</td>\n",
       "    </tr>\n",
       "    <tr>\n",
       "      <th>80</th>\n",
       "      <td>Hailee Ochoa</td>\n",
       "      <td>F</td>\n",
       "      <td>1977</td>\n",
       "      <td>Brazil</td>\n",
       "      <td>São Paulo</td>\n",
       "      <td>17</td>\n",
       "      <td>2613</td>\n",
       "    </tr>\n",
       "    <tr>\n",
       "      <th>91</th>\n",
       "      <td>John Bradley</td>\n",
       "      <td>M</td>\n",
       "      <td>1984</td>\n",
       "      <td>Canada</td>\n",
       "      <td>Vancouver</td>\n",
       "      <td>9</td>\n",
       "      <td>4857</td>\n",
       "    </tr>\n",
       "    <tr>\n",
       "      <th>83</th>\n",
       "      <td>Kayden Todd</td>\n",
       "      <td>M</td>\n",
       "      <td>1986</td>\n",
       "      <td>Australia</td>\n",
       "      <td>Brisbane</td>\n",
       "      <td>7</td>\n",
       "      <td>624</td>\n",
       "    </tr>\n",
       "    <tr>\n",
       "      <th>7</th>\n",
       "      <td>Signe Seymore</td>\n",
       "      <td>F</td>\n",
       "      <td>1979</td>\n",
       "      <td>England</td>\n",
       "      <td>Birmingham</td>\n",
       "      <td>20</td>\n",
       "      <td>2263</td>\n",
       "    </tr>\n",
       "    <tr>\n",
       "      <th>17</th>\n",
       "      <td>Kathy Kerrigan</td>\n",
       "      <td>F</td>\n",
       "      <td>1973</td>\n",
       "      <td>USA</td>\n",
       "      <td>New Orleans</td>\n",
       "      <td>24</td>\n",
       "      <td>4445</td>\n",
       "    </tr>\n",
       "  </tbody>\n",
       "</table>\n",
       "</div>"
      ],
      "text/plain": [
       "               Name Sex  Year of Birth Country of Birth         City  \\\n",
       "2     Lindsey Lever   M           1965              USA  New Orleans   \n",
       "81    Izaiah Duarte   M           1997           Brazil    São Paulo   \n",
       "14   Valeri Vanegas   F           1966            Spain     Valencia   \n",
       "6   Rupert Rollison   M           1986          England   Birmingham   \n",
       "66     Terri Wilson   F           1962           Canada    Vancouver   \n",
       "80     Hailee Ochoa   F           1977           Brazil    São Paulo   \n",
       "91     John Bradley   M           1984           Canada    Vancouver   \n",
       "83      Kayden Todd   M           1986        Australia     Brisbane   \n",
       "7     Signe Seymore   F           1979          England   Birmingham   \n",
       "17   Kathy Kerrigan   F           1973              USA  New Orleans   \n",
       "\n",
       "    Experience  Salary  \n",
       "2           37    7896  \n",
       "81           4    3833  \n",
       "14          26    7372  \n",
       "6            8    2878  \n",
       "66          28    4811  \n",
       "80          17    2613  \n",
       "91           9    4857  \n",
       "83           7     624  \n",
       "7           20    2263  \n",
       "17          24    4445  "
      ]
     },
     "execution_count": 28,
     "metadata": {},
     "output_type": "execute_result"
    }
   ],
   "source": [
    "data_clean.sample(10)"
   ]
  },
  {
   "cell_type": "code",
   "execution_count": 29,
   "metadata": {},
   "outputs": [
    {
     "name": "stdout",
     "output_type": "stream",
     "text": [
      "<class 'pandas.core.frame.DataFrame'>\n",
      "RangeIndex: 100 entries, 0 to 99\n",
      "Data columns (total 10 columns):\n",
      " #   Column            Non-Null Count  Dtype \n",
      "---  ------            --------------  ----- \n",
      " 0   Name              100 non-null    object\n",
      " 1   Sex               100 non-null    object\n",
      " 2   Year of Birth     100 non-null    int64 \n",
      " 3   Country of Birth  100 non-null    object\n",
      " 4   Religion          100 non-null    object\n",
      " 5   City              100 non-null    object\n",
      " 6   Profession        100 non-null    object\n",
      " 7   Age               100 non-null    int64 \n",
      " 8   Experience        100 non-null    int64 \n",
      " 9   Salary            100 non-null    int64 \n",
      "dtypes: int64(4), object(6)\n",
      "memory usage: 7.9+ KB\n"
     ]
    }
   ],
   "source": [
    "data.info()"
   ]
  },
  {
   "cell_type": "code",
   "execution_count": 30,
   "metadata": {},
   "outputs": [
    {
     "name": "stdout",
     "output_type": "stream",
     "text": [
      "<class 'pandas.core.frame.DataFrame'>\n",
      "Int64Index: 96 entries, 0 to 99\n",
      "Data columns (total 7 columns):\n",
      " #   Column            Non-Null Count  Dtype \n",
      "---  ------            --------------  ----- \n",
      " 0   Name              96 non-null     object\n",
      " 1   Sex               96 non-null     object\n",
      " 2   Year of Birth     96 non-null     int64 \n",
      " 3   Country of Birth  96 non-null     object\n",
      " 4   City              96 non-null     object\n",
      " 5   Experience        96 non-null     int64 \n",
      " 6   Salary            96 non-null     int64 \n",
      "dtypes: int64(3), object(4)\n",
      "memory usage: 6.0+ KB\n"
     ]
    }
   ],
   "source": [
    "data_clean.info()"
   ]
  },
  {
   "cell_type": "code",
   "execution_count": null,
   "metadata": {},
   "outputs": [],
   "source": []
  }
 ],
 "metadata": {
  "kernelspec": {
   "display_name": "Python 3",
   "language": "python",
   "name": "python3"
  },
  "language_info": {
   "codemirror_mode": {
    "name": "ipython",
    "version": 3
   },
   "file_extension": ".py",
   "mimetype": "text/x-python",
   "name": "python",
   "nbconvert_exporter": "python",
   "pygments_lexer": "ipython3",
   "version": "3.9.2"
  }
 },
 "nbformat": 4,
 "nbformat_minor": 4
}
