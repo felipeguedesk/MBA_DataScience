{
 "cells": [
  {
   "cell_type": "markdown",
   "metadata": {},
   "source": [
    "# MBA em Ciência de Dados\n",
    "# Técnicas Avançadas de Captura e Tratamento de Dados\n",
    "\n",
    "### <span style=\"color:darkred\">Módulo II - Tratamento e limpeza de dados</span>\n",
    "\n",
    "\n",
    "### <span style=\"color:darkred\">Exercícios</span>\n",
    "\n",
    "Moacir Antonelli Ponti\n",
    "\n",
    "CeMEAI - ICMC/USP São Carlos\n",
    "\n",
    "---\n",
    "\n",
    "#### <span style=\"color:red\">Recomenda-se fortemente que os exercícios sejam feitos sem consultar as respostas antecipadamente.</span>\n",
    "\n",
    "---"
   ]
  },
  {
   "cell_type": "code",
   "execution_count": 1,
   "metadata": {},
   "outputs": [
    {
     "data": {
      "text/html": [
       "<div>\n",
       "<style scoped>\n",
       "    .dataframe tbody tr th:only-of-type {\n",
       "        vertical-align: middle;\n",
       "    }\n",
       "\n",
       "    .dataframe tbody tr th {\n",
       "        vertical-align: top;\n",
       "    }\n",
       "\n",
       "    .dataframe thead th {\n",
       "        text-align: right;\n",
       "    }\n",
       "</style>\n",
       "<table border=\"1\" class=\"dataframe\">\n",
       "  <thead>\n",
       "    <tr style=\"text-align: right;\">\n",
       "      <th></th>\n",
       "      <th>Unnamed: 0</th>\n",
       "      <th>city</th>\n",
       "      <th>area</th>\n",
       "      <th>rooms</th>\n",
       "      <th>bathroom</th>\n",
       "      <th>parking spaces</th>\n",
       "      <th>floor</th>\n",
       "      <th>hoa</th>\n",
       "      <th>rent</th>\n",
       "      <th>tax</th>\n",
       "      <th>insurance</th>\n",
       "      <th>total</th>\n",
       "      <th>page hits</th>\n",
       "      <th>days available</th>\n",
       "      <th>interactions</th>\n",
       "      <th>weeks available</th>\n",
       "      <th>type</th>\n",
       "      <th>country</th>\n",
       "    </tr>\n",
       "  </thead>\n",
       "  <tbody>\n",
       "    <tr>\n",
       "      <th>0</th>\n",
       "      <td>0</td>\n",
       "      <td>São Paulo</td>\n",
       "      <td>70.0</td>\n",
       "      <td>2.0</td>\n",
       "      <td>1</td>\n",
       "      <td>1.0</td>\n",
       "      <td>7</td>\n",
       "      <td>2065</td>\n",
       "      <td>3300</td>\n",
       "      <td>211</td>\n",
       "      <td>42</td>\n",
       "      <td>5618.0</td>\n",
       "      <td>324</td>\n",
       "      <td>23</td>\n",
       "      <td>108</td>\n",
       "      <td>3</td>\n",
       "      <td>flat</td>\n",
       "      <td>Brazil</td>\n",
       "    </tr>\n",
       "    <tr>\n",
       "      <th>1</th>\n",
       "      <td>1</td>\n",
       "      <td>São Paulo</td>\n",
       "      <td>320.0</td>\n",
       "      <td>4.0</td>\n",
       "      <td>4</td>\n",
       "      <td>2.0</td>\n",
       "      <td>20</td>\n",
       "      <td>1200</td>\n",
       "      <td>4960</td>\n",
       "      <td>1750</td>\n",
       "      <td>63</td>\n",
       "      <td>7973.0</td>\n",
       "      <td>720</td>\n",
       "      <td>78</td>\n",
       "      <td>240</td>\n",
       "      <td>11</td>\n",
       "      <td>flat</td>\n",
       "      <td>Brazil</td>\n",
       "    </tr>\n",
       "    <tr>\n",
       "      <th>2</th>\n",
       "      <td>2</td>\n",
       "      <td>Porto Alegre</td>\n",
       "      <td>80.0</td>\n",
       "      <td>1.0</td>\n",
       "      <td>1</td>\n",
       "      <td>1.0</td>\n",
       "      <td>6</td>\n",
       "      <td>1000</td>\n",
       "      <td>2800</td>\n",
       "      <td>nr</td>\n",
       "      <td>41</td>\n",
       "      <td>3841.0</td>\n",
       "      <td>64</td>\n",
       "      <td>269</td>\n",
       "      <td>128</td>\n",
       "      <td>38</td>\n",
       "      <td>flat</td>\n",
       "      <td>Brazil</td>\n",
       "    </tr>\n",
       "    <tr>\n",
       "      <th>3</th>\n",
       "      <td>3</td>\n",
       "      <td>Porto Alegre</td>\n",
       "      <td>51.0</td>\n",
       "      <td>1.0</td>\n",
       "      <td>1</td>\n",
       "      <td>NaN</td>\n",
       "      <td>2</td>\n",
       "      <td>270</td>\n",
       "      <td>1112</td>\n",
       "      <td>22</td>\n",
       "      <td>17</td>\n",
       "      <td>1421.0</td>\n",
       "      <td>46</td>\n",
       "      <td>73</td>\n",
       "      <td>92</td>\n",
       "      <td>10</td>\n",
       "      <td>flat</td>\n",
       "      <td>Brazil</td>\n",
       "    </tr>\n",
       "    <tr>\n",
       "      <th>4</th>\n",
       "      <td>4</td>\n",
       "      <td>São Paulo</td>\n",
       "      <td>25.0</td>\n",
       "      <td>1.0</td>\n",
       "      <td>1</td>\n",
       "      <td>NaN</td>\n",
       "      <td>1</td>\n",
       "      <td>0</td>\n",
       "      <td>800</td>\n",
       "      <td>25</td>\n",
       "      <td>11</td>\n",
       "      <td>836.0</td>\n",
       "      <td>1548</td>\n",
       "      <td>78</td>\n",
       "      <td>516</td>\n",
       "      <td>11</td>\n",
       "      <td>flat</td>\n",
       "      <td>Brazil</td>\n",
       "    </tr>\n",
       "  </tbody>\n",
       "</table>\n",
       "</div>"
      ],
      "text/plain": [
       "   Unnamed: 0          city   area  rooms  bathroom  parking spaces floor  \\\n",
       "0           0     São Paulo   70.0    2.0         1             1.0     7   \n",
       "1           1     São Paulo  320.0    4.0         4             2.0    20   \n",
       "2           2  Porto Alegre   80.0    1.0         1             1.0     6   \n",
       "3           3  Porto Alegre   51.0    1.0         1             NaN     2   \n",
       "4           4     São Paulo   25.0    1.0         1             NaN     1   \n",
       "\n",
       "    hoa  rent   tax  insurance   total page hits  days available  \\\n",
       "0  2065  3300   211         42  5618.0       324              23   \n",
       "1  1200  4960  1750         63  7973.0       720              78   \n",
       "2  1000  2800    nr         41  3841.0        64             269   \n",
       "3   270  1112    22         17  1421.0        46              73   \n",
       "4     0   800    25         11   836.0      1548              78   \n",
       "\n",
       "   interactions  weeks available  type country  \n",
       "0           108                3  flat  Brazil  \n",
       "1           240               11  flat  Brazil  \n",
       "2           128               38  flat  Brazil  \n",
       "3            92               10  flat  Brazil  \n",
       "4           516               11  flat  Brazil  "
      ]
     },
     "execution_count": 1,
     "metadata": {},
     "output_type": "execute_result"
    }
   ],
   "source": [
    "# carregando as bibliotecas necessárias\n",
    "import numpy as np\n",
    "import matplotlib.pyplot as plt\n",
    "import pandas as pd\n",
    "\n",
    "from sklearn.svm import SVC\n",
    "from sklearn.linear_model import Ridge\n",
    "from sklearn import metrics\n",
    "\n",
    "# carregando dados\n",
    "data = pd.read_csv(\"./dados/houses_to_rent_mba4.csv\")\n",
    "data.head()"
   ]
  },
  {
   "cell_type": "markdown",
   "metadata": {},
   "source": [
    "A base de dados a ser utilizada durante todos os exercícios é `houses_to_rent_mba4.csv`.\n",
    "\n",
    "As alterações feitas em um exercício devem ser mantidas para o próximo exercício, a não ser que expressamente indicado"
   ]
  },
  {
   "cell_type": "markdown",
   "metadata": {},
   "source": [
    "---\n",
    "\n",
    "### Exercício 1)\n",
    "\n",
    "Inspecione o tipo dos atributos e seus valores, em particular, `city` e `country`. A seguir padronize valores dos atributos do tipo `object` que apareçam como distintos mas que deveriam ser os mesmos. Considere para a correção o valor mais frequente nesse atributo. Por exemplo: se tivermos escrito a seguinte sigla em 3 formas diferentes: `ICMC` (11 ocorrencias), `Icmc` (3 ocorrências), `I.C.M.C.` (2 ocorrências), todas devem ser convertidas para `ICMC`\n",
    "\n",
    "Quantas linhas relativas a valores da coluna `city` e `country`, respectivamente estavam fora do padrão e foram corrigidas?\n",
    "\n",
    "(a) 49 e 2<br>\n",
    "(b) 48 e 4<br>\n",
    "(c) 50 e 9<br>\n",
    "(d) 48 e 54<br>\n"
   ]
  },
  {
   "cell_type": "code",
   "execution_count": null,
   "metadata": {},
   "outputs": [],
   "source": []
  },
  {
   "cell_type": "code",
   "execution_count": null,
   "metadata": {},
   "outputs": [],
   "source": []
  },
  {
   "cell_type": "code",
   "execution_count": null,
   "metadata": {},
   "outputs": [],
   "source": []
  },
  {
   "cell_type": "code",
   "execution_count": null,
   "metadata": {},
   "outputs": [],
   "source": []
  },
  {
   "cell_type": "markdown",
   "metadata": {},
   "source": [
    "---\n",
    "\n",
    "### Exercício 2)\n",
    "\n",
    "Inspecione os valores dos atributos `floor` e `tax`, realizando a conversão dos mesmos para o tipo adequado. Para evitar gerar dados faltantes desnecessariamente, verifique primeiro o padrão dos dados errôneos e faltantes, e se é possível preencher corretamente alguns desses valores (conforme feito em aula para o atributo `floor`).\n",
    "\n",
    "OBS: uma forma de inspecionar valores de uma coluna do tipo `object` que podem ser convertidos para dígitos numéricos é executar `dataframe[atributo].astype(str).str.isnumeric()`\n",
    "\n",
    "Após esse processo, quandos valores faltantes restaram em `floor` e `tax`, respectivamente?\n",
    "\n",
    "(a) 13 e 9<br>\n",
    "(b) 78 e 9<br>\n",
    "(c) 5 e 12<br>\n",
    "(d) 9 e 13<br>"
   ]
  },
  {
   "cell_type": "markdown",
   "metadata": {},
   "source": [
    "---\n",
    "### Exercício 3)\n",
    "\n",
    "Vamos analisar possíveis atributos redundantes na base de dados. Inspecione as colunas imprimindo quantos valores únicos cada uma possui. Considerando o tamanho da base de dados e esses resultados, quais atributos são redundantes e podem ser removidos sem perda de informação considerando essa base de dados?\n",
    "\n",
    "(a) parking spaces, country<br>\n",
    "(b) country, Unnamed:0<br>\n",
    "(c) country<br>\n",
    "(d) Unnamed:0<br>"
   ]
  },
  {
   "cell_type": "markdown",
   "metadata": {},
   "source": [
    "---\n",
    "\n",
    "### Exercício 4)\n",
    "\n",
    "Vamos procurar por outliers na base de dados utilizando um método baseado na dispersão pelo *desvio padrão*. \n",
    "\n",
    "Codifique uma funcao em Python no formato abaixo, que receba por parâmetro um dataframe, uma lista de atributos/variáveis e um fator multiplicador `t` para o desvio padrão.\n",
    "`def remove_outliers_std(df, attributes, t):`\n",
    "\n",
    "Essa funcao deve retornar um dataframe sem os outliers segundo o método do desvio padrão, ou seja, removendo aqueles cujo valor esteja: abaixo da média menos `t` desvios padrões, ou acima da média mais `t` desvios padrões. Formalmente, são outliers valores $x$ tal que $x < \\mu - t\\sigma$ ou $x > \\mu + t\\sigma$. A funcao deve processar apenas variáveis numéricas e imprimir na tela a quantidade de outliers encontrados.\n",
    "\n",
    "Utilize a funcao implementada para remover outliers. Antes faça uma cópia do dataframe, criando um dataframe `data_out` do qual serão removidos outliers dos seguintes atributos:\n",
    "1. 'insurance' com $t=3.5$\n",
    "2. considerando a base obtida no passo (1) anterior, para 'total' com $t=2$.\n",
    "3. considerando a base obtida no passo (2) anterior, para 'rent' com $t=5$\n",
    "\n",
    "Quantos outliers foram encontrados respectivamente para 'insurance', 'total' e  'rent', nessa ordem?\n",
    "\n",
    "(a) 19, 6 e 0<br>\n",
    "(b) 0, 6 e 2<br>\n",
    "(c) 19, 6 e 2<br>\n",
    "(d) 19, 0 e 6<br>"
   ]
  },
  {
   "cell_type": "code",
   "execution_count": 63,
   "metadata": {},
   "outputs": [],
   "source": [
    "def remove_outliers_std(df, attribute, t):\n",
    "    data_out = df.copy()\n",
    "    \n",
    "    desvio = data_out[attribute].std()\n",
    "    media = data_out[attribute].mean()\n",
    "    print(\"Desvio Padrão do {}: {}, Média: {}\".format(attribute, desvio, media))\n",
    "    \n",
    "    cond_outlier = (data_out[attribute] < media - desvio*t) | (data_out[attribute] > media + desvio*t)\n",
    "    outliers = data_out[cond_outlier]\n",
    "    n_outliers = len(outliers)\n",
    "    print(\"\\t Número de Outliers: {}\".format(n_outliers))\n",
    "    \n",
    "    cond_inlier = (data_out[attribute] > media - desvio*t) & (data_out[attribute] < media + desvio*t)\n",
    "    data_out = data_out.loc[cond_inlier, :]\n",
    "\n",
    "    return data_out"
   ]
  },
  {
   "cell_type": "code",
   "execution_count": 64,
   "metadata": {},
   "outputs": [
    {
     "name": "stdout",
     "output_type": "stream",
     "text": [
      "Desvio Padrão do insurance: 97.48304836381348, Média: 56.542743031951055\n",
      "\t Número de Outliers: 19\n",
      "Desvio Padrão do total: 15774.004449806122, Média: 5585.314384202911\n",
      "\t Número de Outliers: 6\n",
      "Desvio Padrão do rent: 3427.3884574956323, Média: 3997.22507025462\n",
      "\t Número de Outliers: 2\n"
     ]
    }
   ],
   "source": [
    "data_out2 = remove_outliers_std(data,'insurance', 3.5)\n",
    "data_out2 = remove_outliers_std(data_out2,'total', 2)\n",
    "data_out2 = remove_outliers_std(data_out2,'rent', 5)"
   ]
  },
  {
   "cell_type": "markdown",
   "metadata": {},
   "source": [
    "---\n",
    "\n",
    "### Exercício 5)\n",
    "\n",
    "Ainda analisando outliers, considerando a base de dados original (antes da remoção no exercício anterior)\n",
    "\n",
    "Carregue o método $k$-Means utilizando: `from sklearn.cluster import KMeans`\n",
    "    1. Realize análise de agrupamento utilizando os atributos 'rent' e 'days available' e $k=100$ grupos. Utilize o parâmetro `random_state=0` ao criar o modelo\n",
    "    2. Identifique os grupos (clusters) que possuem 5 ou menos pontos\n",
    "    3. Considere todos os pontos pertencentes à esses grupos como candidatos a outliers\n",
    "    \n",
    "OBS: ver detalhes do KMeans em [https://scikit-learn.org/stable/modules/generated/sklearn.cluster.KMeans.html]\n",
    "\n",
    "Quantos outliers foram encontrados?\n",
    "\n",
    "(a) 1<br>\n",
    "(b) 3<br>\n",
    "(c) 7<br>\n",
    "(d) 20<br>"
   ]
  },
  {
   "cell_type": "markdown",
   "metadata": {},
   "source": [
    "---\n",
    "\n",
    "### Exercício 6)\n",
    "\n",
    "Considerando o preenchimento de dados faltantes, utilize a base de dados após remover outliers segundo indicado no Exercício 4 `data_out`\n",
    "\n",
    "Codifique uma funcão que preencha valores faltantes de variáveis numéricas utilizando a média condicionada (ou agrupada) a uma outra variável categórica (não numérica)  C da base. Essa funcao deverá:\n",
    "1. calcular a média da variável alvo A (a ser preenchida) relativa a cada valor distinto da variável categórica selecionada C, para linhas com valores existentes de A\n",
    "2. atribuir a média calculada de forma agrupada a todas as linhas cuja variável alvo é faltante e que possua o valor da variável categórica correspondente\n",
    "3. o valor atribuido deve seguir o mesmo tipo da variável alvo, ou seja, int, float, etc. Quando int, realize o arredondamento utlizando `np.round(,0)`, quando float64 utilize `np.round(,1)`\n",
    "\n",
    "    Exemplo: podemos preencher a média do imposto (tax) condicionado ao tipo (type) calculando a média do imposto agrupado por cada valor de tipo ('house' e 'flat'), e depois atribuir essas médias aos valores faltantes condicionado ao tipo, ou seja, a média do imposto de todas linhas 'house' é atribuída a todas as propriedades 'house' com 'tax' faltante\n",
    "    Similarmente, uma propriedade que é do tipo 'flat' e que possui 'tax' faltante, recebe a média de 'tax' entre todas os imóveis marcados com 'flat' para os quais há valor de 'tax'.\n",
    "    \n",
    "Use sua funcao para preencher a 'area' condicionado a 'type'. Armazene esse preenchimento num dataframe novo, não afetando os anteriores. Após o preenchimento, qual é a nova média para todas as linhas do atributo 'area', e arredondando para duas casas decimais?\n",
    "\n",
    "(a) 145.36<br>\n",
    "(b) 125.45<br>\n",
    "(d) 131.00<br>\n",
    "(d) 145.29<br>"
   ]
  },
  {
   "cell_type": "code",
   "execution_count": 24,
   "metadata": {},
   "outputs": [],
   "source": [
    "def fill_faltantes(df, target_attr, source_attr):\n",
    "    data_out = df.copy()\n",
    "    \n",
    "    for unique_source_attr in data_out[source_attr].unique():\n",
    "        mean = data_out.loc[data_out[source_attr] == unique_source_attr, target_attr].mean()\n",
    "        print(\"média do {} quando {} = {}: {}\".format(target_attr,source_attr, unique_source_attr, mean))\n",
    "        condition = (data_out[source_attr] == unique_source_attr) & (data_out[target_attr].isnull())\n",
    "        data_out.loc[condition, target_attr] = mean\n",
    "#         data_out.loc[condition, :].fillna({target_attr: mean}, inplace=True)\n",
    "\n",
    "\n",
    "    return data_out\n",
    "        "
   ]
  },
  {
   "cell_type": "code",
   "execution_count": 25,
   "metadata": {},
   "outputs": [
    {
     "name": "stdout",
     "output_type": "stream",
     "text": [
      "média do area quando type = flat: 119.90034288242451\n",
      "média do area quando type = house: 232.87147215865753\n"
     ]
    },
    {
     "data": {
      "text/plain": [
       "145.3599807382215"
      ]
     },
     "execution_count": 25,
     "metadata": {},
     "output_type": "execute_result"
    }
   ],
   "source": [
    "fill_faltantes(data_out, 'area', 'type')['area'].mean()"
   ]
  },
  {
   "cell_type": "markdown",
   "metadata": {},
   "source": [
    "---\n",
    "\n",
    "### Exercício 7)\n",
    "\n",
    "Utilizando a base de dados **antes** da remoção de outliers, elimine todas as linhas duplicadas. Quantas linhas foram removidas?\n",
    "\n",
    "(a) 0 <br>\n",
    "(b) 1270<br>\n",
    "(c) 2018<br>\n",
    "(d) 1260<br>\n"
   ]
  },
  {
   "cell_type": "code",
   "execution_count": 31,
   "metadata": {},
   "outputs": [],
   "source": [
    "del data['Unnamed: 0']\n",
    "del data['country']"
   ]
  },
  {
   "cell_type": "code",
   "execution_count": 37,
   "metadata": {},
   "outputs": [
    {
     "data": {
      "text/plain": [
       "1263"
      ]
     },
     "execution_count": 37,
     "metadata": {},
     "output_type": "execute_result"
    }
   ],
   "source": [
    "data.drop_duplicates(keep='first')\n",
    "data.duplicated().sum()"
   ]
  },
  {
   "cell_type": "markdown",
   "metadata": {},
   "source": [
    "---\n",
    "\n",
    "### Exercício 8)\n",
    "\n",
    "Utilizando a base de dados **após** da remoção de outliers (`data_out`), elimine todas as linhas duplicadas.\n",
    "\n",
    "(a) 1272<br>\n",
    "(b) 1<br>\n",
    "(c) 0<br>\n",
    "(d) 1262<br>"
   ]
  },
  {
   "cell_type": "code",
   "execution_count": 39,
   "metadata": {},
   "outputs": [
    {
     "data": {
      "text/plain": [
       "1255"
      ]
     },
     "execution_count": 39,
     "metadata": {},
     "output_type": "execute_result"
    }
   ],
   "source": [
    "del data_out['Unnamed: 0']\n",
    "del data_out['country']\n",
    "data_out.duplicated().sum()"
   ]
  },
  {
   "cell_type": "markdown",
   "metadata": {},
   "source": [
    "---\n",
    "\n",
    "### Exercício 9)\n",
    "\n",
    "Considere o atributo 'type' e analise a distribuicao dos seus valores.\n",
    "\n",
    "Qual dos procedimentos abaixo é o mais adequado caso desejamos utilizar a variável \"type\" como variável alvo (de saída) para um modelo de aprendizado?\n",
    "\n",
    "(a) não é possível utilizar essa variável como saída<br>\n",
    "(b) considerar o uso de técnicas de subamostragem aleatória para 'house'<br>\n",
    "(c) considerar o uso de técnicas de sobreamostragem para 'house'<br>\n",
    "(d) considerar o uso de técnicas de sobreamostragem para 'flat' <br>"
   ]
  },
  {
   "cell_type": "code",
   "execution_count": 42,
   "metadata": {},
   "outputs": [
    {
     "data": {
      "text/plain": [
       "flat     9104\n",
       "house    2664\n",
       "Name: type, dtype: int64"
      ]
     },
     "execution_count": 42,
     "metadata": {},
     "output_type": "execute_result"
    }
   ],
   "source": [
    "data['type'].value_counts()"
   ]
  },
  {
   "cell_type": "markdown",
   "metadata": {},
   "source": [
    "---\n",
    "\n",
    "### Exercício 10)\n",
    "\n",
    "Considere o atributo 'city' e a distribuicao dos seus valores, desconsiderando a cidade de São Paulo.\n",
    "Calcule a porcentagem de exemplos da categoria com a *menor* quantidade de dados encontrada com relacao ao total.\n",
    "\n",
    "Qual dos procedimentos abaixo é o mais adequado caso desejamos utilizar a variável \"city\" (desconsiderando São Paulo) como variável alvo (de saída) para um modelo de aprendizado?\n",
    "\n",
    "(a) não considerar a cidade \"Brotas\" na análise, e rebalancear as demais com sobreamostragem<br>\n",
    "(b) utilizar a base de dados original, sem tratamento, visto ser uma proporção possível considerando o tamanho das cidades<br>\n",
    "(c) utilizar o método SMOTE para a classe minoritária apenas<br>\n",
    "(d) utilizar técnicas de subamostragem para as categorias majoritárias<br>"
   ]
  },
  {
   "cell_type": "code",
   "execution_count": 45,
   "metadata": {},
   "outputs": [
    {
     "data": {
      "text/plain": [
       "São Paulo         0.603161\n",
       "Rio de Janeiro    0.123385\n",
       "Belo Horizonte    0.101886\n",
       "Porto Alegre      0.097553\n",
       "Campinas          0.069341\n",
       "Sao Paulo         0.004079\n",
       "Brotas            0.000595\n",
       "Name: city, dtype: float64"
      ]
     },
     "execution_count": 45,
     "metadata": {},
     "output_type": "execute_result"
    }
   ],
   "source": [
    "data['city'].value_counts()/len(data)"
   ]
  },
  {
   "cell_type": "code",
   "execution_count": 46,
   "metadata": {},
   "outputs": [
    {
     "data": {
      "text/plain": [
       "São Paulo         7098\n",
       "Rio de Janeiro    1452\n",
       "Belo Horizonte    1199\n",
       "Porto Alegre      1148\n",
       "Campinas           816\n",
       "Sao Paulo           48\n",
       "Brotas               7\n",
       "Name: city, dtype: int64"
      ]
     },
     "execution_count": 46,
     "metadata": {},
     "output_type": "execute_result"
    }
   ],
   "source": [
    "data['city'].value_counts()"
   ]
  }
 ],
 "metadata": {
  "kernelspec": {
   "display_name": "Python 3",
   "language": "python",
   "name": "python3"
  },
  "language_info": {
   "codemirror_mode": {
    "name": "ipython",
    "version": 3
   },
   "file_extension": ".py",
   "mimetype": "text/x-python",
   "name": "python",
   "nbconvert_exporter": "python",
   "pygments_lexer": "ipython3",
   "version": "3.7.4"
  }
 },
 "nbformat": 4,
 "nbformat_minor": 4
}
