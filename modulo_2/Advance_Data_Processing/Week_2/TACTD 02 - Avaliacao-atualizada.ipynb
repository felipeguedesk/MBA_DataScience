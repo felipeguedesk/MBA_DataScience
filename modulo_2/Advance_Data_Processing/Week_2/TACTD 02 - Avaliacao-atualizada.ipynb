{
 "cells": [
  {
   "cell_type": "markdown",
   "metadata": {
    "id": "m2mNUlDIeHUf"
   },
   "source": [
    "# MBA em Ciência de Dados\n",
    "# Técnicas Avançadas de Captura e Tratamento de Dados\n",
    "\n",
    "### <span style=\"color:darkred\">Módulo II - Tratamento e limpeza de Dados</span>\n",
    "\n",
    "\n",
    "### <span style=\"color:darkred\">Avaliação</span>\n",
    "\n",
    "Moacir Antonelli Ponti\n",
    "\n",
    "CeMEAI - ICMC/USP São Carlos\n",
    "\n",
    "---"
   ]
  },
  {
   "cell_type": "code",
   "execution_count": 2,
   "metadata": {
    "id": "-kUORXz3eHUs"
   },
   "outputs": [],
   "source": [
    "# carregando as bibliotecas necessárias\n",
    "import numpy as np\n",
    "import matplotlib.pyplot as plt\n",
    "import pandas as pd\n",
    "\n",
    "from sklearn.svm import SVC\n",
    "from sklearn.linear_model import Ridge\n",
    "from sklearn import metrics\n",
    "\n",
    "# carregando dados\n",
    "data_raw = pd.read_csv(\"../dados/pib_mba_avaliacao2021.csv\")\n",
    "data = data_raw.copy()"
   ]
  },
  {
   "cell_type": "markdown",
   "metadata": {
    "id": "3gWKwX7keHUu"
   },
   "source": [
    "Vamos utilizar uma base de dados baseada em informações de população e PIB para cada município brasileiro, essa base foi adaptada da original do IBGE para o propósito dessa avaliação (e portanto parte das variáveis **estão modificadas e não são reais**). A base possui as seguintes colunas:\n",
    "* gid - identificador geográfico do município\n",
    "* UF - unidade federativa\n",
    "* nome - nome do município\n",
    "* Censo - ano do censo relativo aos dados\n",
    "* PIB - total do PIB\n",
    "* Pop_est_2009 - populacao estimada\t\n",
    "* PIB_percapita - PIB per capita segundo os dados\n",
    "* Descrição - Descrição do dados\n",
    "* classe - classe do município\n",
    "* desemprego - índice de desemprego na cidade no ano do Censo\n"
   ]
  },
  {
   "cell_type": "markdown",
   "metadata": {
    "id": "nYrjtTSFeHUv"
   },
   "source": [
    "### Questão 1)\n",
    "\n",
    "Verifique a distribuição dos valores e tipos dos atributos e realize um tratamento de dados considerando:\n",
    "\n",
    "1. Correção dos dados que for possível inferir o valor verdadeiro, ajustando e padronizando-os. Anote em quais variáveis isso ocorreu. Valores outliers não devem ser removidos/alterados, apenas dados claramente errôneos ou não padronizados.\n",
    "2. Conversão dos atributos que deveriam ser numéricos para numérico - inspecione os valores para garantir que a conversão não vá gerar dados faltantes de forma desnecessária, substituindo por numeros os que forem possíveis como por exemplo o atributo \"floor\" como visto na aula em que substituímos dados por 0. Anote as variáveis em que isso ocorreu.\n",
    "    \n",
    "Quais variáveis possuiam valores que precisaram ser padronizados ou corrigidos, e quantos valores em cada uma delas foi possível corrigir?\n",
    " \n",
    "(a) UF (5) e Censo (2)<br>\n",
    "(b) UF (9), Desemprego (10), Censo (3)<br>\n",
    "(c) Censo (2) <br>\n",
    "(d) UF (9) e Censo (2)<br>\n",
    "\n",
    "---"
   ]
  },
  {
   "cell_type": "code",
   "execution_count": 13,
   "metadata": {},
   "outputs": [
    {
     "output_type": "execute_result",
     "data": {
      "text/plain": [
       "    gid                 UF       nome Censo           PIB  Pop_est_2009  \\\n",
       "0   215              BAHIA   Tremedal  2010  5.788399e+04         18433   \n",
       "1   306  RIO GRANDE DO SUL     Turuçu  2010  4.572388e+04          4000   \n",
       "2   900     ESPIRITO SANTO    Vitória  2010  1.978263e+07        320156   \n",
       "3  3613       MINAS GERAIS  Jacutinga  2010  2.478160e+05         21424   \n",
       "4  1028              PIAUÍ    Nazária  2010  2.095138e+04          7895   \n",
       "\n",
       "   PIB_percapita                         Descrição  classe  desemprego  \n",
       "0    3140.239990  Produto Interno Bruto per capita       1         9.3  \n",
       "1   11430.969727  Produto Interno Bruto per capita       2         4.9  \n",
       "2   61790.589844  Produto Interno Bruto per capita       4         8.3  \n",
       "3   11567.209961  Produto Interno Bruto per capita       2         5.0  \n",
       "4    2653.750000  Produto Interno Bruto per capita       1         6.8  "
      ],
      "text/html": "<div>\n<style scoped>\n    .dataframe tbody tr th:only-of-type {\n        vertical-align: middle;\n    }\n\n    .dataframe tbody tr th {\n        vertical-align: top;\n    }\n\n    .dataframe thead th {\n        text-align: right;\n    }\n</style>\n<table border=\"1\" class=\"dataframe\">\n  <thead>\n    <tr style=\"text-align: right;\">\n      <th></th>\n      <th>gid</th>\n      <th>UF</th>\n      <th>nome</th>\n      <th>Censo</th>\n      <th>PIB</th>\n      <th>Pop_est_2009</th>\n      <th>PIB_percapita</th>\n      <th>Descrição</th>\n      <th>classe</th>\n      <th>desemprego</th>\n    </tr>\n  </thead>\n  <tbody>\n    <tr>\n      <th>0</th>\n      <td>215</td>\n      <td>BAHIA</td>\n      <td>Tremedal</td>\n      <td>2010</td>\n      <td>5.788399e+04</td>\n      <td>18433</td>\n      <td>3140.239990</td>\n      <td>Produto Interno Bruto per capita</td>\n      <td>1</td>\n      <td>9.3</td>\n    </tr>\n    <tr>\n      <th>1</th>\n      <td>306</td>\n      <td>RIO GRANDE DO SUL</td>\n      <td>Turuçu</td>\n      <td>2010</td>\n      <td>4.572388e+04</td>\n      <td>4000</td>\n      <td>11430.969727</td>\n      <td>Produto Interno Bruto per capita</td>\n      <td>2</td>\n      <td>4.9</td>\n    </tr>\n    <tr>\n      <th>2</th>\n      <td>900</td>\n      <td>ESPIRITO SANTO</td>\n      <td>Vitória</td>\n      <td>2010</td>\n      <td>1.978263e+07</td>\n      <td>320156</td>\n      <td>61790.589844</td>\n      <td>Produto Interno Bruto per capita</td>\n      <td>4</td>\n      <td>8.3</td>\n    </tr>\n    <tr>\n      <th>3</th>\n      <td>3613</td>\n      <td>MINAS GERAIS</td>\n      <td>Jacutinga</td>\n      <td>2010</td>\n      <td>2.478160e+05</td>\n      <td>21424</td>\n      <td>11567.209961</td>\n      <td>Produto Interno Bruto per capita</td>\n      <td>2</td>\n      <td>5.0</td>\n    </tr>\n    <tr>\n      <th>4</th>\n      <td>1028</td>\n      <td>PIAUÍ</td>\n      <td>Nazária</td>\n      <td>2010</td>\n      <td>2.095138e+04</td>\n      <td>7895</td>\n      <td>2653.750000</td>\n      <td>Produto Interno Bruto per capita</td>\n      <td>1</td>\n      <td>6.8</td>\n    </tr>\n  </tbody>\n</table>\n</div>"
     },
     "metadata": {},
     "execution_count": 13
    }
   ],
   "source": [
    "data.head()"
   ]
  },
  {
   "cell_type": "code",
   "execution_count": 3,
   "metadata": {},
   "outputs": [
    {
     "output_type": "stream",
     "name": "stdout",
     "text": [
      "gid : int64, intervalo: 1 , 5568\nUF : object\n\t 33 distintos: ['BAHIA' 'RIO GRANDE DO SUL' 'ESPIRITO SANTO' 'MINAS GERAIS' 'PIAUÍ'\n 'GOIÁS' 'PERNAMBUCO' 'PARÁ' 'SERGIPE' 'SÃO PAULO' 'PARAÍBA' 'TOCANTINS'\n 'AMAZONAS' 'SANTA CATARINA' 'CEARÁ' 'RORAIMA' 'MARANHÃO' 'RIO DE JANEIRO'\n 'MATO GROSSO' 'PARANÁ' 'ALAGOAS' 'MATO GROSSO DO SUL' 'ACRE'\n 'RIO GRANDE DO NORTE' 'RONDÔNIA' 'PARANA' 'AMAPÁ' 'DISTRITO FEDERAL'\n 'MINAS G.' 'R.G. DO SUL' 'SP' 'PIAU' 'PARANA ']\nnome : object\n\t 5292 distintos: ['Tremedal' 'Turuçu' 'Vitória' ... 'Guararapes' 'Barra do Guarita'\n 'Machadinho']\nCenso : object\n\t 4 distintos: ['2010' '“2010' nan '2007' '20100']\nPIB : float64, intervalo: 1.0001 , 1167951456.0\nPop_est_2009 : int64, intervalo: 837 , 11037593\nPIB_percapita : float64, intervalo: 1929.9699707000002 , 360815.84375\nDescrição : object\n\t 1 distintos: ['Produto Interno Bruto per capita']\nclasse : int64, intervalo: 1 , 5\ndesemprego : float64, intervalo: 1.0 , 407.0\n"
     ]
    }
   ],
   "source": [
    "def verifica_atributos(df):\n",
    "    for var in df:\n",
    "        # imprime variavel e seu tipo\n",
    "        print(var,\":\", df[var].dtype.name, end=\"\")\n",
    "        # se nao numérico\n",
    "        if not np.issubdtype(df[var].dtype, np.number):\n",
    "            print(\"\\n\\t\",df[var].nunique(), \"distintos: \", end=\"\")\n",
    "            print(df[var].unique())\n",
    "        else:\n",
    "            print(\", intervalo: \",end=\"\")\n",
    "            print(df[var].min(), \",\", df[var].max())\n",
    "\n",
    "verifica_atributos(data)"
   ]
  },
  {
   "cell_type": "code",
   "execution_count": 4,
   "metadata": {},
   "outputs": [
    {
     "output_type": "stream",
     "name": "stdout",
     "text": [
      "'UF' has 9 errors\n'Censo' has 2 errors\n"
     ]
    }
   ],
   "source": [
    "def CountError(fieldName: str, listErrors: list) -> int:\n",
    "    error_count = 0\n",
    "    for error in listErrors:\n",
    "        error_count += len(data_raw[data_raw[fieldName] == error])\n",
    "    return error_count\n",
    "\n",
    "states_to_fix = ['R.G. DO SUL','MINAS G.','SP','PIAU','PARANA ','PARANA']\n",
    "censo_to_fix = ['“2010', '20100']\n",
    "print(\"'UF' has\",CountError(\"UF\", states_to_fix), \"errors\")\n",
    "print(\"'Censo' has\",CountError(\"Censo\", censo_to_fix), \"errors\")"
   ]
  },
  {
   "cell_type": "code",
   "execution_count": 5,
   "metadata": {},
   "outputs": [
    {
     "output_type": "stream",
     "name": "stdout",
     "text": [
      "gid : int64, intervalo: 1 , 5568\nUF : object\n\t 27 distintos: ['BAHIA' 'RIO GRANDE DO SUL' 'ESPIRITO SANTO' 'MINAS GERAIS' 'PIAUÍ'\n 'GOIÁS' 'PERNAMBUCO' 'PARÁ' 'SERGIPE' 'SÃO PAULO' 'PARAÍBA' 'TOCANTINS'\n 'AMAZONAS' 'SANTA CATARINA' 'CEARÁ' 'RORAIMA' 'MARANHÃO' 'RIO DE JANEIRO'\n 'MATO GROSSO' 'PARANÁ' 'ALAGOAS' 'MATO GROSSO DO SUL' 'ACRE'\n 'RIO GRANDE DO NORTE' 'RONDÔNIA' 'AMAPÁ' 'DISTRITO FEDERAL']\nnome : object\n\t 5292 distintos: ['Tremedal' 'Turuçu' 'Vitória' ... 'Guararapes' 'Barra do Guarita'\n 'Machadinho']\nCenso : float64, intervalo: 2007.0 , 2010.0\nPIB : float64, intervalo: 1.0001 , 1167951456.0\nPop_est_2009 : int64, intervalo: 837 , 11037593\nPIB_percapita : float64, intervalo: 1929.9699707000002 , 360815.84375\nDescrição : object\n\t 1 distintos: ['Produto Interno Bruto per capita']\nclasse : int64, intervalo: 1 , 5\ndesemprego : float64, intervalo: 1.0 , 407.0\n"
     ]
    }
   ],
   "source": [
    "data.loc[data[\"UF\"] == 'R.G. DO SUL', \"UF\"] = 'RIO GRANDE DO SUL'\n",
    "data.loc[data[\"UF\"] == 'MINAS G.', \"UF\"] = 'MINAS GERAIS'\n",
    "data.loc[data[\"UF\"] == 'SP', \"UF\"] = 'SÃO PAULO'\n",
    "data.loc[data[\"UF\"] == 'PIAU', \"UF\"] = 'PIAUÍ'\n",
    "data.loc[(data[\"UF\"] == 'PARANA ') | (data[\"UF\"] == 'PARANA'), \"UF\"] = 'PARANÁ'\n",
    "\n",
    "data.loc[(data[\"Censo\"] == '“2010') | (data[\"Censo\"] == '20100'), \"Censo\"] = '2010'\n",
    "\n",
    "data.loc[:,'Censo'] = pd.to_numeric(data.loc[:,'Censo'], \n",
    "                                      downcast='integer', errors='coerce')\n",
    "verifica_atributos(data)"
   ]
  },
  {
   "cell_type": "markdown",
   "metadata": {
    "id": "A1PayI1DeHUx"
   },
   "source": [
    "### Questão 2)\n",
    "\n",
    "Após o tratamento feito na Questão 2:\n",
    "1. Remova colunas que possuam valores redundantes constantes\n",
    "2. Exiba, e posteriormente remova municípios duplicados (considere nome e UF para esse fim), mantendo a primeira ocorrência. \n",
    "\n",
    "Qual o tamanho final da base de dados após esse tratamento?\n",
    "\n",
    "(a) 5572 x 10<br>\n",
    "(b) 5572 x 9<br>\n",
    "(c) 5565 x 8<br>\n",
    "(d) 5565 x 9<br>\n",
    "\n",
    "---"
   ]
  },
  {
   "cell_type": "code",
   "execution_count": 6,
   "metadata": {},
   "outputs": [],
   "source": [
    "# 1\n",
    "data = data.drop(labels=[\"Descrição\"], axis=1)\n"
   ]
  },
  {
   "cell_type": "code",
   "execution_count": 7,
   "metadata": {},
   "outputs": [
    {
     "output_type": "stream",
     "name": "stdout",
     "text": [
      "(5565, 9)\n"
     ]
    }
   ],
   "source": [
    "data.drop_duplicates(subset=['nome', 'UF'], keep='first', inplace=True)\n",
    "print(data.shape)"
   ]
  },
  {
   "cell_type": "code",
   "execution_count": 37,
   "metadata": {},
   "outputs": [
    {
     "output_type": "execute_result",
     "data": {
      "text/plain": [
       "    gid                 UF       nome   Censo           PIB  Pop_est_2009  \\\n",
       "0   215              BAHIA   Tremedal  2010.0  5.788399e+04         18433   \n",
       "1   306  RIO GRANDE DO SUL     Turuçu  2010.0  4.572388e+04          4000   \n",
       "2   900     ESPIRITO SANTO    Vitória  2010.0  1.978263e+07        320156   \n",
       "3  3613       MINAS GERAIS  Jacutinga  2010.0  2.478160e+05         21424   \n",
       "4  1028              PIAUÍ    Nazária  2010.0  2.095138e+04          7895   \n",
       "\n",
       "   PIB_percapita  classe  desemprego  \n",
       "0    3140.239990       1         9.3  \n",
       "1   11430.969727       2         4.9  \n",
       "2   61790.589844       4         8.3  \n",
       "3   11567.209961       2         5.0  \n",
       "4    2653.750000       1         6.8  "
      ],
      "text/html": "<div>\n<style scoped>\n    .dataframe tbody tr th:only-of-type {\n        vertical-align: middle;\n    }\n\n    .dataframe tbody tr th {\n        vertical-align: top;\n    }\n\n    .dataframe thead th {\n        text-align: right;\n    }\n</style>\n<table border=\"1\" class=\"dataframe\">\n  <thead>\n    <tr style=\"text-align: right;\">\n      <th></th>\n      <th>gid</th>\n      <th>UF</th>\n      <th>nome</th>\n      <th>Censo</th>\n      <th>PIB</th>\n      <th>Pop_est_2009</th>\n      <th>PIB_percapita</th>\n      <th>classe</th>\n      <th>desemprego</th>\n    </tr>\n  </thead>\n  <tbody>\n    <tr>\n      <th>0</th>\n      <td>215</td>\n      <td>BAHIA</td>\n      <td>Tremedal</td>\n      <td>2010.0</td>\n      <td>5.788399e+04</td>\n      <td>18433</td>\n      <td>3140.239990</td>\n      <td>1</td>\n      <td>9.3</td>\n    </tr>\n    <tr>\n      <th>1</th>\n      <td>306</td>\n      <td>RIO GRANDE DO SUL</td>\n      <td>Turuçu</td>\n      <td>2010.0</td>\n      <td>4.572388e+04</td>\n      <td>4000</td>\n      <td>11430.969727</td>\n      <td>2</td>\n      <td>4.9</td>\n    </tr>\n    <tr>\n      <th>2</th>\n      <td>900</td>\n      <td>ESPIRITO SANTO</td>\n      <td>Vitória</td>\n      <td>2010.0</td>\n      <td>1.978263e+07</td>\n      <td>320156</td>\n      <td>61790.589844</td>\n      <td>4</td>\n      <td>8.3</td>\n    </tr>\n    <tr>\n      <th>3</th>\n      <td>3613</td>\n      <td>MINAS GERAIS</td>\n      <td>Jacutinga</td>\n      <td>2010.0</td>\n      <td>2.478160e+05</td>\n      <td>21424</td>\n      <td>11567.209961</td>\n      <td>2</td>\n      <td>5.0</td>\n    </tr>\n    <tr>\n      <th>4</th>\n      <td>1028</td>\n      <td>PIAUÍ</td>\n      <td>Nazária</td>\n      <td>2010.0</td>\n      <td>2.095138e+04</td>\n      <td>7895</td>\n      <td>2653.750000</td>\n      <td>1</td>\n      <td>6.8</td>\n    </tr>\n  </tbody>\n</table>\n</div>"
     },
     "metadata": {},
     "execution_count": 37
    }
   ],
   "source": [
    "data.head()"
   ]
  },
  {
   "cell_type": "markdown",
   "metadata": {
    "id": "IntkAH7weHUy"
   },
   "source": [
    "---\n",
    "### Questão 3)\n",
    "\n",
    "Vamos analisar possíveis outliers. Utilize o método da análise da dispersão pelo *desvio padrão* e inspecione as colunas 'gid', 'PIB', 'Pop_est_2009', 'desemprego', procurando por outliers globais com critério de 3 desvios padrões, i.e. $3\\sigma$. Nessa questão não remova outliers da base de dados, apenas identifique-os.\n",
    "\n",
    "Quantos outliers foram encontrados, respectivamente, para 'gid', 'PIB', 'Pop_est_2009' e 'desemprego'?\n",
    "\n",
    "(a) 0, 27, 1, 2<br>\n",
    "(c) 0, 9, 44, 0<br>\n",
    "(d) 1, 5, 9, 44<br>\n",
    "(d) 0, 5, 27, 2<br>"
   ]
  },
  {
   "cell_type": "code",
   "execution_count": 39,
   "metadata": {},
   "outputs": [
    {
     "output_type": "stream",
     "name": "stdout",
     "text": [
      "gid, mu = 2784.90, std = 1607.03, outliers = 0\nPIB, mu = 862037.50, std = 17673043.96, outliers = 5\nPop_est_2009, mu = 34408.02, std = 201803.45, outliers = 27\ndesemprego, mu = 6.67, std = 5.81, outliers = 2\n"
     ]
    }
   ],
   "source": [
    "def remove_outliers_std(df, attributes, t):\n",
    "    \n",
    "    dfn = df.copy()\n",
    "    \n",
    "    for var in attributes:\n",
    "        # verifica se variável é numerica\n",
    "        if np.issubdtype(df[var].dtype, np.number):\n",
    "            crit_std = df[var].std() * t\n",
    "            mu = df[var].mean()\n",
    "            \n",
    "            tot_out = np.sum((df[var] < mu-crit_std) | (df[var] > mu+crit_std))\n",
    "            \n",
    "            # apenas inliers segundo std\n",
    "            dfn = dfn.loc[(df[var] >= mu-crit_std) & (df[var] <= mu+crit_std),:]\n",
    "            print('%s, mu = %.2f, std = %.2f, outliers = %d' % (var, mu, crit_std/t, tot_out))\n",
    "            \n",
    "    return dfn\n",
    "\n",
    "attributes = ['gid', 'PIB', 'Pop_est_2009', 'desemprego']\n",
    "t = 3\n",
    "data_no_outliers = remove_outliers_std(data, attributes, t)"
   ]
  },
  {
   "cell_type": "markdown",
   "metadata": {
    "id": "hQVEkKBIeHU0"
   },
   "source": [
    "---\n",
    "\n",
    "### Questão 4)\n",
    "\n",
    "Utilize a base de dados após o tratamento inicial, e sem remoção de outliers. Imprima o total de valores faltantes em cada variável e, posteriormente, utilize o preenchimento por média condicionada, preenchendo 'desemprego' com as médias agrupadas por 'UF'.\n",
    "\n",
    "Para isso codifique uma função que deverá:\n",
    "1. calcular a média de uma variável alvo A (a ser preenchida) relativa a (ou agrupada por) cada valor distinto da variável que se deseja usar para agrupar;\n",
    "2. atribuir a média calculada de forma agrupada a todas as linhas cuja variável alvo é faltante e que possua o valor da variável categórica correspondente;\n",
    "3. o valor atribuido deve seguir o mesmo tipo da variável alvo, ou seja, int, float, etc. Quando int, realize o arredondamento utlizando `np.round(,0)`, quando float64 utilize `np.round(,1)`\n",
    "\n",
    "Quantos dados faltantes existiam em \"desemprego\", e qual a média e o desvio padrão dessa variável após o preenchimento?\n",
    "\n",
    "(a) 62 faltantes, média 6.6664, desvio padrão 5.7834 <br>\n",
    "(b) 59 faltantes, média 6.6663, desvio padrão 5.7834 <br>\n",
    "(c) 62 faltantes, média 6.6663, desvio padrão 4.5120 <br>\n",
    "(d) 62 faltantes, média 5.8126, desvio padrão 5.7834\n"
   ]
  },
  {
   "cell_type": "code",
   "execution_count": 40,
   "metadata": {},
   "outputs": [
    {
     "output_type": "stream",
     "name": "stdout",
     "text": [
      "nome - faltantes: 2\nCenso - faltantes: 6\nPIB - faltantes: 1\nPIB_percapita - faltantes: 4\ndesemprego - faltantes: 62\n"
     ]
    }
   ],
   "source": [
    "def check_missing_att(df):\n",
    "    # verificando atributos faltantes\n",
    "    for var in df:\n",
    "        # somamos o número de variáveis nulas (NaN)\n",
    "        nullatt = np.sum(df[var].isnull())\n",
    "        if nullatt > 0:\n",
    "            print(var,\"- faltantes: \", end='')\n",
    "            print(nullatt)\n",
    "\n",
    "check_missing_att(data)"
   ]
  },
  {
   "cell_type": "code",
   "execution_count": 21,
   "metadata": {},
   "outputs": [
    {
     "output_type": "execute_result",
     "data": {
      "text/plain": [
       "True"
      ]
     },
     "metadata": {},
     "execution_count": 21
    }
   ],
   "source": [
    "pd.api.types.is_float_dtype(data['desemprego'])\n"
   ]
  },
  {
   "cell_type": "code",
   "execution_count": 45,
   "metadata": {},
   "outputs": [
    {
     "output_type": "stream",
     "name": "stdout",
     "text": [
      "1  attributos: \n",
      "--  preencher  desemprego  usando media de ACRE , media= 4.104761904761905 -- 1  faltantes\n",
      "--  preencher  desemprego  usando media de ALAGOAS , media= 9.4156862745098 -- 0  faltantes\n",
      "--  preencher  desemprego  usando media de AMAPÁ , media= 12.743749999999999 -- 0  faltantes\n",
      "--  preencher  desemprego  usando media de AMAZONAS , media= 8.141666666666664 -- 2  faltantes\n",
      "--  preencher  desemprego  usando media de BAHIA , media= 9.136319612590798 -- 4  faltantes\n",
      "--  preencher  desemprego  usando media de CEARÁ , media= 5.261538461538462 -- 2  faltantes\n",
      "--  preencher  desemprego  usando media de DISTRITO FEDERAL , media= 8.1 -- 0  faltantes\n",
      "--  preencher  desemprego  usando media de ESPIRITO SANTO , media= 7.605128205128204 -- 0  faltantes\n",
      "--  preencher  desemprego  usando media de GOIÁS , media= 4.7151639344262275 -- 2  faltantes\n",
      "--  preencher  desemprego  usando media de MARANHÃO , media= 8.268055555555552 -- 1  faltantes\n",
      "--  preencher  desemprego  usando media de MATO GROSSO , media= 7.152142857142854 -- 1  faltantes\n",
      "--  preencher  desemprego  usando media de MATO GROSSO DO SUL , media= 4.507692307692309 -- 0  faltantes\n",
      "--  preencher  desemprego  usando media de MINAS GERAIS , media= 5.896674584323045 -- 11  faltantes\n",
      "--  preencher  desemprego  usando media de PARANÁ , media= 4.472040302267005 -- 2  faltantes\n",
      "--  preencher  desemprego  usando media de PARAÍBA , media= 9.00180995475113 -- 2  faltantes\n",
      "--  preencher  desemprego  usando media de PARÁ , media= 7.165734265734266 -- 0  faltantes\n",
      "--  preencher  desemprego  usando media de PERNAMBUCO , media= 9.110382513661197 -- 2  faltantes\n",
      "--  preencher  desemprego  usando media de PIAUÍ , media= 5.800000000000002 -- 0  faltantes\n",
      "--  preencher  desemprego  usando media de RIO DE JANEIRO , media= 8.176136363636365 -- 4  faltantes\n",
      "--  preencher  desemprego  usando media de RIO GRANDE DO NORTE , media= 9.581212121212124 -- 2  faltantes\n",
      "--  preencher  desemprego  usando media de RIO GRANDE DO SUL , media= 4.486298568507153 -- 7  faltantes\n",
      "--  preencher  desemprego  usando media de RONDÔNIA , media= 3.171153846153847 -- 0  faltantes\n",
      "--  preencher  desemprego  usando media de RORAIMA , media= 7.593333333333333 -- 0  faltantes\n",
      "--  preencher  desemprego  usando media de SANTA CATARINA , media= 6.847586206896551 -- 3  faltantes\n",
      "--  preencher  desemprego  usando media de SERGIPE , media= 8.418666666666669 -- 0  faltantes\n",
      "--  preencher  desemprego  usando media de SÃO PAULO , media= 6.984834123222751 -- 12  faltantes\n",
      "--  preencher  desemprego  usando media de TOCANTINS , media= 5.864444444444442 -- 4  faltantes\n",
      "The mean and stdev for \"desemprego\" before filling null values is: 6.666309285844084 5.813555614937149 respectively\n",
      "The mean and stdev for \"desemprego\" after filling null values is: 6.666330362698222 5.783435949303959 respectively\n"
     ]
    }
   ],
   "source": [
    "def get_att_mean_by_group(df: pd.DataFrame, target_att: str, group_by_att: str) -> pd.DataFrame:\n",
    "    return df.groupby(by=[group_by_att], as_index=True)[target_att].mean()\n",
    "\n",
    "def fill_missing_by_grouped_mean(df, attributes, group_by_attributes):\n",
    "    \"\"\" Funcao para preencher dados faltantes por media agrupada por cada valor distinto da variavel\n",
    "    que se deseja usar.\n",
    "        parametros:\n",
    "            df - dataframe\n",
    "            attributes - lista de atributos a preencher (alvo/saida)\n",
    "            attributes_reg - lista dos respectivos atributos a serem usados na regressao\n",
    "                             como variaveis de entrada\n",
    "    \"\"\"\n",
    "    \n",
    "    dfn = df.copy()\n",
    "    print(len(attributes), ' attributos: ')\n",
    "    for i in range(len(attributes)):\n",
    "        grouped_target_means = df.groupby(by=[group_by_attributes[i]], as_index=True)[attributes[i]].mean()\n",
    "        decimal_places = 1 if pd.api.types.is_float_dtype(attributes[i]) else 0\n",
    "\n",
    "        for index, value in grouped_target_means.iteritems():\n",
    "            mean = value\n",
    "            print('--', ' preencher ', attributes[i], ' usando media de', index, ', media=', mean, end=' -- ')\n",
    "            nullatt = np.sum(dfn[dfn[group_by_attributes[i]] == index][attributes[i]].isnull())\n",
    "            print(nullatt, ' faltantes')\n",
    "            if nullatt == 0: continue\n",
    "            dfn.loc[(dfn[attributes[i]].isnull()) & (dfn[group_by_attributes[i]] == index), attributes[i]] = mean\n",
    "        \n",
    "    return dfn\n",
    "\n",
    "filled_data = fill_missing_by_grouped_mean(data, [\"desemprego\"], [\"UF\"])\n",
    "print('The mean and stdev for \"desemprego\" before filling null values is:', data['desemprego'].mean(), data['desemprego'].std(), 'respectively')\n",
    "print('The mean and stdev for \"desemprego\" after filling null values is:', filled_data['desemprego'].mean(), filled_data['desemprego'].std(), 'respectively')"
   ]
  },
  {
   "cell_type": "markdown",
   "metadata": {
    "id": "uQu0Yo1MeHU1"
   },
   "source": [
    "---\n",
    "\n",
    "### Questão 5)\n",
    "\n",
    "Desejamos projetar um algoritmo de aprendizado em que o atributo alvo é 'classe', inicialmente utilizando apenas dados da UF Paraná, mas posteriormente deveremos utilizar o modelo aprendido em toda a base de dados. \n",
    "\n",
    "Use os dados tratados após o preenchimento de dados faltantes de desemprego, porém sem remoção de outliers. Considere o atributo 'classe' e analise a distribuição dos seus valores em dois cenários:\n",
    "1. base completa\n",
    "2. considerando apenas a UF 'Paraná'. \n",
    "\n",
    "Após a análise podemos afirmar que:\n",
    "\n",
    "(a) Os cenários 1 e 2 são desbalanceados, com classes minoritárias diferentes e majoritárias iguais.<br>\n",
    "(b) Os cenários 1 e 2 são desbalanceados, com distribuição de classes similar.<br>\n",
    "(c) Apenas o cenário 2 é desbalanceado. <br>\n",
    "(d) Os cenários 1 e 2 são desbalanceados, com classes majoritárias diferentes.<br>"
   ]
  },
  {
   "cell_type": "code",
   "execution_count": 28,
   "metadata": {},
   "outputs": [
    {
     "output_type": "execute_result",
     "data": {
      "text/plain": [
       "<AxesSubplot:>"
      ]
     },
     "metadata": {},
     "execution_count": 28
    },
    {
     "output_type": "display_data",
     "data": {
      "text/plain": "<Figure size 432x288 with 1 Axes>",
      "image/svg+xml": "<?xml version=\"1.0\" encoding=\"utf-8\" standalone=\"no\"?>\n<!DOCTYPE svg PUBLIC \"-//W3C//DTD SVG 1.1//EN\"\n  \"http://www.w3.org/Graphics/SVG/1.1/DTD/svg11.dtd\">\n<!-- Created with matplotlib (https://matplotlib.org/) -->\n<svg height=\"248.518125pt\" version=\"1.1\" viewBox=\"0 0 381.65 248.518125\" width=\"381.65pt\" xmlns=\"http://www.w3.org/2000/svg\" xmlns:xlink=\"http://www.w3.org/1999/xlink\">\n <metadata>\n  <rdf:RDF xmlns:cc=\"http://creativecommons.org/ns#\" xmlns:dc=\"http://purl.org/dc/elements/1.1/\" xmlns:rdf=\"http://www.w3.org/1999/02/22-rdf-syntax-ns#\">\n   <cc:Work>\n    <dc:type rdf:resource=\"http://purl.org/dc/dcmitype/StillImage\"/>\n    <dc:date>2021-05-02T21:19:24.930838</dc:date>\n    <dc:format>image/svg+xml</dc:format>\n    <dc:creator>\n     <cc:Agent>\n      <dc:title>Matplotlib v3.3.2, https://matplotlib.org/</dc:title>\n     </cc:Agent>\n    </dc:creator>\n   </cc:Work>\n  </rdf:RDF>\n </metadata>\n <defs>\n  <style type=\"text/css\">*{stroke-linecap:butt;stroke-linejoin:round;}</style>\n </defs>\n <g id=\"figure_1\">\n  <g id=\"patch_1\">\n   <path d=\"M -0 248.518125 \nL 381.65 248.518125 \nL 381.65 0 \nL -0 0 \nz\n\" style=\"fill:none;\"/>\n  </g>\n  <g id=\"axes_1\">\n   <g id=\"patch_2\">\n    <path d=\"M 39.65 224.64 \nL 374.45 224.64 \nL 374.45 7.2 \nL 39.65 7.2 \nz\n\" style=\"fill:#ffffff;\"/>\n   </g>\n   <g id=\"patch_3\">\n    <path clip-path=\"url(#p31faf39f8f)\" d=\"M 54.868182 224.64 \nL 85.304545 224.64 \nL 85.304545 17.554286 \nL 54.868182 17.554286 \nz\n\" style=\"fill:#1f77b4;\"/>\n   </g>\n   <g id=\"patch_4\">\n    <path clip-path=\"url(#p31faf39f8f)\" d=\"M 85.304545 224.64 \nL 115.740909 224.64 \nL 115.740909 224.64 \nL 85.304545 224.64 \nz\n\" style=\"fill:#1f77b4;\"/>\n   </g>\n   <g id=\"patch_5\">\n    <path clip-path=\"url(#p31faf39f8f)\" d=\"M 115.740909 224.64 \nL 146.177273 224.64 \nL 146.177273 94.916154 \nL 115.740909 94.916154 \nz\n\" style=\"fill:#1f77b4;\"/>\n   </g>\n   <g id=\"patch_6\">\n    <path clip-path=\"url(#p31faf39f8f)\" d=\"M 146.177273 224.64 \nL 176.613636 224.64 \nL 176.613636 224.64 \nL 146.177273 224.64 \nz\n\" style=\"fill:#1f77b4;\"/>\n   </g>\n   <g id=\"patch_7\">\n    <path clip-path=\"url(#p31faf39f8f)\" d=\"M 176.613636 224.64 \nL 207.05 224.64 \nL 207.05 224.64 \nL 176.613636 224.64 \nz\n\" style=\"fill:#1f77b4;\"/>\n   </g>\n   <g id=\"patch_8\">\n    <path clip-path=\"url(#p31faf39f8f)\" d=\"M 207.05 224.64 \nL 237.486364 224.64 \nL 237.486364 199.968191 \nL 207.05 199.968191 \nz\n\" style=\"fill:#1f77b4;\"/>\n   </g>\n   <g id=\"patch_9\">\n    <path clip-path=\"url(#p31faf39f8f)\" d=\"M 237.486364 224.64 \nL 267.922727 224.64 \nL 267.922727 224.64 \nL 237.486364 224.64 \nz\n\" style=\"fill:#1f77b4;\"/>\n   </g>\n   <g id=\"patch_10\">\n    <path clip-path=\"url(#p31faf39f8f)\" d=\"M 267.922727 224.64 \nL 298.359091 224.64 \nL 298.359091 221.293558 \nL 267.922727 221.293558 \nz\n\" style=\"fill:#1f77b4;\"/>\n   </g>\n   <g id=\"patch_11\">\n    <path clip-path=\"url(#p31faf39f8f)\" d=\"M 298.359091 224.64 \nL 328.795455 224.64 \nL 328.795455 224.64 \nL 298.359091 224.64 \nz\n\" style=\"fill:#1f77b4;\"/>\n   </g>\n   <g id=\"patch_12\">\n    <path clip-path=\"url(#p31faf39f8f)\" d=\"M 328.795455 224.64 \nL 359.231818 224.64 \nL 359.231818 224.311917 \nL 328.795455 224.311917 \nz\n\" style=\"fill:#1f77b4;\"/>\n   </g>\n   <g id=\"matplotlib.axis_1\">\n    <g id=\"xtick_1\">\n     <g id=\"line2d_1\">\n      <path clip-path=\"url(#p31faf39f8f)\" d=\"M 54.868182 224.64 \nL 54.868182 7.2 \n\" style=\"fill:none;stroke:#b0b0b0;stroke-linecap:square;stroke-width:0.8;\"/>\n     </g>\n     <g id=\"line2d_2\">\n      <defs>\n       <path d=\"M 0 0 \nL 0 3.5 \n\" id=\"m1959f8ea1a\" style=\"stroke:#000000;stroke-width:0.8;\"/>\n      </defs>\n      <g>\n       <use style=\"stroke:#000000;stroke-width:0.8;\" x=\"54.868182\" xlink:href=\"#m1959f8ea1a\" y=\"224.64\"/>\n      </g>\n     </g>\n     <g id=\"text_1\">\n      <!-- 1.0 -->\n      <g transform=\"translate(46.916619 239.238437)scale(0.1 -0.1)\">\n       <defs>\n        <path d=\"M 12.40625 8.296875 \nL 28.515625 8.296875 \nL 28.515625 63.921875 \nL 10.984375 60.40625 \nL 10.984375 69.390625 \nL 28.421875 72.90625 \nL 38.28125 72.90625 \nL 38.28125 8.296875 \nL 54.390625 8.296875 \nL 54.390625 0 \nL 12.40625 0 \nz\n\" id=\"DejaVuSans-49\"/>\n        <path d=\"M 10.6875 12.40625 \nL 21 12.40625 \nL 21 0 \nL 10.6875 0 \nz\n\" id=\"DejaVuSans-46\"/>\n        <path d=\"M 31.78125 66.40625 \nQ 24.171875 66.40625 20.328125 58.90625 \nQ 16.5 51.421875 16.5 36.375 \nQ 16.5 21.390625 20.328125 13.890625 \nQ 24.171875 6.390625 31.78125 6.390625 \nQ 39.453125 6.390625 43.28125 13.890625 \nQ 47.125 21.390625 47.125 36.375 \nQ 47.125 51.421875 43.28125 58.90625 \nQ 39.453125 66.40625 31.78125 66.40625 \nz\nM 31.78125 74.21875 \nQ 44.046875 74.21875 50.515625 64.515625 \nQ 56.984375 54.828125 56.984375 36.375 \nQ 56.984375 17.96875 50.515625 8.265625 \nQ 44.046875 -1.421875 31.78125 -1.421875 \nQ 19.53125 -1.421875 13.0625 8.265625 \nQ 6.59375 17.96875 6.59375 36.375 \nQ 6.59375 54.828125 13.0625 64.515625 \nQ 19.53125 74.21875 31.78125 74.21875 \nz\n\" id=\"DejaVuSans-48\"/>\n       </defs>\n       <use xlink:href=\"#DejaVuSans-49\"/>\n       <use x=\"63.623047\" xlink:href=\"#DejaVuSans-46\"/>\n       <use x=\"95.410156\" xlink:href=\"#DejaVuSans-48\"/>\n      </g>\n     </g>\n    </g>\n    <g id=\"xtick_2\">\n     <g id=\"line2d_3\">\n      <path clip-path=\"url(#p31faf39f8f)\" d=\"M 92.913636 224.64 \nL 92.913636 7.2 \n\" style=\"fill:none;stroke:#b0b0b0;stroke-linecap:square;stroke-width:0.8;\"/>\n     </g>\n     <g id=\"line2d_4\">\n      <g>\n       <use style=\"stroke:#000000;stroke-width:0.8;\" x=\"92.913636\" xlink:href=\"#m1959f8ea1a\" y=\"224.64\"/>\n      </g>\n     </g>\n     <g id=\"text_2\">\n      <!-- 1.5 -->\n      <g transform=\"translate(84.962074 239.238437)scale(0.1 -0.1)\">\n       <defs>\n        <path d=\"M 10.796875 72.90625 \nL 49.515625 72.90625 \nL 49.515625 64.59375 \nL 19.828125 64.59375 \nL 19.828125 46.734375 \nQ 21.96875 47.46875 24.109375 47.828125 \nQ 26.265625 48.1875 28.421875 48.1875 \nQ 40.625 48.1875 47.75 41.5 \nQ 54.890625 34.8125 54.890625 23.390625 \nQ 54.890625 11.625 47.5625 5.09375 \nQ 40.234375 -1.421875 26.90625 -1.421875 \nQ 22.3125 -1.421875 17.546875 -0.640625 \nQ 12.796875 0.140625 7.71875 1.703125 \nL 7.71875 11.625 \nQ 12.109375 9.234375 16.796875 8.0625 \nQ 21.484375 6.890625 26.703125 6.890625 \nQ 35.15625 6.890625 40.078125 11.328125 \nQ 45.015625 15.765625 45.015625 23.390625 \nQ 45.015625 31 40.078125 35.4375 \nQ 35.15625 39.890625 26.703125 39.890625 \nQ 22.75 39.890625 18.8125 39.015625 \nQ 14.890625 38.140625 10.796875 36.28125 \nz\n\" id=\"DejaVuSans-53\"/>\n       </defs>\n       <use xlink:href=\"#DejaVuSans-49\"/>\n       <use x=\"63.623047\" xlink:href=\"#DejaVuSans-46\"/>\n       <use x=\"95.410156\" xlink:href=\"#DejaVuSans-53\"/>\n      </g>\n     </g>\n    </g>\n    <g id=\"xtick_3\">\n     <g id=\"line2d_5\">\n      <path clip-path=\"url(#p31faf39f8f)\" d=\"M 130.959091 224.64 \nL 130.959091 7.2 \n\" style=\"fill:none;stroke:#b0b0b0;stroke-linecap:square;stroke-width:0.8;\"/>\n     </g>\n     <g id=\"line2d_6\">\n      <g>\n       <use style=\"stroke:#000000;stroke-width:0.8;\" x=\"130.959091\" xlink:href=\"#m1959f8ea1a\" y=\"224.64\"/>\n      </g>\n     </g>\n     <g id=\"text_3\">\n      <!-- 2.0 -->\n      <g transform=\"translate(123.007528 239.238437)scale(0.1 -0.1)\">\n       <defs>\n        <path d=\"M 19.1875 8.296875 \nL 53.609375 8.296875 \nL 53.609375 0 \nL 7.328125 0 \nL 7.328125 8.296875 \nQ 12.9375 14.109375 22.625 23.890625 \nQ 32.328125 33.6875 34.8125 36.53125 \nQ 39.546875 41.84375 41.421875 45.53125 \nQ 43.3125 49.21875 43.3125 52.78125 \nQ 43.3125 58.59375 39.234375 62.25 \nQ 35.15625 65.921875 28.609375 65.921875 \nQ 23.96875 65.921875 18.8125 64.3125 \nQ 13.671875 62.703125 7.8125 59.421875 \nL 7.8125 69.390625 \nQ 13.765625 71.78125 18.9375 73 \nQ 24.125 74.21875 28.421875 74.21875 \nQ 39.75 74.21875 46.484375 68.546875 \nQ 53.21875 62.890625 53.21875 53.421875 \nQ 53.21875 48.921875 51.53125 44.890625 \nQ 49.859375 40.875 45.40625 35.40625 \nQ 44.1875 33.984375 37.640625 27.21875 \nQ 31.109375 20.453125 19.1875 8.296875 \nz\n\" id=\"DejaVuSans-50\"/>\n       </defs>\n       <use xlink:href=\"#DejaVuSans-50\"/>\n       <use x=\"63.623047\" xlink:href=\"#DejaVuSans-46\"/>\n       <use x=\"95.410156\" xlink:href=\"#DejaVuSans-48\"/>\n      </g>\n     </g>\n    </g>\n    <g id=\"xtick_4\">\n     <g id=\"line2d_7\">\n      <path clip-path=\"url(#p31faf39f8f)\" d=\"M 169.004545 224.64 \nL 169.004545 7.2 \n\" style=\"fill:none;stroke:#b0b0b0;stroke-linecap:square;stroke-width:0.8;\"/>\n     </g>\n     <g id=\"line2d_8\">\n      <g>\n       <use style=\"stroke:#000000;stroke-width:0.8;\" x=\"169.004545\" xlink:href=\"#m1959f8ea1a\" y=\"224.64\"/>\n      </g>\n     </g>\n     <g id=\"text_4\">\n      <!-- 2.5 -->\n      <g transform=\"translate(161.052983 239.238437)scale(0.1 -0.1)\">\n       <use xlink:href=\"#DejaVuSans-50\"/>\n       <use x=\"63.623047\" xlink:href=\"#DejaVuSans-46\"/>\n       <use x=\"95.410156\" xlink:href=\"#DejaVuSans-53\"/>\n      </g>\n     </g>\n    </g>\n    <g id=\"xtick_5\">\n     <g id=\"line2d_9\">\n      <path clip-path=\"url(#p31faf39f8f)\" d=\"M 207.05 224.64 \nL 207.05 7.2 \n\" style=\"fill:none;stroke:#b0b0b0;stroke-linecap:square;stroke-width:0.8;\"/>\n     </g>\n     <g id=\"line2d_10\">\n      <g>\n       <use style=\"stroke:#000000;stroke-width:0.8;\" x=\"207.05\" xlink:href=\"#m1959f8ea1a\" y=\"224.64\"/>\n      </g>\n     </g>\n     <g id=\"text_5\">\n      <!-- 3.0 -->\n      <g transform=\"translate(199.098438 239.238437)scale(0.1 -0.1)\">\n       <defs>\n        <path d=\"M 40.578125 39.3125 \nQ 47.65625 37.796875 51.625 33 \nQ 55.609375 28.21875 55.609375 21.1875 \nQ 55.609375 10.40625 48.1875 4.484375 \nQ 40.765625 -1.421875 27.09375 -1.421875 \nQ 22.515625 -1.421875 17.65625 -0.515625 \nQ 12.796875 0.390625 7.625 2.203125 \nL 7.625 11.71875 \nQ 11.71875 9.328125 16.59375 8.109375 \nQ 21.484375 6.890625 26.8125 6.890625 \nQ 36.078125 6.890625 40.9375 10.546875 \nQ 45.796875 14.203125 45.796875 21.1875 \nQ 45.796875 27.640625 41.28125 31.265625 \nQ 36.765625 34.90625 28.71875 34.90625 \nL 20.21875 34.90625 \nL 20.21875 43.015625 \nL 29.109375 43.015625 \nQ 36.375 43.015625 40.234375 45.921875 \nQ 44.09375 48.828125 44.09375 54.296875 \nQ 44.09375 59.90625 40.109375 62.90625 \nQ 36.140625 65.921875 28.71875 65.921875 \nQ 24.65625 65.921875 20.015625 65.03125 \nQ 15.375 64.15625 9.8125 62.3125 \nL 9.8125 71.09375 \nQ 15.4375 72.65625 20.34375 73.4375 \nQ 25.25 74.21875 29.59375 74.21875 \nQ 40.828125 74.21875 47.359375 69.109375 \nQ 53.90625 64.015625 53.90625 55.328125 \nQ 53.90625 49.265625 50.4375 45.09375 \nQ 46.96875 40.921875 40.578125 39.3125 \nz\n\" id=\"DejaVuSans-51\"/>\n       </defs>\n       <use xlink:href=\"#DejaVuSans-51\"/>\n       <use x=\"63.623047\" xlink:href=\"#DejaVuSans-46\"/>\n       <use x=\"95.410156\" xlink:href=\"#DejaVuSans-48\"/>\n      </g>\n     </g>\n    </g>\n    <g id=\"xtick_6\">\n     <g id=\"line2d_11\">\n      <path clip-path=\"url(#p31faf39f8f)\" d=\"M 245.095455 224.64 \nL 245.095455 7.2 \n\" style=\"fill:none;stroke:#b0b0b0;stroke-linecap:square;stroke-width:0.8;\"/>\n     </g>\n     <g id=\"line2d_12\">\n      <g>\n       <use style=\"stroke:#000000;stroke-width:0.8;\" x=\"245.095455\" xlink:href=\"#m1959f8ea1a\" y=\"224.64\"/>\n      </g>\n     </g>\n     <g id=\"text_6\">\n      <!-- 3.5 -->\n      <g transform=\"translate(237.143892 239.238437)scale(0.1 -0.1)\">\n       <use xlink:href=\"#DejaVuSans-51\"/>\n       <use x=\"63.623047\" xlink:href=\"#DejaVuSans-46\"/>\n       <use x=\"95.410156\" xlink:href=\"#DejaVuSans-53\"/>\n      </g>\n     </g>\n    </g>\n    <g id=\"xtick_7\">\n     <g id=\"line2d_13\">\n      <path clip-path=\"url(#p31faf39f8f)\" d=\"M 283.140909 224.64 \nL 283.140909 7.2 \n\" style=\"fill:none;stroke:#b0b0b0;stroke-linecap:square;stroke-width:0.8;\"/>\n     </g>\n     <g id=\"line2d_14\">\n      <g>\n       <use style=\"stroke:#000000;stroke-width:0.8;\" x=\"283.140909\" xlink:href=\"#m1959f8ea1a\" y=\"224.64\"/>\n      </g>\n     </g>\n     <g id=\"text_7\">\n      <!-- 4.0 -->\n      <g transform=\"translate(275.189347 239.238437)scale(0.1 -0.1)\">\n       <defs>\n        <path d=\"M 37.796875 64.3125 \nL 12.890625 25.390625 \nL 37.796875 25.390625 \nz\nM 35.203125 72.90625 \nL 47.609375 72.90625 \nL 47.609375 25.390625 \nL 58.015625 25.390625 \nL 58.015625 17.1875 \nL 47.609375 17.1875 \nL 47.609375 0 \nL 37.796875 0 \nL 37.796875 17.1875 \nL 4.890625 17.1875 \nL 4.890625 26.703125 \nz\n\" id=\"DejaVuSans-52\"/>\n       </defs>\n       <use xlink:href=\"#DejaVuSans-52\"/>\n       <use x=\"63.623047\" xlink:href=\"#DejaVuSans-46\"/>\n       <use x=\"95.410156\" xlink:href=\"#DejaVuSans-48\"/>\n      </g>\n     </g>\n    </g>\n    <g id=\"xtick_8\">\n     <g id=\"line2d_15\">\n      <path clip-path=\"url(#p31faf39f8f)\" d=\"M 321.186364 224.64 \nL 321.186364 7.2 \n\" style=\"fill:none;stroke:#b0b0b0;stroke-linecap:square;stroke-width:0.8;\"/>\n     </g>\n     <g id=\"line2d_16\">\n      <g>\n       <use style=\"stroke:#000000;stroke-width:0.8;\" x=\"321.186364\" xlink:href=\"#m1959f8ea1a\" y=\"224.64\"/>\n      </g>\n     </g>\n     <g id=\"text_8\">\n      <!-- 4.5 -->\n      <g transform=\"translate(313.234801 239.238437)scale(0.1 -0.1)\">\n       <use xlink:href=\"#DejaVuSans-52\"/>\n       <use x=\"63.623047\" xlink:href=\"#DejaVuSans-46\"/>\n       <use x=\"95.410156\" xlink:href=\"#DejaVuSans-53\"/>\n      </g>\n     </g>\n    </g>\n    <g id=\"xtick_9\">\n     <g id=\"line2d_17\">\n      <path clip-path=\"url(#p31faf39f8f)\" d=\"M 359.231818 224.64 \nL 359.231818 7.2 \n\" style=\"fill:none;stroke:#b0b0b0;stroke-linecap:square;stroke-width:0.8;\"/>\n     </g>\n     <g id=\"line2d_18\">\n      <g>\n       <use style=\"stroke:#000000;stroke-width:0.8;\" x=\"359.231818\" xlink:href=\"#m1959f8ea1a\" y=\"224.64\"/>\n      </g>\n     </g>\n     <g id=\"text_9\">\n      <!-- 5.0 -->\n      <g transform=\"translate(351.280256 239.238437)scale(0.1 -0.1)\">\n       <use xlink:href=\"#DejaVuSans-53\"/>\n       <use x=\"63.623047\" xlink:href=\"#DejaVuSans-46\"/>\n       <use x=\"95.410156\" xlink:href=\"#DejaVuSans-48\"/>\n      </g>\n     </g>\n    </g>\n   </g>\n   <g id=\"matplotlib.axis_2\">\n    <g id=\"ytick_1\">\n     <g id=\"line2d_19\">\n      <path clip-path=\"url(#p31faf39f8f)\" d=\"M 39.65 224.64 \nL 374.45 224.64 \n\" style=\"fill:none;stroke:#b0b0b0;stroke-linecap:square;stroke-width:0.8;\"/>\n     </g>\n     <g id=\"line2d_20\">\n      <defs>\n       <path d=\"M 0 0 \nL -3.5 0 \n\" id=\"mdf2719285f\" style=\"stroke:#000000;stroke-width:0.8;\"/>\n      </defs>\n      <g>\n       <use style=\"stroke:#000000;stroke-width:0.8;\" x=\"39.65\" xlink:href=\"#mdf2719285f\" y=\"224.64\"/>\n      </g>\n     </g>\n     <g id=\"text_10\">\n      <!-- 0 -->\n      <g transform=\"translate(26.2875 228.439219)scale(0.1 -0.1)\">\n       <use xlink:href=\"#DejaVuSans-48\"/>\n      </g>\n     </g>\n    </g>\n    <g id=\"ytick_2\">\n     <g id=\"line2d_21\">\n      <path clip-path=\"url(#p31faf39f8f)\" d=\"M 39.65 191.831744 \nL 374.45 191.831744 \n\" style=\"fill:none;stroke:#b0b0b0;stroke-linecap:square;stroke-width:0.8;\"/>\n     </g>\n     <g id=\"line2d_22\">\n      <g>\n       <use style=\"stroke:#000000;stroke-width:0.8;\" x=\"39.65\" xlink:href=\"#mdf2719285f\" y=\"191.831744\"/>\n      </g>\n     </g>\n     <g id=\"text_11\">\n      <!-- 500 -->\n      <g transform=\"translate(13.5625 195.630962)scale(0.1 -0.1)\">\n       <use xlink:href=\"#DejaVuSans-53\"/>\n       <use x=\"63.623047\" xlink:href=\"#DejaVuSans-48\"/>\n       <use x=\"127.246094\" xlink:href=\"#DejaVuSans-48\"/>\n      </g>\n     </g>\n    </g>\n    <g id=\"ytick_3\">\n     <g id=\"line2d_23\">\n      <path clip-path=\"url(#p31faf39f8f)\" d=\"M 39.65 159.023487 \nL 374.45 159.023487 \n\" style=\"fill:none;stroke:#b0b0b0;stroke-linecap:square;stroke-width:0.8;\"/>\n     </g>\n     <g id=\"line2d_24\">\n      <g>\n       <use style=\"stroke:#000000;stroke-width:0.8;\" x=\"39.65\" xlink:href=\"#mdf2719285f\" y=\"159.023487\"/>\n      </g>\n     </g>\n     <g id=\"text_12\">\n      <!-- 1000 -->\n      <g transform=\"translate(7.2 162.822706)scale(0.1 -0.1)\">\n       <use xlink:href=\"#DejaVuSans-49\"/>\n       <use x=\"63.623047\" xlink:href=\"#DejaVuSans-48\"/>\n       <use x=\"127.246094\" xlink:href=\"#DejaVuSans-48\"/>\n       <use x=\"190.869141\" xlink:href=\"#DejaVuSans-48\"/>\n      </g>\n     </g>\n    </g>\n    <g id=\"ytick_4\">\n     <g id=\"line2d_25\">\n      <path clip-path=\"url(#p31faf39f8f)\" d=\"M 39.65 126.215231 \nL 374.45 126.215231 \n\" style=\"fill:none;stroke:#b0b0b0;stroke-linecap:square;stroke-width:0.8;\"/>\n     </g>\n     <g id=\"line2d_26\">\n      <g>\n       <use style=\"stroke:#000000;stroke-width:0.8;\" x=\"39.65\" xlink:href=\"#mdf2719285f\" y=\"126.215231\"/>\n      </g>\n     </g>\n     <g id=\"text_13\">\n      <!-- 1500 -->\n      <g transform=\"translate(7.2 130.01445)scale(0.1 -0.1)\">\n       <use xlink:href=\"#DejaVuSans-49\"/>\n       <use x=\"63.623047\" xlink:href=\"#DejaVuSans-53\"/>\n       <use x=\"127.246094\" xlink:href=\"#DejaVuSans-48\"/>\n       <use x=\"190.869141\" xlink:href=\"#DejaVuSans-48\"/>\n      </g>\n     </g>\n    </g>\n    <g id=\"ytick_5\">\n     <g id=\"line2d_27\">\n      <path clip-path=\"url(#p31faf39f8f)\" d=\"M 39.65 93.406974 \nL 374.45 93.406974 \n\" style=\"fill:none;stroke:#b0b0b0;stroke-linecap:square;stroke-width:0.8;\"/>\n     </g>\n     <g id=\"line2d_28\">\n      <g>\n       <use style=\"stroke:#000000;stroke-width:0.8;\" x=\"39.65\" xlink:href=\"#mdf2719285f\" y=\"93.406974\"/>\n      </g>\n     </g>\n     <g id=\"text_14\">\n      <!-- 2000 -->\n      <g transform=\"translate(7.2 97.206193)scale(0.1 -0.1)\">\n       <use xlink:href=\"#DejaVuSans-50\"/>\n       <use x=\"63.623047\" xlink:href=\"#DejaVuSans-48\"/>\n       <use x=\"127.246094\" xlink:href=\"#DejaVuSans-48\"/>\n       <use x=\"190.869141\" xlink:href=\"#DejaVuSans-48\"/>\n      </g>\n     </g>\n    </g>\n    <g id=\"ytick_6\">\n     <g id=\"line2d_29\">\n      <path clip-path=\"url(#p31faf39f8f)\" d=\"M 39.65 60.598718 \nL 374.45 60.598718 \n\" style=\"fill:none;stroke:#b0b0b0;stroke-linecap:square;stroke-width:0.8;\"/>\n     </g>\n     <g id=\"line2d_30\">\n      <g>\n       <use style=\"stroke:#000000;stroke-width:0.8;\" x=\"39.65\" xlink:href=\"#mdf2719285f\" y=\"60.598718\"/>\n      </g>\n     </g>\n     <g id=\"text_15\">\n      <!-- 2500 -->\n      <g transform=\"translate(7.2 64.397937)scale(0.1 -0.1)\">\n       <use xlink:href=\"#DejaVuSans-50\"/>\n       <use x=\"63.623047\" xlink:href=\"#DejaVuSans-53\"/>\n       <use x=\"127.246094\" xlink:href=\"#DejaVuSans-48\"/>\n       <use x=\"190.869141\" xlink:href=\"#DejaVuSans-48\"/>\n      </g>\n     </g>\n    </g>\n    <g id=\"ytick_7\">\n     <g id=\"line2d_31\">\n      <path clip-path=\"url(#p31faf39f8f)\" d=\"M 39.65 27.790462 \nL 374.45 27.790462 \n\" style=\"fill:none;stroke:#b0b0b0;stroke-linecap:square;stroke-width:0.8;\"/>\n     </g>\n     <g id=\"line2d_32\">\n      <g>\n       <use style=\"stroke:#000000;stroke-width:0.8;\" x=\"39.65\" xlink:href=\"#mdf2719285f\" y=\"27.790462\"/>\n      </g>\n     </g>\n     <g id=\"text_16\">\n      <!-- 3000 -->\n      <g transform=\"translate(7.2 31.58968)scale(0.1 -0.1)\">\n       <use xlink:href=\"#DejaVuSans-51\"/>\n       <use x=\"63.623047\" xlink:href=\"#DejaVuSans-48\"/>\n       <use x=\"127.246094\" xlink:href=\"#DejaVuSans-48\"/>\n       <use x=\"190.869141\" xlink:href=\"#DejaVuSans-48\"/>\n      </g>\n     </g>\n    </g>\n   </g>\n   <g id=\"patch_13\">\n    <path d=\"M 39.65 224.64 \nL 39.65 7.2 \n\" style=\"fill:none;stroke:#000000;stroke-linecap:square;stroke-linejoin:miter;stroke-width:0.8;\"/>\n   </g>\n   <g id=\"patch_14\">\n    <path d=\"M 374.45 224.64 \nL 374.45 7.2 \n\" style=\"fill:none;stroke:#000000;stroke-linecap:square;stroke-linejoin:miter;stroke-width:0.8;\"/>\n   </g>\n   <g id=\"patch_15\">\n    <path d=\"M 39.65 224.64 \nL 374.45 224.64 \n\" style=\"fill:none;stroke:#000000;stroke-linecap:square;stroke-linejoin:miter;stroke-width:0.8;\"/>\n   </g>\n   <g id=\"patch_16\">\n    <path d=\"M 39.65 7.2 \nL 374.45 7.2 \n\" style=\"fill:none;stroke:#000000;stroke-linecap:square;stroke-linejoin:miter;stroke-width:0.8;\"/>\n   </g>\n  </g>\n </g>\n <defs>\n  <clipPath id=\"p31faf39f8f\">\n   <rect height=\"217.44\" width=\"334.8\" x=\"39.65\" y=\"7.2\"/>\n  </clipPath>\n </defs>\n</svg>\n",
      "image/png": "[encoded data removed]"
     },
     "metadata": {
      "needs_background": "light"
     }
    }
   ],
   "source": [
    "filled_data['classe'].hist()"
   ]
  },
  {
   "cell_type": "code",
   "execution_count": 35,
   "metadata": {},
   "outputs": [
    {
     "output_type": "display_data",
     "data": {
      "text/plain": "<Figure size 432x288 with 1 Axes>",
      "image/svg+xml": "<?xml version=\"1.0\" encoding=\"utf-8\" standalone=\"no\"?>\n<!DOCTYPE svg PUBLIC \"-//W3C//DTD SVG 1.1//EN\"\n  \"http://www.w3.org/Graphics/SVG/1.1/DTD/svg11.dtd\">\n<!-- Created with matplotlib (https://matplotlib.org/) -->\n<svg height=\"248.518125pt\" version=\"1.1\" viewBox=\"0 0 375.2875 248.518125\" width=\"375.2875pt\" xmlns=\"http://www.w3.org/2000/svg\" xmlns:xlink=\"http://www.w3.org/1999/xlink\">\n <metadata>\n  <rdf:RDF xmlns:cc=\"http://creativecommons.org/ns#\" xmlns:dc=\"http://purl.org/dc/elements/1.1/\" xmlns:rdf=\"http://www.w3.org/1999/02/22-rdf-syntax-ns#\">\n   <cc:Work>\n    <dc:type rdf:resource=\"http://purl.org/dc/dcmitype/StillImage\"/>\n    <dc:date>2021-05-02T21:23:18.516289</dc:date>\n    <dc:format>image/svg+xml</dc:format>\n    <dc:creator>\n     <cc:Agent>\n      <dc:title>Matplotlib v3.3.2, https://matplotlib.org/</dc:title>\n     </cc:Agent>\n    </dc:creator>\n   </cc:Work>\n  </rdf:RDF>\n </metadata>\n <defs>\n  <style type=\"text/css\">*{stroke-linecap:butt;stroke-linejoin:round;}</style>\n </defs>\n <g id=\"figure_1\">\n  <g id=\"patch_1\">\n   <path d=\"M 0 248.518125 \nL 375.2875 248.518125 \nL 375.2875 0 \nL 0 0 \nz\n\" style=\"fill:none;\"/>\n  </g>\n  <g id=\"axes_1\">\n   <g id=\"patch_2\">\n    <path d=\"M 33.2875 224.64 \nL 368.0875 224.64 \nL 368.0875 7.2 \nL 33.2875 7.2 \nz\n\" style=\"fill:#ffffff;\"/>\n   </g>\n   <g id=\"patch_3\">\n    <path clip-path=\"url(#p6aa1e55ee9)\" d=\"M 48.505682 224.64 \nL 78.942045 224.64 \nL 78.942045 102.310886 \nL 48.505682 102.310886 \nz\n\" style=\"fill:#1f77b4;\"/>\n   </g>\n   <g id=\"patch_4\">\n    <path clip-path=\"url(#p6aa1e55ee9)\" d=\"M 78.942045 224.64 \nL 109.378409 224.64 \nL 109.378409 224.64 \nL 78.942045 224.64 \nz\n\" style=\"fill:#1f77b4;\"/>\n   </g>\n   <g id=\"patch_5\">\n    <path clip-path=\"url(#p6aa1e55ee9)\" d=\"M 109.378409 224.64 \nL 139.814773 224.64 \nL 139.814773 224.64 \nL 109.378409 224.64 \nz\n\" style=\"fill:#1f77b4;\"/>\n   </g>\n   <g id=\"patch_6\">\n    <path clip-path=\"url(#p6aa1e55ee9)\" d=\"M 139.814773 224.64 \nL 170.251136 224.64 \nL 170.251136 17.554286 \nL 139.814773 17.554286 \nz\n\" style=\"fill:#1f77b4;\"/>\n   </g>\n   <g id=\"patch_7\">\n    <path clip-path=\"url(#p6aa1e55ee9)\" d=\"M 170.251136 224.64 \nL 200.6875 224.64 \nL 200.6875 224.64 \nL 170.251136 224.64 \nz\n\" style=\"fill:#1f77b4;\"/>\n   </g>\n   <g id=\"patch_8\">\n    <path clip-path=\"url(#p6aa1e55ee9)\" d=\"M 200.6875 224.64 \nL 231.123864 224.64 \nL 231.123864 224.64 \nL 200.6875 224.64 \nz\n\" style=\"fill:#1f77b4;\"/>\n   </g>\n   <g id=\"patch_9\">\n    <path clip-path=\"url(#p6aa1e55ee9)\" d=\"M 231.123864 224.64 \nL 261.560227 224.64 \nL 261.560227 207.164412 \nL 231.123864 207.164412 \nz\n\" style=\"fill:#1f77b4;\"/>\n   </g>\n   <g id=\"patch_10\">\n    <path clip-path=\"url(#p6aa1e55ee9)\" d=\"M 261.560227 224.64 \nL 291.996591 224.64 \nL 291.996591 224.64 \nL 261.560227 224.64 \nz\n\" style=\"fill:#1f77b4;\"/>\n   </g>\n   <g id=\"patch_11\">\n    <path clip-path=\"url(#p6aa1e55ee9)\" d=\"M 291.996591 224.64 \nL 322.432955 224.64 \nL 322.432955 224.64 \nL 291.996591 224.64 \nz\n\" style=\"fill:#1f77b4;\"/>\n   </g>\n   <g id=\"patch_12\">\n    <path clip-path=\"url(#p6aa1e55ee9)\" d=\"M 322.432955 224.64 \nL 352.869318 224.64 \nL 352.869318 222.892441 \nL 322.432955 222.892441 \nz\n\" style=\"fill:#1f77b4;\"/>\n   </g>\n   <g id=\"matplotlib.axis_1\">\n    <g id=\"xtick_1\">\n     <g id=\"line2d_1\">\n      <path clip-path=\"url(#p6aa1e55ee9)\" d=\"M 48.505682 224.64 \nL 48.505682 7.2 \n\" style=\"fill:none;stroke:#b0b0b0;stroke-linecap:square;stroke-width:0.8;\"/>\n     </g>\n     <g id=\"line2d_2\">\n      <defs>\n       <path d=\"M 0 0 \nL 0 3.5 \n\" id=\"m8314c2a4dc\" style=\"stroke:#000000;stroke-width:0.8;\"/>\n      </defs>\n      <g>\n       <use style=\"stroke:#000000;stroke-width:0.8;\" x=\"48.505682\" xlink:href=\"#m8314c2a4dc\" y=\"224.64\"/>\n      </g>\n     </g>\n     <g id=\"text_1\">\n      <!-- 1.0 -->\n      <g transform=\"translate(40.554119 239.238438)scale(0.1 -0.1)\">\n       <defs>\n        <path d=\"M 12.40625 8.296875 \nL 28.515625 8.296875 \nL 28.515625 63.921875 \nL 10.984375 60.40625 \nL 10.984375 69.390625 \nL 28.421875 72.90625 \nL 38.28125 72.90625 \nL 38.28125 8.296875 \nL 54.390625 8.296875 \nL 54.390625 0 \nL 12.40625 0 \nz\n\" id=\"DejaVuSans-49\"/>\n        <path d=\"M 10.6875 12.40625 \nL 21 12.40625 \nL 21 0 \nL 10.6875 0 \nz\n\" id=\"DejaVuSans-46\"/>\n        <path d=\"M 31.78125 66.40625 \nQ 24.171875 66.40625 20.328125 58.90625 \nQ 16.5 51.421875 16.5 36.375 \nQ 16.5 21.390625 20.328125 13.890625 \nQ 24.171875 6.390625 31.78125 6.390625 \nQ 39.453125 6.390625 43.28125 13.890625 \nQ 47.125 21.390625 47.125 36.375 \nQ 47.125 51.421875 43.28125 58.90625 \nQ 39.453125 66.40625 31.78125 66.40625 \nz\nM 31.78125 74.21875 \nQ 44.046875 74.21875 50.515625 64.515625 \nQ 56.984375 54.828125 56.984375 36.375 \nQ 56.984375 17.96875 50.515625 8.265625 \nQ 44.046875 -1.421875 31.78125 -1.421875 \nQ 19.53125 -1.421875 13.0625 8.265625 \nQ 6.59375 17.96875 6.59375 36.375 \nQ 6.59375 54.828125 13.0625 64.515625 \nQ 19.53125 74.21875 31.78125 74.21875 \nz\n\" id=\"DejaVuSans-48\"/>\n       </defs>\n       <use xlink:href=\"#DejaVuSans-49\"/>\n       <use x=\"63.623047\" xlink:href=\"#DejaVuSans-46\"/>\n       <use x=\"95.410156\" xlink:href=\"#DejaVuSans-48\"/>\n      </g>\n     </g>\n    </g>\n    <g id=\"xtick_2\">\n     <g id=\"line2d_3\">\n      <path clip-path=\"url(#p6aa1e55ee9)\" d=\"M 99.232955 224.64 \nL 99.232955 7.2 \n\" style=\"fill:none;stroke:#b0b0b0;stroke-linecap:square;stroke-width:0.8;\"/>\n     </g>\n     <g id=\"line2d_4\">\n      <g>\n       <use style=\"stroke:#000000;stroke-width:0.8;\" x=\"99.232955\" xlink:href=\"#m8314c2a4dc\" y=\"224.64\"/>\n      </g>\n     </g>\n     <g id=\"text_2\">\n      <!-- 1.5 -->\n      <g transform=\"translate(91.281392 239.238438)scale(0.1 -0.1)\">\n       <defs>\n        <path d=\"M 10.796875 72.90625 \nL 49.515625 72.90625 \nL 49.515625 64.59375 \nL 19.828125 64.59375 \nL 19.828125 46.734375 \nQ 21.96875 47.46875 24.109375 47.828125 \nQ 26.265625 48.1875 28.421875 48.1875 \nQ 40.625 48.1875 47.75 41.5 \nQ 54.890625 34.8125 54.890625 23.390625 \nQ 54.890625 11.625 47.5625 5.09375 \nQ 40.234375 -1.421875 26.90625 -1.421875 \nQ 22.3125 -1.421875 17.546875 -0.640625 \nQ 12.796875 0.140625 7.71875 1.703125 \nL 7.71875 11.625 \nQ 12.109375 9.234375 16.796875 8.0625 \nQ 21.484375 6.890625 26.703125 6.890625 \nQ 35.15625 6.890625 40.078125 11.328125 \nQ 45.015625 15.765625 45.015625 23.390625 \nQ 45.015625 31 40.078125 35.4375 \nQ 35.15625 39.890625 26.703125 39.890625 \nQ 22.75 39.890625 18.8125 39.015625 \nQ 14.890625 38.140625 10.796875 36.28125 \nz\n\" id=\"DejaVuSans-53\"/>\n       </defs>\n       <use xlink:href=\"#DejaVuSans-49\"/>\n       <use x=\"63.623047\" xlink:href=\"#DejaVuSans-46\"/>\n       <use x=\"95.410156\" xlink:href=\"#DejaVuSans-53\"/>\n      </g>\n     </g>\n    </g>\n    <g id=\"xtick_3\">\n     <g id=\"line2d_5\">\n      <path clip-path=\"url(#p6aa1e55ee9)\" d=\"M 149.960227 224.64 \nL 149.960227 7.2 \n\" style=\"fill:none;stroke:#b0b0b0;stroke-linecap:square;stroke-width:0.8;\"/>\n     </g>\n     <g id=\"line2d_6\">\n      <g>\n       <use style=\"stroke:#000000;stroke-width:0.8;\" x=\"149.960227\" xlink:href=\"#m8314c2a4dc\" y=\"224.64\"/>\n      </g>\n     </g>\n     <g id=\"text_3\">\n      <!-- 2.0 -->\n      <g transform=\"translate(142.008665 239.238438)scale(0.1 -0.1)\">\n       <defs>\n        <path d=\"M 19.1875 8.296875 \nL 53.609375 8.296875 \nL 53.609375 0 \nL 7.328125 0 \nL 7.328125 8.296875 \nQ 12.9375 14.109375 22.625 23.890625 \nQ 32.328125 33.6875 34.8125 36.53125 \nQ 39.546875 41.84375 41.421875 45.53125 \nQ 43.3125 49.21875 43.3125 52.78125 \nQ 43.3125 58.59375 39.234375 62.25 \nQ 35.15625 65.921875 28.609375 65.921875 \nQ 23.96875 65.921875 18.8125 64.3125 \nQ 13.671875 62.703125 7.8125 59.421875 \nL 7.8125 69.390625 \nQ 13.765625 71.78125 18.9375 73 \nQ 24.125 74.21875 28.421875 74.21875 \nQ 39.75 74.21875 46.484375 68.546875 \nQ 53.21875 62.890625 53.21875 53.421875 \nQ 53.21875 48.921875 51.53125 44.890625 \nQ 49.859375 40.875 45.40625 35.40625 \nQ 44.1875 33.984375 37.640625 27.21875 \nQ 31.109375 20.453125 19.1875 8.296875 \nz\n\" id=\"DejaVuSans-50\"/>\n       </defs>\n       <use xlink:href=\"#DejaVuSans-50\"/>\n       <use x=\"63.623047\" xlink:href=\"#DejaVuSans-46\"/>\n       <use x=\"95.410156\" xlink:href=\"#DejaVuSans-48\"/>\n      </g>\n     </g>\n    </g>\n    <g id=\"xtick_4\">\n     <g id=\"line2d_7\">\n      <path clip-path=\"url(#p6aa1e55ee9)\" d=\"M 200.6875 224.64 \nL 200.6875 7.2 \n\" style=\"fill:none;stroke:#b0b0b0;stroke-linecap:square;stroke-width:0.8;\"/>\n     </g>\n     <g id=\"line2d_8\">\n      <g>\n       <use style=\"stroke:#000000;stroke-width:0.8;\" x=\"200.6875\" xlink:href=\"#m8314c2a4dc\" y=\"224.64\"/>\n      </g>\n     </g>\n     <g id=\"text_4\">\n      <!-- 2.5 -->\n      <g transform=\"translate(192.735938 239.238438)scale(0.1 -0.1)\">\n       <use xlink:href=\"#DejaVuSans-50\"/>\n       <use x=\"63.623047\" xlink:href=\"#DejaVuSans-46\"/>\n       <use x=\"95.410156\" xlink:href=\"#DejaVuSans-53\"/>\n      </g>\n     </g>\n    </g>\n    <g id=\"xtick_5\">\n     <g id=\"line2d_9\">\n      <path clip-path=\"url(#p6aa1e55ee9)\" d=\"M 251.414773 224.64 \nL 251.414773 7.2 \n\" style=\"fill:none;stroke:#b0b0b0;stroke-linecap:square;stroke-width:0.8;\"/>\n     </g>\n     <g id=\"line2d_10\">\n      <g>\n       <use style=\"stroke:#000000;stroke-width:0.8;\" x=\"251.414773\" xlink:href=\"#m8314c2a4dc\" y=\"224.64\"/>\n      </g>\n     </g>\n     <g id=\"text_5\">\n      <!-- 3.0 -->\n      <g transform=\"translate(243.46321 239.238438)scale(0.1 -0.1)\">\n       <defs>\n        <path d=\"M 40.578125 39.3125 \nQ 47.65625 37.796875 51.625 33 \nQ 55.609375 28.21875 55.609375 21.1875 \nQ 55.609375 10.40625 48.1875 4.484375 \nQ 40.765625 -1.421875 27.09375 -1.421875 \nQ 22.515625 -1.421875 17.65625 -0.515625 \nQ 12.796875 0.390625 7.625 2.203125 \nL 7.625 11.71875 \nQ 11.71875 9.328125 16.59375 8.109375 \nQ 21.484375 6.890625 26.8125 6.890625 \nQ 36.078125 6.890625 40.9375 10.546875 \nQ 45.796875 14.203125 45.796875 21.1875 \nQ 45.796875 27.640625 41.28125 31.265625 \nQ 36.765625 34.90625 28.71875 34.90625 \nL 20.21875 34.90625 \nL 20.21875 43.015625 \nL 29.109375 43.015625 \nQ 36.375 43.015625 40.234375 45.921875 \nQ 44.09375 48.828125 44.09375 54.296875 \nQ 44.09375 59.90625 40.109375 62.90625 \nQ 36.140625 65.921875 28.71875 65.921875 \nQ 24.65625 65.921875 20.015625 65.03125 \nQ 15.375 64.15625 9.8125 62.3125 \nL 9.8125 71.09375 \nQ 15.4375 72.65625 20.34375 73.4375 \nQ 25.25 74.21875 29.59375 74.21875 \nQ 40.828125 74.21875 47.359375 69.109375 \nQ 53.90625 64.015625 53.90625 55.328125 \nQ 53.90625 49.265625 50.4375 45.09375 \nQ 46.96875 40.921875 40.578125 39.3125 \nz\n\" id=\"DejaVuSans-51\"/>\n       </defs>\n       <use xlink:href=\"#DejaVuSans-51\"/>\n       <use x=\"63.623047\" xlink:href=\"#DejaVuSans-46\"/>\n       <use x=\"95.410156\" xlink:href=\"#DejaVuSans-48\"/>\n      </g>\n     </g>\n    </g>\n    <g id=\"xtick_6\">\n     <g id=\"line2d_11\">\n      <path clip-path=\"url(#p6aa1e55ee9)\" d=\"M 302.142045 224.64 \nL 302.142045 7.2 \n\" style=\"fill:none;stroke:#b0b0b0;stroke-linecap:square;stroke-width:0.8;\"/>\n     </g>\n     <g id=\"line2d_12\">\n      <g>\n       <use style=\"stroke:#000000;stroke-width:0.8;\" x=\"302.142045\" xlink:href=\"#m8314c2a4dc\" y=\"224.64\"/>\n      </g>\n     </g>\n     <g id=\"text_6\">\n      <!-- 3.5 -->\n      <g transform=\"translate(294.190483 239.238438)scale(0.1 -0.1)\">\n       <use xlink:href=\"#DejaVuSans-51\"/>\n       <use x=\"63.623047\" xlink:href=\"#DejaVuSans-46\"/>\n       <use x=\"95.410156\" xlink:href=\"#DejaVuSans-53\"/>\n      </g>\n     </g>\n    </g>\n    <g id=\"xtick_7\">\n     <g id=\"line2d_13\">\n      <path clip-path=\"url(#p6aa1e55ee9)\" d=\"M 352.869318 224.64 \nL 352.869318 7.2 \n\" style=\"fill:none;stroke:#b0b0b0;stroke-linecap:square;stroke-width:0.8;\"/>\n     </g>\n     <g id=\"line2d_14\">\n      <g>\n       <use style=\"stroke:#000000;stroke-width:0.8;\" x=\"352.869318\" xlink:href=\"#m8314c2a4dc\" y=\"224.64\"/>\n      </g>\n     </g>\n     <g id=\"text_7\">\n      <!-- 4.0 -->\n      <g transform=\"translate(344.917756 239.238438)scale(0.1 -0.1)\">\n       <defs>\n        <path d=\"M 37.796875 64.3125 \nL 12.890625 25.390625 \nL 37.796875 25.390625 \nz\nM 35.203125 72.90625 \nL 47.609375 72.90625 \nL 47.609375 25.390625 \nL 58.015625 25.390625 \nL 58.015625 17.1875 \nL 47.609375 17.1875 \nL 47.609375 0 \nL 37.796875 0 \nL 37.796875 17.1875 \nL 4.890625 17.1875 \nL 4.890625 26.703125 \nz\n\" id=\"DejaVuSans-52\"/>\n       </defs>\n       <use xlink:href=\"#DejaVuSans-52\"/>\n       <use x=\"63.623047\" xlink:href=\"#DejaVuSans-46\"/>\n       <use x=\"95.410156\" xlink:href=\"#DejaVuSans-48\"/>\n      </g>\n     </g>\n    </g>\n   </g>\n   <g id=\"matplotlib.axis_2\">\n    <g id=\"ytick_1\">\n     <g id=\"line2d_15\">\n      <path clip-path=\"url(#p6aa1e55ee9)\" d=\"M 33.2875 224.64 \nL 368.0875 224.64 \n\" style=\"fill:none;stroke:#b0b0b0;stroke-linecap:square;stroke-width:0.8;\"/>\n     </g>\n     <g id=\"line2d_16\">\n      <defs>\n       <path d=\"M 0 0 \nL -3.5 0 \n\" id=\"m209c6a9745\" style=\"stroke:#000000;stroke-width:0.8;\"/>\n      </defs>\n      <g>\n       <use style=\"stroke:#000000;stroke-width:0.8;\" x=\"33.2875\" xlink:href=\"#m209c6a9745\" y=\"224.64\"/>\n      </g>\n     </g>\n     <g id=\"text_8\">\n      <!-- 0 -->\n      <g transform=\"translate(19.925 228.439219)scale(0.1 -0.1)\">\n       <use xlink:href=\"#DejaVuSans-48\"/>\n      </g>\n     </g>\n    </g>\n    <g id=\"ytick_2\">\n     <g id=\"line2d_17\">\n      <path clip-path=\"url(#p6aa1e55ee9)\" d=\"M 33.2875 180.951031 \nL 368.0875 180.951031 \n\" style=\"fill:none;stroke:#b0b0b0;stroke-linecap:square;stroke-width:0.8;\"/>\n     </g>\n     <g id=\"line2d_18\">\n      <g>\n       <use style=\"stroke:#000000;stroke-width:0.8;\" x=\"33.2875\" xlink:href=\"#m209c6a9745\" y=\"180.951031\"/>\n      </g>\n     </g>\n     <g id=\"text_9\">\n      <!-- 50 -->\n      <g transform=\"translate(13.5625 184.750249)scale(0.1 -0.1)\">\n       <use xlink:href=\"#DejaVuSans-53\"/>\n       <use x=\"63.623047\" xlink:href=\"#DejaVuSans-48\"/>\n      </g>\n     </g>\n    </g>\n    <g id=\"ytick_3\">\n     <g id=\"line2d_19\">\n      <path clip-path=\"url(#p6aa1e55ee9)\" d=\"M 33.2875 137.262061 \nL 368.0875 137.262061 \n\" style=\"fill:none;stroke:#b0b0b0;stroke-linecap:square;stroke-width:0.8;\"/>\n     </g>\n     <g id=\"line2d_20\">\n      <g>\n       <use style=\"stroke:#000000;stroke-width:0.8;\" x=\"33.2875\" xlink:href=\"#m209c6a9745\" y=\"137.262061\"/>\n      </g>\n     </g>\n     <g id=\"text_10\">\n      <!-- 100 -->\n      <g transform=\"translate(7.2 141.06128)scale(0.1 -0.1)\">\n       <use xlink:href=\"#DejaVuSans-49\"/>\n       <use x=\"63.623047\" xlink:href=\"#DejaVuSans-48\"/>\n       <use x=\"127.246094\" xlink:href=\"#DejaVuSans-48\"/>\n      </g>\n     </g>\n    </g>\n    <g id=\"ytick_4\">\n     <g id=\"line2d_21\">\n      <path clip-path=\"url(#p6aa1e55ee9)\" d=\"M 33.2875 93.573092 \nL 368.0875 93.573092 \n\" style=\"fill:none;stroke:#b0b0b0;stroke-linecap:square;stroke-width:0.8;\"/>\n     </g>\n     <g id=\"line2d_22\">\n      <g>\n       <use style=\"stroke:#000000;stroke-width:0.8;\" x=\"33.2875\" xlink:href=\"#m209c6a9745\" y=\"93.573092\"/>\n      </g>\n     </g>\n     <g id=\"text_11\">\n      <!-- 150 -->\n      <g transform=\"translate(7.2 97.372311)scale(0.1 -0.1)\">\n       <use xlink:href=\"#DejaVuSans-49\"/>\n       <use x=\"63.623047\" xlink:href=\"#DejaVuSans-53\"/>\n       <use x=\"127.246094\" xlink:href=\"#DejaVuSans-48\"/>\n      </g>\n     </g>\n    </g>\n    <g id=\"ytick_5\">\n     <g id=\"line2d_23\">\n      <path clip-path=\"url(#p6aa1e55ee9)\" d=\"M 33.2875 49.884123 \nL 368.0875 49.884123 \n\" style=\"fill:none;stroke:#b0b0b0;stroke-linecap:square;stroke-width:0.8;\"/>\n     </g>\n     <g id=\"line2d_24\">\n      <g>\n       <use style=\"stroke:#000000;stroke-width:0.8;\" x=\"33.2875\" xlink:href=\"#m209c6a9745\" y=\"49.884123\"/>\n      </g>\n     </g>\n     <g id=\"text_12\">\n      <!-- 200 -->\n      <g transform=\"translate(7.2 53.683342)scale(0.1 -0.1)\">\n       <use xlink:href=\"#DejaVuSans-50\"/>\n       <use x=\"63.623047\" xlink:href=\"#DejaVuSans-48\"/>\n       <use x=\"127.246094\" xlink:href=\"#DejaVuSans-48\"/>\n      </g>\n     </g>\n    </g>\n   </g>\n   <g id=\"patch_13\">\n    <path d=\"M 33.2875 224.64 \nL 33.2875 7.2 \n\" style=\"fill:none;stroke:#000000;stroke-linecap:square;stroke-linejoin:miter;stroke-width:0.8;\"/>\n   </g>\n   <g id=\"patch_14\">\n    <path d=\"M 368.0875 224.64 \nL 368.0875 7.2 \n\" style=\"fill:none;stroke:#000000;stroke-linecap:square;stroke-linejoin:miter;stroke-width:0.8;\"/>\n   </g>\n   <g id=\"patch_15\">\n    <path d=\"M 33.2875 224.64 \nL 368.0875 224.64 \n\" style=\"fill:none;stroke:#000000;stroke-linecap:square;stroke-linejoin:miter;stroke-width:0.8;\"/>\n   </g>\n   <g id=\"patch_16\">\n    <path d=\"M 33.2875 7.2 \nL 368.0875 7.2 \n\" style=\"fill:none;stroke:#000000;stroke-linecap:square;stroke-linejoin:miter;stroke-width:0.8;\"/>\n   </g>\n  </g>\n </g>\n <defs>\n  <clipPath id=\"p6aa1e55ee9\">\n   <rect height=\"217.44\" width=\"334.8\" x=\"33.2875\" y=\"7.2\"/>\n  </clipPath>\n </defs>\n</svg>\n",
      "image/png": "[encoded data removed]"
     },
     "metadata": {
      "needs_background": "light"
     }
    }
   ],
   "source": [
    "\n",
    "a = filled_data.loc[filled_data['UF'] == 'PARANÁ', 'classe'].hist()\n"
   ]
  },
  {
   "cell_type": "code",
   "execution_count": null,
   "metadata": {},
   "outputs": [],
   "source": []
  },
  {
   "cell_type": "code",
   "execution_count": null,
   "metadata": {},
   "outputs": [],
   "source": []
  }
 ],
 "metadata": {
  "colab": {
   "name": "TACTD 02 - Avaliacao.ipynb",
   "provenance": []
  },
  "kernelspec": {
   "name": "python385jvsc74a57bd054bfc7d4636b6a9e21c7fe418d72849dff5d8e5f01d1aec84a4210a34166d17b",
   "display_name": "Python 3.8.5 64-bit ('base': conda)"
  },
  "language_info": {
   "codemirror_mode": {
    "name": "ipython",
    "version": 3
   },
   "file_extension": ".py",
   "mimetype": "text/x-python",
   "name": "python",
   "nbconvert_exporter": "python",
   "pygments_lexer": "ipython3",
   "version": "3.8.5"
  }
 },
 "nbformat": 4,
 "nbformat_minor": 4
}