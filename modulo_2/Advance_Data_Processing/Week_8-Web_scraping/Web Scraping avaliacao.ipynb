{
 "cells": [
  {
   "cell_type": "markdown",
   "metadata": {},
   "source": [
    "# <font color=\"blue\"> MBA em Ciência de Dados</font>\n",
    "# <font color=\"blue\">Técnicas Avançadas para Captura e Tratamento de Dados</font>\n",
    "\n",
    "## <font color=\"blue\"> Web Scraping </font>\n",
    "\n",
    "## <font color=\"blue\">Avaliação </font> \n",
    "\n",
    "**Material Produzido por Luis Gustavo Nonato**<br>\n",
    "**Cemeai - ICMC/USP São Carlos**\n",
    "\n",
    "---"
   ]
  },
  {
   "cell_type": "code",
   "execution_count": 2,
   "metadata": {},
   "outputs": [],
   "source": [
    "import requests as rq\n",
    "from bs4 import BeautifulSoup"
   ]
  },
  {
   "cell_type": "markdown",
   "metadata": {},
   "source": [
    "Considere a página de cultura e extensão do ICMC: \n",
    "\n",
    "[https://www.icmc.usp.br/cultura-e-extensao](https://www.icmc.usp.br/cultura-e-extensao)"
   ]
  },
  {
   "cell_type": "markdown",
   "metadata": {},
   "source": [
    "### Exercício 1)\n",
    "Faça uma requisição à página de Cultura e Extensão a fim de verificar o tipo de conteúdo. O conteúdo é do tipo:\n",
    "\n",
    "a) Tipo de Conteúdo: text/json<br>\n",
    "b) Tipo de Conteúdo: text/plain<br>\n",
    "c) Tipo de Conteúdo: text/html<br>\n",
    "d) Tipo de Conteúdo: text/plain"
   ]
  },
  {
   "cell_type": "code",
   "execution_count": 3,
   "metadata": {},
   "outputs": [
    {
     "output_type": "stream",
     "name": "stdout",
     "text": [
      "200\ntext/html; charset=utf-8\n"
     ]
    }
   ],
   "source": [
    "r = rq.get('https://www.icmc.usp.br/cultura-e-extensao')\n",
    "print(r.status_code) \n",
    "print(r.headers['Content-Type']) "
   ]
  },
  {
   "cell_type": "markdown",
   "metadata": {},
   "source": [
    "### Exercício 2)\n",
    "Faça uma requisição à página de Cultura e Extensão de modo a obter uma lista de todas as atividades descritas na página (são nove atividades) e o link para a página de cada uma das atividades. Armazene o resultado em um dicionário onde a chave é o título da atividade e o valor o link para a página correspondente.\n",
    "\n",
    "Quantos caracteres possui o link mais longo armazenado no dicionário?\n",
    "\n",
    "a) 40<br>\n",
    "b) 42<br>\n",
    "c) 45<br>\n",
    "d) 49\n",
    "\n",
    "**Dica**: As atividades estão marcadas no HTML por: \n",
    "```html\n",
    "div class=\"col-xs-12 col-sm-4 col-lg-3 quadro\"\n",
    "```"
   ]
  },
  {
   "cell_type": "code",
   "execution_count": 4,
   "metadata": {},
   "outputs": [
    {
     "output_type": "stream",
     "name": "stdout",
     "text": [
      "49\n{'Cursos de extensão': '/cultura-e-extensao/cursos-de-extensao', 'Eventos de extensão': '/eventos', 'Exposições': '/cultura-e-extensao/exposicoes', 'Grupos de extensão': '/cultura-e-extensao/grupos-de-extensao', 'Museu da computação': '/cultura-e-extensao/museu', 'Museu da fauna e flora': '/cultura-e-extensao/museu-da-fauna-e-flora', 'Projetos e programas': '/cultura-e-extensao/projetos-e-programas', 'Transferência de conhecimento': '/cultura-e-extensao/transferencia-de-conhecimento', 'Coral': '/cultura-e-extensao/coral'}\n"
     ]
    }
   ],
   "source": [
    "portal_soup = BeautifulSoup(r.text, 'html.parser')\n",
    "atividades = portal_soup.find_all('div',{'class':'col-xs-12 col-sm-4 col-lg-3 quadro'})\n",
    "atividades_ref = {}\n",
    "max_char_len = 0\n",
    "for atividade in atividades:\n",
    "    url = atividade.find('a').get('href')\n",
    "    name = atividade.find('img').get('alt')\n",
    "    atividades_ref[name] = url\n",
    "    if (len(url) > max_char_len):\n",
    "        max_char_len = len(url)\n",
    "print (max_char_len)\n",
    "print(atividades_ref)"
   ]
  },
  {
   "cell_type": "markdown",
   "metadata": {},
   "source": [
    "### Exercício 3)\n",
    "Na página principal das ativadades de Cultura e Extensão, cada atividade é ilustrada por uma imagem. Recupere o nome dos arquivos onde as imagens estão armazenadas. Quantas das imagens estão no formato .jpg?\n",
    "\n",
    "a) 6<br>\n",
    "b) 8<br>\n",
    "c) 9<br>\n",
    "d) 1\n",
    "\n",
    "**Dica**: As imagens também estão marcadas no HTML por: \n",
    "```html\n",
    "div class=\"col-xs-12 col-sm-4 col-lg-3 quadro\"\n",
    "```"
   ]
  },
  {
   "cell_type": "code",
   "execution_count": 8,
   "metadata": {},
   "outputs": [
    {
     "output_type": "stream",
     "name": "stdout",
     "text": [
      "https://web.icmc.usp.br/SCAPINST/portal/coral2019.png\n['/images/cultura-e-extensao/1-cursos-de-extensao.jpg', '/images/cultura-e-extensao/2-eventos.jpg', '/images/cultura-e-extensao/3-exposicoes.jpg', '/images/cultura-e-extensao/4-grupos-de-extensao.jpg', '/images/cultura-e-extensao/5-museu.jpg', '/images/cultura-e-extensao/6-museu-fauna-e-flora.jpg', '/images/cultura-e-extensao/7-projetos-e-programas.jpg', '/images/cultura-e-extensao/8-transferencia-de-conhecimento.jpg', 'https://web.icmc.usp.br/SCAPINST/portal/coral2019.png']\n8\n"
     ]
    }
   ],
   "source": [
    "img_paths = []\n",
    "jpg_counter = 0\n",
    "for atividade in atividades:\n",
    "    name = atividade.find('img').get('src')\n",
    "    img_paths.append(name)\n",
    "    if 'jpg' in name:\n",
    "        jpg_counter += 1\n",
    "    else:\n",
    "        print(name)\n",
    "print(img_paths)\n",
    "print(jpg_counter)"
   ]
  },
  {
   "cell_type": "markdown",
   "metadata": {},
   "source": [
    "### Exercício 4) \n",
    "Dentre as páginas das atividades de cultura e extensão, qual a que possui o maior número de links para outras páginas? Você deve **desconsiderar** links da forma '#' e '/'.\n",
    "\n",
    "a) Página do Museu da computação<br>\n",
    "b) Página dos Grupos de extensão<br>\n",
    "c) Página de Eventos<br>\n",
    "d) Página de Projetos e programas\n",
    "\n",
    "**Dica**: Faça uma requisição para cada uma das páginas cujos links foram armazenados no exercício; 2) concatene a URL \"https://www.icmc.usp.br/\" com esses links; e 3) encontre todos os marcadores 'a' nestas páginas. Para cada marcador 'a', obtenha o conteúdo dos 'href', verificando se tal conteúdo é diferente de '/' e '#'."
   ]
  },
  {
   "cell_type": "code",
   "execution_count": 17,
   "metadata": {
    "tags": []
   },
   "outputs": [
    {
     "output_type": "stream",
     "name": "stdout",
     "text": [
      "------------------------------\n",
      "Event page: Cursos de extensão\n",
      "Return code = 200\n",
      "------------------------------\n",
      "Event page: Eventos de extensão\n",
      "Return code = 200\n",
      "------------------------------\n",
      "Event page: Exposições\n",
      "Return code = 200\n",
      "------------------------------\n",
      "Event page: Grupos de extensão\n",
      "Return code = 200\n",
      "------------------------------\n",
      "Event page: Museu da computação\n",
      "Return code = 200\n",
      "------------------------------\n",
      "Event page: Museu da fauna e flora\n",
      "Return code = 200\n",
      "------------------------------\n",
      "Event page: Projetos e programas\n",
      "Return code = 200\n",
      "------------------------------\n",
      "Event page: Transferência de conhecimento\n",
      "Return code = 200\n",
      "------------------------------\n",
      "Event page: Coral\n",
      "Return code = 200\n",
      "Grupos de extensão\n",
      "102\n",
      "['/graduacao', '/pos-graduacao', '/pesquisa', '/cultura-e-extensao', '/institucional', '/institucional/quem-somos', '/institucional/relacoes-internacionais', '/institucional/estrutura-administrativa', '/institucional/icmcin', '/institucional/programa-socioambiental', '/institucional/portal-da-transparencia', '/institucional/ouvidoriaicmc', '/institucional/progressao-carreira-docente-2020', '/pessoas', '/pessoas/docentes', '/pessoas/alunos', '/pessoas/alunospos', '/pessoas/aposentados', '/pessoas/egressos', '/pessoas/funcionarios', '/pessoas/posdoutorandos', '/pessoas/senior', '/parcerias', '/contato', '/contato/graduacao', '/contato/pos-graduacao', '/contato/ouvidoria', '/contato/outros', '/contato/webmaster', '/busca', '/erro', '/trabalhe-conosco', '/teste', '/politica-de-privacidade', '/licitacoes', '/institucional/estrutura-administrativa/secao-de-apoio-institucional/solicitacao-de-divulgacao', '/tags', 'javascript:;', 'https://www.icmc.usp.br/cultura-e-extensao/grupos-de-extensao', '/es/', '/en/', '/cultura-e-extensao', '/cultura-e-extensao/cursos-de-extensao', '/eventos', '/cultura-e-extensao/exposicoes', '/cultura-e-extensao/grupos-de-extensao', '/cultura-e-extensao/museu', '/cultura-e-extensao/museu-da-fauna-e-flora', '/cultura-e-extensao/projetos-e-programas', '/cultura-e-extensao/transferencia-de-conhecimento', '/cultura-e-extensao/coral', '/cultura-e-extensao/informacoes-gerais-e-servicos', 'http://prceu.usp.br/', 'http://leginf.icmc.usp.br/portarias/1924-portaria-icmc-n-091-2019', 'https://forms.gle/aUtyLfR8YyDqXBay7', '#ADA', 'https://www.facebook.com/ADAProjetosEC', '#AFG', 'https://www.facebook.com/ADAProjetosEC', '#AGASALHO', 'https://www.facebook.com/campanhadoagasalhouspsc/', '#DATA', 'https://www.facebook.com/dataICMC/', '#efestus', 'https://www.facebook.com/efestus.usp/', '#ganesh', 'https://ganesh.icmc.usp.br/', '#grace', 'https://www.facebook.com/grace.icmc.usp/', '#gema', 'https://www.facebook.com/groups/gemaicmc/', '#jr', 'https://icmcjunior.com.br/', '#empreende', 'https://www.facebook.com/ligadeempreendedorismosc/', '#natal', 'https://www.facebook.com/operacaonatalsc/', '#principia', 'https://www.facebook.com/RobosNaEscola/', '#pet', 'https://pet.icmc.usp.br/', '#social', 'https://www.facebook.com/sancasocial/', '#siam', 'https://www.facebook.com/schicmcsaocarlos/', '#fog', 'http://www.fog.icmc.usp.br/', '#codelab', 'https://www.facebook.com/uspcodelabsanca/', '#warthog', 'https://www.facebook.com/WarthogRobotics', '#wit', 'https://www.facebook.com/womenintechwit/', 'https://web.icmc.usp.br/SVAPADM/telefones.pdf', 'http://email.usp.br', '/politica-de-privacidade', 'http://sistemas.icmc.usp.br', '/institucional/estrutura-administrativa/assistencia-tecnica-academica/concursos-e-processos-seletivos', '/institucional/estrutura-administrativa/secao-de-apoio-institucional', 'http://divulga.icmc.usp.br', 'http://icmc.usp.br/sti', '/politica-de-privacidade']\n"
     ]
    }
   ],
   "source": [
    "atividade_com_mais_links = ''\n",
    "max_links = 0\n",
    "link_dict = {}\n",
    "base_url = 'https://www.icmc.usp.br'\n",
    "for name, url in atividades_ref.items():\n",
    "    full_url = base_url + url\n",
    "    r = rq.get(full_url)\n",
    "    print(10 * '---')\n",
    "    print(f'Event page: {name}')\n",
    "    print(f'Return code = {r.status_code}')\n",
    "    if (r.status_code != 200):\n",
    "        continue\n",
    "    event_page_soup = BeautifulSoup(r.text, 'html.parser')\n",
    "    links = event_page_soup.find_all('a')\n",
    "    for link in links:\n",
    "        full_link = link.get('href')\n",
    "        #if (full_link.startswith('/') or full_link.startswith('#')):\n",
    "        if (full_link in ['#', '/']):\n",
    "            continue\n",
    "        if (not name in link_dict):\n",
    "            link_dict[name] = []\n",
    "        link_dict[name].append(full_link)\n",
    "    if (len(link_dict[name]) > max_links):\n",
    "        atividade_com_mais_links = name\n",
    "        max_links = len(link_dict[name])\n",
    "print(atividade_com_mais_links)\n",
    "print(max_links)\n",
    "print(link_dict['Grupos de extensão'])\n",
    "    "
   ]
  },
  {
   "cell_type": "markdown",
   "metadata": {},
   "source": [
    "### Exercício 5)\n",
    "Dentre as atividades de cultura e extensão, existem as _Exposições_, as quais estão descritas na página [https://www.icmc.usp.br/cultura-e-extensao/exposicoes](https://www.icmc.usp.br/cultura-e-extensao/exposicoes). Construa uma lista com os links de todas as exposições listadas na página. Quantos caracteres possui o **menor** link da lista?\n",
    "\n",
    "a) 63<br>\n",
    "b) 82<br>\n",
    "c) 97<br>\n",
    "d) 100\n",
    "\n",
    "**Dica**: Busque por todos os 'href' dentro do marcador \n",
    "```html\n",
    "<div  class=\"cck-line-body\">\n",
    "```"
   ]
  },
  {
   "cell_type": "code",
   "execution_count": null,
   "metadata": {},
   "outputs": [],
   "source": [
    "r = rq.get('https://www.icmc.usp.br/cultura-e-extensao/exposicoes')\n",
    "print(10 * '---')\n",
    "print(f'Return code = {r.status_code}')\n",
    "print(10 * '---')\n",
    "event_page_soup = BeautifulSoup(r.text, 'html.parser')\n",
    "expos = event_page_soup.find('div', {'class' : 'cck-line-body'})\n",
    "links = expos.find_all('a')\n",
    "min_char = 1000\n",
    "for link in links:\n",
    "    full_link = link.get('href')\n",
    "    if (min_char < len(full_link)):\n",
    "        min_char = len(full_link)\n",
    "print(min_char)"
   ]
  }
 ],
 "metadata": {
  "kernelspec": {
   "name": "python3810jvsc74a57bd054bfc7d4636b6a9e21c7fe418d72849dff5d8e5f01d1aec84a4210a34166d17b",
   "display_name": "Python 3.8.10 64-bit ('base': conda)"
  },
  "language_info": {
   "codemirror_mode": {
    "name": "ipython",
    "version": 3
   },
   "file_extension": ".py",
   "mimetype": "text/x-python",
   "name": "python",
   "nbconvert_exporter": "python",
   "pygments_lexer": "ipython3",
   "version": "3.8.10"
  }
 },
 "nbformat": 4,
 "nbformat_minor": 2
}