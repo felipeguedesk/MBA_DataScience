{
 "cells": [
  {
   "cell_type": "markdown",
   "metadata": {},
   "source": [
    "# <span style=\"color:blue\"> MBA em Ciência de Dados</span>\n",
    "# <span style=\"color:blue\">Técnicas Avançadas para Captura e Tratamento de Dados</span>\n",
    "\n",
    "## <span style=\"color:blue\">Identificação e Extração de Texto</span>\n",
    "    \n",
    "## <span style=\"color:blue\">Avaliação</span>\n",
    "\n",
    "**Material Produzido por Luis Gustavo Nonato**<br>\n",
    "**Cemeai - ICMC/USP São Carlos**\n",
    "---"
   ]
  },
  {
   "cell_type": "markdown",
   "metadata": {},
   "source": [
    "Os exercícios a seguir farão uso do aquivo <font style=\"font-family: monaco\"> nfe-avaliacao.pdf</font>, disponíveis para download no Moodle."
   ]
  },
  {
   "cell_type": "markdown",
   "metadata": {},
   "source": [
    "### Exercício 1)\n",
    "Considere a nota fiscal eletrônica representada no arquivo <font style=\"font-family: monaco\"> nfe-avaliacao.pdf</font>. Converta o arquivo PDF em uma imagem no formato PNG. Utilize o pacote <font color='blue'>PIL</font> para carregar a imagem gerada. Qual a resolução da imagem gerada?\n",
    "\n",
    "a) 1653 X 2339 <br>\n",
    "b) 1024 X 640 <br>\n",
    "c) 640 X 2339<br>\n",
    "d) 1001 X 2020\n",
    "\n",
    "\n",
    "**Dica**: Utilize o atribute `size` do objeto PIL para obter as dimensões da imagem e empregue os parâmetros default do método <font color='blue'>convert_from_path</font> para gerar a imagem.\n"
   ]
  },
  {
   "cell_type": "code",
   "execution_count": 3,
   "metadata": {
    "scrolled": true
   },
   "outputs": [
    {
     "output_type": "stream",
     "name": "stdout",
     "text": [
      "(1653, 2339)\n"
     ]
    }
   ],
   "source": [
    "from pdf2image import convert_from_path \n",
    "from PIL import Image\n",
    "\n",
    "filename = \"nfe-avaliacao.pdf\"\n",
    "nfe_imagem = convert_from_path(filename)\n",
    "\n",
    "for i, pagina in enumerate(nfe_imagem):\n",
    "    pagina.save('nfe-avaliacao.png', 'PNG') \n",
    "\n",
    "im = Image.open('nfe-avaliacao.png')\n",
    "print(im.size)"
   ]
  },
  {
   "cell_type": "markdown",
   "metadata": {},
   "source": [
    "### Exercício 2)\n",
    "Aplique OCR para extrair o texto contido na imagem gerada no exercício 1). Quantas linhas o texto resultante possui?\n",
    "\n",
    "a) Menos de 100 linhas<br>\n",
    "b) Entre 101 e 150 linhas<br>\n",
    "c) Entre 151 e 200 linhas<br>\n",
    "d) Mais de 201 linhas<br>\n",
    "\n",
    "**Dica**: Para contar as linhas, procure pelo número de ocorrências do símbolo '\\n' no texto extraído."
   ]
  },
  {
   "cell_type": "code",
   "execution_count": 5,
   "metadata": {},
   "outputs": [
    {
     "output_type": "stream",
     "name": "stdout",
     "text": [
      "<class 'str'>\n240\n"
     ]
    }
   ],
   "source": [
    "import pytesseract as ocr\n",
    "\n",
    "text_nfe = ocr.image_to_string(Image.open('nfe-avaliacao.png'), lang='por')\n",
    "print(type(text_nfe))\n",
    "count = 0\n",
    "for char in text_nfe:\n",
    "    if (char == '\\n'):\n",
    "        count += 1\n",
    "print(count)"
   ]
  },
  {
   "cell_type": "code",
   "execution_count": 6,
   "metadata": {},
   "outputs": [
    {
     "output_type": "stream",
     "name": "stdout",
     "text": [
      " \n\n \n\nDATA DE RECEBIMENTO\n\n \n\nIDENTIFICAÇÃO E ASSINATURA DO RECEBEDOR\n\n \n\n \n\n \n\n \n\n \n\n \n\nIDENTIFICAÇÃO DO EMITENTE\n\n \n\nDOCUMENTO AUXILIAR\nDA NOTA FISCAL\n\n \n\n \n\n \n\n \n\n \n\n \n\n173550010000012101043403614\n\n \n\nELETRÔNICA\nCHAVE DE ACESSO\n0 - ENTRADA 1\n1 - SAÍDA\nNº\nSérie 1\nFolha 1/1 Autorizadora.\n\nConsulta de autenticidade no portal nacional da NF-e\nwww.nfe.fazenda.gov.br/portal ou no site da Sefaz\n\n \n\nNATUREZA DE OPERAÇÃO\ns\n\nREMESSA DE FATURAMENTO ANTECIPADO\n\n \n\nPROTOCOLO DE AUTORIZAÇÃO DE USO\n\n2019 15:04:31\n\n \n\n \n\n \n\n \n\n \n\nINSCRIÇÃO ESTADUAL INSCRIÇÃO ESTADUAL DO SUBST. TRIBUT. CNPJ\nDESTINATÁRIO / REMETENTE\nNOME / RAZÃO SOCIAL CNPJ / CPF PATA DE EMISSÃO\n\n \n\n \n\n \n\n \n\n26/11/2019\nENDEREÇO BAIRRO / DISTRITO EP DATA DA ENTRADA/SAÍDA\nLOTE 227 PARQUE TECNOLOGICO 17500-200 28/11/2019\nMUNICÍPIO FONE / FAX ur [INSCRIÇÃO ESTADUAL HORA DA SAÍDA\nSAO CARLOS SP 08:00\n\n \n\n \n\n \n\n \n\nFATURA / DUPLICATA\n\n \n\nCÁLCULO DO IMPOSTO\n\n \n\n \n\n \n\n \n\n \n\n \n\n \n\n \n\n \n\n \n\n \n\n \n\n \n\n \n\n \n\n \n\n \n\n \n\n \n\n \n\n \n\n \n\n \n\n \n\n \n\n \n\n \n\n \n\n \n\n \n\n \n\n \n\n \n\n \n\n \n\n \n\n \n\n \n\n \n\n \n\n \n\n \n\n \n\n \n\n \n\n \n\n \n\n \n\n \n\n \n\n \n\n \n\nBASE DE CALCULO DO ICMS 'ALOR DO ICMS BASE DE CALCULO DO ICMS S.T. VALOR DO ICMS SUBSTITUIÇÃO 'ALOR TOTAL DOS PRODUTOS\n0,00 0,00 0,00 0,00 5687,62\nVALOR DO FRETE 'ALOR DO SEGURO [DESCONTO UTRAS DESP. ACESSÓRIAS [VALOR TOTAL DO IPI [2ALOR APROXIMADO DOS TRIBUTOS 'ALOR TOTAL DA NOTA\n250,00 0,00 337,62 0,00 0,00 1425,19 5600,00\nTRANSPORTADOR / VOLUMES TRANSPORTADOS\nNOME / RAZÃO SOCIAL FRETE POR CONTA [CÓDIGO ANTT PLACA DO VEÍCULO F NPJ / CPF\nD-EMET. 2=TERC.\n[i-DEST. 9-S/FRETE 1\nENDEREÇO UNICÍPIO F [INSCRIÇÃO ESTADUAL\nQUANTIDADE ESPÉCIE [MARCA JUMERAÇÃO [PESO BRUTO PESO LÍQUIDO\n56, JOLUMES 1358,617 1345,008\nDADOS DOS PRODUTOS / SERVIÇOS\ncóp. rropuro DESCRIÇÃO DOS PRODUTOS / SeRvIÇOS nem/sa | EST cror| UN | QUANT. | VALOR UNIT. | VALOR TOTAL |D. CÁLC. TONS |gALOR TCHS| VALOR IPI | ALHO. | ALTO.\n81143 [690721000500 [5117 N2 | 8,58 67,90 582,58 0,00 0,00 0,00 0 [0,00\n84867 [69072100 0500 [5117 N2 | 16,66 134,90 2247,43 0,00 0,00 0,00 0 [0,00\n88737 [69072300] 0500 [5117 N2 | 51,12 55,90 2857,61 0,00 0,00 0,00 0 [0,00\nCÁLCULO DO ISSQN\nINSCRIÇÃO MUNICIPAL 'ALOR TOTAL DOS SERVIÇOS BASE DE CALCULO DO ISSQN 'ALOR DO ISSON\n0,00 0,00 0,00\nDADOS ADICIONAIS\nINFORMAÇÕES COMPLEMENTARES RESERVADO AO FISCO\n\n \n\n \n\f\n"
     ]
    }
   ],
   "source": [
    "print(text_nfe)"
   ]
  },
  {
   "cell_type": "markdown",
   "metadata": {},
   "source": [
    "### Exercício 3)\n",
    "Escreva uma expressão regular para encontrar todos os valores financeiros descritos na nota. Ou seja, todos as ocorrências de uma sequência de dígitos que precedem uma vírgula, a qual é seguida de exatamente outros dois dígitos (por exemplo: 7545,43). Quantas ocorrências de valores financeiros existem na NEF?\n",
    "\n",
    "\n",
    "a) Menos de 20 <br>\n",
    "b) Entre 21 e 29<br>\n",
    "c) Entre 30 e 40<br>\n",
    "d) Mais de 41"
   ]
  },
  {
   "cell_type": "code",
   "execution_count": 10,
   "metadata": {},
   "outputs": [
    {
     "output_type": "stream",
     "name": "stdout",
     "text": [
      "['0,00', '0,00', '0,00', '0,00', '5687,62', '250,00', '0,00', '337,62', '0,00', '0,00', '1425,19', '5600,00', '1358,61', '1345,00', '8,58', '67,90', '582,58', '0,00', '0,00', '0,00', '0,00', '16,66', '134,90', '2247,43', '0,00', '0,00', '0,00', '0,00', '51,12', '55,90', '2857,61', '0,00', '0,00', '0,00', '0,00', '0,00', '0,00', '0,00']\n38\n"
     ]
    }
   ],
   "source": [
    "import re\n",
    "\n",
    "expreg = '[\\d\\.]+,\\d{2}'\n",
    "\n",
    "valores = re.findall(expreg,text_nfe)\n",
    "print(valores)\n",
    "print(len(valores))"
   ]
  },
  {
   "cell_type": "markdown",
   "metadata": {},
   "source": [
    "### Exercício 4)\n",
    "Dos valores financeiros obtidos no exercício anterior, os de valor maior que R$ 100,00 somam:\n",
    "\n",
    "a) Menos de 10000,00<br>\n",
    "b) Entre 10000,01 e 20000,00<br>\n",
    "c) Entre 20000,01 e 30000,00<br>\n",
    "d) Mais de 30000,01\n",
    "\n",
    "**Dica**: Converta as strings para float."
   ]
  },
  {
   "cell_type": "code",
   "execution_count": 13,
   "metadata": {},
   "outputs": [
    {
     "output_type": "stream",
     "name": "stdout",
     "text": [
      "Removendo espaço em branco, quebra de linha, tabulações, etc..\n['0,00', '0,00', '0,00', '0,00', '5687,62', '250,00', '0,00', '337,62', '0,00', '0,00', '1425,19', '5600,00', '1358,61', '1345,00', '8,58', '67,90', '582,58', '0,00', '0,00', '0,00', '0,00', '16,66', '134,90', '2247,43', '0,00', '0,00', '0,00', '0,00', '51,12', '55,90', '2857,61', '0,00', '0,00', '0,00', '0,00', '0,00', '0,00', '0,00']\n\nRemovendo '.' e substituindo ',' por '.' \n['0.00', '0.00', '0.00', '0.00', '5687.62', '250.00', '0.00', '337.62', '0.00', '0.00', '1425.19', '5600.00', '1358.61', '1345.00', '8.58', '67.90', '582.58', '0.00', '0.00', '0.00', '0.00', '16.66', '134.90', '2247.43', '0.00', '0.00', '0.00', '0.00', '51.12', '55.90', '2857.61', '0.00', '0.00', '0.00', '0.00', '0.00', '0.00', '0.00']\n\nConvertendo para float\n[0.0, 0.0, 0.0, 0.0, 5687.62, 250.0, 0.0, 337.62, 0.0, 0.0, 1425.19, 5600.0, 1358.61, 1345.0, 8.58, 67.9, 582.58, 0.0, 0.0, 0.0, 0.0, 16.66, 134.9, 2247.43, 0.0, 0.0, 0.0, 0.0, 51.12, 55.9, 2857.61, 0.0, 0.0, 0.0, 0.0, 0.0, 0.0, 0.0]\n21826.560000000005\n"
     ]
    }
   ],
   "source": [
    "# removendo espacos em branco, \\n, \\t, etc\n",
    "print('Removendo espaço em branco, quebra de linha, tabulações, etc..')\n",
    "float_list = [''.join(s.split()) for s in valores] \n",
    "print(float_list)\n",
    "\n",
    "# removendo '.' e substituindo ',' por '.' \n",
    "print(\"\\nRemovendo '.' e substituindo ',' por '.' \")\n",
    "float_list = [s.replace('.','').replace(',','.') for s in float_list] \n",
    "print(float_list)\n",
    "\n",
    "# convertendo para float e somando\n",
    "print(\"\\nConvertendo para float\")\n",
    "float_list = [float(s) for s in float_list] \n",
    "print(float_list)\n",
    "\n",
    "sum_larger_than_100 = 0\n",
    "for f in float_list:\n",
    "    if (f > 100):\n",
    "        sum_larger_than_100 += f\n",
    "print(sum_larger_than_100)"
   ]
  },
  {
   "cell_type": "markdown",
   "metadata": {},
   "source": [
    "### Exercício 5)\n",
    "Encontre todas as ocorrências da palavra \"VALOR\" onde o OCR reconheceu o caractere \"V\" de forma errada. Por exemplo, existem ocorrências onde o caractere \"V\" foi trocado pelo símbolo \" ' \". Quantas ocorrências foram encontrada?\n",
    "\n",
    "a) Menos de 10 <br>\n",
    "b) Entre 11 e 20<br>\n",
    "c) Entre 21 e 30<br>\n",
    "d) Mais de 31\n",
    "\n",
    "**Dica**: utilize o símbolo '^' combinado com '[ ]'. Veja documentação [aqui](https://docs.python.org/3/library/re.html)."
   ]
  },
  {
   "cell_type": "code",
   "execution_count": 19,
   "metadata": {},
   "outputs": [
    {
     "output_type": "stream",
     "name": "stdout",
     "text": [
      "[\"'ALOR\", \"'ALOR\", \"'ALOR\", '2ALOR', \"'ALOR\", 'GALOR', \"'ALOR\", \"'ALOR\"]\n8\n"
     ]
    }
   ],
   "source": [
    "text = text_nfe.upper()\n",
    "\n",
    "expreg = '[^V]ALOR'\n",
    "\n",
    "valores = re.findall(expreg,text)\n",
    "print(valores)\n",
    "print(len(valores))"
   ]
  },
  {
   "cell_type": "code",
   "execution_count": null,
   "metadata": {},
   "outputs": [],
   "source": []
  }
 ],
 "metadata": {
  "kernelspec": {
   "name": "python388jvsc74a57bd054bfc7d4636b6a9e21c7fe418d72849dff5d8e5f01d1aec84a4210a34166d17b",
   "display_name": "Python 3.8.5 64-bit ('base': conda)"
  },
  "language_info": {
   "codemirror_mode": {
    "name": "ipython",
    "version": 3
   },
   "file_extension": ".py",
   "mimetype": "text/x-python",
   "name": "python",
   "nbconvert_exporter": "python",
   "pygments_lexer": "ipython3",
   "version": "3.8.8"
  }
 },
 "nbformat": 4,
 "nbformat_minor": 2
}