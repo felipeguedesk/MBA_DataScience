{
  "nbformat": 4,
  "nbformat_minor": 0,
  "metadata": {
    "colab": {
      "name": "TACTD_Semana7.ipynb",
      "provenance": [],
      "collapsed_sections": []
    },
    "kernelspec": {
      "name": "python3",
      "display_name": "Python 3"
    },
    "language_info": {
      "name": "python"
    }
  },
  "cells": [
    {
      "cell_type": "markdown",
      "metadata": {
        "id": "FMXPKT5IUdz-"
      },
      "source": [
        "# Técnicas Avançadas de Captura e Tratamento de Dados\n",
        "\n",
        "**Fernando Pereira dos Santos**\n",
        "\n",
        "**Semana 7: Dados não estruturados (imagens) **"
      ]
    },
    {
      "cell_type": "code",
      "metadata": {
        "colab": {
          "base_uri": "https://localhost:8080/"
        },
        "id": "9ZNjT-2iENC9",
        "outputId": "ec01f4d9-adfc-4bfb-d78b-c313ceda8719"
      },
      "source": [
        "import matplotlib.pyplot as plt\n",
        "import numpy as np\n",
        "\n",
        "from PIL import Image\n",
        "from scipy import ndimage\n",
        "from keras.datasets import mnist\n",
        "from keras.preprocessing.image import ImageDataGenerator\n",
        "\n",
        "#Links importantes:\n",
        "# http://scipy-lectures.org/advanced/image_processing/\n",
        "# https://www.tensorflow.org/api_docs/python/tf/keras/preprocessing/image/ImageDataGenerator\n",
        "\n",
        "print(\"Lendo MNIST dataset\")\n",
        "(Xtrain, Ytrain), (Xtest, Ytest) = mnist.load_data()\n",
        "print(Xtrain.shape)\n",
        "print(Xtest.shape)"
      ],
      "execution_count": 1,
      "outputs": [
        {
          "output_type": "stream",
          "text": [
            "Lendo MNIST dataset\n",
            "(60000, 28, 28)\n",
            "(10000, 28, 28)\n"
          ],
          "name": "stdout"
        }
      ]
    },
    {
      "cell_type": "markdown",
      "metadata": {
        "id": "CaCijcbmJO37"
      },
      "source": [
        "# **Pré-processamento para imagens**"
      ]
    },
    {
      "cell_type": "code",
      "metadata": {
        "colab": {
          "base_uri": "https://localhost:8080/",
          "height": 197
        },
        "id": "RMJKPSnPF7UB",
        "outputId": "f5a0dfc3-857a-4780-bd43-bb1702341a12"
      },
      "source": [
        "img1 = Image.fromarray(Xtrain[0])\n",
        "img2 = Image.fromarray(Xtrain[1])\n",
        "img3 = Image.fromarray(Xtrain[2])\n",
        "\n",
        "plt.figure(figsize=(9,3))\n",
        "plt.subplot(131); plt.imshow(img1);\n",
        "plt.subplot(132); plt.imshow(img2);\n",
        "plt.subplot(133); plt.imshow(img3);"
      ],
      "execution_count": 2,
      "outputs": [
        {
          "output_type": "display_data",
          "data": {
            "image/png": "[encoded data removed]",
            "text/plain": [
              "<Figure size 648x216 with 3 Axes>"
            ]
          },
          "metadata": {
            "tags": [],
            "needs_background": "light"
          }
        }
      ]
    },
    {
      "cell_type": "markdown",
      "metadata": {
        "id": "j4xzAwwQJcKF"
      },
      "source": [
        "**Filtro da Média:**  O resultado de um pixel central é a média de seus vizinhos com. Exemplo:\n",
        "\n",
        "![0ed5an.png](data:image/png;base64,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)\n",
        "\n",
        "\n"
      ]
    },
    {
      "cell_type": "code",
      "metadata": {
        "colab": {
          "base_uri": "https://localhost:8080/",
          "height": 197
        },
        "id": "4ytKNcweGGyt",
        "outputId": "887cb620-bbac-4859-b494-717a33a0e182"
      },
      "source": [
        "img_median1 = ndimage.median_filter(img1, 3)\n",
        "img_median2 = ndimage.median_filter(img2, 3)\n",
        "img_median3 = ndimage.median_filter(img3, 3)\n",
        "\n",
        "plt.figure(figsize=(9,3))\n",
        "plt.subplot(131); plt.imshow(img_median1);\n",
        "plt.subplot(132); plt.imshow(img_median2);\n",
        "plt.subplot(133); plt.imshow(img_median3);"
      ],
      "execution_count": 3,
      "outputs": [
        {
          "output_type": "display_data",
          "data": {
            "image/png": "[encoded data removed]",
            "text/plain": [
              "<Figure size 648x216 with 3 Axes>"
            ]
          },
          "metadata": {
            "tags": [],
            "needs_background": "light"
          }
        }
      ]
    },
    {
      "cell_type": "markdown",
      "metadata": {
        "id": "nS4Pwqj1LVZb"
      },
      "source": [
        "**Morfologia Matemática:** proporciona operações matemáticas de erosão, dilatação, entre outros\n",
        "\n",
        "Erosão: possibilita remover espaços pequenos demais\n",
        "\n",
        "Dilatação: possibilita aumentar espaços pequenos\n",
        "\n"
      ]
    },
    {
      "cell_type": "code",
      "metadata": {
        "colab": {
          "base_uri": "https://localhost:8080/",
          "height": 159
        },
        "id": "0aKp00LwHj4h",
        "outputId": "c43a4dab-f09d-43a7-b0bf-fe7c93458b90"
      },
      "source": [
        "square = np.zeros((32, 32))\n",
        "square[10:-10, 10:-10] = 1\n",
        "np.random.seed(2)\n",
        "x, y = (32*np.random.random((2, 20))).astype(np.int)\n",
        "square[x, y] = 1\n",
        "\n",
        "eroded_square = ndimage.binary_erosion(square)\n",
        "reconstruction = ndimage.binary_propagation(eroded_square, mask=square)\n",
        "\n",
        "plt.figure(figsize=(9,2))\n",
        "plt.subplot(131); plt.imshow(square);\n",
        "plt.subplot(132); plt.imshow(reconstruction);"
      ],
      "execution_count": 4,
      "outputs": [
        {
          "output_type": "display_data",
          "data": {
            "image/png": "[encoded data removed]",
            "text/plain": [
              "<Figure size 648x144 with 2 Axes>"
            ]
          },
          "metadata": {
            "tags": [],
            "needs_background": "light"
          }
        }
      ]
    },
    {
      "cell_type": "markdown",
      "metadata": {
        "id": "8ADpyMl3Mbfo"
      },
      "source": [
        "# Data augmentation"
      ]
    },
    {
      "cell_type": "markdown",
      "metadata": {
        "id": "0TOVEoj_TSze"
      },
      "source": [
        "Possibilita aumentar a variedade de um conjunto de imagens inicial. Assim, como os rótulos se mantem os mesmos, aumentamos o conjunto de treinamento sem a necessidade de rotular novos exemplos.\n",
        "\n",
        "É necessário ter cuidado: por exemplo, dígitos 6 e 9 se rotacionados alteram sua classe original."
      ]
    },
    {
      "cell_type": "code",
      "metadata": {
        "colab": {
          "base_uri": "https://localhost:8080/",
          "height": 212
        },
        "id": "xDbyRRAiMhSq",
        "outputId": "f6232b46-d21e-4281-afe7-10be147d39f7"
      },
      "source": [
        "imgOriginal = np.reshape(Xtrain[2],(28,28,1))\n",
        "\n",
        "datagen = ImageDataGenerator(rotation_range=45)\n",
        "it = datagen.flow(np.expand_dims(imgOriginal, 0), batch_size=1)\n",
        "batch = it.next()\n",
        "\n",
        "img_rotacionada = np.array(batch[0].astype(np.uint8))\n",
        "img_rotacionada = np.reshape(img_rotacionada,(28,28))\n",
        "\n",
        "datagen = ImageDataGenerator(width_shift_range=0.5)\n",
        "it = datagen.flow(np.expand_dims(imgOriginal, 0), batch_size=1)\n",
        "batch = it.next()\n",
        "\n",
        "img_shift = np.array(batch[0].astype(np.uint8))\n",
        "img_shift = np.reshape(img_shift,(28,28))\n",
        "\n",
        "plt.figure(figsize=(15,3))\n",
        "plt.subplot(131); plt.imshow(img3);\n",
        "plt.subplot(132); plt.imshow(img_rotacionada);\n",
        "plt.subplot(133); plt.imshow(img_shift);"
      ],
      "execution_count": 5,
      "outputs": [
        {
          "output_type": "display_data",
          "data": {
            "image/png": "[encoded data removed]",
            "text/plain": [
              "<Figure size 1080x216 with 3 Axes>"
            ]
          },
          "metadata": {
            "tags": [],
            "needs_background": "light"
          }
        }
      ]
    }
  ]
}