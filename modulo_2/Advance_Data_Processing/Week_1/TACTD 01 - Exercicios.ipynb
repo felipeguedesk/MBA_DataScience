{
 "cells": [
  {
   "cell_type": "markdown",
   "metadata": {},
   "source": [
    "# MBA em Ciência de Dados\n",
    "# Técnicas Avançadas de Captura e Tratamento de Dados\n",
    "\n",
    "### <span style=\"color:darkred\">Módulo I - Dados Estruturados e Não Estruturados</span>\n",
    "\n",
    "\n",
    "### <span style=\"color:darkred\">Exercícios</span>\n",
    "\n",
    "Moacir Antonelli Ponti\n",
    "\n",
    "CeMEAI - ICMC/USP São Carlos\n",
    "\n",
    "---\n",
    "\n",
    "#### <span style=\"color:red\">Recomenda-se fortemente que os exercícios sejam feitos sem consultar as respostas antecipadamente.</span>\n",
    "\n",
    "---"
   ]
  },
  {
   "cell_type": "code",
   "execution_count": 1,
   "metadata": {},
   "outputs": [],
   "source": [
    "# carregando a biblioteca necessária\n",
    "import pandas as pd\n",
    "import numpy as np\n",
    "import matplotlib.pyplot as plt"
   ]
  },
  {
   "cell_type": "markdown",
   "metadata": {},
   "source": [
    "### Exercício 1)\n",
    "\n",
    "Considere a tabela com os dados a seguir\n",
    "\n",
    " username     | Primeiro Nome  | Sobrenome | Ano de nascimento | Foto\n",
    " :------ |:--------- |:----- | --- | --- \n",
    " joao@provider.com     | João | Oliveira | 1996 | foto1033.jpg\n",
    " bet89@hoster.net    | Elizabete | Costa Silva | 1989 | foto0010.jpg\n",
    " maria@internet.com.br | Maria Cláudia | Nunes de Souza | 1976 | foto2401.jpg\n",
    " \n",
    " De acordo com a definição de dados estruturados e não estruturados, esse conjunto de dados é\n",
    " \n",
    " (a) Estruturado<br>\n",
    " (b) Não-estruturado<br>\n",
    " (c) Estruturado quando não consideramos o atributo *Foto*<br>\n",
    " (d) Estruturado quando não consideramos os atributos *username* e *Foto*<br>\n",
    " \n",
    " Justifique sua escolha."
   ]
  },
  {
   "cell_type": "markdown",
   "metadata": {},
   "source": [
    "---\n",
    "\n",
    "### Exercício 2)\n",
    "\n",
    "São características de dados não-estruturados\n",
    "\n",
    " (a) Facilidade de versionamento, baixo controle de coleta, e inexistência de formato bem definido para armazenamento<br>\n",
    " (b) Alta dimensionalidade, armazenamento em formato binário ou textual, e alta flexibilidade na coleta dos dados<br>\n",
    " (c) Alta redundância, e informações fáceis de recuperar a partir dos dados brutos<br>\n",
    " (d) Inexistência de esquema de armazenamento e recuperação, e alto controle de integridade dos dados<br>\n",
    "\n"
   ]
  },
  {
   "cell_type": "markdown",
   "metadata": {},
   "source": [
    "---\n",
    "### Exercício 3)\n",
    "\n",
    "Analise a base de dados \"Exercicio\", que contém 100 linhas. Em particular vamos estudar os atributos \"Religion\", \"Profession\" e \"Year of Birth\", que possuem dados faltantes. Explore esses atributos utilizando estatística descritiva com `describe()` e buscando pelo conjunto de valores únicos com `unique()`.\n",
    "\n",
    "Após isso, responda as **questões I, II, III e IV** abaixo. OBS: Para responder às questões com maior segurança, pode ser necessário explorar a base de dados com outras ferramentas, gráficos e buscas.\n"
   ]
  },
  {
   "cell_type": "code",
   "execution_count": 6,
   "metadata": {},
   "outputs": [],
   "source": [
    "data_m = pd.read_csv(\"./dados/TACTD-01-Missing.csv\")\n",
    "\n",
    "# insira seu código exibindo a estatística descritiva e valores únicos para o atributo Religion"
   ]
  },
  {
   "cell_type": "code",
   "execution_count": 7,
   "metadata": {},
   "outputs": [],
   "source": [
    "# insira seu código exibindo a estatística descritiva e valores únicos para o atributo Profession"
   ]
  },
  {
   "cell_type": "code",
   "execution_count": 8,
   "metadata": {},
   "outputs": [],
   "source": [
    "#### para investigar a questao da origem dos dados faltantes, exiba as linhas com dados faltantes"
   ]
  },
  {
   "cell_type": "code",
   "execution_count": 9,
   "metadata": {},
   "outputs": [],
   "source": [
    "# insira seu código exibindo a estatística descritiva e valores únicos para o atributo Year of Birth"
   ]
  },
  {
   "cell_type": "code",
   "execution_count": 10,
   "metadata": {},
   "outputs": [],
   "source": [
    "#### investigue como os anos estão distribuídos"
   ]
  },
  {
   "cell_type": "markdown",
   "metadata": {},
   "source": [
    "#### Exercício 3, questão I\n",
    "\n",
    "Sobre o atributo Religion, qual das alternativas é mais plausível:\n",
    "\n",
    "(a) há 2 dados faltantes, do tipo completamente aleatório<br>\n",
    "(b) há 4 dados faltantes, podendo ser do tipo completamente aleatório (MCAR) ou não-aleatório<br>\n",
    "(c) há 2 dados faltantes, do tipo não-aleatório<br>\n",
    "(d) há 4 dados faltantes, do tipo (condicionalmente) aleatório<br>\n",
    "\n",
    "\n",
    "#### Exercício 3, questão II\n",
    "\n",
    "Sobre o atributo Profession, é possível dizer que:\n",
    "\n",
    "(a) há 6 dados errôneos<br>\n",
    "(b) há 2 dados faltantes<br>\n",
    "(c) há 2 dados faltantes e 5 dados errôneos<br>\n",
    "(d) há 8 dados faltantes<br>\n",
    "\n",
    "#### Exercício 3, questão III\n",
    "\n",
    "Sobre o atributo Profession, é possível dizer que os dados faltantes são:\n",
    "\n",
    "(a) uma mistura dos tipos (condicionalmente) aleatório (MAR) e completamente aleatório (MCAR)<br>\n",
    "(b) unicamente do tipo (condicionalmente) aleatório (MAR) <br>\n",
    "(b) unicamente do tipo completamente aleatório (MCAR) <br>\n",
    "(d) uma mistura dos tipos não aleatório e (condicionalmente) aleatório (MAR)<br>\n",
    "\n",
    "#### Exercício 3, questão IV\n",
    "\n",
    "Sobre o atributo Year of Birth, de acordo com a análise exploratória, qual(is) tipo(s) de dados faltantes são mais plausíveis (escolha apenas uma opcao abaixo):\n",
    "\n",
    "(a) uma mistura dos tipos (condicionalmente) aleatório (MAR) e completamente aleatório (MCAR)<br>\n",
    "(b) do tipo (condicionalmente) aleatório (MAR) <br>\n",
    "(c) do tipo completamente aleatório (MCAR) <br>\n",
    "(d) do tipo não aleatório<br>\n"
   ]
  },
  {
   "cell_type": "markdown",
   "metadata": {},
   "source": [
    "---\n",
    "\n",
    "### Exercício 4)\n",
    "\n",
    "Analise a base de dados \"BCE_Outliers_Err_Desbal\", utilizada nas aulas. Utilize `boxplot()` e `hist()` para explorar cada atributo (exceto Weight, já analisado na aula), mas também codifique outras buscas que achar necessário para responder às  **questões I e II**  abaixo."
   ]
  },
  {
   "cell_type": "code",
   "execution_count": 11,
   "metadata": {},
   "outputs": [],
   "source": [
    "data2 = pd.read_csv(\"./dados/TACTD_01-BCE_Outliers_Err_Desbal.csv\") "
   ]
  },
  {
   "cell_type": "markdown",
   "metadata": {},
   "source": [
    "#### Exercício 4, questão I\n",
    "\n",
    "Procure por um **outlier** não comentado na aula. Esse outlier é um \n",
    "\n",
    "(a) idade gestacional com valor muito alto<br>\n",
    "(b) idade gestacional com valor muito baixo<br>\n",
    "(c) ano com valor muito alto<br>\n",
    "(d) ano com valor muito baixo<br>\n",
    "\n",
    "\n",
    "\n",
    "#### Exercício 4, questão II\n",
    "\n",
    "Como interpretar o outlier encontrado?\n",
    "\n",
    "(a) outlier global e dado errôneo resultado de problema na coleta de dados, deve ser removido<br>\n",
    "(b) outlier global, mas não deve ser modificado<br>\n",
    "(c) outlier global e dado errôneo, podendo ser corrigido<br>\n",
    "(d) outlier condicional, deve ser removido<br>\n"
   ]
  },
  {
   "cell_type": "markdown",
   "metadata": {},
   "source": [
    "---\n",
    "\n",
    "### Exercício 5)\n",
    "\n",
    "Considere as informações dadas a seguir:\n",
    "\n",
    "<img src=\"./imagens/foto_tabela2.jpg\" alt=\"tabela\" width=\"760\"/>\n",
    "\n",
    "Poderíamos dizer que os dados disponíveis nesse arquivo exibido são do tipo: \n",
    "\n",
    "(a) não estruturado<br>\n",
    "(b) estruturado\n",
    "\n",
    "Justifique sua resposta."
   ]
  },
  {
   "cell_type": "markdown",
   "metadata": {},
   "source": [
    "---\n",
    "## Exercício 6) \n",
    "\n",
    "Analise a base de dados \"Exercicio\" novamente. Agora vamos buscar por problemas dos tipos errôneos e outliers no atributo \"Years of Experience\":\n"
   ]
  },
  {
   "cell_type": "code",
   "execution_count": 12,
   "metadata": {},
   "outputs": [],
   "source": [
    "data_m = pd.read_csv(\"./dados/TACTD-01-Exercicio.csv\")"
   ]
  },
  {
   "cell_type": "markdown",
   "metadata": {},
   "source": [
    "\n",
    "#### Exercício 6, questão I\n",
    "\n",
    "Escolha a alternativa que melhor descreve os problemas no atributo:\n",
    "\n",
    "(a) possui ao menos um dado errôneo <br>\n",
    "(b) possui outliers contextuais relacionados ao ano de nascimento<br>\n",
    "(c) possui outliers conjuntos relacionados ao ano de nascimento<br>\n",
    "(d) possui ao menos 4 outliers globais<br>\n",
    "\n",
    "\n",
    "#### Exercício 6, questão II\n",
    "\n",
    "Assuma que precisamos construir um modelo para tentar compreender a correlação entre o sexo e país de origem com a quantidade de anos de experiência. \n",
    "\n",
    "Considerando o problema encontrado na questão anterior, e sabendo que há dados faltantes mas para os quais não conhecemos o tipo, como é mais adequado proceder?\n",
    "\n",
    "(a) não é necessário nenhum tratamento<br>\n",
    "(b) é preciso remover os outliers e desconsiderar dados faltantes<br>\n",
    "(c) é preciso remover os dados errôneos e desconsiderar os dados faltantes na análise<br>\n",
    "(d) é preciso preencher os dados faltantes<br>"
   ]
  }
 ],
 "metadata": {
  "kernelspec": {
   "display_name": "Python 3",
   "language": "python",
   "name": "python3"
  },
  "language_info": {
   "codemirror_mode": {
    "name": "ipython",
    "version": 3
   },
   "file_extension": ".py",
   "mimetype": "text/x-python",
   "name": "python",
   "nbconvert_exporter": "python",
   "pygments_lexer": "ipython3",
   "version": "3.9.2"
  }
 },
 "nbformat": 4,
 "nbformat_minor": 4
}
