{
 "cells": [
  {
   "cell_type": "markdown",
   "metadata": {},
   "source": [
    "# <font color=\"blue\"> MBA em Ciência de Dados</font>\n",
    "# <font color=\"blue\">Técnicas Avançadas para Captura e Tratamento de Dados</font>\n",
    "\n",
    "## <font color=\"blue\"> Matriz Documento $\\times$ Palavras - Bag of Words</font>\n",
    "    \n",
    "## <font color=\"blue\">Avaliação</font>\n",
    "\n",
    "**Material Produzido por Luis Gustavo Nonato**<br>\n",
    "**Cemeai - ICMC/USP São Carlos**\n",
    "---"
   ]
  },
  {
   "cell_type": "markdown",
   "metadata": {},
   "source": [
    "Os exercícios abaixo fazem uso da coleção de documentos presente no diretório `DocCol2` contido no arquivo <font style=\"font-family: monaco\"> DocCol.zip</font>, o qual pode ser baixado do Moodle."
   ]
  },
  {
   "cell_type": "code",
   "execution_count": null,
   "metadata": {},
   "outputs": [],
   "source": [
    "import glob\n",
    "import nltk\n",
    "from nltk.corpus import stopwords\n",
    "from nltk.stem import PorterStemmer\n",
    "import pandas as pd\n",
    "import numpy as np\n",
    "from collections import Counter"
   ]
  },
  {
   "cell_type": "markdown",
   "metadata": {},
   "source": [
    "### Exercício 1)\n",
    "Armazene os documentos disponíveis no diretório `DocCol2` em um dicionário onde a chave é o nome do arquivo e o valor é a string contida no arquivo. O documento contendo a string com o maior número de caracteres é:\n",
    "\n",
    "a) gr7<br>\n",
    "b) au2 <br>\n",
    "c) ch5<br>\n",
    "d) au8"
   ]
  },
  {
   "cell_type": "code",
   "execution_count": 16,
   "metadata": {
    "tags": []
   },
   "outputs": [
    {
     "output_type": "stream",
     "name": "stdout",
     "text": [
      "64\nThe file with the most characters is:  au2\nThe file lengh of the file is: 11672\n"
     ]
    }
   ],
   "source": [
    "# Lendo o documento como uma string\n",
    "import glob  # glob é um pacote que permite varrer arquivos e \n",
    "             # diretorios utilizando sintaxe linux\n",
    "\n",
    "files = glob.glob(\"DocCol2/*\")\n",
    "\n",
    "docs = {}\n",
    "for fname in files:\n",
    "    with open(fname,'r') as f:\n",
    "        key = fname.split('/')[-1]\n",
    "        docs[key] = f.read() \n",
    "        \n",
    "len_docs = {k:len(s) for k,s in docs.items()}\n",
    "arg_max = np.argmax(list(len_docs.values()))\n",
    "print(arg_max)\n",
    "print('The file with the most characters is: ', list(len_docs.keys())[arg_max])\n",
    "print('The file lengh of the file is:', list(len_docs.values())[arg_max])"
   ]
  },
  {
   "cell_type": "markdown",
   "metadata": {},
   "source": [
    "### Exercício 2)\n",
    "Crie um dicionário chamado `docsXwords` onde as chaves são os nomes dos arquivos e os valores são as listas de palavras do documento correspondente. As palavras em cada uma das listas devem ser constituídas apenas por letras do alfabeto, estarem lexicamente normalizadas e conterem mais que 1 caracter. Qual o documento cuja lista de palavras  resultante possui o **maior** número de palavras (lexicamente normalizadas) repetidas:\n",
    "\n",
    "a) gr22<br>\n",
    "b) ch30<br>\n",
    "c) au1<br>\n",
    "d) au8"
   ]
  },
  {
   "cell_type": "code",
   "execution_count": 38,
   "metadata": {
    "tags": []
   },
   "outputs": [
    {
     "output_type": "stream",
     "name": "stdout",
     "text": [
      "ch30\n200\n"
     ]
    }
   ],
   "source": [
    "from nltk.corpus import stopwords\n",
    "stop_words = stopwords.words('english')\n",
    "docsXwords = {}\n",
    "docsXwordsCounter = {}\n",
    "\n",
    "for key, value in docs.items():\n",
    "    words = nltk.word_tokenize(value)\n",
    "    words = [w.lower() for w in words if w.isalpha() and len(w) > 1]\n",
    "    #words = [w for w in words if w not in stop_words]\n",
    "    words = [PorterStemmer().stem(w) for w in words]\n",
    "    docsXwords[key] = words\n",
    "    docsXwordsCounter[key] = dict(Counter(words))\n",
    "max_repetition_doc = ''\n",
    "max_word_count = 0\n",
    "for key in docsXwordsCounter.keys():\n",
    "    for wordCount in docsXwordsCounter[key].values():\n",
    "        if (wordCount > max_word_count):\n",
    "            max_word_count = wordCount\n",
    "            max_repetition_doc = key\n",
    "print(max_repetition_doc)\n",
    "print(max_word_count)"
   ]
  },
  {
   "cell_type": "markdown",
   "metadata": {},
   "source": [
    "### Exercício 3)\n",
    "Utilizando as listas de palavras do dicionário `docsXwords`, quais as três palavras que mais aparecem na coleção de documentos:\n",
    "\n",
    "a) the, is, of<br>\n",
    "b) that, is, of<br>\n",
    "c) the, of, to <br>\n",
    "d) to, is, of"
   ]
  },
  {
   "cell_type": "code",
   "execution_count": 48,
   "metadata": {},
   "outputs": [
    {
     "output_type": "stream",
     "name": "stdout",
     "text": [
      "Index(['to', 'of', 'the'], dtype='object')\n[3436 3273 6485]\n"
     ]
    }
   ],
   "source": [
    "corpus = [palavras for sublista in list(docsXwords.values()) for palavras in sublista]\n",
    "\n",
    "# removendo repeticoes\n",
    "corpus = list(set(corpus))\n",
    "\n",
    "df_dXp = pd.DataFrame(data=np.zeros((len(list(docs.keys())),len(corpus))),\n",
    "                      index = list(docs.keys()), columns = corpus)\n",
    "\n",
    "for key,value in docsXwords.items():\n",
    "    dtemp = dict(Counter(value))\n",
    "    df_dXp.loc[key,list(dtemp.keys())] = list(dtemp.values())\n",
    "max_args = np.argsort(df_dXp.sum(axis=0).values)[-3:]\n",
    "print(df_dXp.columns[max_args])\n",
    "print(max_args)"
   ]
  },
  {
   "cell_type": "markdown",
   "metadata": {},
   "source": [
    "### Exercício 4)\n",
    "Qual o documento cuja lista de palavras possui o **menor** número de \"stop words\"? Quantas \"stop words\" aparecem neste documento:\n",
    "\n",
    "a) gr5 com 47 \"stop words\"<br>\n",
    "b) gr17 com 47 \"stop words\"<br>\n",
    "c) gr5 com 37 \"stop words\"<br>\n",
    "d) gr17 com 37 \"stop words\"\n",
    "\n",
    "**Dica**: Crie um dicionário a partir de docsXwords onde a chave é o nome do documento e o valor o número de stop words no documento."
   ]
  },
  {
   "cell_type": "code",
   "execution_count": 57,
   "metadata": {},
   "outputs": [
    {
     "output_type": "stream",
     "name": "stdout",
     "text": [
      "15\ngr5 47\n"
     ]
    }
   ],
   "source": [
    "min_repetition_doc = ''\n",
    "min_word_count = 100\n",
    "stop_word_dict = {}\n",
    "for key in docsXwords.keys():\n",
    "    stop_word_dict[key] = 0\n",
    "    for word in docsXwords[key]:\n",
    "        if (word in stop_words):\n",
    "            stop_word_dict[key] += 1\n",
    "arg_min = np.argmin(list(stop_word_dict.values()))\n",
    "arg_min_name = list(stop_word_dict.keys())[arg_min]\n",
    "print(arg_min)\n",
    "print(arg_min_name, stop_word_dict[arg_min_name])"
   ]
  },
  {
   "cell_type": "markdown",
   "metadata": {},
   "source": [
    "### Exercício 5) \n",
    "Utilize o dicionário `docsXwords` para construir\n",
    "uma matriz Documentos $\\times$ Palavras para a coleção de documentos do diretório `DocCol2`. Utilizando a distância cosseno, qual é o documento mais parecido com o documento 'ch7':\n",
    "\n",
    "a) ch8<br>\n",
    "b) ch16<br>\n",
    "c) ch5<br>\n",
    "d) au8"
   ]
  },
  {
   "cell_type": "code",
   "execution_count": 61,
   "metadata": {},
   "outputs": [
    {
     "output_type": "stream",
     "name": "stdout",
     "text": [
      "Documento mais parecido com ch7:  ch16\n{'ch': 0, 'gr': 1, 'au': 8}\n"
     ]
    },
    {
     "output_type": "execute_result",
     "data": {
      "text/plain": [
       "<matplotlib.collections.PathCollection at 0x7f85b20d98b0>"
      ]
     },
     "metadata": {},
     "execution_count": 61
    },
    {
     "output_type": "display_data",
     "data": {
      "text/plain": "<Figure size 432x288 with 1 Axes>",
      "image/svg+xml": "<?xml version=\"1.0\" encoding=\"utf-8\" standalone=\"no\"?>\n<!DOCTYPE svg PUBLIC \"-//W3C//DTD SVG 1.1//EN\"\n  \"http://www.w3.org/Graphics/SVG/1.1/DTD/svg11.dtd\">\n<!-- Created with matplotlib (https://matplotlib.org/) -->\n<svg height=\"248.518125pt\" version=\"1.1\" viewBox=\"0 0 377.304687 248.518125\" width=\"377.304687pt\" xmlns=\"http://www.w3.org/2000/svg\" xmlns:xlink=\"http://www.w3.org/1999/xlink\">\n <metadata>\n  <rdf:RDF xmlns:cc=\"http://creativecommons.org/ns#\" xmlns:dc=\"http://purl.org/dc/elements/1.1/\" xmlns:rdf=\"http://www.w3.org/1999/02/22-rdf-syntax-ns#\">\n   <cc:Work>\n    <dc:type rdf:resource=\"http://purl.org/dc/dcmitype/StillImage\"/>\n    <dc:date>2021-05-25T00:11:03.385904</dc:date>\n    <dc:format>image/svg+xml</dc:format>\n    <dc:creator>\n     <cc:Agent>\n      <dc:title>Matplotlib v3.3.4, https://matplotlib.org/</dc:title>\n     </cc:Agent>\n    </dc:creator>\n   </cc:Work>\n  </rdf:RDF>\n </metadata>\n <defs>\n  <style type=\"text/css\">*{stroke-linecap:butt;stroke-linejoin:round;}</style>\n </defs>\n <g id=\"figure_1\">\n  <g id=\"patch_1\">\n   <path d=\"M 0 248.518125 \nL 377.304687 248.518125 \nL 377.304687 0 \nL 0 0 \nz\n\" style=\"fill:none;\"/>\n  </g>\n  <g id=\"axes_1\">\n   <g id=\"patch_2\">\n    <path d=\"M 35.304688 224.64 \nL 370.104688 224.64 \nL 370.104688 7.2 \nL 35.304688 7.2 \nz\n\" style=\"fill:#ffffff;\"/>\n   </g>\n   <g id=\"PathCollection_1\">\n    <defs>\n     <path d=\"M 0 3 \nC 0.795609 3 1.55874 2.683901 2.12132 2.12132 \nC 2.683901 1.55874 3 0.795609 3 -0 \nC 3 -0.795609 2.683901 -1.55874 2.12132 -2.12132 \nC 1.55874 -2.683901 0.795609 -3 0 -3 \nC -0.795609 -3 -1.55874 -2.683901 -2.12132 -2.12132 \nC -2.683901 -1.55874 -3 -0.795609 -3 0 \nC -3 0.795609 -2.683901 1.55874 -2.12132 2.12132 \nC -1.55874 2.683901 -0.795609 3 0 3 \nz\n\" id=\"C0_0_0bfd9c14ee\"/>\n    </defs>\n    <g clip-path=\"url(#pcde8dd47f3)\">\n     <use style=\"fill:#440154;stroke:#440154;\" x=\"62.494641\" xlink:href=\"#C0_0_0bfd9c14ee\" y=\"131.089185\"/>\n    </g>\n    <g clip-path=\"url(#pcde8dd47f3)\">\n     <use style=\"fill:#472d7b;stroke:#472d7b;\" x=\"62.111414\" xlink:href=\"#C0_0_0bfd9c14ee\" y=\"127.330702\"/>\n    </g>\n    <g clip-path=\"url(#pcde8dd47f3)\">\n     <use style=\"fill:#440154;stroke:#440154;\" x=\"65.55664\" xlink:href=\"#C0_0_0bfd9c14ee\" y=\"130.294451\"/>\n    </g>\n    <g clip-path=\"url(#pcde8dd47f3)\">\n     <use style=\"fill:#440154;stroke:#440154;\" x=\"61.418197\" xlink:href=\"#C0_0_0bfd9c14ee\" y=\"131.004232\"/>\n    </g>\n    <g clip-path=\"url(#pcde8dd47f3)\">\n     <use style=\"fill:#440154;stroke:#440154;\" x=\"60.765236\" xlink:href=\"#C0_0_0bfd9c14ee\" y=\"131.625103\"/>\n    </g>\n    <g clip-path=\"url(#pcde8dd47f3)\">\n     <use style=\"fill:#440154;stroke:#440154;\" x=\"65.464421\" xlink:href=\"#C0_0_0bfd9c14ee\" y=\"130.300511\"/>\n    </g>\n    <g clip-path=\"url(#pcde8dd47f3)\">\n     <use style=\"fill:#440154;stroke:#440154;\" x=\"62.083211\" xlink:href=\"#C0_0_0bfd9c14ee\" y=\"129.606425\"/>\n    </g>\n    <g clip-path=\"url(#pcde8dd47f3)\">\n     <use style=\"fill:#472d7b;stroke:#472d7b;\" x=\"61.699214\" xlink:href=\"#C0_0_0bfd9c14ee\" y=\"126.839505\"/>\n    </g>\n    <g clip-path=\"url(#pcde8dd47f3)\">\n     <use style=\"fill:#fde725;stroke:#fde725;\" x=\"58.471514\" xlink:href=\"#C0_0_0bfd9c14ee\" y=\"140.055464\"/>\n    </g>\n    <g clip-path=\"url(#pcde8dd47f3)\">\n     <use style=\"fill:#440154;stroke:#440154;\" x=\"62.642179\" xlink:href=\"#C0_0_0bfd9c14ee\" y=\"129.970651\"/>\n    </g>\n    <g clip-path=\"url(#pcde8dd47f3)\">\n     <use style=\"fill:#440154;stroke:#440154;\" x=\"65.985986\" xlink:href=\"#C0_0_0bfd9c14ee\" y=\"129.644962\"/>\n    </g>\n    <g clip-path=\"url(#pcde8dd47f3)\">\n     <use style=\"fill:#472d7b;stroke:#472d7b;\" x=\"60.783436\" xlink:href=\"#C0_0_0bfd9c14ee\" y=\"123.909485\"/>\n    </g>\n    <g clip-path=\"url(#pcde8dd47f3)\">\n     <use style=\"fill:#440154;stroke:#440154;\" x=\"64.665956\" xlink:href=\"#C0_0_0bfd9c14ee\" y=\"127.758923\"/>\n    </g>\n    <g clip-path=\"url(#pcde8dd47f3)\">\n     <use style=\"fill:#440154;stroke:#440154;\" x=\"64.677621\" xlink:href=\"#C0_0_0bfd9c14ee\" y=\"128.557697\"/>\n    </g>\n    <g clip-path=\"url(#pcde8dd47f3)\">\n     <use style=\"fill:#fde725;stroke:#fde725;\" x=\"58.45613\" xlink:href=\"#C0_0_0bfd9c14ee\" y=\"141.839422\"/>\n    </g>\n    <g clip-path=\"url(#pcde8dd47f3)\">\n     <use style=\"fill:#472d7b;stroke:#472d7b;\" x=\"64.319176\" xlink:href=\"#C0_0_0bfd9c14ee\" y=\"126.6495\"/>\n    </g>\n    <g clip-path=\"url(#pcde8dd47f3)\">\n     <use style=\"fill:#472d7b;stroke:#472d7b;\" x=\"64.069652\" xlink:href=\"#C0_0_0bfd9c14ee\" y=\"123.259313\"/>\n    </g>\n    <g clip-path=\"url(#pcde8dd47f3)\">\n     <use style=\"fill:#fde725;stroke:#fde725;\" x=\"58.756571\" xlink:href=\"#C0_0_0bfd9c14ee\" y=\"140.501816\"/>\n    </g>\n    <g clip-path=\"url(#pcde8dd47f3)\">\n     <use style=\"fill:#440154;stroke:#440154;\" x=\"62.004258\" xlink:href=\"#C0_0_0bfd9c14ee\" y=\"132.917487\"/>\n    </g>\n    <g clip-path=\"url(#pcde8dd47f3)\">\n     <use style=\"fill:#472d7b;stroke:#472d7b;\" x=\"62.345725\" xlink:href=\"#C0_0_0bfd9c14ee\" y=\"128.585266\"/>\n    </g>\n    <g clip-path=\"url(#pcde8dd47f3)\">\n     <use style=\"fill:#440154;stroke:#440154;\" x=\"61.394979\" xlink:href=\"#C0_0_0bfd9c14ee\" y=\"130.358814\"/>\n    </g>\n    <g clip-path=\"url(#pcde8dd47f3)\">\n     <use style=\"fill:#440154;stroke:#440154;\" x=\"63.83744\" xlink:href=\"#C0_0_0bfd9c14ee\" y=\"128.832625\"/>\n    </g>\n    <g clip-path=\"url(#pcde8dd47f3)\">\n     <use style=\"fill:#472d7b;stroke:#472d7b;\" x=\"61.609197\" xlink:href=\"#C0_0_0bfd9c14ee\" y=\"128.527023\"/>\n    </g>\n    <g clip-path=\"url(#pcde8dd47f3)\">\n     <use style=\"fill:#440154;stroke:#440154;\" x=\"65.004865\" xlink:href=\"#C0_0_0bfd9c14ee\" y=\"130.319976\"/>\n    </g>\n    <g clip-path=\"url(#pcde8dd47f3)\">\n     <use style=\"fill:#440154;stroke:#440154;\" x=\"66.281776\" xlink:href=\"#C0_0_0bfd9c14ee\" y=\"128.259967\"/>\n    </g>\n    <g clip-path=\"url(#pcde8dd47f3)\">\n     <use style=\"fill:#fde725;stroke:#fde725;\" x=\"62.194416\" xlink:href=\"#C0_0_0bfd9c14ee\" y=\"134.027353\"/>\n    </g>\n    <g clip-path=\"url(#pcde8dd47f3)\">\n     <use style=\"fill:#440154;stroke:#440154;\" x=\"62.500612\" xlink:href=\"#C0_0_0bfd9c14ee\" y=\"129.189241\"/>\n    </g>\n    <g clip-path=\"url(#pcde8dd47f3)\">\n     <use style=\"fill:#440154;stroke:#440154;\" x=\"61.933263\" xlink:href=\"#C0_0_0bfd9c14ee\" y=\"130.733696\"/>\n    </g>\n    <g clip-path=\"url(#pcde8dd47f3)\">\n     <use style=\"fill:#472d7b;stroke:#472d7b;\" x=\"59.175056\" xlink:href=\"#C0_0_0bfd9c14ee\" y=\"17.083636\"/>\n    </g>\n    <g clip-path=\"url(#pcde8dd47f3)\">\n     <use style=\"fill:#440154;stroke:#440154;\" x=\"63.511978\" xlink:href=\"#C0_0_0bfd9c14ee\" y=\"130.238619\"/>\n    </g>\n    <g clip-path=\"url(#pcde8dd47f3)\">\n     <use style=\"fill:#472d7b;stroke:#472d7b;\" x=\"61.028276\" xlink:href=\"#C0_0_0bfd9c14ee\" y=\"127.334133\"/>\n    </g>\n    <g clip-path=\"url(#pcde8dd47f3)\">\n     <use style=\"fill:#440154;stroke:#440154;\" x=\"62.949931\" xlink:href=\"#C0_0_0bfd9c14ee\" y=\"130.878191\"/>\n    </g>\n    <g clip-path=\"url(#pcde8dd47f3)\">\n     <use style=\"fill:#440154;stroke:#440154;\" x=\"63.51668\" xlink:href=\"#C0_0_0bfd9c14ee\" y=\"131.105449\"/>\n    </g>\n    <g clip-path=\"url(#pcde8dd47f3)\">\n     <use style=\"fill:#fde725;stroke:#fde725;\" x=\"50.522869\" xlink:href=\"#C0_0_0bfd9c14ee\" y=\"214.756364\"/>\n    </g>\n    <g clip-path=\"url(#pcde8dd47f3)\">\n     <use style=\"fill:#fde725;stroke:#fde725;\" x=\"58.132816\" xlink:href=\"#C0_0_0bfd9c14ee\" y=\"137.476446\"/>\n    </g>\n    <g clip-path=\"url(#pcde8dd47f3)\">\n     <use style=\"fill:#440154;stroke:#440154;\" x=\"60.738038\" xlink:href=\"#C0_0_0bfd9c14ee\" y=\"132.182088\"/>\n    </g>\n    <g clip-path=\"url(#pcde8dd47f3)\">\n     <use style=\"fill:#fde725;stroke:#fde725;\" x=\"63.32982\" xlink:href=\"#C0_0_0bfd9c14ee\" y=\"127.531841\"/>\n    </g>\n    <g clip-path=\"url(#pcde8dd47f3)\">\n     <use style=\"fill:#fde725;stroke:#fde725;\" x=\"61.881431\" xlink:href=\"#C0_0_0bfd9c14ee\" y=\"133.594943\"/>\n    </g>\n    <g clip-path=\"url(#pcde8dd47f3)\">\n     <use style=\"fill:#472d7b;stroke:#472d7b;\" x=\"62.902771\" xlink:href=\"#C0_0_0bfd9c14ee\" y=\"123.371209\"/>\n    </g>\n    <g clip-path=\"url(#pcde8dd47f3)\">\n     <use style=\"fill:#440154;stroke:#440154;\" x=\"62.834515\" xlink:href=\"#C0_0_0bfd9c14ee\" y=\"132.95125\"/>\n    </g>\n    <g clip-path=\"url(#pcde8dd47f3)\">\n     <use style=\"fill:#440154;stroke:#440154;\" x=\"62.151958\" xlink:href=\"#C0_0_0bfd9c14ee\" y=\"130.70784\"/>\n    </g>\n    <g clip-path=\"url(#pcde8dd47f3)\">\n     <use style=\"fill:#472d7b;stroke:#472d7b;\" x=\"63.292011\" xlink:href=\"#C0_0_0bfd9c14ee\" y=\"125.746732\"/>\n    </g>\n    <g clip-path=\"url(#pcde8dd47f3)\">\n     <use style=\"fill:#440154;stroke:#440154;\" x=\"354.886506\" xlink:href=\"#C0_0_0bfd9c14ee\" y=\"133.180942\"/>\n    </g>\n    <g clip-path=\"url(#pcde8dd47f3)\">\n     <use style=\"fill:#472d7b;stroke:#472d7b;\" x=\"61.400821\" xlink:href=\"#C0_0_0bfd9c14ee\" y=\"129.456816\"/>\n    </g>\n    <g clip-path=\"url(#pcde8dd47f3)\">\n     <use style=\"fill:#fde725;stroke:#fde725;\" x=\"62.09286\" xlink:href=\"#C0_0_0bfd9c14ee\" y=\"130.524484\"/>\n    </g>\n    <g clip-path=\"url(#pcde8dd47f3)\">\n     <use style=\"fill:#440154;stroke:#440154;\" x=\"62.418311\" xlink:href=\"#C0_0_0bfd9c14ee\" y=\"127.922611\"/>\n    </g>\n    <g clip-path=\"url(#pcde8dd47f3)\">\n     <use style=\"fill:#472d7b;stroke:#472d7b;\" x=\"61.543017\" xlink:href=\"#C0_0_0bfd9c14ee\" y=\"128.240551\"/>\n    </g>\n    <g clip-path=\"url(#pcde8dd47f3)\">\n     <use style=\"fill:#472d7b;stroke:#472d7b;\" x=\"63.30512\" xlink:href=\"#C0_0_0bfd9c14ee\" y=\"126.547912\"/>\n    </g>\n    <g clip-path=\"url(#pcde8dd47f3)\">\n     <use style=\"fill:#440154;stroke:#440154;\" x=\"63.539703\" xlink:href=\"#C0_0_0bfd9c14ee\" y=\"129.160421\"/>\n    </g>\n    <g clip-path=\"url(#pcde8dd47f3)\">\n     <use style=\"fill:#fde725;stroke:#fde725;\" x=\"61.501985\" xlink:href=\"#C0_0_0bfd9c14ee\" y=\"132.407643\"/>\n    </g>\n    <g clip-path=\"url(#pcde8dd47f3)\">\n     <use style=\"fill:#440154;stroke:#440154;\" x=\"64.466261\" xlink:href=\"#C0_0_0bfd9c14ee\" y=\"129.533164\"/>\n    </g>\n    <g clip-path=\"url(#pcde8dd47f3)\">\n     <use style=\"fill:#472d7b;stroke:#472d7b;\" x=\"63.389043\" xlink:href=\"#C0_0_0bfd9c14ee\" y=\"124.552577\"/>\n    </g>\n    <g clip-path=\"url(#pcde8dd47f3)\">\n     <use style=\"fill:#440154;stroke:#440154;\" x=\"63.245323\" xlink:href=\"#C0_0_0bfd9c14ee\" y=\"130.369417\"/>\n    </g>\n    <g clip-path=\"url(#pcde8dd47f3)\">\n     <use style=\"fill:#440154;stroke:#440154;\" x=\"61.045698\" xlink:href=\"#C0_0_0bfd9c14ee\" y=\"131.468821\"/>\n    </g>\n    <g clip-path=\"url(#pcde8dd47f3)\">\n     <use style=\"fill:#440154;stroke:#440154;\" x=\"60.260147\" xlink:href=\"#C0_0_0bfd9c14ee\" y=\"132.221664\"/>\n    </g>\n    <g clip-path=\"url(#pcde8dd47f3)\">\n     <use style=\"fill:#440154;stroke:#440154;\" x=\"59.727881\" xlink:href=\"#C0_0_0bfd9c14ee\" y=\"133.379904\"/>\n    </g>\n    <g clip-path=\"url(#pcde8dd47f3)\">\n     <use style=\"fill:#440154;stroke:#440154;\" x=\"63.031376\" xlink:href=\"#C0_0_0bfd9c14ee\" y=\"129.193824\"/>\n    </g>\n    <g clip-path=\"url(#pcde8dd47f3)\">\n     <use style=\"fill:#440154;stroke:#440154;\" x=\"63.176859\" xlink:href=\"#C0_0_0bfd9c14ee\" y=\"131.06736\"/>\n    </g>\n    <g clip-path=\"url(#pcde8dd47f3)\">\n     <use style=\"fill:#472d7b;stroke:#472d7b;\" x=\"60.449912\" xlink:href=\"#C0_0_0bfd9c14ee\" y=\"131.802398\"/>\n    </g>\n    <g clip-path=\"url(#pcde8dd47f3)\">\n     <use style=\"fill:#440154;stroke:#440154;\" x=\"62.433358\" xlink:href=\"#C0_0_0bfd9c14ee\" y=\"129.292499\"/>\n    </g>\n    <g clip-path=\"url(#pcde8dd47f3)\">\n     <use style=\"fill:#fde725;stroke:#fde725;\" x=\"63.212718\" xlink:href=\"#C0_0_0bfd9c14ee\" y=\"128.498577\"/>\n    </g>\n    <g clip-path=\"url(#pcde8dd47f3)\">\n     <use style=\"fill:#440154;stroke:#440154;\" x=\"61.642019\" xlink:href=\"#C0_0_0bfd9c14ee\" y=\"134.165902\"/>\n    </g>\n    <g clip-path=\"url(#pcde8dd47f3)\">\n     <use style=\"fill:#440154;stroke:#440154;\" x=\"60.681458\" xlink:href=\"#C0_0_0bfd9c14ee\" y=\"130.850273\"/>\n    </g>\n    <g clip-path=\"url(#pcde8dd47f3)\">\n     <use style=\"fill:#472d7b;stroke:#472d7b;\" x=\"62.232721\" xlink:href=\"#C0_0_0bfd9c14ee\" y=\"127.54014\"/>\n    </g>\n    <g clip-path=\"url(#pcde8dd47f3)\">\n     <use style=\"fill:#fde725;stroke:#fde725;\" x=\"56.565811\" xlink:href=\"#C0_0_0bfd9c14ee\" y=\"136.364237\"/>\n    </g>\n    <g clip-path=\"url(#pcde8dd47f3)\">\n     <use style=\"fill:#472d7b;stroke:#472d7b;\" x=\"61.383394\" xlink:href=\"#C0_0_0bfd9c14ee\" y=\"128.937675\"/>\n    </g>\n    <g clip-path=\"url(#pcde8dd47f3)\">\n     <use style=\"fill:#440154;stroke:#440154;\" x=\"61.480657\" xlink:href=\"#C0_0_0bfd9c14ee\" y=\"131.38796\"/>\n    </g>\n    <g clip-path=\"url(#pcde8dd47f3)\">\n     <use style=\"fill:#440154;stroke:#440154;\" x=\"63.65692\" xlink:href=\"#C0_0_0bfd9c14ee\" y=\"131.725327\"/>\n    </g>\n    <g clip-path=\"url(#pcde8dd47f3)\">\n     <use style=\"fill:#440154;stroke:#440154;\" x=\"65.950342\" xlink:href=\"#C0_0_0bfd9c14ee\" y=\"129.741318\"/>\n    </g>\n    <g clip-path=\"url(#pcde8dd47f3)\">\n     <use style=\"fill:#472d7b;stroke:#472d7b;\" x=\"63.262247\" xlink:href=\"#C0_0_0bfd9c14ee\" y=\"124.996855\"/>\n    </g>\n    <g clip-path=\"url(#pcde8dd47f3)\">\n     <use style=\"fill:#472d7b;stroke:#472d7b;\" x=\"61.821418\" xlink:href=\"#C0_0_0bfd9c14ee\" y=\"129.209881\"/>\n    </g>\n    <g clip-path=\"url(#pcde8dd47f3)\">\n     <use style=\"fill:#472d7b;stroke:#472d7b;\" x=\"60.409932\" xlink:href=\"#C0_0_0bfd9c14ee\" y=\"130.8845\"/>\n    </g>\n    <g clip-path=\"url(#pcde8dd47f3)\">\n     <use style=\"fill:#440154;stroke:#440154;\" x=\"61.474836\" xlink:href=\"#C0_0_0bfd9c14ee\" y=\"131.589337\"/>\n    </g>\n    <g clip-path=\"url(#pcde8dd47f3)\">\n     <use style=\"fill:#440154;stroke:#440154;\" x=\"62.15741\" xlink:href=\"#C0_0_0bfd9c14ee\" y=\"129.466729\"/>\n    </g>\n    <g clip-path=\"url(#pcde8dd47f3)\">\n     <use style=\"fill:#440154;stroke:#440154;\" x=\"62.628839\" xlink:href=\"#C0_0_0bfd9c14ee\" y=\"130.814848\"/>\n    </g>\n    <g clip-path=\"url(#pcde8dd47f3)\">\n     <use style=\"fill:#472d7b;stroke:#472d7b;\" x=\"64.223076\" xlink:href=\"#C0_0_0bfd9c14ee\" y=\"125.897846\"/>\n    </g>\n    <g clip-path=\"url(#pcde8dd47f3)\">\n     <use style=\"fill:#472d7b;stroke:#472d7b;\" x=\"60.08113\" xlink:href=\"#C0_0_0bfd9c14ee\" y=\"132.006541\"/>\n    </g>\n    <g clip-path=\"url(#pcde8dd47f3)\">\n     <use style=\"fill:#fde725;stroke:#fde725;\" x=\"60.3861\" xlink:href=\"#C0_0_0bfd9c14ee\" y=\"136.365287\"/>\n    </g>\n    <g clip-path=\"url(#pcde8dd47f3)\">\n     <use style=\"fill:#440154;stroke:#440154;\" x=\"62.508039\" xlink:href=\"#C0_0_0bfd9c14ee\" y=\"130.783588\"/>\n    </g>\n    <g clip-path=\"url(#pcde8dd47f3)\">\n     <use style=\"fill:#472d7b;stroke:#472d7b;\" x=\"63.009382\" xlink:href=\"#C0_0_0bfd9c14ee\" y=\"128.977353\"/>\n    </g>\n    <g clip-path=\"url(#pcde8dd47f3)\">\n     <use style=\"fill:#fde725;stroke:#fde725;\" x=\"63.176063\" xlink:href=\"#C0_0_0bfd9c14ee\" y=\"127.490492\"/>\n    </g>\n    <g clip-path=\"url(#pcde8dd47f3)\">\n     <use style=\"fill:#440154;stroke:#440154;\" x=\"62.403685\" xlink:href=\"#C0_0_0bfd9c14ee\" y=\"132.941233\"/>\n    </g>\n    <g clip-path=\"url(#pcde8dd47f3)\">\n     <use style=\"fill:#440154;stroke:#440154;\" x=\"59.919406\" xlink:href=\"#C0_0_0bfd9c14ee\" y=\"132.40648\"/>\n    </g>\n    <g clip-path=\"url(#pcde8dd47f3)\">\n     <use style=\"fill:#440154;stroke:#440154;\" x=\"61.466298\" xlink:href=\"#C0_0_0bfd9c14ee\" y=\"129.846449\"/>\n    </g>\n    <g clip-path=\"url(#pcde8dd47f3)\">\n     <use style=\"fill:#472d7b;stroke:#472d7b;\" x=\"61.126487\" xlink:href=\"#C0_0_0bfd9c14ee\" y=\"130.804629\"/>\n    </g>\n    <g clip-path=\"url(#pcde8dd47f3)\">\n     <use style=\"fill:#472d7b;stroke:#472d7b;\" x=\"61.242314\" xlink:href=\"#C0_0_0bfd9c14ee\" y=\"123.447709\"/>\n    </g>\n    <g clip-path=\"url(#pcde8dd47f3)\">\n     <use style=\"fill:#440154;stroke:#440154;\" x=\"63.679819\" xlink:href=\"#C0_0_0bfd9c14ee\" y=\"129.147854\"/>\n    </g>\n    <g clip-path=\"url(#pcde8dd47f3)\">\n     <use style=\"fill:#440154;stroke:#440154;\" x=\"63.512272\" xlink:href=\"#C0_0_0bfd9c14ee\" y=\"131.129859\"/>\n    </g>\n    <g clip-path=\"url(#pcde8dd47f3)\">\n     <use style=\"fill:#440154;stroke:#440154;\" x=\"62.202605\" xlink:href=\"#C0_0_0bfd9c14ee\" y=\"128.386118\"/>\n    </g>\n    <g clip-path=\"url(#pcde8dd47f3)\">\n     <use style=\"fill:#fde725;stroke:#fde725;\" x=\"61.593702\" xlink:href=\"#C0_0_0bfd9c14ee\" y=\"131.965466\"/>\n    </g>\n    <g clip-path=\"url(#pcde8dd47f3)\">\n     <use style=\"fill:#440154;stroke:#440154;\" x=\"60.782481\" xlink:href=\"#C0_0_0bfd9c14ee\" y=\"131.550934\"/>\n    </g>\n   </g>\n   <g id=\"PathCollection_2\">\n    <defs>\n     <path d=\"M -3 3 \nL 3 -3 \nM -3 -3 \nL 3 3 \n\" id=\"mf262a9c802\" style=\"stroke:#ff0000;stroke-width:1.5;\"/>\n    </defs>\n    <g clip-path=\"url(#pcde8dd47f3)\">\n     <use style=\"fill:#ff0000;stroke:#ff0000;stroke-width:1.5;\" x=\"62.433358\" xlink:href=\"#mf262a9c802\" y=\"129.292499\"/>\n     <use style=\"fill:#ff0000;stroke:#ff0000;stroke-width:1.5;\" x=\"65.004865\" xlink:href=\"#mf262a9c802\" y=\"130.319976\"/>\n    </g>\n   </g>\n   <g id=\"matplotlib.axis_1\">\n    <g id=\"xtick_1\">\n     <g id=\"line2d_1\">\n      <defs>\n       <path d=\"M 0 0 \nL 0 3.5 \n\" id=\"m0e213b0543\" style=\"stroke:#000000;stroke-width:0.8;\"/>\n      </defs>\n      <g>\n       <use style=\"stroke:#000000;stroke-width:0.8;\" x=\"65.288831\" xlink:href=\"#m0e213b0543\" y=\"224.64\"/>\n      </g>\n     </g>\n     <g id=\"text_1\">\n      <!-- 0 -->\n      <g transform=\"translate(62.107581 239.238437)scale(0.1 -0.1)\">\n       <defs>\n        <path d=\"M 31.78125 66.40625 \nQ 24.171875 66.40625 20.328125 58.90625 \nQ 16.5 51.421875 16.5 36.375 \nQ 16.5 21.390625 20.328125 13.890625 \nQ 24.171875 6.390625 31.78125 6.390625 \nQ 39.453125 6.390625 43.28125 13.890625 \nQ 47.125 21.390625 47.125 36.375 \nQ 47.125 51.421875 43.28125 58.90625 \nQ 39.453125 66.40625 31.78125 66.40625 \nz\nM 31.78125 74.21875 \nQ 44.046875 74.21875 50.515625 64.515625 \nQ 56.984375 54.828125 56.984375 36.375 \nQ 56.984375 17.96875 50.515625 8.265625 \nQ 44.046875 -1.421875 31.78125 -1.421875 \nQ 19.53125 -1.421875 13.0625 8.265625 \nQ 6.59375 17.96875 6.59375 36.375 \nQ 6.59375 54.828125 13.0625 64.515625 \nQ 19.53125 74.21875 31.78125 74.21875 \nz\n\" id=\"DejaVuSans-48\"/>\n       </defs>\n       <use xlink:href=\"#DejaVuSans-48\"/>\n      </g>\n     </g>\n    </g>\n    <g id=\"xtick_2\">\n     <g id=\"line2d_2\">\n      <g>\n       <use style=\"stroke:#000000;stroke-width:0.8;\" x=\"104.209261\" xlink:href=\"#m0e213b0543\" y=\"224.64\"/>\n      </g>\n     </g>\n     <g id=\"text_2\">\n      <!-- 20 -->\n      <g transform=\"translate(97.846761 239.238437)scale(0.1 -0.1)\">\n       <defs>\n        <path d=\"M 19.1875 8.296875 \nL 53.609375 8.296875 \nL 53.609375 0 \nL 7.328125 0 \nL 7.328125 8.296875 \nQ 12.9375 14.109375 22.625 23.890625 \nQ 32.328125 33.6875 34.8125 36.53125 \nQ 39.546875 41.84375 41.421875 45.53125 \nQ 43.3125 49.21875 43.3125 52.78125 \nQ 43.3125 58.59375 39.234375 62.25 \nQ 35.15625 65.921875 28.609375 65.921875 \nQ 23.96875 65.921875 18.8125 64.3125 \nQ 13.671875 62.703125 7.8125 59.421875 \nL 7.8125 69.390625 \nQ 13.765625 71.78125 18.9375 73 \nQ 24.125 74.21875 28.421875 74.21875 \nQ 39.75 74.21875 46.484375 68.546875 \nQ 53.21875 62.890625 53.21875 53.421875 \nQ 53.21875 48.921875 51.53125 44.890625 \nQ 49.859375 40.875 45.40625 35.40625 \nQ 44.1875 33.984375 37.640625 27.21875 \nQ 31.109375 20.453125 19.1875 8.296875 \nz\n\" id=\"DejaVuSans-50\"/>\n       </defs>\n       <use xlink:href=\"#DejaVuSans-50\"/>\n       <use x=\"63.623047\" xlink:href=\"#DejaVuSans-48\"/>\n      </g>\n     </g>\n    </g>\n    <g id=\"xtick_3\">\n     <g id=\"line2d_3\">\n      <g>\n       <use style=\"stroke:#000000;stroke-width:0.8;\" x=\"143.129691\" xlink:href=\"#m0e213b0543\" y=\"224.64\"/>\n      </g>\n     </g>\n     <g id=\"text_3\">\n      <!-- 40 -->\n      <g transform=\"translate(136.767191 239.238437)scale(0.1 -0.1)\">\n       <defs>\n        <path d=\"M 37.796875 64.3125 \nL 12.890625 25.390625 \nL 37.796875 25.390625 \nz\nM 35.203125 72.90625 \nL 47.609375 72.90625 \nL 47.609375 25.390625 \nL 58.015625 25.390625 \nL 58.015625 17.1875 \nL 47.609375 17.1875 \nL 47.609375 0 \nL 37.796875 0 \nL 37.796875 17.1875 \nL 4.890625 17.1875 \nL 4.890625 26.703125 \nz\n\" id=\"DejaVuSans-52\"/>\n       </defs>\n       <use xlink:href=\"#DejaVuSans-52\"/>\n       <use x=\"63.623047\" xlink:href=\"#DejaVuSans-48\"/>\n      </g>\n     </g>\n    </g>\n    <g id=\"xtick_4\">\n     <g id=\"line2d_4\">\n      <g>\n       <use style=\"stroke:#000000;stroke-width:0.8;\" x=\"182.050121\" xlink:href=\"#m0e213b0543\" y=\"224.64\"/>\n      </g>\n     </g>\n     <g id=\"text_4\">\n      <!-- 60 -->\n      <g transform=\"translate(175.687621 239.238437)scale(0.1 -0.1)\">\n       <defs>\n        <path d=\"M 33.015625 40.375 \nQ 26.375 40.375 22.484375 35.828125 \nQ 18.609375 31.296875 18.609375 23.390625 \nQ 18.609375 15.53125 22.484375 10.953125 \nQ 26.375 6.390625 33.015625 6.390625 \nQ 39.65625 6.390625 43.53125 10.953125 \nQ 47.40625 15.53125 47.40625 23.390625 \nQ 47.40625 31.296875 43.53125 35.828125 \nQ 39.65625 40.375 33.015625 40.375 \nz\nM 52.59375 71.296875 \nL 52.59375 62.3125 \nQ 48.875 64.0625 45.09375 64.984375 \nQ 41.3125 65.921875 37.59375 65.921875 \nQ 27.828125 65.921875 22.671875 59.328125 \nQ 17.53125 52.734375 16.796875 39.40625 \nQ 19.671875 43.65625 24.015625 45.921875 \nQ 28.375 48.1875 33.59375 48.1875 \nQ 44.578125 48.1875 50.953125 41.515625 \nQ 57.328125 34.859375 57.328125 23.390625 \nQ 57.328125 12.15625 50.6875 5.359375 \nQ 44.046875 -1.421875 33.015625 -1.421875 \nQ 20.359375 -1.421875 13.671875 8.265625 \nQ 6.984375 17.96875 6.984375 36.375 \nQ 6.984375 53.65625 15.1875 63.9375 \nQ 23.390625 74.21875 37.203125 74.21875 \nQ 40.921875 74.21875 44.703125 73.484375 \nQ 48.484375 72.75 52.59375 71.296875 \nz\n\" id=\"DejaVuSans-54\"/>\n       </defs>\n       <use xlink:href=\"#DejaVuSans-54\"/>\n       <use x=\"63.623047\" xlink:href=\"#DejaVuSans-48\"/>\n      </g>\n     </g>\n    </g>\n    <g id=\"xtick_5\">\n     <g id=\"line2d_5\">\n      <g>\n       <use style=\"stroke:#000000;stroke-width:0.8;\" x=\"220.970551\" xlink:href=\"#m0e213b0543\" y=\"224.64\"/>\n      </g>\n     </g>\n     <g id=\"text_5\">\n      <!-- 80 -->\n      <g transform=\"translate(214.608051 239.238437)scale(0.1 -0.1)\">\n       <defs>\n        <path d=\"M 31.78125 34.625 \nQ 24.75 34.625 20.71875 30.859375 \nQ 16.703125 27.09375 16.703125 20.515625 \nQ 16.703125 13.921875 20.71875 10.15625 \nQ 24.75 6.390625 31.78125 6.390625 \nQ 38.8125 6.390625 42.859375 10.171875 \nQ 46.921875 13.96875 46.921875 20.515625 \nQ 46.921875 27.09375 42.890625 30.859375 \nQ 38.875 34.625 31.78125 34.625 \nz\nM 21.921875 38.8125 \nQ 15.578125 40.375 12.03125 44.71875 \nQ 8.5 49.078125 8.5 55.328125 \nQ 8.5 64.0625 14.71875 69.140625 \nQ 20.953125 74.21875 31.78125 74.21875 \nQ 42.671875 74.21875 48.875 69.140625 \nQ 55.078125 64.0625 55.078125 55.328125 \nQ 55.078125 49.078125 51.53125 44.71875 \nQ 48 40.375 41.703125 38.8125 \nQ 48.828125 37.15625 52.796875 32.3125 \nQ 56.78125 27.484375 56.78125 20.515625 \nQ 56.78125 9.90625 50.3125 4.234375 \nQ 43.84375 -1.421875 31.78125 -1.421875 \nQ 19.734375 -1.421875 13.25 4.234375 \nQ 6.78125 9.90625 6.78125 20.515625 \nQ 6.78125 27.484375 10.78125 32.3125 \nQ 14.796875 37.15625 21.921875 38.8125 \nz\nM 18.3125 54.390625 \nQ 18.3125 48.734375 21.84375 45.5625 \nQ 25.390625 42.390625 31.78125 42.390625 \nQ 38.140625 42.390625 41.71875 45.5625 \nQ 45.3125 48.734375 45.3125 54.390625 \nQ 45.3125 60.0625 41.71875 63.234375 \nQ 38.140625 66.40625 31.78125 66.40625 \nQ 25.390625 66.40625 21.84375 63.234375 \nQ 18.3125 60.0625 18.3125 54.390625 \nz\n\" id=\"DejaVuSans-56\"/>\n       </defs>\n       <use xlink:href=\"#DejaVuSans-56\"/>\n       <use x=\"63.623047\" xlink:href=\"#DejaVuSans-48\"/>\n      </g>\n     </g>\n    </g>\n    <g id=\"xtick_6\">\n     <g id=\"line2d_6\">\n      <g>\n       <use style=\"stroke:#000000;stroke-width:0.8;\" x=\"259.890981\" xlink:href=\"#m0e213b0543\" y=\"224.64\"/>\n      </g>\n     </g>\n     <g id=\"text_6\">\n      <!-- 100 -->\n      <g transform=\"translate(250.347231 239.238437)scale(0.1 -0.1)\">\n       <defs>\n        <path d=\"M 12.40625 8.296875 \nL 28.515625 8.296875 \nL 28.515625 63.921875 \nL 10.984375 60.40625 \nL 10.984375 69.390625 \nL 28.421875 72.90625 \nL 38.28125 72.90625 \nL 38.28125 8.296875 \nL 54.390625 8.296875 \nL 54.390625 0 \nL 12.40625 0 \nz\n\" id=\"DejaVuSans-49\"/>\n       </defs>\n       <use xlink:href=\"#DejaVuSans-49\"/>\n       <use x=\"63.623047\" xlink:href=\"#DejaVuSans-48\"/>\n       <use x=\"127.246094\" xlink:href=\"#DejaVuSans-48\"/>\n      </g>\n     </g>\n    </g>\n    <g id=\"xtick_7\">\n     <g id=\"line2d_7\">\n      <g>\n       <use style=\"stroke:#000000;stroke-width:0.8;\" x=\"298.811411\" xlink:href=\"#m0e213b0543\" y=\"224.64\"/>\n      </g>\n     </g>\n     <g id=\"text_7\">\n      <!-- 120 -->\n      <g transform=\"translate(289.267661 239.238437)scale(0.1 -0.1)\">\n       <use xlink:href=\"#DejaVuSans-49\"/>\n       <use x=\"63.623047\" xlink:href=\"#DejaVuSans-50\"/>\n       <use x=\"127.246094\" xlink:href=\"#DejaVuSans-48\"/>\n      </g>\n     </g>\n    </g>\n    <g id=\"xtick_8\">\n     <g id=\"line2d_8\">\n      <g>\n       <use style=\"stroke:#000000;stroke-width:0.8;\" x=\"337.731841\" xlink:href=\"#m0e213b0543\" y=\"224.64\"/>\n      </g>\n     </g>\n     <g id=\"text_8\">\n      <!-- 140 -->\n      <g transform=\"translate(328.188091 239.238437)scale(0.1 -0.1)\">\n       <use xlink:href=\"#DejaVuSans-49\"/>\n       <use x=\"63.623047\" xlink:href=\"#DejaVuSans-52\"/>\n       <use x=\"127.246094\" xlink:href=\"#DejaVuSans-48\"/>\n      </g>\n     </g>\n    </g>\n   </g>\n   <g id=\"matplotlib.axis_2\">\n    <g id=\"ytick_1\">\n     <g id=\"line2d_9\">\n      <defs>\n       <path d=\"M 0 0 \nL -3.5 0 \n\" id=\"m006d143492\" style=\"stroke:#000000;stroke-width:0.8;\"/>\n      </defs>\n      <g>\n       <use style=\"stroke:#000000;stroke-width:0.8;\" x=\"35.304688\" xlink:href=\"#m006d143492\" y=\"211.849122\"/>\n      </g>\n     </g>\n     <g id=\"text_9\">\n      <!-- −75 -->\n      <g transform=\"translate(7.2 215.64834)scale(0.1 -0.1)\">\n       <defs>\n        <path d=\"M 10.59375 35.5 \nL 73.1875 35.5 \nL 73.1875 27.203125 \nL 10.59375 27.203125 \nz\n\" id=\"DejaVuSans-8722\"/>\n        <path d=\"M 8.203125 72.90625 \nL 55.078125 72.90625 \nL 55.078125 68.703125 \nL 28.609375 0 \nL 18.3125 0 \nL 43.21875 64.59375 \nL 8.203125 64.59375 \nz\n\" id=\"DejaVuSans-55\"/>\n        <path d=\"M 10.796875 72.90625 \nL 49.515625 72.90625 \nL 49.515625 64.59375 \nL 19.828125 64.59375 \nL 19.828125 46.734375 \nQ 21.96875 47.46875 24.109375 47.828125 \nQ 26.265625 48.1875 28.421875 48.1875 \nQ 40.625 48.1875 47.75 41.5 \nQ 54.890625 34.8125 54.890625 23.390625 \nQ 54.890625 11.625 47.5625 5.09375 \nQ 40.234375 -1.421875 26.90625 -1.421875 \nQ 22.3125 -1.421875 17.546875 -0.640625 \nQ 12.796875 0.140625 7.71875 1.703125 \nL 7.71875 11.625 \nQ 12.109375 9.234375 16.796875 8.0625 \nQ 21.484375 6.890625 26.703125 6.890625 \nQ 35.15625 6.890625 40.078125 11.328125 \nQ 45.015625 15.765625 45.015625 23.390625 \nQ 45.015625 31 40.078125 35.4375 \nQ 35.15625 39.890625 26.703125 39.890625 \nQ 22.75 39.890625 18.8125 39.015625 \nQ 14.890625 38.140625 10.796875 36.28125 \nz\n\" id=\"DejaVuSans-53\"/>\n       </defs>\n       <use xlink:href=\"#DejaVuSans-8722\"/>\n       <use x=\"83.789062\" xlink:href=\"#DejaVuSans-55\"/>\n       <use x=\"147.412109\" xlink:href=\"#DejaVuSans-53\"/>\n      </g>\n     </g>\n    </g>\n    <g id=\"ytick_2\">\n     <g id=\"line2d_10\">\n      <g>\n       <use style=\"stroke:#000000;stroke-width:0.8;\" x=\"35.304688\" xlink:href=\"#m006d143492\" y=\"184.553597\"/>\n      </g>\n     </g>\n     <g id=\"text_10\">\n      <!-- −50 -->\n      <g transform=\"translate(7.2 188.352816)scale(0.1 -0.1)\">\n       <use xlink:href=\"#DejaVuSans-8722\"/>\n       <use x=\"83.789062\" xlink:href=\"#DejaVuSans-53\"/>\n       <use x=\"147.412109\" xlink:href=\"#DejaVuSans-48\"/>\n      </g>\n     </g>\n    </g>\n    <g id=\"ytick_3\">\n     <g id=\"line2d_11\">\n      <g>\n       <use style=\"stroke:#000000;stroke-width:0.8;\" x=\"35.304688\" xlink:href=\"#m006d143492\" y=\"157.258073\"/>\n      </g>\n     </g>\n     <g id=\"text_11\">\n      <!-- −25 -->\n      <g transform=\"translate(7.2 161.057292)scale(0.1 -0.1)\">\n       <use xlink:href=\"#DejaVuSans-8722\"/>\n       <use x=\"83.789062\" xlink:href=\"#DejaVuSans-50\"/>\n       <use x=\"147.412109\" xlink:href=\"#DejaVuSans-53\"/>\n      </g>\n     </g>\n    </g>\n    <g id=\"ytick_4\">\n     <g id=\"line2d_12\">\n      <g>\n       <use style=\"stroke:#000000;stroke-width:0.8;\" x=\"35.304688\" xlink:href=\"#m006d143492\" y=\"129.962549\"/>\n      </g>\n     </g>\n     <g id=\"text_12\">\n      <!-- 0 -->\n      <g transform=\"translate(21.942188 133.761768)scale(0.1 -0.1)\">\n       <use xlink:href=\"#DejaVuSans-48\"/>\n      </g>\n     </g>\n    </g>\n    <g id=\"ytick_5\">\n     <g id=\"line2d_13\">\n      <g>\n       <use style=\"stroke:#000000;stroke-width:0.8;\" x=\"35.304688\" xlink:href=\"#m006d143492\" y=\"102.667024\"/>\n      </g>\n     </g>\n     <g id=\"text_13\">\n      <!-- 25 -->\n      <g transform=\"translate(15.579688 106.466243)scale(0.1 -0.1)\">\n       <use xlink:href=\"#DejaVuSans-50\"/>\n       <use x=\"63.623047\" xlink:href=\"#DejaVuSans-53\"/>\n      </g>\n     </g>\n    </g>\n    <g id=\"ytick_6\">\n     <g id=\"line2d_14\">\n      <g>\n       <use style=\"stroke:#000000;stroke-width:0.8;\" x=\"35.304688\" xlink:href=\"#m006d143492\" y=\"75.3715\"/>\n      </g>\n     </g>\n     <g id=\"text_14\">\n      <!-- 50 -->\n      <g transform=\"translate(15.579688 79.170719)scale(0.1 -0.1)\">\n       <use xlink:href=\"#DejaVuSans-53\"/>\n       <use x=\"63.623047\" xlink:href=\"#DejaVuSans-48\"/>\n      </g>\n     </g>\n    </g>\n    <g id=\"ytick_7\">\n     <g id=\"line2d_15\">\n      <g>\n       <use style=\"stroke:#000000;stroke-width:0.8;\" x=\"35.304688\" xlink:href=\"#m006d143492\" y=\"48.075976\"/>\n      </g>\n     </g>\n     <g id=\"text_15\">\n      <!-- 75 -->\n      <g transform=\"translate(15.579688 51.875195)scale(0.1 -0.1)\">\n       <use xlink:href=\"#DejaVuSans-55\"/>\n       <use x=\"63.623047\" xlink:href=\"#DejaVuSans-53\"/>\n      </g>\n     </g>\n    </g>\n    <g id=\"ytick_8\">\n     <g id=\"line2d_16\">\n      <g>\n       <use style=\"stroke:#000000;stroke-width:0.8;\" x=\"35.304688\" xlink:href=\"#m006d143492\" y=\"20.780452\"/>\n      </g>\n     </g>\n     <g id=\"text_16\">\n      <!-- 100 -->\n      <g transform=\"translate(9.217188 24.57967)scale(0.1 -0.1)\">\n       <use xlink:href=\"#DejaVuSans-49\"/>\n       <use x=\"63.623047\" xlink:href=\"#DejaVuSans-48\"/>\n       <use x=\"127.246094\" xlink:href=\"#DejaVuSans-48\"/>\n      </g>\n     </g>\n    </g>\n   </g>\n   <g id=\"patch_3\">\n    <path d=\"M 35.304688 224.64 \nL 35.304688 7.2 \n\" style=\"fill:none;stroke:#000000;stroke-linecap:square;stroke-linejoin:miter;stroke-width:0.8;\"/>\n   </g>\n   <g id=\"patch_4\">\n    <path d=\"M 370.104688 224.64 \nL 370.104688 7.2 \n\" style=\"fill:none;stroke:#000000;stroke-linecap:square;stroke-linejoin:miter;stroke-width:0.8;\"/>\n   </g>\n   <g id=\"patch_5\">\n    <path d=\"M 35.304688 224.64 \nL 370.104688 224.64 \n\" style=\"fill:none;stroke:#000000;stroke-linecap:square;stroke-linejoin:miter;stroke-width:0.8;\"/>\n   </g>\n   <g id=\"patch_6\">\n    <path d=\"M 35.304688 7.2 \nL 370.104688 7.2 \n\" style=\"fill:none;stroke:#000000;stroke-linecap:square;stroke-linejoin:miter;stroke-width:0.8;\"/>\n   </g>\n  </g>\n </g>\n <defs>\n  <clipPath id=\"pcde8dd47f3\">\n   <rect height=\"217.44\" width=\"334.8\" x=\"35.304688\" y=\"7.2\"/>\n  </clipPath>\n </defs>\n</svg>\n",
      "image/png": "[encoded data removed]"
     },
     "metadata": {
      "needs_background": "light"
     }
    }
   ],
   "source": [
    "from sklearn.decomposition import PCA\n",
    "from sklearn.preprocessing import StandardScaler\n",
    "import matplotlib.pyplot as plt\n",
    "%matplotlib inline\n",
    "\n",
    "ch7_id = np.argwhere(df_dXp.index.values=='ch7')[0][0]\n",
    "\n",
    "X = df_dXp.values\n",
    "X = StandardScaler().fit_transform(X)\n",
    "\n",
    "# calculando o cosseno utilizando a formula\n",
    "# cos(x,y) = np.dot(x,y)/(np.linalg.norm(x)*np.linalg.norm(y))\n",
    "cosch7 = np.apply_along_axis(lambda x: \n",
    "             np.dot(X[ch7_id],x)/(np.linalg.norm(ch7_id)*np.linalg.norm(x)),1,X)\n",
    "\n",
    "# ordenando e pegando o maior valor (note que o elemento [-1] é o \n",
    "# próprio documento ch7)\n",
    "sim_ch7_id = np.argsort(cosch7)[-2]\n",
    "print('Documento mais parecido com ch7: ',df_dXp.index.values[sim_ch7_id])\n",
    "\n",
    "\n",
    "\n",
    "# encontrando as classes dos documentos a partir das iniciais dos\n",
    "# nomes dos documentos\n",
    "docid = {}\n",
    "for i,c in enumerate(df_dXp.index.values):\n",
    "   if c[0:2] not in docid:\n",
    "      docid[c[0:2]] = i\n",
    "        \n",
    "print(docid)\n",
    "        \n",
    "doc_class = [docid[c[0:2]] for c in df_dXp.index.values]\n",
    "\n",
    "X = df_dXp.values\n",
    "X = StandardScaler().fit_transform(X)\n",
    "\n",
    "pca_obj = PCA(n_components=2)\n",
    "Xpca = pca_obj.fit_transform(X)\n",
    "\n",
    "fig, ax = plt.subplots()\n",
    "ax.set_xlim(-5, 2)\n",
    "ax.set_ylim(-10, 5)\n",
    "# ch7 e o documento mais parecido estão marcos com um X vermelho\n",
    "plt.scatter(Xpca[:,0],Xpca[:,1],c=doc_class)\n",
    "plt.scatter(Xpca[[ch7_id,sim_ch7_id],0],Xpca[[ch7_id,sim_ch7_id],1],marker='x',color='r')"
   ]
  },
  {
   "cell_type": "code",
   "execution_count": null,
   "metadata": {},
   "outputs": [],
   "source": []
  }
 ],
 "metadata": {
  "kernelspec": {
   "name": "python388jvsc74a57bd054bfc7d4636b6a9e21c7fe418d72849dff5d8e5f01d1aec84a4210a34166d17b",
   "display_name": "Python 3.8.8 64-bit ('base': conda)"
  },
  "language_info": {
   "codemirror_mode": {
    "name": "ipython",
    "version": 3
   },
   "file_extension": ".py",
   "mimetype": "text/x-python",
   "name": "python",
   "nbconvert_exporter": "python",
   "pygments_lexer": "ipython3",
   "version": "3.8.8"
  },
  "toc": {
   "base_numbering": 1,
   "nav_menu": {},
   "number_sections": true,
   "sideBar": true,
   "skip_h1_title": false,
   "title_cell": "Table of Contents",
   "title_sidebar": "Contents",
   "toc_cell": false,
   "toc_position": {},
   "toc_section_display": true,
   "toc_window_display": false
  }
 },
 "nbformat": 4,
 "nbformat_minor": 2
}