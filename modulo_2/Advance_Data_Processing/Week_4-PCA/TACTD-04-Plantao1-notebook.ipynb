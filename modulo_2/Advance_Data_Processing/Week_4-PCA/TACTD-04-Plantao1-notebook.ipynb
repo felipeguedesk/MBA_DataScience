{
  "nbformat": 4,
  "nbformat_minor": 0,
  "metadata": {
    "kernelspec": {
      "display_name": "Python 3",
      "language": "python",
      "name": "python3"
    },
    "language_info": {
      "codemirror_mode": {
        "name": "ipython",
        "version": 3
      },
      "file_extension": ".py",
      "mimetype": "text/x-python",
      "name": "python",
      "nbconvert_exporter": "python",
      "pygments_lexer": "ipython3",
      "version": "3.6.11"
    },
    "colab": {
      "name": "Tutoria_4_TACTD.ipynb",
      "provenance": []
    }
  },
  "cells": [
    {
      "cell_type": "markdown",
      "metadata": {
        "id": "LdLuEkAeegTV"
      },
      "source": [
        "# Técnicas Avançadas de Captura e Tratamento de Dados - Semana 4\n",
        "Tutoria: Fernando Pereira dos Santos\n",
        "\n",
        "Tema: Análise de Componentes Principais - PCA"
      ]
    },
    {
      "cell_type": "code",
      "metadata": {
        "colab": {
          "base_uri": "https://localhost:8080/"
        },
        "id": "2MhpkcgBegTc",
        "outputId": "d8d25399-b692-4d80-f69c-c81891093b44"
      },
      "source": [
        "import numpy as np\n",
        "import pandas as pd\n",
        "import matplotlib.pyplot as plt\n",
        "\n",
        "from sklearn.datasets import load_iris\n",
        "from sklearn.decomposition import PCA, IncrementalPCA\n",
        "from scipy.stats import zscore\n",
        "\n",
        "# lendo dados da iris. \n",
        "iris = load_iris()\n",
        "\n",
        "X = iris.data\n",
        "Y = iris.target\n",
        "\n",
        "print(X.shape)\n",
        "print(Y.shape)\n",
        "print(np.unique(Y))"
      ],
      "execution_count": 1,
      "outputs": [
        {
          "output_type": "stream",
          "text": [
            "(150, 4)\n",
            "(150,)\n",
            "[0 1 2]\n"
          ],
          "name": "stdout"
        }
      ]
    },
    {
      "cell_type": "markdown",
      "metadata": {
        "id": "cD9G14hdI4Ei"
      },
      "source": [
        "# Variância do PCA"
      ]
    },
    {
      "cell_type": "code",
      "metadata": {
        "colab": {
          "base_uri": "https://localhost:8080/",
          "height": 492
        },
        "id": "demprSLGI9-Z",
        "outputId": "bbb34b5f-7b88-4901-df7a-c300d03bfe04"
      },
      "source": [
        "xPCA = PCA(svd_solver='full').fit(X)\n",
        "\n",
        "plt.rcParams['figure.figsize'] = [12, 6]\n",
        "f, (ax1, ax2)  = plt.subplots(1,2)\n",
        "\n",
        "# Quantidade de variância por cada uma das componentes selecionadas. \n",
        "ax1.plot(xPCA.explained_variance_, 'o')\n",
        "\n",
        "# Porcentagem da variância de cada uma das componentes selecionadas.\n",
        "ax2.plot(xPCA.explained_variance_ratio_, 'o')\n",
        "\n",
        "# Acúmulo de variância das principais componentes\n",
        "print(xPCA.explained_variance_ratio_[0])\n",
        "print(xPCA.explained_variance_ratio_[1])\n",
        "print(xPCA.explained_variance_ratio_[2])\n",
        "print(xPCA.explained_variance_ratio_[3])\n",
        "\n",
        "# Considerando as duas primeiras componentes\n",
        "print(\"2 componentes\\n\\n\", xPCA.explained_variance_ratio_[0]+xPCA.explained_variance_ratio_[1])"
      ],
      "execution_count": 2,
      "outputs": [
        {
          "output_type": "stream",
          "text": [
            "0.9246187232017271\n",
            "0.05306648311706782\n",
            "0.017102609807929763\n",
            "0.005212183873275374\n",
            "2 componentes\n",
            "\n",
            " 0.977685206318795\n"
          ],
          "name": "stdout"
        },
        {
          "output_type": "display_data",
          "data": {
            "image/png": "[encoded data removed]",
            "text/plain": [
              "<Figure size 864x432 with 2 Axes>"
            ]
          },
          "metadata": {
            "tags": [],
            "needs_background": "light"
          }
        }
      ]
    },
    {
      "cell_type": "markdown",
      "metadata": {
        "id": "AiJP9x_AegTc"
      },
      "source": [
        "# PCA versus IPCA"
      ]
    },
    {
      "cell_type": "code",
      "metadata": {
        "colab": {
          "base_uri": "https://localhost:8080/"
        },
        "id": "aAA9z8z2egTc",
        "outputId": "33d21339-8807-4c55-a44a-ec22c80e6a96"
      },
      "source": [
        "# IPCA é uma versão incremental do PCA. \n",
        "# Na execução do PCA todos os dados são alocados na memória, algo normal para bases de dados pequenas.\n",
        "# Contudo, quando a quantidade de dados é maior que a capacidade da memória, PCA não pode ser executado.\n",
        "# Consequentemente, a implementação IPCA permite que se faça as mesmas operações do PCA, carregando fatias dos dados alternadamente.\n",
        "# Para isso, o parâmetro batch_size deve ser preenchido, indicando a quantidade de dados carregados por vez.\n",
        "\n",
        "X_ipca = IncrementalPCA(n_components=2, batch_size=10).fit_transform(X)\n",
        "X_pca = PCA(n_components=2).fit_transform(X)\n",
        "\n",
        "#primeiro cenário com split X em X_train e X_test\n",
        "#pca = PCA(n_components=2)\n",
        "#X_train_result = pca.fit_transform(X_train)\n",
        "#X_test_result = pca.transform(X_test)\n",
        "\n",
        "#segundo cenário, novoX com dados coletados no futuro\n",
        "#pca = PCA(n_components=2)\n",
        "#X_train_result = pca.fit_transform(X)\n",
        "#X_novo_test_result = pca.transform(novoX)\n",
        "\n",
        "#para salvar a matriz de projeção para uso futuro:\n",
        "#import pickle as pk\n",
        "#pk.dump(pca, open(\"pca.pkl\",\"wb\"))\n",
        "\n",
        "#para carregar a matriz de projeção:\n",
        "#pca_reload = pk.load(open(\"pca.pkl\",'rb'))\n",
        "\n",
        "print(X_ipca.shape)\n",
        "print(X_pca.shape)"
      ],
      "execution_count": 3,
      "outputs": [
        {
          "output_type": "stream",
          "text": [
            "(150, 2)\n",
            "(150, 2)\n"
          ],
          "name": "stdout"
        }
      ]
    },
    {
      "cell_type": "code",
      "metadata": {
        "colab": {
          "base_uri": "https://localhost:8080/",
          "height": 378
        },
        "id": "SjYaK2t-egTd",
        "outputId": "bfdaa110-ec4e-48b4-e90d-68edbf3a3ce3"
      },
      "source": [
        "# Comparando a visualização de PCA versus IPCA, sendo exatamente a mesma\n",
        "plt.figure(figsize=(12, 6))\n",
        "\n",
        "colors = ['red','green','blue']\n",
        "\n",
        "plt.subplot(1, 2, 1)\n",
        "for i in range (0, X_pca.shape[0]):\n",
        "    plt.scatter(X_pca[i][0], X_pca[i][1], c=colors[Y[i]])\n",
        "\n",
        "plt.subplot(1, 2, 2)\n",
        "for i in range (0, X_ipca.shape[0]):\n",
        "    plt.scatter(X_ipca[i][0], X_ipca[i][1], c=colors[Y[i]])\n",
        "\n",
        "plt.show()"
      ],
      "execution_count": 4,
      "outputs": [
        {
          "output_type": "display_data",
          "data": {
            "image/png": "[encoded data removed]",
            "text/plain": [
              "<Figure size 864x432 with 2 Axes>"
            ]
          },
          "metadata": {
            "tags": [],
            "needs_background": "light"
          }
        }
      ]
    },
    {
      "cell_type": "markdown",
      "metadata": {
        "id": "RSK5qNiiLUuf"
      },
      "source": [
        "# Remoção de outliers antes da aplicação do PCA"
      ]
    },
    {
      "cell_type": "code",
      "metadata": {
        "colab": {
          "base_uri": "https://localhost:8080/",
          "height": 412
        },
        "id": "zxcb9bPRLOWF",
        "outputId": "fd8ce7b6-dfd0-44b1-b292-3108b3527556"
      },
      "source": [
        "# Remoção de outliers utilizando zscore\n",
        "outliers = np.abs(zscore(X, axis=0)) > 1.8    \n",
        "\n",
        "# registro dos exemplos que foram identificados como outliers\n",
        "outliers_id = np.argwhere(outliers == True)  \n",
        "\n",
        "# removendo outliers\n",
        "df = pd.DataFrame(X)\n",
        "df = df.drop(outliers_id[:,0], axis=0)\n",
        "X_no_outliers = df.values\n",
        "\n",
        "df = pd.DataFrame(Y)\n",
        "df = df.drop(outliers_id[:,0], axis=0)\n",
        "Y_no_outliers = df.values\n",
        "\n",
        "# Aplicando PCA ao novo conjunto de dados (sem outliers)\n",
        "newX = PCA(n_components=2).fit_transform(X_no_outliers)\n",
        "\n",
        "print(\"With possible outliers\", X_pca.shape)\n",
        "print(\"Without possible outliers\", newX.shape)\n",
        "\n",
        "plt.figure(figsize=(12, 6))\n",
        "colors = ['red','green','blue']\n",
        "\n",
        "plt.subplot(1, 2, 1)\n",
        "for i in range (0, X_pca.shape[0]):\n",
        "    plt.scatter(X_pca[i][0], X_pca[i][1], c=colors[Y[i]])\n",
        "\n",
        "plt.subplot(1, 2, 2)\n",
        "for i in range (0, newX.shape[0]):\n",
        "    plt.scatter(newX[i][0], newX[i][1], c=colors[int(Y_no_outliers[i])])\n",
        "\n",
        "plt.show()"
      ],
      "execution_count": 5,
      "outputs": [
        {
          "output_type": "stream",
          "text": [
            "With possible outliers (150, 2)\n",
            "Without possible outliers (132, 2)\n"
          ],
          "name": "stdout"
        },
        {
          "output_type": "display_data",
          "data": {
            "image/png": "[encoded data removed]",
            "text/plain": [
              "<Figure size 864x432 with 2 Axes>"
            ]
          },
          "metadata": {
            "tags": [],
            "needs_background": "light"
          }
        }
      ]
    },
    {
      "cell_type": "markdown",
      "metadata": {
        "id": "ckhglEYeegTd"
      },
      "source": [
        "# Observações importantes"
      ]
    },
    {
      "cell_type": "markdown",
      "metadata": {
        "id": "ytB3hMP_egTd"
      },
      "source": [
        "O tamanho do conjunto de dados pode aumentar rapidamente quando trabalhamos com dados não estruturados, como imagens e vídeos, por exemplo. Neste caso, utilizando redes neurais, nós não temos os dados em si. A partir das imagens, a rede neural irá disponibilizar os atributos, que podem ser da ordem de milhares para cada exemplo. Consequentemente, dependendo da quantidade de imagens e atributos, a alocação completa na memória é inviável.\n",
        "\n",
        "Neste cenário específico, muitos atributos são redundantes e não possuem variância. Então, aplicar técnicas de redução de dimensionalidade pode ser uma boa alternativa para melhorar o espaço de características e reduzir o custo computacional do classificador.\n",
        "\n",
        "Um detalhe a ser observado é em cenários com treinamento e teste disjuntos. Em muitos datasets (principalmente acadêmicos), os exemplos já são disponibilizados de forma separada. Assim, ao aplicar PCA, por exemplo, no conjunto de treinamento estamos transformando o espaço referente a este conjunto. Consequentemente, se aplicarmos PCA novamente ao conjunto de teste podemos ter outro espaço completamente diferente. Assim, uma alternativa mais confiável é:\n",
        "\n",
        "pca = PCA(n_components=n_components)\n",
        "\n",
        "X_pca_train = pca.fit_transform(X_train)\n",
        "\n",
        "X_pca_test = pca.transform(X_test)\n",
        "\n",
        "Aqui, estamos utilizando a combinação linear encontrada no conjunto de treinamento e aplicando-a ao conjunto de teste. Portanto, o conjunto de teste é transformado seguindo as diretrizes definidas pelo conjunto de treinamento.\n",
        "\n",
        "\n",
        "\n"
      ]
    }
  ]
}