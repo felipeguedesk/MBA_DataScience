{
 "cells": [
  {
   "cell_type": "markdown",
   "metadata": {},
   "source": [
    "# MBA em Ciência de Dados\n",
    "## Técnicas Avançadas de Captura e Tratamento de Dados\n",
    "\n",
    "\n",
    "### <span style=\"color:darkred\">Módulo III - Aquisição e Transformação de Dados</span>\n",
    "\n",
    "\n",
    "### <span style=\"color:darkred\">Exercícios - com soluções</span>\n",
    "\n",
    "Moacir Antonelli Ponti\n",
    "\n",
    "CeMEAI - ICMC/USP São Carlos\n",
    "\n",
    "---\n",
    "\n",
    "#### <span style=\"color:red\">Recomenda-se fortemente que os exercícios sejam feitos sem consultar as respostas antecipadamente.</span>\n",
    "\n",
    "---"
   ]
  },
  {
   "cell_type": "markdown",
   "metadata": {},
   "source": [
    "Utilize as bibliotecas e carrege os dados conforme descrito abaixo"
   ]
  },
  {
   "cell_type": "code",
   "execution_count": 1,
   "metadata": {},
   "outputs": [],
   "source": [
    "# carregando as bibliotecas necessárias\n",
    "import numpy as np\n",
    "import matplotlib.pyplot as plt\n",
    "import pandas as pd"
   ]
  },
  {
   "cell_type": "markdown",
   "metadata": {},
   "source": [
    "### Exercício 1)\n",
    " \n",
    "Tomando como base o conteúdo das seções 1.3.1, 1.3.2 e 1.3.3 do Capítulo \"Introduction to Data\", de Open Statistics. Considere os seguintes cenários:\n",
    "\n",
    "I - Analisando dados de educação, amostramos 30 escolas de todo o Brasil e observamos que, dessas 30 escolas, 10% não submeteram o resultado Pisa para Escolas, sendo que todas essas estão no estado de São Paulo. Assim, concluímos que existe uma possível relação entre não submissão e o estado de São Paulo.<br>\n",
    "II - Desejamos estudar a percepção da facilidade de usar um aplicativo desenvolvido por nossa empresa para uso no segmento de atividades físicas/esportes. Para isso montamos um questionário e selecionamos 20 pessoas da própria empresa, que não trabalham com desenvolvimento, para avaliar a sua facilidade de uso.\n",
    "\n",
    "Podemos considerar que I e II representam:\n",
    "\n",
    "(a) I - evidência confiável e conclusão correta; II - dados com amostragem de conveniência<br>\n",
    "<font color='red'>(b) I - evidência anedotal e conclusão incorreta; II - dados com viés de seleção<br></font>\n",
    "(c) I - evidência confiável e conclusão provavelmente correta; II - dados com amostragem representativa<br>\n",
    "(d) I - evidência anedotal e conclusão incorreta; II - dados com amostragem baseada em agrupamento<br>\n",
    "\n",
    "<font color='red'>Resposta</font>: *I - não é possível confiar em poucos dados, mesmo que sejam 10% dos dados amostrados, representam uma evidência \"anedotal\" e tirar conclusões seria incorreto; II - ao selecionar pessoas da própria empresa temos um viés de seleção conhecido por amostra de conveniência, sendo a amostra não representativa do que gostaríamos de estudar (usuários gerais).*\n",
    "\n",
    "\n"
   ]
  },
  {
   "cell_type": "markdown",
   "metadata": {},
   "source": [
    "### Exercício 2)\n",
    " \n",
    "Gostaríamos de obter e analisar dados disponíveis publicamente a partir de um repositório existente na Internet. Esses dados são referentes a indivíduos que contrataram serviços. Qual a primeira investigação ou procedimento a realizar ao obter esses dados?\n",
    "\n",
    "<font color='red'>(a) conhecer o espaço amostral dos dados e observar questões éticas como a privacidade dos respondentes<br></font>\n",
    "(b) realizar uma análise exploratória antes de qualquer análise<br>\n",
    "(c) auditar os dados, procurando por inconsistências como outliers<br>\n",
    "(d) inferir/treinar modelos diretamente a partir dos dados e medir sua acurácia<br>\n",
    "\n",
    "<font color='red'>Resposta</font>: *conhecer os dados, seu espaço amostral e verificar questões éticas é mais importante como prioridade do que as demais, pois podemos estar realizando uma análise inválida do ponto de vista dos dados que obtivemos, ou quebrando a ética ou lei de uso desses dados.*"
   ]
  },
  {
   "cell_type": "markdown",
   "metadata": {},
   "source": [
    "### Exercício 3)\n",
    " \n",
    "Uma empresa deseja entender melhor o potencial de mercado para um novo produto em um certo público-alvo. Qual das alternativas abaixo representa a melhor forma de proceder após decidir que a coleta dos dados é necessária?\n",
    "\n",
    "(a) permitir que os usuários enviem suas opiniões por meio de áudio ou vídeo, para depois coletar os dados a partir desse material<br>\n",
    "(b) implementar um questionário via aplicativo rapidamente em uma rede social popular e testá-lo massivamente, para verificar se os dados são consistentes com o que é esperado<br>\n",
    "(c) segmentar o público alvo e pedir ao menos 1 de cada segmento qual a chance, de 1 a 5 do indivíduo comprar esse produto<br>\n",
    "<font color='red'>(d) especificar detalhes dos dados a serem coletados, planejar como obter uma amostra representativa do público alvo<br></font><br>\n",
    "\n",
    "<font color='red'>Resposta</font>: *ainda que as outras opções sejam possíveis, é sempre melhor especificar bem os detalhes dos dados a serem coletados, e planejar para que o público alvo seja atingido de maneira uniforme, para não ter viés de seleção.*"
   ]
  },
  {
   "cell_type": "markdown",
   "metadata": {},
   "source": [
    "### Exercício 4)\n",
    " \n",
    "Acesse o portal : http://catalogo.governoaberto.sp.gov.br/\n",
    "\n",
    "Procure por duas fontes de dados e verifique o formato em que estão disponíveis\n",
    "\n",
    "I - \"Quantidade de alunos por tipo de ensino da rede estadual - 01/2019\" (Secretaria da Educação - Sede)<br>\n",
    "II - \"Pesquisa de Caracterização Socioeconômica do Usuário e seus Hábitos de Viagem - 2018\" (Companhia do Metropolitano de São Paulo - Metrô) \n",
    "\n",
    "Esses dados estão disponíveis no tipo:\n",
    "\n",
    "(a) I e II são arquivos simples em dados estruturados<br>\n",
    "(b) I e II são dados estruturados disponíveis em sistema gerenciador de bancos de dados<br>\n",
    "<font color='red'>(c) I são dados estruturados em arquivo simples, II dados não estruturados em arquivo binário<br></font>\n",
    "(d) I dados estruturados em arquivo binário, II são dados estruturados em arquivo texto<br>\n",
    "\n",
    "<font color='red'>Resposta</font>: *I está disponível em arquivo CSV com dados estruturados descritos em um \"dicionário de dados\", enquanto II apenas em formato PDF, binário, e de maneira não estruturada.*"
   ]
  },
  {
   "cell_type": "markdown",
   "metadata": {},
   "source": [
    "### Exercício 5)\n",
    "\n",
    "Baixe os dados relativos ao item I do exercício anterior, e carregue-os considerando as particularidades do arquivo em questão. Não carregue o cabeçalho (use `header=None`). Após carregar os dados para um dataframe remova as colunas de posição 21 em diante, mantendo as colunas de 0 a 20.\n",
    "\n",
    "Essas colunas restantes possuem significado de acordo com o \"dicionário de dados\", disponível ao visualizar o recurso dos dados no site onde o arquivo foi obtido. As colunas devem ser rotuladas da seguinte forma, em ordem:\n",
    "- CDREDE\n",
    "- DE\n",
    "- CODMUN\n",
    "- MUN\n",
    "- CATEG\n",
    "- COD_ESC\n",
    "- TIPOESC\n",
    "- CODVINC\n",
    "- NOMESC\n",
    "- ENDESC\n",
    "- NUMESC\n",
    "- BAIESC\n",
    "- EMAIL\n",
    "- FONE 1\n",
    "- ZONA\n",
    "- ED_INFANTIL\n",
    "- CLASSES ESPECIAIS\n",
    "- SALA DE RECURSO\n",
    "- ANOS INICIAIS\n",
    "- ANOS FINAIS\n",
    "- ENSINO MEDIO\n",
    "      \n",
    "Quantas linhas/exemplos existem nessa base de dados e qual é o tipo das variáveis NOMESC e ENSINO MEDIO, respectivamente?\n",
    "\n",
    "<font color='red'>(a) 5366, object, int64<br></font>\n",
    "(b) 17366, category, int8<br>\n",
    "(c) 21, object, int64<br>\n",
    "(d) 5366, category, float64<br>\n",
    "\n",
    "<font color='red'>Resposta</font>: *ver codigo abaixo*"
   ]
  },
  {
   "cell_type": "code",
   "execution_count": 41,
   "metadata": {},
   "outputs": [],
   "source": [
    "dc = pd.read_csv(\"./dados/VW_ALUNOS_POR_ESCOLA_20190517_0.csv\", sep=';', header=None)"
   ]
  },
  {
   "cell_type": "code",
   "execution_count": 42,
   "metadata": {},
   "outputs": [],
   "source": [
    "dc.drop(columns=list(range(21, dc.shape[1])), inplace=True)"
   ]
  },
  {
   "cell_type": "code",
   "execution_count": 43,
   "metadata": {},
   "outputs": [],
   "source": [
    "dc.columns = ['CDREDE', 'DE', 'CODMUN', 'MUN', 'CATEG', 'COD_ESC', 'TIPOESC', 'CODVINC', 'NOMESC', 'ENDESC', 'NUMESC', 'BAIESC', 'EMAIL', 'FONE1', 'ZONA', 'ED_INFANTIL', 'CLASSES ESPECIAIS', 'SALA DE RECURSO', 'ANOS INICIAIS', 'ANOS FINAIS', 'ENSINO MEDIO']"
   ]
  },
  {
   "cell_type": "code",
   "execution_count": 44,
   "metadata": {},
   "outputs": [
    {
     "name": "stdout",
     "output_type": "stream",
     "text": [
      "linhas:  5366\n"
     ]
    }
   ],
   "source": [
    "print(\"linhas: \", dc.shape[0])"
   ]
  },
  {
   "cell_type": "code",
   "execution_count": 45,
   "metadata": {},
   "outputs": [
    {
     "name": "stdout",
     "output_type": "stream",
     "text": [
      "int64\tCDREDE\n",
      "object\tDE\n",
      "int64\tCODMUN\n",
      "object\tMUN\n",
      "int64\tCATEG\n",
      "int64\tCOD_ESC\n",
      "int64\tTIPOESC\n",
      "int64\tCODVINC\n",
      "object\tNOMESC\n",
      "object\tENDESC\n",
      "object\tNUMESC\n",
      "object\tBAIESC\n",
      "object\tEMAIL\n",
      "float64\tFONE1\n",
      "int64\tZONA\n",
      "int64\tED_INFANTIL\n",
      "int64\tCLASSES ESPECIAIS\n",
      "int64\tSALA DE RECURSO\n",
      "int64\tANOS INICIAIS\n",
      "int64\tANOS FINAIS\n",
      "int64\tENSINO MEDIO\n"
     ]
    }
   ],
   "source": [
    "for var in dc:\n",
    "    print(f\"{dc[var].dtype.name}\\t{var}\")"
   ]
  },
  {
   "cell_type": "markdown",
   "metadata": {},
   "source": [
    "### Exercício 6)\n",
    "\n",
    "Visualize os dados únicos e o histograma da variável SALA DE RECURSO. \n",
    "\n",
    "Realize a discretização da variável utilizando o método do intervalo considerando os seguintes intervalos e rótulos.\n",
    "\n",
    "*intervalo* - *rótulo*<br>\n",
    "[0, 0] - '0'<br>\n",
    "[1, 4] - '1 a 4'<br>\n",
    "[5, 9] - '5 a 9'<br>\n",
    "[10, max(SALA DE RECURSO)] - '10+'<br>\n",
    "\n",
    "Use o método `cut()` lembrando que os intervalos são definidos de forma que:\n",
    "\n",
    "$[a, b, c, d]$\n",
    "\n",
    "resulta em 3 intervalos:<br>\n",
    "(a, b] - entre a e b, não inclui a<br>\n",
    "(b, c] - entre b e c, não inclui b  <br>\n",
    "(c, d] - entre c e d, não inclui c  <br> \n",
    "\n",
    "Adicione essa nova variável na base, com o nome 'SALA_DE_RECURSO_D'\n",
    "\n",
    "Responda, quantas linhas recaem em cada um dos 4 intervalos, respectivamente 0; 1 a 4; 5 a 9; e 10+?\n",
    "\n",
    "(a) 93, 415, 446, 772<br>\n",
    "<font color='red'>(b) 3636, 413, 470, 847<br></font>\n",
    "(c) 772, 446, 415, 93<br>\n",
    "(d) 3619, 411, 469, 846<br>\n",
    "\n",
    "<font color='red'>Resposta</font>: *ver codigo abaixo*\n"
   ]
  },
  {
   "cell_type": "code",
   "execution_count": 46,
   "metadata": {},
   "outputs": [
    {
     "name": "stdout",
     "output_type": "stream",
     "text": [
      "[ 0 26 11 21 10  6  7 68 28 24 20 15  8 19 25 17 32 14  1 18  2 31  4 16\n",
      " 13  5  9  3 33 36 22 12 29 57 34 27 45 35 42 37 43 23 49 30 71 60 44 48\n",
      " 38 39 79 59 40 41 77 67 46 64 61 65]\n"
     ]
    },
    {
     "data": {
      "text/plain": [
       "<matplotlib.axes._subplots.AxesSubplot at 0x7ff79333fdc0>"
      ]
     },
     "execution_count": 46,
     "metadata": {},
     "output_type": "execute_result"
    },
    {
     "data": {
      "image/png": "[encoded data removed]",
      "text/plain": [
       "<Figure size 432x288 with 1 Axes>"
      ]
     },
     "metadata": {
      "needs_background": "light"
     },
     "output_type": "display_data"
    }
   ],
   "source": [
    "print(dc['SALA DE RECURSO'].unique())\n",
    "dc['SALA DE RECURSO'].hist(bins=20)"
   ]
  },
  {
   "cell_type": "code",
   "execution_count": 47,
   "metadata": {
    "scrolled": true
   },
   "outputs": [],
   "source": [
    "#labels = ['0', '1 a 4', '5 a 9', '10+']\n",
    "maxsala = np.max(dc['SALA DE RECURSO'].unique())\n",
    "\n",
    "# definindo intervalos\n",
    "interv = [-1, 0, 4, 9, maxsala] #(-1,0], (0,4], (4, 9], (9, maxsala].\n",
    "\n",
    "# realizar discretizacao e armazenar\n",
    "dc['SALA_DE_RECURSO_D'] = pd.cut(dc['SALA DE RECURSO'], right=True, bins=interv)#, labels=labels)"
   ]
  },
  {
   "cell_type": "code",
   "execution_count": 48,
   "metadata": {},
   "outputs": [
    {
     "name": "stdout",
     "output_type": "stream",
     "text": [
      "(-1, 0]    3636\n",
      "(9, 79]     847\n",
      "(4, 9]      470\n",
      "(0, 4]      413\n",
      "Name: SALA_DE_RECURSO_D, dtype: int64\n"
     ]
    }
   ],
   "source": [
    "# exibir o tipo da coluna\n",
    "print(dc['SALA_DE_RECURSO_D'].value_counts())"
   ]
  },
  {
   "cell_type": "markdown",
   "metadata": {},
   "source": [
    "### Exercício 7)\n",
    " \n",
    "Vamos normalizar 3 variáveis: ANOS INICIAIS, ANOS FINAIS e ENSINO MEDIO\n",
    "\n",
    "A normalização utilizada será diferente para cada uma delas. Utilizaremos\n",
    "* min-max para ANOS INICIAIS, com a=0, b=1\n",
    "* norma L-$\\infty$ para ANOS FINAIS \n",
    "* $z$-score para ENSINO MEDIO\n",
    "\n",
    "Para isso, codifique funções que recebam uma coluna por parâmetro e retornem um atributo já normalizado\n",
    "\n",
    "Depois, aplique as funções e crie novas variáveis com os atributos normalizados: INICIAIS_n,  FINAIS_n, MEDIO_n.\n",
    "\n",
    "Após normalização, quais os valores de média e mediana de cada um deles, considerando arredondamento para 2 casas decimais? \n",
    "\n",
    "(a) INICIAIS_n: 0.00, 0.00;  FINAIS_n: 0.06, 0.00; MEDIO_n: 0.00, 0.17.<br>\n",
    "<font color='red'>(b) INICIAIS_n: 0.07, 0.00;  FINAIS_n: 0.16, 0.15; MEDIO_n: 0.00, -0.17.<br></font>\n",
    "(c) INICIAIS_n: 0.07, 0.00;  FINAIS_n: 0.15, 0.16; MEDIO_n: 0.00, -0.17.<br>\n",
    "(d) INICIAIS_n: 0.00, 0.00;  FINAIS_n: 0.00, 0.16; MEDIO_n: 0.00, 0.17.<br>\n",
    "\n",
    "<font color='red'>Resposta</font>: *ver codigo abaixo*\n"
   ]
  },
  {
   "cell_type": "code",
   "execution_count": 63,
   "metadata": {},
   "outputs": [],
   "source": [
    "def norm_0_1(att):\n",
    "    # computa minimo e maximo\n",
    "    var_min = att.min()\n",
    "    var_max = att.max()\n",
    "\n",
    "    # computa normalizacao\n",
    "    att_norm = (att - var_min) / (var_max-var_min)\n",
    "    return att_norm\n",
    "\n",
    "def norm_linf(att):\n",
    "    # encontra máximo\n",
    "    norminf = att.max()\n",
    "    # computa normalizacao\n",
    "    att_norm = att / norminf\n",
    "    return att_norm\n",
    "\n",
    "def norm_zscore(att):\n",
    "    # computa média e desvio padrao\n",
    "    var_mean = att.mean()\n",
    "    var_sigm = att.std()\n",
    "\n",
    "    # computa normalizacao\n",
    "    return ((att - var_mean) / var_sigm)\n"
   ]
  },
  {
   "cell_type": "code",
   "execution_count": 64,
   "metadata": {},
   "outputs": [],
   "source": [
    "# INICIAIS_n,  FINAIS_n, MEDIO_n\n",
    "dc['INICIAIS_n'] = norm_0_1(dc['ANOS INICIAIS'])\n",
    "dc['FINAIS_n']   = norm_linf(dc['ANOS FINAIS'])\n",
    "dc['MEDIO_n']    = norm_zscore(dc['ENSINO MEDIO'])"
   ]
  },
  {
   "cell_type": "code",
   "execution_count": 65,
   "metadata": {},
   "outputs": [
    {
     "data": {
      "text/html": [
       "<div>\n",
       "<style scoped>\n",
       "    .dataframe tbody tr th:only-of-type {\n",
       "        vertical-align: middle;\n",
       "    }\n",
       "\n",
       "    .dataframe tbody tr th {\n",
       "        vertical-align: top;\n",
       "    }\n",
       "\n",
       "    .dataframe thead th {\n",
       "        text-align: right;\n",
       "    }\n",
       "</style>\n",
       "<table border=\"1\" class=\"dataframe\">\n",
       "  <thead>\n",
       "    <tr style=\"text-align: right;\">\n",
       "      <th></th>\n",
       "      <th>INICIAIS_n</th>\n",
       "      <th>FINAIS_n</th>\n",
       "      <th>MEDIO_n</th>\n",
       "    </tr>\n",
       "  </thead>\n",
       "  <tbody>\n",
       "    <tr>\n",
       "      <th>count</th>\n",
       "      <td>5366.00</td>\n",
       "      <td>5366.00</td>\n",
       "      <td>5366.00</td>\n",
       "    </tr>\n",
       "    <tr>\n",
       "      <th>mean</th>\n",
       "      <td>0.07</td>\n",
       "      <td>0.16</td>\n",
       "      <td>-0.00</td>\n",
       "    </tr>\n",
       "    <tr>\n",
       "      <th>std</th>\n",
       "      <td>0.15</td>\n",
       "      <td>0.14</td>\n",
       "      <td>1.00</td>\n",
       "    </tr>\n",
       "    <tr>\n",
       "      <th>min</th>\n",
       "      <td>0.00</td>\n",
       "      <td>0.00</td>\n",
       "      <td>-0.94</td>\n",
       "    </tr>\n",
       "    <tr>\n",
       "      <th>25%</th>\n",
       "      <td>0.00</td>\n",
       "      <td>0.00</td>\n",
       "      <td>-0.94</td>\n",
       "    </tr>\n",
       "    <tr>\n",
       "      <th>50%</th>\n",
       "      <td>0.00</td>\n",
       "      <td>0.15</td>\n",
       "      <td>-0.17</td>\n",
       "    </tr>\n",
       "    <tr>\n",
       "      <th>75%</th>\n",
       "      <td>0.07</td>\n",
       "      <td>0.25</td>\n",
       "      <td>0.52</td>\n",
       "    </tr>\n",
       "    <tr>\n",
       "      <th>max</th>\n",
       "      <td>1.00</td>\n",
       "      <td>1.00</td>\n",
       "      <td>6.65</td>\n",
       "    </tr>\n",
       "  </tbody>\n",
       "</table>\n",
       "</div>"
      ],
      "text/plain": [
       "       INICIAIS_n  FINAIS_n  MEDIO_n\n",
       "count     5366.00   5366.00  5366.00\n",
       "mean         0.07      0.16    -0.00\n",
       "std          0.15      0.14     1.00\n",
       "min          0.00      0.00    -0.94\n",
       "25%          0.00      0.00    -0.94\n",
       "50%          0.00      0.15    -0.17\n",
       "75%          0.07      0.25     0.52\n",
       "max          1.00      1.00     6.65"
      ]
     },
     "execution_count": 65,
     "metadata": {},
     "output_type": "execute_result"
    }
   ],
   "source": [
    "np.round(dc[['INICIAIS_n',  'FINAIS_n', 'MEDIO_n']].describe(), 2)"
   ]
  },
  {
   "cell_type": "markdown",
   "metadata": {},
   "source": [
    "### Exercício 8)\n",
    "\n",
    "Utilizando as variáveis normalizadas no exercício anterior, compute distâncias entre a escola de COD_ESC = 24648 (atributo na coluna de índice 5) e todas as outras escolas - ou seja, excluindo a própria escola COD_ESC = 24648 - cujos códigos da rede (CDREDE) sejam 20510. \n",
    "\n",
    "Utilize a distancia Euclidiana.\n",
    "\n",
    "Compare usando vetor de atributos formado por 'INICIAIS_n',  'FINAIS_n' e 'MEDIO_n'. \n",
    "\n",
    "*Observação: deve-se ter cuidado ao usar normalizações distintas como feito nesse exercício para comparar atributos, em particular considerando que o z-score produz valores negativos. Considere esse procedimento apenas a título de exercício com diferentes tipos de normalização e, na dúvida, utilize normalização uniforme entre os atributos.* \n",
    "\n",
    "Qual escola foi a mais próxima (NOMESC) e a respectiva distância (arredondada para 2 casas decimais)?\n",
    "\n",
    "(a) MANOEL MARTINS, distância 1.6.<br>\n",
    "<font color='red'>(b) EDDA CARDOZO DE SOUZA MARCUSSI, distância 0.18<br></font>\n",
    "(c) EDDA CARDOZO DE SOUZA MARCUSSI, distância 105.19<br>\n",
    "(d) MANOEL MARTINS, distância 0.18<br>\n",
    "\n",
    "<font color='red'>Resposta</font>: *ver codigo abaixo*"
   ]
  },
  {
   "cell_type": "code",
   "execution_count": 66,
   "metadata": {},
   "outputs": [],
   "source": [
    "# implementando a funcao\n",
    "def dEuclidean(a, b):   \n",
    "    return np.sqrt(np.sum((a - b) ** 2))"
   ]
  },
  {
   "cell_type": "code",
   "execution_count": 87,
   "metadata": {},
   "outputs": [],
   "source": [
    "rede20510 = dc[(dc['COD_ESC'] != 24648) & (dc['CDREDE'] == 20510)].reset_index(drop=True)"
   ]
  },
  {
   "cell_type": "code",
   "execution_count": 68,
   "metadata": {},
   "outputs": [],
   "source": [
    "esc24740 = dc[dc['COD_ESC'] == 24648]"
   ]
  },
  {
   "cell_type": "code",
   "execution_count": 75,
   "metadata": {
    "scrolled": true
   },
   "outputs": [],
   "source": [
    "a = esc24740[['INICIAIS_n',  'FINAIS_n', 'MEDIO_n']].values"
   ]
  },
  {
   "cell_type": "code",
   "execution_count": 77,
   "metadata": {
    "scrolled": true
   },
   "outputs": [
    {
     "data": {
      "text/html": [
       "<div>\n",
       "<style scoped>\n",
       "    .dataframe tbody tr th:only-of-type {\n",
       "        vertical-align: middle;\n",
       "    }\n",
       "\n",
       "    .dataframe tbody tr th {\n",
       "        vertical-align: top;\n",
       "    }\n",
       "\n",
       "    .dataframe thead th {\n",
       "        text-align: right;\n",
       "    }\n",
       "</style>\n",
       "<table border=\"1\" class=\"dataframe\">\n",
       "  <thead>\n",
       "    <tr style=\"text-align: right;\">\n",
       "      <th></th>\n",
       "      <th>INICIAIS_n</th>\n",
       "      <th>FINAIS_n</th>\n",
       "      <th>MEDIO_n</th>\n",
       "      <th>MUN</th>\n",
       "      <th>NOMESC</th>\n",
       "    </tr>\n",
       "  </thead>\n",
       "  <tbody>\n",
       "    <tr>\n",
       "      <th>0</th>\n",
       "      <td>0.0</td>\n",
       "      <td>0.26209</td>\n",
       "      <td>0.107901</td>\n",
       "      <td>SALES OLIVEIRA</td>\n",
       "      <td>GETULIO LIMA CAPITAO</td>\n",
       "    </tr>\n",
       "  </tbody>\n",
       "</table>\n",
       "</div>"
      ],
      "text/plain": [
       "   INICIAIS_n  FINAIS_n   MEDIO_n             MUN                NOMESC\n",
       "0         0.0   0.26209  0.107901  SALES OLIVEIRA  GETULIO LIMA CAPITAO"
      ]
     },
     "execution_count": 77,
     "metadata": {},
     "output_type": "execute_result"
    }
   ],
   "source": [
    "esc24740[['INICIAIS_n', 'FINAIS_n', 'MEDIO_n', 'MUN', 'NOMESC']]"
   ]
  },
  {
   "cell_type": "code",
   "execution_count": 102,
   "metadata": {
    "scrolled": true
   },
   "outputs": [
    {
     "name": "stdout",
     "output_type": "stream",
     "text": [
      "GETULIO LIMA CAPITAO , FABIO JOSE DE ARAUJO 0.45329344944621364\n",
      "GETULIO LIMA CAPITAO , FRANCISCO RIBEIRO SOARES JUNIOR 0.6903410872138006\n",
      "GETULIO LIMA CAPITAO , RONDON MARECHAL 1.0962164974282378\n",
      "GETULIO LIMA CAPITAO , MARTINHO SYLVIO BIZUTTI PROFESSOR 0.48636150918971754\n",
      "GETULIO LIMA CAPITAO , ANTONIO FRANCISCO D AVILA 0.5486514245057609\n",
      "GETULIO LIMA CAPITAO , ANTONIO JUSTINO FALLEIROS CAPITAO 1.6398089876137287\n",
      "GETULIO LIMA CAPITAO , WILLIAN AMIN DOUTOR 0.472906372279377\n",
      "GETULIO LIMA CAPITAO , MANOEL MARTINS 1.600140241476802\n",
      "GETULIO LIMA CAPITAO , NEUSA OKANO MIZUNO PROFESSORA 1.0526454011504964\n",
      "GETULIO LIMA CAPITAO , MARIA CAROLINA DE LIMA DONA 0.5592673447295229\n",
      "GETULIO LIMA CAPITAO , OSWALDO RIBEIRO JUNQUEIRA 1.6318793716737323\n",
      "GETULIO LIMA CAPITAO , SYLVIO TORQUATO JUNQUEIRA 1.1084279247467264\n",
      "GETULIO LIMA CAPITAO , ADOLFO ALFEU FERRERO 1.1222420003429647\n",
      "GETULIO LIMA CAPITAO , GENOVEVA PINHEIRO VIEIRA DE VITTA PROFESSORA 1.3219987093433165\n",
      "GETULIO LIMA CAPITAO , MANOEL GOUVEIA DE LIMA 0.7056587664975107\n",
      "GETULIO LIMA CAPITAO , ELZA MIGUEL FRANCISCO PROFESSORA 1.059816248441595\n",
      "GETULIO LIMA CAPITAO , PEDRO AMAURI SILVA PROFESSOR 1.156657720916349\n",
      "GETULIO LIMA CAPITAO , GRAZIELA MALHEIRO FORTES PROFESSORA 1.0570306311229756\n",
      "GETULIO LIMA CAPITAO , EDDA CARDOZO DE SOUZA MARCUSSI 0.1819788993329697\n"
     ]
    }
   ],
   "source": [
    "dists = np.empty(rede20510.shape[0])\n",
    "for i in range(rede20510.shape[0]):\n",
    "    b = rede20510.loc[i, ['INICIAIS_n',  'FINAIS_n', 'MEDIO_n']].values\n",
    "    dists[i] = dEuclidean(a, b)\n",
    "    print(esc24740['NOMESC'].values[0], \",\",  rede20510.loc[i,['NOMESC']].values[0], dists[i])"
   ]
  },
  {
   "cell_type": "code",
   "execution_count": 108,
   "metadata": {
    "scrolled": true
   },
   "outputs": [
    {
     "name": "stdout",
     "output_type": "stream",
     "text": [
      "INICIAIS_n                               0.0\n",
      "FINAIS_n                            0.204776\n",
      "MEDIO_n                             0.280619\n",
      "MUN                     SAO JOAQUIM DA BARRA\n",
      "NOMESC        EDDA CARDOZO DE SOUZA MARCUSSI\n",
      "Name: 18, dtype: object\n",
      "dist = 0.18\n"
     ]
    }
   ],
   "source": [
    "print(rede20510.loc[np.argmin(dists), ['INICIAIS_n',  'FINAIS_n', 'MEDIO_n', 'MUN', 'NOMESC']])\n",
    "print(\"dist = %.2f\" % np.round(np.min(dists),2))"
   ]
  },
  {
   "cell_type": "markdown",
   "metadata": {},
   "source": [
    "### Exercício 9)\n",
    " \n",
    "Utilize os atributos 'ENSINO MEDIO', 'ANOS INICIAIS', 'ANOS FINAIS'. Vamos transformá-los por meio da função logarítmica. Para isso:\n",
    "\n",
    "1. Faça uma cópia da base de dados, e atribua nulo (nan) a todos os valores iguais a zero nesses atributos.\n",
    "2. Transforme esses atributos utilizando a operação logarítmica e os adicione à base de dados. Como nesse caso os atributos podem possuir valores maiores ou iguais a zero, para evitar erro com $\\log(0)$ utilize: `np.log(x+1)`, onde `x` é o atributo a ser transformado. \n",
    "3. Exiba a matriz de correlação de Pearson entre os atributos originais e os transformados.\n",
    "4. Mostre o scatterplot entre 'ENSINO MEDIO' e 'ANOS FINAIS', e compare com log(ENSINO MÉDIO) e log(ANOS FINAIS)\n",
    "\n",
    "Qual é a correlação, arredondada para duas casas decimais, entre o atributo transformado: log(ENSINO MÉDIO) e os outros dois atributos: log(ANOS INICIAIS) e  log(ANOS FINAIS), respectivamente?\n",
    "\n",
    "\n",
    "(a) 0.45 e 0.61<br>\n",
    "<font color='red'>(b) 0.74 e 0.78<br></font>\n",
    "(c) -1 e 1<br>\n",
    "(d) 0.45 e 0.78<br>\n",
    "\n",
    "<font color='red'>Resposta</font>: *ver codigo abaixo*"
   ]
  },
  {
   "cell_type": "code",
   "execution_count": 119,
   "metadata": {},
   "outputs": [
    {
     "data": {
      "text/plain": [
       "array([[<matplotlib.axes._subplots.AxesSubplot object at 0x7ff792eb64f0>,\n",
       "        <matplotlib.axes._subplots.AxesSubplot object at 0x7ff792ed5bb0>],\n",
       "       [<matplotlib.axes._subplots.AxesSubplot object at 0x7ff798042c10>,\n",
       "        <matplotlib.axes._subplots.AxesSubplot object at 0x7ff792e31820>]],\n",
       "      dtype=object)"
      ]
     },
     "execution_count": 119,
     "metadata": {},
     "output_type": "execute_result"
    },
    {
     "data": {
      "image/png": "[encoded data removed]",
      "text/plain": [
       "<Figure size 432x288 with 4 Axes>"
      ]
     },
     "metadata": {
      "needs_background": "light"
     },
     "output_type": "display_data"
    }
   ],
   "source": [
    "dc2 = dc.copy()\n",
    "\n",
    "dc2.loc[dc2['ENSINO MEDIO'] == 0, 'ENSINO MEDIO'] = np.nan\n",
    "dc2.loc[dc2['ANOS INICIAIS'] == 0,'ANOS INICIAIS'] = np.nan\n",
    "dc2.loc[dc2['ANOS FINAIS'] == 0,  'ANOS FINAIS'] = np.nan\n",
    "\n",
    "\n",
    "atts = ['ENSINO MEDIO', 'ANOS INICIAIS', 'ANOS FINAIS']\n",
    "dc2[atts].hist()\n"
   ]
  },
  {
   "cell_type": "code",
   "execution_count": null,
   "metadata": {},
   "outputs": [],
   "source": []
  },
  {
   "cell_type": "code",
   "execution_count": 121,
   "metadata": {},
   "outputs": [],
   "source": [
    "# vamos adicionar essas novas variaveis a base\n",
    "x_E = np.log1p(dc2['ENSINO MEDIO'])\n",
    "x_I = np.log1p(dc2['ANOS INICIAIS'])\n",
    "x_F = np.log1p(dc2['ANOS FINAIS'])\n",
    "x_A = x_E + x_I + x_F"
   ]
  },
  {
   "cell_type": "code",
   "execution_count": 14,
   "metadata": {},
   "outputs": [
    {
     "data": {
      "text/plain": [
       "Text(0.5, 0, 'Log(AF)')"
      ]
     },
     "execution_count": 14,
     "metadata": {},
     "output_type": "execute_result"
    },
    {
     "data": {
      "image/png": "[encoded data removed]",
      "text/plain": [
       "<Figure size 432x288 with 3 Axes>"
      ]
     },
     "metadata": {
      "needs_background": "light"
     },
     "output_type": "display_data"
    }
   ],
   "source": [
    "plt.subplot(131)\n",
    "h = plt.hist(x_E)\n",
    "plt.xlabel('Log(EM)')\n",
    "\n",
    "plt.subplot(132)\n",
    "h = plt.hist(x_I)\n",
    "plt.xlabel('Log(AI)')\n",
    "\n",
    "plt.subplot(133)\n",
    "h = plt.hist(x_F)\n",
    "plt.xlabel('Log(AF)')"
   ]
  },
  {
   "cell_type": "code",
   "execution_count": 15,
   "metadata": {},
   "outputs": [
    {
     "data": {
      "text/html": [
       "<div>\n",
       "<style scoped>\n",
       "    .dataframe tbody tr th:only-of-type {\n",
       "        vertical-align: middle;\n",
       "    }\n",
       "\n",
       "    .dataframe tbody tr th {\n",
       "        vertical-align: top;\n",
       "    }\n",
       "\n",
       "    .dataframe thead th {\n",
       "        text-align: right;\n",
       "    }\n",
       "</style>\n",
       "<table border=\"1\" class=\"dataframe\">\n",
       "  <thead>\n",
       "    <tr style=\"text-align: right;\">\n",
       "      <th></th>\n",
       "      <th>ENSINO MEDIO</th>\n",
       "      <th>ANOS INICIAIS</th>\n",
       "      <th>ANOS FINAIS</th>\n",
       "      <th>Log_EM</th>\n",
       "      <th>Log_AI</th>\n",
       "      <th>Log_AF</th>\n",
       "    </tr>\n",
       "  </thead>\n",
       "  <tbody>\n",
       "    <tr>\n",
       "      <th>ENSINO MEDIO</th>\n",
       "      <td>1.00</td>\n",
       "      <td>0.46</td>\n",
       "      <td>0.61</td>\n",
       "      <td>0.85</td>\n",
       "      <td>0.51</td>\n",
       "      <td>0.57</td>\n",
       "    </tr>\n",
       "    <tr>\n",
       "      <th>ANOS INICIAIS</th>\n",
       "      <td>0.46</td>\n",
       "      <td>1.00</td>\n",
       "      <td>0.61</td>\n",
       "      <td>0.57</td>\n",
       "      <td>0.79</td>\n",
       "      <td>0.64</td>\n",
       "    </tr>\n",
       "    <tr>\n",
       "      <th>ANOS FINAIS</th>\n",
       "      <td>0.61</td>\n",
       "      <td>0.61</td>\n",
       "      <td>1.00</td>\n",
       "      <td>0.66</td>\n",
       "      <td>0.62</td>\n",
       "      <td>0.85</td>\n",
       "    </tr>\n",
       "    <tr>\n",
       "      <th>Log_EM</th>\n",
       "      <td>0.85</td>\n",
       "      <td>0.57</td>\n",
       "      <td>0.66</td>\n",
       "      <td>1.00</td>\n",
       "      <td>0.74</td>\n",
       "      <td>0.78</td>\n",
       "    </tr>\n",
       "    <tr>\n",
       "      <th>Log_AI</th>\n",
       "      <td>0.51</td>\n",
       "      <td>0.79</td>\n",
       "      <td>0.62</td>\n",
       "      <td>0.74</td>\n",
       "      <td>1.00</td>\n",
       "      <td>0.81</td>\n",
       "    </tr>\n",
       "    <tr>\n",
       "      <th>Log_AF</th>\n",
       "      <td>0.57</td>\n",
       "      <td>0.64</td>\n",
       "      <td>0.85</td>\n",
       "      <td>0.78</td>\n",
       "      <td>0.81</td>\n",
       "      <td>1.00</td>\n",
       "    </tr>\n",
       "  </tbody>\n",
       "</table>\n",
       "</div>"
      ],
      "text/plain": [
       "               ENSINO MEDIO  ANOS INICIAIS  ANOS FINAIS  Log_EM  Log_AI  \\\n",
       "ENSINO MEDIO           1.00           0.46         0.61    0.85    0.51   \n",
       "ANOS INICIAIS          0.46           1.00         0.61    0.57    0.79   \n",
       "ANOS FINAIS            0.61           0.61         1.00    0.66    0.62   \n",
       "Log_EM                 0.85           0.57         0.66    1.00    0.74   \n",
       "Log_AI                 0.51           0.79         0.62    0.74    1.00   \n",
       "Log_AF                 0.57           0.64         0.85    0.78    0.81   \n",
       "\n",
       "               Log_AF  \n",
       "ENSINO MEDIO     0.57  \n",
       "ANOS INICIAIS    0.64  \n",
       "ANOS FINAIS      0.85  \n",
       "Log_EM           0.78  \n",
       "Log_AI           0.81  \n",
       "Log_AF           1.00  "
      ]
     },
     "execution_count": 15,
     "metadata": {},
     "output_type": "execute_result"
    }
   ],
   "source": [
    "dc2['Log_EM'] = x_E\n",
    "dc2['Log_AI'] = x_I\n",
    "dc2['Log_AF'] = x_F\n",
    "\n",
    "#dc2.loc[dc2['Log_EM']==0,'Log_EM'] = np.nan\n",
    "#dc2.loc[dc2['Log_AI']==0,'Log_AI'] = np.nan\n",
    "#dc2.loc[dc2['Log_AF']==0,'Log_AF'] = np.nan\n",
    "\n",
    "atts_t = atts + ['Log_EM', 'Log_AI', 'Log_AF']\n",
    "np.round(dc2[atts_t].corr(\"pearson\"),2)"
   ]
  },
  {
   "cell_type": "code",
   "execution_count": 16,
   "metadata": {},
   "outputs": [
    {
     "data": {
      "text/plain": [
       "<AxesSubplot:xlabel='ENSINO MEDIO', ylabel='ANOS FINAIS'>"
      ]
     },
     "execution_count": 16,
     "metadata": {},
     "output_type": "execute_result"
    },
    {
     "data": {
      "image/png": "[encoded data removed]",
      "text/plain": [
       "<Figure size 432x288 with 1 Axes>"
      ]
     },
     "metadata": {
      "needs_background": "light"
     },
     "output_type": "display_data"
    }
   ],
   "source": [
    "dc2.plot.scatter(x='ENSINO MEDIO', y='ANOS FINAIS')"
   ]
  },
  {
   "cell_type": "code",
   "execution_count": 17,
   "metadata": {},
   "outputs": [
    {
     "data": {
      "text/plain": [
       "<AxesSubplot:xlabel='Log_EM', ylabel='Log_AF'>"
      ]
     },
     "execution_count": 17,
     "metadata": {},
     "output_type": "execute_result"
    },
    {
     "data": {
      "image/png": "[encoded data removed]",
      "text/plain": [
       "<Figure size 432x288 with 1 Axes>"
      ]
     },
     "metadata": {
      "needs_background": "light"
     },
     "output_type": "display_data"
    }
   ],
   "source": [
    "dc2.plot.scatter(x='Log_EM', y='Log_AF')"
   ]
  },
  {
   "cell_type": "markdown",
   "metadata": {},
   "source": [
    "### Exercício 10)\n",
    " \n",
    "Codifique as variáveis categóricas 'SALA_DE_RECURSO_D' (categórica ordinal) e 'DE' (categórica nominal).\n",
    "\n",
    "Para a primeira, use números inteiros sequenciais, iniciado por 0 para codificar a variável segundo sua ordenação, sendo que os dois últimos (os dos valores maiores na ordenação) devem ser mapeados para um único código. Gere um novo atributo 'SALA_DE_RECURSO_D_ord'.\n",
    "\n",
    "Para a segunda, use números inteiros sequenciais, iniciados por 0 para codificar a variável em ordem alfabética, e gere um novo atributo 'DE_cod'\n",
    "\n",
    "A seguir, use a função `value_counts()` para mostrar a quantidade de cada código e responda abaixo quais os códigos numéricos (após a codificação) que possuem a maior contagem, i.e. são mais frequentes na base de dados, para cada variável nova:\n",
    "\n",
    "\n",
    "(a) DE_cod: 59 e 66;  SALA_DE_RECURSO_D_ord: 0 e 3<br>\n",
    "(b) DE_cod: 66 e 55;  SALA_DE_RECURSO_D_ord: 1 e 3<br>\n",
    "(c) DE_cod: 66 e 82;  SALA_DE_RECURSO_D_ord: 0 e 3<br>\n",
    "<font color='red'>(d)  DE_cod: 66 e 82;  SALA_DE_RECURSO_D_ord: 0 e 2<br></font>\n",
    "\n",
    "<font color='red'>Resposta</font>: *ver codigo abaixo*\n"
   ]
  },
  {
   "cell_type": "code",
   "execution_count": 135,
   "metadata": {},
   "outputs": [],
   "source": [
    "cats_sala = np.sort(dc['SALA_DE_RECURSO_D'].unique())\n",
    "num_sala = np.arange(len(cats_sala))"
   ]
  },
  {
   "cell_type": "code",
   "execution_count": 140,
   "metadata": {},
   "outputs": [],
   "source": [
    "num_sala[-1] = num_sala[-2]\n",
    "map_sala = dict(zip(cats_sala, num_sala))"
   ]
  },
  {
   "cell_type": "code",
   "execution_count": 141,
   "metadata": {},
   "outputs": [],
   "source": [
    "dc['DE_cod'] = dc['DE'].astype(\"category\").cat.codes\n",
    "dc['SALA_DE_RECURSO_D_ord'] = dc['SALA_DE_RECURSO_D'].map(map_sala)"
   ]
  },
  {
   "cell_type": "code",
   "execution_count": 142,
   "metadata": {
    "scrolled": true
   },
   "outputs": [
    {
     "data": {
      "text/plain": [
       "82    110\n",
       "66    110\n",
       "55    105\n",
       "50    104\n",
       "15     99\n",
       "     ... \n",
       "10     24\n",
       "31     21\n",
       "73     20\n",
       "59     18\n",
       "62     15\n",
       "Name: DE_cod, Length: 91, dtype: int64"
      ]
     },
     "execution_count": 142,
     "metadata": {},
     "output_type": "execute_result"
    }
   ],
   "source": [
    "dc['DE_cod'].value_counts()"
   ]
  },
  {
   "cell_type": "code",
   "execution_count": 143,
   "metadata": {},
   "outputs": [
    {
     "data": {
      "text/plain": [
       "0    3636\n",
       "2    1317\n",
       "1     413\n",
       "Name: SALA_DE_RECURSO_D_ord, dtype: int64"
      ]
     },
     "execution_count": 143,
     "metadata": {},
     "output_type": "execute_result"
    }
   ],
   "source": [
    "dc['SALA_DE_RECURSO_D_ord'].value_counts()"
   ]
  }
 ],
 "metadata": {
  "kernelspec": {
   "display_name": "Python 3",
   "language": "python",
   "name": "python3"
  },
  "language_info": {
   "codemirror_mode": {
    "name": "ipython",
    "version": 3
   },
   "file_extension": ".py",
   "mimetype": "text/x-python",
   "name": "python",
   "nbconvert_exporter": "python",
   "pygments_lexer": "ipython3",
   "version": "3.8.5"
  }
 },
 "nbformat": 4,
 "nbformat_minor": 4
}
