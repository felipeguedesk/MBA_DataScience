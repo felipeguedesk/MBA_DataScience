{
 "cells": [
  {
   "cell_type": "markdown",
   "metadata": {},
   "source": [
    "# MBA em Ciência de Dados\n",
    "## Técnicas Avançadas de Captura e Tratamento de Dados\n",
    "\n",
    "\n",
    "### <span style=\"color:darkred\">Módulo III - Aquisição e Transformação de Dados</span>\n",
    "\n",
    "\n",
    "## <span style=\"color:darkred\">Avaliação</span>\n",
    "\n",
    "Moacir Antonelli Ponti\n",
    "\n",
    "CeMEAI - ICMC/USP São Carlos\n",
    "\n",
    "---\n",
    "#### <font color='red'> As respostas devem ser fornecidas no Moodle. O notebook é apenas para a implementação dos códigos que fornecerão as respostas</font>\n",
    "\n",
    "---"
   ]
  },
  {
   "cell_type": "markdown",
   "metadata": {},
   "source": [
    "Antes de iniciar, acesse o portal : https://dados.educacao.sp.gov.br/dataset/fluxo-escolar-por-escola\n",
    "\n",
    "Procure pelo arquivo CSV relativo a \"Fluxo Escolar 2019 - por escola\", arquivo `FLUXO_ESCOLAR_ESCOLA.csv`<br>\n",
    "OBS: esse arquivo estará também no ZIP contendo os dados para esse módulo, caso haja problemas de acesso.\n",
    "\n",
    "O fluxo escolar é medido pela taxa média de aprovação em cada etapa da escolarização, sendo elas as séries iniciais e séries finais do Ensino Fundamental e Ensino Médio, coletadas pelo Censo Escolar.\n",
    "\n",
    "Para saber mais sobre o funcionamento do Fluxo Escolar, visite a página https://dados.educacao.sp.gov.br/story/fluxo\n",
    "\n",
    "Carregue os dados. As colunas possuem significado de acordo com o \"dicionário de dados\" disponível ao visualizar o arquivo no referido site. As colunas são rotuladas da seguinte forma:\n",
    "- Ano: para o qual foi realizado o cálculo do fluxo\n",
    "- CD_DIRETORIA: Código da diretoria de ensino\n",
    "- NM_DIRETORIA: Nome da diretoria de ensino\n",
    "- NM_MUNICIPIO: Nome do Município\n",
    "- CD_REDE_ENSINO: Código da Rede de Ensino (1:Estadual)\n",
    "- CD_ESCOLA: Código da Escola\n",
    "- NM_COMPLETO_ESCOLA: Nome Completo da Escola\n",
    "- CD_TP_IDENTIFICADOR: Código do Tipo de Escola\n",
    "- APR_1: Porcentagem de Alunos Aprovados no Ensino Fundamental - Anos Iniciais no ensino fundamental de 9 anos\n",
    "- REP_1: Porcentagem de Alunos Reprovados no Ensino Fundamental - Anos Iniciais no ensino fundamental de 9 anos\n",
    "- ABA_1: Porcentagem de Alunos com Abandono no Ensino Fundamental - Anos Iniciais no ensino fundamental de 9 anos\n",
    "- REP_2: Porcentagem de Alunos Reprovados no Ensino Fundamental - Anos Finais no ensino fundamental de 9 anos\n",
    "- ABA_2: Porcentagem de Alunos com Abando no Ensino Fundamental - Anos Finais no ensino fundamental de 9 anos\n",
    "- APR_3: Porcentagem de Alunos Aprovados no Ensino Médio\n",
    "- REP_3: Porcentagem de Alunos Reprovados no Ensino Médio\n",
    "- ABA_3: Porcentagem de Alunos com Abandono no Ensino Médio"
   ]
  },
  {
   "cell_type": "code",
   "execution_count": 1,
   "metadata": {},
   "outputs": [
    {
     "output_type": "stream",
     "name": "stdout",
     "text": [
      "atributos:  16\nlinhas:  5220\n"
     ]
    }
   ],
   "source": [
    "# carregando as bibliotecas necessárias\n",
    "import numpy as np\n",
    "import matplotlib.pyplot as plt\n",
    "import pandas as pd\n",
    "# carregando dados\n",
    "dc = pd.read_csv(\"../dados/FLUXO_ESCOLAR_ESCOLA.csv\", sep=',')\n",
    "ncols = dc.shape[1]\n",
    "ncols = dc.shape[1]\n",
    "print(\"atributos: \", ncols)\n",
    "print(\"linhas: \", dc.shape[0])"
   ]
  },
  {
   "cell_type": "code",
   "execution_count": 3,
   "metadata": {},
   "outputs": [
    {
     "output_type": "execute_result",
     "data": {
      "text/plain": [
       "    ANO NM_DIRETORIA NM_MUNICIPIO  CD_REDE_ENSINO  CD_ESCOLA  \\\n",
       "0  2019     BARRETOS     BARRETOS               1      22445   \n",
       "1  2019     BARRETOS     BARRETOS               1      22457   \n",
       "2  2019     BARRETOS     BARRETOS               1      22469   \n",
       "3  2019     BARRETOS     BARRETOS               1      36894   \n",
       "4  2019     BARRETOS     BARRETOS               1     579889   \n",
       "\n",
       "           NM_COMPLETO_ESCOLA  CD_TP_IDENTIFICADOR  APR_1  REP_1  ABA_1  \\\n",
       "0  AYMORE DO BRASIL PROFESSOR                    8    0.0    0.0    0.0   \n",
       "1    MACEDO SOARES EMBAIXADOR                    8    0.0    0.0    0.0   \n",
       "2      ANTONIO OLYMPIO DOUTOR                    8    0.0    0.0    0.0   \n",
       "3            VALOIS SCORTECCI                    8    0.0    0.0    0.0   \n",
       "4     MARIA HELENA SCANNAVINO                    8    0.0    0.0    0.0   \n",
       "\n",
       "    APR_2  REP_2  ABA_2  APR_3  REP_3  ABA_3  \n",
       "0   99.67   0.33    0.0    0.0    0.0    0.0  \n",
       "1    0.00   0.00    0.0  100.0    0.0    0.0  \n",
       "2  100.00   0.00    0.0  100.0    0.0    0.0  \n",
       "3  100.00   0.00    0.0    0.0    0.0    0.0  \n",
       "4    0.00   0.00    0.0  100.0    0.0    0.0  "
      ],
      "text/html": "<div>\n<style scoped>\n    .dataframe tbody tr th:only-of-type {\n        vertical-align: middle;\n    }\n\n    .dataframe tbody tr th {\n        vertical-align: top;\n    }\n\n    .dataframe thead th {\n        text-align: right;\n    }\n</style>\n<table border=\"1\" class=\"dataframe\">\n  <thead>\n    <tr style=\"text-align: right;\">\n      <th></th>\n      <th>ANO</th>\n      <th>NM_DIRETORIA</th>\n      <th>NM_MUNICIPIO</th>\n      <th>CD_REDE_ENSINO</th>\n      <th>CD_ESCOLA</th>\n      <th>NM_COMPLETO_ESCOLA</th>\n      <th>CD_TP_IDENTIFICADOR</th>\n      <th>APR_1</th>\n      <th>REP_1</th>\n      <th>ABA_1</th>\n      <th>APR_2</th>\n      <th>REP_2</th>\n      <th>ABA_2</th>\n      <th>APR_3</th>\n      <th>REP_3</th>\n      <th>ABA_3</th>\n    </tr>\n  </thead>\n  <tbody>\n    <tr>\n      <th>0</th>\n      <td>2019</td>\n      <td>BARRETOS</td>\n      <td>BARRETOS</td>\n      <td>1</td>\n      <td>22445</td>\n      <td>AYMORE DO BRASIL PROFESSOR</td>\n      <td>8</td>\n      <td>0.0</td>\n      <td>0.0</td>\n      <td>0.0</td>\n      <td>99.67</td>\n      <td>0.33</td>\n      <td>0.0</td>\n      <td>0.0</td>\n      <td>0.0</td>\n      <td>0.0</td>\n    </tr>\n    <tr>\n      <th>1</th>\n      <td>2019</td>\n      <td>BARRETOS</td>\n      <td>BARRETOS</td>\n      <td>1</td>\n      <td>22457</td>\n      <td>MACEDO SOARES EMBAIXADOR</td>\n      <td>8</td>\n      <td>0.0</td>\n      <td>0.0</td>\n      <td>0.0</td>\n      <td>0.00</td>\n      <td>0.00</td>\n      <td>0.0</td>\n      <td>100.0</td>\n      <td>0.0</td>\n      <td>0.0</td>\n    </tr>\n    <tr>\n      <th>2</th>\n      <td>2019</td>\n      <td>BARRETOS</td>\n      <td>BARRETOS</td>\n      <td>1</td>\n      <td>22469</td>\n      <td>ANTONIO OLYMPIO DOUTOR</td>\n      <td>8</td>\n      <td>0.0</td>\n      <td>0.0</td>\n      <td>0.0</td>\n      <td>100.00</td>\n      <td>0.00</td>\n      <td>0.0</td>\n      <td>100.0</td>\n      <td>0.0</td>\n      <td>0.0</td>\n    </tr>\n    <tr>\n      <th>3</th>\n      <td>2019</td>\n      <td>BARRETOS</td>\n      <td>BARRETOS</td>\n      <td>1</td>\n      <td>36894</td>\n      <td>VALOIS SCORTECCI</td>\n      <td>8</td>\n      <td>0.0</td>\n      <td>0.0</td>\n      <td>0.0</td>\n      <td>100.00</td>\n      <td>0.00</td>\n      <td>0.0</td>\n      <td>0.0</td>\n      <td>0.0</td>\n      <td>0.0</td>\n    </tr>\n    <tr>\n      <th>4</th>\n      <td>2019</td>\n      <td>BARRETOS</td>\n      <td>BARRETOS</td>\n      <td>1</td>\n      <td>579889</td>\n      <td>MARIA HELENA SCANNAVINO</td>\n      <td>8</td>\n      <td>0.0</td>\n      <td>0.0</td>\n      <td>0.0</td>\n      <td>0.00</td>\n      <td>0.00</td>\n      <td>0.0</td>\n      <td>100.0</td>\n      <td>0.0</td>\n      <td>0.0</td>\n    </tr>\n  </tbody>\n</table>\n</div>"
     },
     "metadata": {},
     "execution_count": 3
    }
   ],
   "source": [
    "dc.head()"
   ]
  },
  {
   "cell_type": "code",
   "execution_count": 4,
   "metadata": {},
   "outputs": [
    {
     "output_type": "execute_result",
     "data": {
      "text/plain": [
       "          ANO  CD_REDE_ENSINO      CD_ESCOLA  CD_TP_IDENTIFICADOR  \\\n",
       "count  5220.0          5220.0    5220.000000          5220.000000   \n",
       "mean   2019.0             1.0  283767.022989             8.661111   \n",
       "std       0.0             0.0  387722.682000             4.064519   \n",
       "min    2019.0             1.0      12.000000             7.000000   \n",
       "25%    2019.0             1.0   16430.000000             8.000000   \n",
       "50%    2019.0             1.0   36788.000000             8.000000   \n",
       "75%    2019.0             1.0  900758.750000             8.000000   \n",
       "max    2019.0             1.0  926103.000000            36.000000   \n",
       "\n",
       "             APR_1        REP_1        ABA_1        APR_2        REP_2  \\\n",
       "count  5220.000000  5220.000000  5220.000000  5220.000000  5220.000000   \n",
       "mean     29.809082     0.382054     0.077063    70.221803     2.441387   \n",
       "std      45.369878     3.281342     0.744221    42.627771     4.257804   \n",
       "min       0.000000     0.000000    -0.010000     0.000000     0.000000   \n",
       "25%       0.000000     0.000000     0.000000     0.000000     0.000000   \n",
       "50%       0.000000     0.000000     0.000000    95.360000     0.880000   \n",
       "75%      98.140000     0.000000     0.000000    98.540000     3.412500   \n",
       "max     100.000000   100.000000    46.150000   100.000000    76.560000   \n",
       "\n",
       "             ABA_2        APR_3        REP_3        ABA_3  \n",
       "count  5220.000000  5220.000000  5220.000000  5220.000000  \n",
       "mean      0.631830    66.354716     4.514134     1.698199  \n",
       "std       1.387269    41.400237     6.281815     3.225678  \n",
       "min      -0.010000     0.000000     0.000000    -0.010000  \n",
       "25%       0.000000     0.000000     0.000000     0.000000  \n",
       "50%       0.000000    89.420000     2.205000     0.000000  \n",
       "75%       0.710000    96.210000     6.962500     2.212500  \n",
       "max      40.000000   100.000000   100.000000    75.000000  "
      ],
      "text/html": "<div>\n<style scoped>\n    .dataframe tbody tr th:only-of-type {\n        vertical-align: middle;\n    }\n\n    .dataframe tbody tr th {\n        vertical-align: top;\n    }\n\n    .dataframe thead th {\n        text-align: right;\n    }\n</style>\n<table border=\"1\" class=\"dataframe\">\n  <thead>\n    <tr style=\"text-align: right;\">\n      <th></th>\n      <th>ANO</th>\n      <th>CD_REDE_ENSINO</th>\n      <th>CD_ESCOLA</th>\n      <th>CD_TP_IDENTIFICADOR</th>\n      <th>APR_1</th>\n      <th>REP_1</th>\n      <th>ABA_1</th>\n      <th>APR_2</th>\n      <th>REP_2</th>\n      <th>ABA_2</th>\n      <th>APR_3</th>\n      <th>REP_3</th>\n      <th>ABA_3</th>\n    </tr>\n  </thead>\n  <tbody>\n    <tr>\n      <th>count</th>\n      <td>5220.0</td>\n      <td>5220.0</td>\n      <td>5220.000000</td>\n      <td>5220.000000</td>\n      <td>5220.000000</td>\n      <td>5220.000000</td>\n      <td>5220.000000</td>\n      <td>5220.000000</td>\n      <td>5220.000000</td>\n      <td>5220.000000</td>\n      <td>5220.000000</td>\n      <td>5220.000000</td>\n      <td>5220.000000</td>\n    </tr>\n    <tr>\n      <th>mean</th>\n      <td>2019.0</td>\n      <td>1.0</td>\n      <td>283767.022989</td>\n      <td>8.661111</td>\n      <td>29.809082</td>\n      <td>0.382054</td>\n      <td>0.077063</td>\n      <td>70.221803</td>\n      <td>2.441387</td>\n      <td>0.631830</td>\n      <td>66.354716</td>\n      <td>4.514134</td>\n      <td>1.698199</td>\n    </tr>\n    <tr>\n      <th>std</th>\n      <td>0.0</td>\n      <td>0.0</td>\n      <td>387722.682000</td>\n      <td>4.064519</td>\n      <td>45.369878</td>\n      <td>3.281342</td>\n      <td>0.744221</td>\n      <td>42.627771</td>\n      <td>4.257804</td>\n      <td>1.387269</td>\n      <td>41.400237</td>\n      <td>6.281815</td>\n      <td>3.225678</td>\n    </tr>\n    <tr>\n      <th>min</th>\n      <td>2019.0</td>\n      <td>1.0</td>\n      <td>12.000000</td>\n      <td>7.000000</td>\n      <td>0.000000</td>\n      <td>0.000000</td>\n      <td>-0.010000</td>\n      <td>0.000000</td>\n      <td>0.000000</td>\n      <td>-0.010000</td>\n      <td>0.000000</td>\n      <td>0.000000</td>\n      <td>-0.010000</td>\n    </tr>\n    <tr>\n      <th>25%</th>\n      <td>2019.0</td>\n      <td>1.0</td>\n      <td>16430.000000</td>\n      <td>8.000000</td>\n      <td>0.000000</td>\n      <td>0.000000</td>\n      <td>0.000000</td>\n      <td>0.000000</td>\n      <td>0.000000</td>\n      <td>0.000000</td>\n      <td>0.000000</td>\n      <td>0.000000</td>\n      <td>0.000000</td>\n    </tr>\n    <tr>\n      <th>50%</th>\n      <td>2019.0</td>\n      <td>1.0</td>\n      <td>36788.000000</td>\n      <td>8.000000</td>\n      <td>0.000000</td>\n      <td>0.000000</td>\n      <td>0.000000</td>\n      <td>95.360000</td>\n      <td>0.880000</td>\n      <td>0.000000</td>\n      <td>89.420000</td>\n      <td>2.205000</td>\n      <td>0.000000</td>\n    </tr>\n    <tr>\n      <th>75%</th>\n      <td>2019.0</td>\n      <td>1.0</td>\n      <td>900758.750000</td>\n      <td>8.000000</td>\n      <td>98.140000</td>\n      <td>0.000000</td>\n      <td>0.000000</td>\n      <td>98.540000</td>\n      <td>3.412500</td>\n      <td>0.710000</td>\n      <td>96.210000</td>\n      <td>6.962500</td>\n      <td>2.212500</td>\n    </tr>\n    <tr>\n      <th>max</th>\n      <td>2019.0</td>\n      <td>1.0</td>\n      <td>926103.000000</td>\n      <td>36.000000</td>\n      <td>100.000000</td>\n      <td>100.000000</td>\n      <td>46.150000</td>\n      <td>100.000000</td>\n      <td>76.560000</td>\n      <td>40.000000</td>\n      <td>100.000000</td>\n      <td>100.000000</td>\n      <td>75.000000</td>\n    </tr>\n  </tbody>\n</table>\n</div>"
     },
     "metadata": {},
     "execution_count": 4
    }
   ],
   "source": [
    "dc.describe()"
   ]
  },
  {
   "cell_type": "markdown",
   "metadata": {},
   "source": [
    "### Questão 1)\n",
    " \n",
    "Considere os seguintes problemas e a natureza dos seus respectivos dados:\n",
    "\n",
    "I - Uma sequência de dados de um sensor de temperatura, com valores em Celsius coletados e armazenados a cada 2 horas. Utilizando o histórico de 1 ano de observações anteriores até o dia atual, se intenciona predizer a temperatura nas próximas 24 horas.<br>\n",
    "II - Uma base de dados contendo informações sobre livros (gênero, número de páginas, autor, ano de lançamento, país de origem, entre outros) e as avaliações desses livros (nota de 1 a 5) obtidos junto a leitores do fã clube de Harry Potter de Minas Gerais, com a qual se intenciona predizer qual seria a nota de um livro sendo considerado para publicação por uma editora, permitindo predizer o potencial desse novo livro para o público brasileiro.<br>\n",
    "III - Numa base de dados de um e-commerce contendo informações sobre clientes e seus padrões de compras, foi feita uma segmentação manual de milhares de clientes em 5 categorias. Deseja-se treinar modelos para aprender a classificar novos clientes em uma dessas categorias.<br>\n",
    "\n",
    "Podemos utilizar métodos que assumam dados do tipo i.i.d. (independente e identicamente distribuídos) e garantir que esses métodos irão obter conclusões válidas em quais dos casos?\n",
    "\n",
    "(a) III<br>\n",
    "(b) I e III<br>\n",
    "(c) I<br>\n",
    "(d) II<br>"
   ]
  },
  {
   "cell_type": "code",
   "execution_count": null,
   "metadata": {},
   "outputs": [],
   "source": []
  },
  {
   "cell_type": "markdown",
   "metadata": {},
   "source": [
    "### Questão 2)\n",
    " \n",
    "Compute a média das variáveis ABA_1, ABA_2 e ABA_3 e adicione essa média como um novo atributo ABA_MED à base de dados. Substitua por nulo (`nan`) os valores onde 'ABA_MED' seja igual a 0. Realize a **discretização** da variável 'ABA_MED' utilizando:\n",
    "1. o método dos quantis, utilizando 7 intervalos alvo\n",
    "2. o método dos intervalos, utilizando 6 intervalos alvo: (0, 1] (1, 5] (5, 10] (10, 25] (25, 50] (50, max(ABA_MED)],\n",
    "em que max(ABA_MED) é o maior valor desse atributo\n",
    "\n",
    "Use o método qcut() para o item 1 e cut() para o item 2\n",
    "\n",
    "Adicione essa novas variáveis na base, com os nomes 'ABA_Q' (quantis) e 'ABA_I' (intervalos)\n",
    "\n",
    "Qual é a quantidade de dados (frequências dos valores discretizados) na base após a discretização, relativos ao primeiro intervalo (com os menores valores) e ao último intervalo (com os maiores valores) para, respectivamente, ABA_Q e ABA_I?\n",
    "\n",
    "(a) ABA_Q: primeiro -0.004, último 423. ABA_I: primeiro 1, último 431<br>\n",
    "(b) ABA_Q: primeiro 423, último 431. ABA_I: primeiro 1612, último 4<br>\n",
    "(c) ABA_Q: primeiro 431, último 3099. ABA_I: primeiro 1612, último 0<br>\n",
    "(d) ABA_Q: primeiro 431, último 423. ABA_I: primeiro 1612, último 1<br>"
   ]
  },
  {
   "cell_type": "code",
   "execution_count": 6,
   "metadata": {},
   "outputs": [],
   "source": [
    "dc['ABA_MED'] = (dc['ABA_1'] + dc['ABA_2'] + dc['ABA_3'])/3\n",
    "dc.loc[dc['ABA_MED'] == 0,'ABA_MED'] = np.nan"
   ]
  },
  {
   "cell_type": "code",
   "execution_count": 7,
   "metadata": {},
   "outputs": [
    {
     "output_type": "execute_result",
     "data": {
      "text/plain": [
       "    ANO NM_DIRETORIA NM_MUNICIPIO  CD_REDE_ENSINO  CD_ESCOLA  \\\n",
       "0  2019     BARRETOS     BARRETOS               1      22445   \n",
       "1  2019     BARRETOS     BARRETOS               1      22457   \n",
       "2  2019     BARRETOS     BARRETOS               1      22469   \n",
       "3  2019     BARRETOS     BARRETOS               1      36894   \n",
       "4  2019     BARRETOS     BARRETOS               1     579889   \n",
       "\n",
       "           NM_COMPLETO_ESCOLA  CD_TP_IDENTIFICADOR  APR_1  REP_1  ABA_1  \\\n",
       "0  AYMORE DO BRASIL PROFESSOR                    8    0.0    0.0    0.0   \n",
       "1    MACEDO SOARES EMBAIXADOR                    8    0.0    0.0    0.0   \n",
       "2      ANTONIO OLYMPIO DOUTOR                    8    0.0    0.0    0.0   \n",
       "3            VALOIS SCORTECCI                    8    0.0    0.0    0.0   \n",
       "4     MARIA HELENA SCANNAVINO                    8    0.0    0.0    0.0   \n",
       "\n",
       "    APR_2  REP_2  ABA_2  APR_3  REP_3  ABA_3  ABA_MED  \n",
       "0   99.67   0.33    0.0    0.0    0.0    0.0      NaN  \n",
       "1    0.00   0.00    0.0  100.0    0.0    0.0      NaN  \n",
       "2  100.00   0.00    0.0  100.0    0.0    0.0      NaN  \n",
       "3  100.00   0.00    0.0    0.0    0.0    0.0      NaN  \n",
       "4    0.00   0.00    0.0  100.0    0.0    0.0      NaN  "
      ],
      "text/html": "<div>\n<style scoped>\n    .dataframe tbody tr th:only-of-type {\n        vertical-align: middle;\n    }\n\n    .dataframe tbody tr th {\n        vertical-align: top;\n    }\n\n    .dataframe thead th {\n        text-align: right;\n    }\n</style>\n<table border=\"1\" class=\"dataframe\">\n  <thead>\n    <tr style=\"text-align: right;\">\n      <th></th>\n      <th>ANO</th>\n      <th>NM_DIRETORIA</th>\n      <th>NM_MUNICIPIO</th>\n      <th>CD_REDE_ENSINO</th>\n      <th>CD_ESCOLA</th>\n      <th>NM_COMPLETO_ESCOLA</th>\n      <th>CD_TP_IDENTIFICADOR</th>\n      <th>APR_1</th>\n      <th>REP_1</th>\n      <th>ABA_1</th>\n      <th>APR_2</th>\n      <th>REP_2</th>\n      <th>ABA_2</th>\n      <th>APR_3</th>\n      <th>REP_3</th>\n      <th>ABA_3</th>\n      <th>ABA_MED</th>\n    </tr>\n  </thead>\n  <tbody>\n    <tr>\n      <th>0</th>\n      <td>2019</td>\n      <td>BARRETOS</td>\n      <td>BARRETOS</td>\n      <td>1</td>\n      <td>22445</td>\n      <td>AYMORE DO BRASIL PROFESSOR</td>\n      <td>8</td>\n      <td>0.0</td>\n      <td>0.0</td>\n      <td>0.0</td>\n      <td>99.67</td>\n      <td>0.33</td>\n      <td>0.0</td>\n      <td>0.0</td>\n      <td>0.0</td>\n      <td>0.0</td>\n      <td>NaN</td>\n    </tr>\n    <tr>\n      <th>1</th>\n      <td>2019</td>\n      <td>BARRETOS</td>\n      <td>BARRETOS</td>\n      <td>1</td>\n      <td>22457</td>\n      <td>MACEDO SOARES EMBAIXADOR</td>\n      <td>8</td>\n      <td>0.0</td>\n      <td>0.0</td>\n      <td>0.0</td>\n      <td>0.00</td>\n      <td>0.00</td>\n      <td>0.0</td>\n      <td>100.0</td>\n      <td>0.0</td>\n      <td>0.0</td>\n      <td>NaN</td>\n    </tr>\n    <tr>\n      <th>2</th>\n      <td>2019</td>\n      <td>BARRETOS</td>\n      <td>BARRETOS</td>\n      <td>1</td>\n      <td>22469</td>\n      <td>ANTONIO OLYMPIO DOUTOR</td>\n      <td>8</td>\n      <td>0.0</td>\n      <td>0.0</td>\n      <td>0.0</td>\n      <td>100.00</td>\n      <td>0.00</td>\n      <td>0.0</td>\n      <td>100.0</td>\n      <td>0.0</td>\n      <td>0.0</td>\n      <td>NaN</td>\n    </tr>\n    <tr>\n      <th>3</th>\n      <td>2019</td>\n      <td>BARRETOS</td>\n      <td>BARRETOS</td>\n      <td>1</td>\n      <td>36894</td>\n      <td>VALOIS SCORTECCI</td>\n      <td>8</td>\n      <td>0.0</td>\n      <td>0.0</td>\n      <td>0.0</td>\n      <td>100.00</td>\n      <td>0.00</td>\n      <td>0.0</td>\n      <td>0.0</td>\n      <td>0.0</td>\n      <td>0.0</td>\n      <td>NaN</td>\n    </tr>\n    <tr>\n      <th>4</th>\n      <td>2019</td>\n      <td>BARRETOS</td>\n      <td>BARRETOS</td>\n      <td>1</td>\n      <td>579889</td>\n      <td>MARIA HELENA SCANNAVINO</td>\n      <td>8</td>\n      <td>0.0</td>\n      <td>0.0</td>\n      <td>0.0</td>\n      <td>0.00</td>\n      <td>0.00</td>\n      <td>0.0</td>\n      <td>100.0</td>\n      <td>0.0</td>\n      <td>0.0</td>\n      <td>NaN</td>\n    </tr>\n  </tbody>\n</table>\n</div>"
     },
     "metadata": {},
     "execution_count": 7
    }
   ],
   "source": [
    "dc.head()"
   ]
  },
  {
   "cell_type": "code",
   "execution_count": 9,
   "metadata": {},
   "outputs": [],
   "source": [
    "dc['ABA_Q'] = pd.qcut(dc['ABA_MED'], 7)"
   ]
  },
  {
   "cell_type": "code",
   "execution_count": 11,
   "metadata": {},
   "outputs": [
    {
     "output_type": "stream",
     "name": "stdout",
     "text": [
      "(0.617, 1.09]                      431\n(-0.0043300000000000005, 0.143]    431\n(1.766, 2.91]                      425\n(0.314, 0.617]                     424\n(2.91, 53.717]                     423\n(0.143, 0.314]                     417\n(1.09, 1.766]                      415\nName: ABA_Q, dtype: int64\n"
     ]
    }
   ],
   "source": [
    "print(dc['ABA_Q'].value_counts())\n"
   ]
  },
  {
   "cell_type": "code",
   "execution_count": 14,
   "metadata": {},
   "outputs": [],
   "source": [
    "interv = [0, 1, 5, 10, 25, 50, np.max(dc['ABA_MED'])]\n",
    "dc['ABA_I'] = pd.cut(dc['ABA_MED'], right=True, bins=interv)"
   ]
  },
  {
   "cell_type": "code",
   "execution_count": 15,
   "metadata": {},
   "outputs": [
    {
     "output_type": "stream",
     "name": "stdout",
     "text": [
      "(0.0, 1.0]        1612\n(1.0, 5.0]        1226\n(5.0, 10.0]        113\n(10.0, 25.0]         3\n(50.0, 53.717]       1\n(25.0, 50.0]         0\nName: ABA_I, dtype: int64\n"
     ]
    }
   ],
   "source": [
    "print(dc['ABA_I'].value_counts())"
   ]
  },
  {
   "cell_type": "markdown",
   "metadata": {},
   "source": [
    "### Questão 3)\n",
    "\n",
    "\n",
    "Normalize 2 variáveis da base: ABA_MED e APR_3\n",
    "* APR_3 utilizando normalização min-max com mínimo 0 e máximo 1\n",
    "* ABA_MED utilizando normalização robusta\n",
    "\n",
    "Para isso, codifique funções que recebam uma coluna por parâmetro e retornem um atributo já normalizado\n",
    "\n",
    "Depois, aplique as funções e crie novas variáveis com os atributos normalizados: APR_3_01 e ABA_MED_nr.\n",
    "\n",
    "Após a normalização, quais os valores de média, desvio padrão, mínimo e máximo dessas novas variáveis, arredondando para 1 casa decimal?\n",
    "\n",
    "(a) APR_3_01: 0.0, 1.0, 0.0, 1.0; ABA_MED_nr: 0.3, 1.1, -0.5, 30.8<br>\n",
    "(b) APR_3_01: 0.7, 0.4, 0.0, 1.0; ABA_MED_nr: 0.3, 0.7, -1.0, 53.8<br>\n",
    "(c) APR_3_01: 0.0, 1.0, 0.0, 1.0; ABA_MED_nr: 0.3, 0.7, -1.0, 53.8<br>\n",
    "(d) APR_3_01: 0.7, 0.4, 0.0, 1.0; ABA_MED_nr: 0.3, 1.1, -0.5, 30.8<br>"
   ]
  },
  {
   "cell_type": "code",
   "execution_count": 33,
   "metadata": {},
   "outputs": [
    {
     "output_type": "execute_result",
     "data": {
      "text/plain": [
       "       APR_3_01  ABA_MED_nr\n",
       "count    5220.0      2966.0\n",
       "mean        0.7         0.3\n",
       "std         0.4         1.1\n",
       "min         0.0        -0.5\n",
       "25%         0.0        -0.3\n",
       "50%         0.9         0.0\n",
       "75%         1.0         0.7\n",
       "max         1.0        30.8"
      ],
      "text/html": "<div>\n<style scoped>\n    .dataframe tbody tr th:only-of-type {\n        vertical-align: middle;\n    }\n\n    .dataframe tbody tr th {\n        vertical-align: top;\n    }\n\n    .dataframe thead th {\n        text-align: right;\n    }\n</style>\n<table border=\"1\" class=\"dataframe\">\n  <thead>\n    <tr style=\"text-align: right;\">\n      <th></th>\n      <th>APR_3_01</th>\n      <th>ABA_MED_nr</th>\n    </tr>\n  </thead>\n  <tbody>\n    <tr>\n      <th>count</th>\n      <td>5220.0</td>\n      <td>2966.0</td>\n    </tr>\n    <tr>\n      <th>mean</th>\n      <td>0.7</td>\n      <td>0.3</td>\n    </tr>\n    <tr>\n      <th>std</th>\n      <td>0.4</td>\n      <td>1.1</td>\n    </tr>\n    <tr>\n      <th>min</th>\n      <td>0.0</td>\n      <td>-0.5</td>\n    </tr>\n    <tr>\n      <th>25%</th>\n      <td>0.0</td>\n      <td>-0.3</td>\n    </tr>\n    <tr>\n      <th>50%</th>\n      <td>0.9</td>\n      <td>0.0</td>\n    </tr>\n    <tr>\n      <th>75%</th>\n      <td>1.0</td>\n      <td>0.7</td>\n    </tr>\n    <tr>\n      <th>max</th>\n      <td>1.0</td>\n      <td>30.8</td>\n    </tr>\n  </tbody>\n</table>\n</div>"
     },
     "metadata": {},
     "execution_count": 33
    }
   ],
   "source": [
    "def norm_0_1(att):\n",
    "    # computa minimo e maximo\n",
    "    var_min = att.min()\n",
    "    var_max = att.max()\n",
    "\n",
    "    # computa normalizacao\n",
    "    att_norm = (att - var_min) / (var_max-var_min)\n",
    "    return att_norm\n",
    "\n",
    "def norm_robust(att):\n",
    "    # computa minimo e maximo\n",
    "    q25 = att.quantile(0.25)\n",
    "    q75 = att.quantile(0.75)\n",
    "    median = att.median()\n",
    "\n",
    "    # computa normalizacao\n",
    "    return (att - median) / (q75-q25)\n",
    "\n",
    "dc['APR_3_01'] = norm_0_1(dc['APR_3'])\n",
    "dc['ABA_MED_nr'] = norm_robust(dc['ABA_MED'])\n",
    "np.round(dc[['APR_3_01','ABA_MED_nr']].describe(), 1)"
   ]
  },
  {
   "cell_type": "markdown",
   "metadata": {},
   "source": [
    "### Questão 4)\n",
    " \n",
    " Transforme os atributos 'ABA_2' e 'ABA_MED' por meio da função da raiz quadrada. Para isso:\n",
    "1. Faça uma cópia da base de dados, e nessa cópia remova todas as linhas cujos atributos possuem valor 0 ou Nulos (`NaN`) em 'ABA_2' ou 'ABA_MED'\n",
    "2. Considerando os atributos 'ABA_2' e 'ABA_MED' transforme-os esses utilizando a operação da raiz quadrada no seguinte formato. Seja $x$ o atributo original, obtemos a sua versão transformada:\n",
    "$$x' = \\sqrt{x+1}$$\n",
    "e os adicione à base de dados com novos nomes, ex. 'sqrtABA_2' e  'sqrtABA_MED',\n",
    "3. Calcule a correlação entre os atributos após a transformação do passo 2 (utilize o método `.corr()`)\n",
    "\n",
    "Qual o valor obtido da correlação entre essas novas variáveis ('sqrtABA_2' e 'sqrtABA_MED') ao arredondar para 2 casas decimais?\n",
    "\n",
    "(a) 0.85<br>\n",
    "(b) 0.81<br>\n",
    "(c) 0.77<br>\n",
    "(d) 1.0<br>"
   ]
  },
  {
   "cell_type": "code",
   "execution_count": 37,
   "metadata": {},
   "outputs": [
    {
     "output_type": "stream",
     "name": "stdout",
     "text": [
      "The original size is 5220\nThe new size is 2034\n"
     ]
    }
   ],
   "source": [
    "new_dc = dc.copy()\n",
    "print('The original size is', new_dc.shape[0])\n",
    "index_to_drop = dc.loc[(dc['ABA_MED'] == np.nan) | (dc['ABA_MED'] == 0) | (dc['ABA_2'] == np.nan) | (dc['ABA_2'] == 0)].index\n",
    "new_dc.drop(index=index_to_drop, inplace=True)\n",
    "print('The new size is', new_dc.shape[0])"
   ]
  },
  {
   "cell_type": "code",
   "execution_count": 38,
   "metadata": {},
   "outputs": [
    {
     "output_type": "execute_result",
     "data": {
      "text/plain": [
       "             sqrtABA_2  ABA_2  ABA_MED  sqrtABA_MED\n",
       "sqrtABA_2         1.00   0.96     0.77         0.81\n",
       "ABA_2             0.96   1.00     0.84         0.78\n",
       "ABA_MED           0.77   0.84     1.00         0.94\n",
       "sqrtABA_MED       0.81   0.78     0.94         1.00"
      ],
      "text/html": "<div>\n<style scoped>\n    .dataframe tbody tr th:only-of-type {\n        vertical-align: middle;\n    }\n\n    .dataframe tbody tr th {\n        vertical-align: top;\n    }\n\n    .dataframe thead th {\n        text-align: right;\n    }\n</style>\n<table border=\"1\" class=\"dataframe\">\n  <thead>\n    <tr style=\"text-align: right;\">\n      <th></th>\n      <th>sqrtABA_2</th>\n      <th>ABA_2</th>\n      <th>ABA_MED</th>\n      <th>sqrtABA_MED</th>\n    </tr>\n  </thead>\n  <tbody>\n    <tr>\n      <th>sqrtABA_2</th>\n      <td>1.00</td>\n      <td>0.96</td>\n      <td>0.77</td>\n      <td>0.81</td>\n    </tr>\n    <tr>\n      <th>ABA_2</th>\n      <td>0.96</td>\n      <td>1.00</td>\n      <td>0.84</td>\n      <td>0.78</td>\n    </tr>\n    <tr>\n      <th>ABA_MED</th>\n      <td>0.77</td>\n      <td>0.84</td>\n      <td>1.00</td>\n      <td>0.94</td>\n    </tr>\n    <tr>\n      <th>sqrtABA_MED</th>\n      <td>0.81</td>\n      <td>0.78</td>\n      <td>0.94</td>\n      <td>1.00</td>\n    </tr>\n  </tbody>\n</table>\n</div>"
     },
     "metadata": {},
     "execution_count": 38
    }
   ],
   "source": [
    "new_dc['sqrtABA_2'] = np.sqrt((new_dc['ABA_2'] + 1))\n",
    "new_dc['sqrtABA_MED'] = np.sqrt((new_dc['ABA_MED'] + 1))\n",
    "atts_t = ['sqrtABA_2', 'ABA_2', 'ABA_MED', 'sqrtABA_MED']\n",
    "np.round(new_dc[atts_t].corr(\"pearson\"),2)"
   ]
  },
  {
   "cell_type": "markdown",
   "metadata": {},
   "source": [
    "### Questão 5)\n",
    " \n",
    "Utilize a base de dados antes da modificação feita na Questão 4. Codifique a variável categórica 'ABA_Q' para o tipo categórica ordinal e 'NM_MUNICIPIO:' para categórica nominal:\n",
    "* Para ABA_Q use números inteiros sequenciais, iniciados por 0, para codificar a variável na ordem dos valores dos intervalos e gere um novo atributo ABA_Q_cod. \n",
    "* Para NM_MUNICIPIO use números inteiros sequenciais, iniciados por 0 para codificar a variável em ordem alfabética, e gere um novo atributo NM_MUN_cod. \n",
    "\n",
    "Observação: aqui a intenção é que o atributo codificação tenha relação com a ordem alfabética do município. Se a intenção fosse a de posteriormente aplicar métodos que realizam comparação por distância independente da ordem alfabética, a codificação ideal seria one-hot-encoding/dummy variables.\n",
    "\n",
    "Use a função `value_counts()` para mostrar a frequência dos códigos de ABA_Q_cod e NM_MUN_cod. Responda abaixo quais **valores discretos** (após codificação realizada) possuem a maior frequência (maior contagem):\n",
    "\n",
    "(a) NM_MUN_cod: código 1124;  ABA_Q_cod: códigos 0 e 2<br>\n",
    "(b) NM_MUN_cod: código 563;  ABA_Q_cod: código 0 e 1<br>\n",
    "(c) NM_MUN_cod: código 1124;  ABA_Q_cod: códigos 0 e 1<br>\n",
    "(d) NM_MUN_cod: código 563;  ABA_Q_cod: códigos 0 e 3<br>"
   ]
  },
  {
   "cell_type": "code",
   "execution_count": 42,
   "metadata": {
    "scrolled": true
   },
   "outputs": [
    {
     "output_type": "stream",
     "name": "stdout",
     "text": [
      "3    431\n0    431\n5    425\n2    424\n6    423\n1    417\n4    415\nName: ABA_Q_code, dtype: int64\n"
     ]
    }
   ],
   "source": [
    "unique_aba_q = dc['ABA_Q'].unique()\n",
    "num_aba_q = [-1, 0, 1, 2, 3, 5, 6, 4]\n",
    "map_aba_q = dict(zip(unique_aba_q, num_aba_q))\n",
    "dc['ABA_Q_code'] = dc['ABA_Q'].map(map_aba_q)\n",
    "\n",
    "print(dc['ABA_Q_code'].value_counts())"
   ]
  },
  {
   "cell_type": "code",
   "execution_count": 45,
   "metadata": {},
   "outputs": [
    {
     "output_type": "stream",
     "name": "stdout",
     "text": [
      "563    1116\n214     170\n108     165\n535      89\n582      82\n       ... \n357       1\n361       1\n55        1\n369       1\n643       1\nName: NM_MUN_cod, Length: 644, dtype: int64\n"
     ]
    }
   ],
   "source": [
    "unique_nm_mun = sorted(dc['NM_MUNICIPIO'].unique())\n",
    "num_mun = np.arange(len(unique_nm_mun))\n",
    "map_nm_mun = dict(zip(unique_nm_mun, num_mun))\n",
    "dc['NM_MUN_cod'] = dc['NM_MUNICIPIO'].map(map_nm_mun)\n",
    "\n",
    "print(dc['NM_MUN_cod'].value_counts())"
   ]
  },
  {
   "cell_type": "code",
   "execution_count": null,
   "metadata": {},
   "outputs": [],
   "source": []
  }
 ],
 "metadata": {
  "kernelspec": {
   "name": "python385jvsc74a57bd054bfc7d4636b6a9e21c7fe418d72849dff5d8e5f01d1aec84a4210a34166d17b",
   "display_name": "Python 3.8.5 64-bit ('base': conda)"
  },
  "language_info": {
   "codemirror_mode": {
    "name": "ipython",
    "version": 3
   },
   "file_extension": ".py",
   "mimetype": "text/x-python",
   "name": "python",
   "nbconvert_exporter": "python",
   "pygments_lexer": "ipython3",
   "version": "3.8.5"
  }
 },
 "nbformat": 4,
 "nbformat_minor": 4
}