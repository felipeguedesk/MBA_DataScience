{
 "cells": [
  {
   "cell_type": "markdown",
   "metadata": {},
   "source": [
    "# MBA em Ciência de Dados\n",
    "## Técnicas Avançadas de Captura e Tratamento de Dados\n",
    "\n",
    "\n",
    "### <span style=\"color:darkred\">Módulo III - Aquisição e Transformação de Dados</span>\n",
    "\n",
    "\n",
    "## <span style=\"color:darkred\">Avaliação</span>\n",
    "\n",
    "Moacir Antonelli Ponti\n",
    "\n",
    "CeMEAI - ICMC/USP São Carlos\n",
    "\n",
    "---\n",
    "#### <font color='red'> As respostas devem ser fornecidas no Moodle. O notebook é apenas para a implementação dos códigos que fornecerão as respostas</font>\n",
    "\n",
    "---"
   ]
  },
  {
   "cell_type": "markdown",
   "metadata": {},
   "source": [
    "Antes de iniciar, acesse o portal : https://dados.educacao.sp.gov.br/dataset/fluxo-escolar-por-escola\n",
    "\n",
    "Procure pelo arquivo CSV relativo a \"Fluxo Escolar 2019 - por escola\", arquivo `FLUXO_ESCOLAR_ESCOLA.csv`<br>\n",
    "OBS: esse arquivo estará também no ZIP contendo os dados para esse módulo, caso haja problemas de acesso.\n",
    "\n",
    "O fluxo escolar é medido pela taxa média de aprovação em cada etapa da escolarização, sendo elas as séries iniciais e séries finais do Ensino Fundamental e Ensino Médio, coletadas pelo Censo Escolar.\n",
    "\n",
    "Para saber mais sobre o funcionamento do Fluxo Escolar, visite a página https://dados.educacao.sp.gov.br/story/fluxo\n",
    "\n",
    "Carregue os dados. As colunas possuem significado de acordo com o \"dicionário de dados\" disponível ao visualizar o arquivo no referido site. As colunas são rotuladas da seguinte forma:\n",
    "- Ano: para o qual foi realizado o cálculo do fluxo\n",
    "- CD_DIRETORIA: Código da diretoria de ensino\n",
    "- NM_DIRETORIA: Nome da diretoria de ensino\n",
    "- NM_MUNICIPIO: Nome do Município\n",
    "- CD_REDE_ENSINO: Código da Rede de Ensino (1:Estadual)\n",
    "- CD_ESCOLA: Código da Escola\n",
    "- NM_COMPLETO_ESCOLA: Nome Completo da Escola\n",
    "- CD_TP_IDENTIFICADOR: Código do Tipo de Escola\n",
    "- APR_1: Porcentagem de Alunos Aprovados no Ensino Fundamental - Anos Iniciais no ensino fundamental de 9 anos\n",
    "- REP_1: Porcentagem de Alunos Reprovados no Ensino Fundamental - Anos Iniciais no ensino fundamental de 9 anos\n",
    "- ABA_1: Porcentagem de Alunos com Abandono no Ensino Fundamental - Anos Iniciais no ensino fundamental de 9 anos\n",
    "- REP_2: Porcentagem de Alunos Reprovados no Ensino Fundamental - Anos Finais no ensino fundamental de 9 anos\n",
    "- ABA_2: Porcentagem de Alunos com Abando no Ensino Fundamental - Anos Finais no ensino fundamental de 9 anos\n",
    "- APR_3: Porcentagem de Alunos Aprovados no Ensino Médio\n",
    "- REP_3: Porcentagem de Alunos Reprovados no Ensino Médio\n",
    "- ABA_3: Porcentagem de Alunos com Abandono no Ensino Médio"
   ]
  },
  {
   "cell_type": "code",
   "execution_count": 1,
   "metadata": {},
   "outputs": [
    {
     "name": "stdout",
     "output_type": "stream",
     "text": [
      "atributos:  16\n",
      "linhas:  5220\n"
     ]
    }
   ],
   "source": [
    "# carregando as bibliotecas necessárias\n",
    "import numpy as np\n",
    "import matplotlib.pyplot as plt\n",
    "import pandas as pd\n",
    "# carregando dados\n",
    "dc = pd.read_csv(\"./dados/FLUXO_ESCOLAR_ESCOLA.csv\", sep=',')\n",
    "ncols = dc.shape[1]\n",
    "ncols = dc.shape[1]\n",
    "print(\"atributos: \", ncols)\n",
    "print(\"linhas: \", dc.shape[0])"
   ]
  },
  {
   "cell_type": "markdown",
   "metadata": {},
   "source": [
    "### Questão 1)\n",
    " \n",
    "Considere os seguintes problemas e a natureza dos seus respectivos dados:\n",
    "\n",
    "I - Uma sequência de dados de um sensor de temperatura, com valores em Celsius coletados e armazenados a cada 2 horas. Utilizando o histórico de 1 ano de observações anteriores até o dia atual, se intenciona predizer a temperatura nas próximas 24 horas.<br>\n",
    "II - Uma base de dados contendo informações sobre livros (gênero, número de páginas, autor, ano de lançamento, país de origem, entre outros) e as avaliações desses livros (nota de 1 a 5) obtidos junto a leitores do fã clube de Harry Potter de Minas Gerais, com a qual se intenciona predizer qual seria a nota de um livro sendo considerado para publicação por uma editora, permitindo predizer o potencial desse novo livro para o público brasileiro.<br>\n",
    "III - Numa base de dados de um e-commerce contendo informações sobre clientes e seus padrões de compras, foi feita uma segmentação manual de milhares de clientes em 5 categorias. Deseja-se treinar modelos para aprender a classificar novos clientes em uma dessas categorias.<br>\n",
    "\n",
    "Podemos utilizar métodos que assumam dados do tipo i.i.d. (independente e identicamente distribuídos) e garantir que esses métodos irão obter conclusões válidas em quais dos casos?\n",
    "\n",
    "(a) III<br>\n",
    "(b) I e III<br>\n",
    "(c) I<br>\n",
    "(d) II<br>"
   ]
  },
  {
   "cell_type": "markdown",
   "metadata": {},
   "source": [
    "### Questão 2)\n",
    " \n",
    "Compute a média das variáveis ABA_1, ABA_2 e ABA_3 e adicione essa média como um novo atributo ABA_MED à base de dados. Substitua por nulo (`nan`) os valores onde 'ABA_MED' seja igual a 0. Realize a **discretização** da variável 'ABA_MED' utilizando:\n",
    "1. o método dos quantis, utilizando 7 intervalos alvo\n",
    "2. o método dos intervalos, utilizando 6 intervalos alvo: (0, 1] (1, 5] (5, 10] (10, 25] (25, 50] (50, max(ABA_MED)],\n",
    "em que max(ABA_MED) é o maior valor desse atributo\n",
    "\n",
    "Use o método qcut() para o item 1 e cut() para o item 2\n",
    "\n",
    "Adicione essa novas variáveis na base, com os nomes 'ABA_Q' (quantis) e 'ABA_I' (intervalos)\n",
    "\n",
    "Qual é a quantidade de dados (frequências dos valores discretizados) na base após a discretização, relativos ao primeiro intervalo (com os menores valores) e ao último intervalo (com os maiores valores) para, respectivamente, ABA_Q e ABA_I?\n",
    "\n",
    "(a) ABA_Q: primeiro -0.004, último 423. ABA_I: primeiro 1, último 431<br>\n",
    "(b) ABA_Q: primeiro 423, último 431. ABA_I: primeiro 1612, último 4<br>\n",
    "(c) ABA_Q: primeiro 431, último 3099. ABA_I: primeiro 1612, último 0<br>\n",
    "(d) ABA_Q: primeiro 431, último 423. ABA_I: primeiro 1612, último 1<br>"
   ]
  },
  {
   "cell_type": "code",
   "execution_count": null,
   "metadata": {},
   "outputs": [],
   "source": []
  },
  {
   "cell_type": "markdown",
   "metadata": {},
   "source": [
    "### Questão 3)\n",
    "\n",
    "\n",
    "Normalize 2 variáveis da base: ABA_MED e APR_3\n",
    "* APR_3 utilizando normalização min-max com mínimo 0 e máximo 1\n",
    "* ABA_MED utilizando normalização robusta\n",
    "\n",
    "Para isso, codifique funções que recebam uma coluna por parâmetro e retornem um atributo já normalizado\n",
    "\n",
    "Depois, aplique as funções e crie novas variáveis com os atributos normalizados: APR_3_01 e ABA_MED_nr.\n",
    "\n",
    "Após a normalização, quais os valores de média, desvio padrão, mínimo e máximo dessas novas variáveis, arredondando para 1 casa decimal?\n",
    "\n",
    "(a) APR_3_01: 0.0, 1.0, 0.0, 1.0; ABA_MED_nr: 0.3, 1.1, -0.5, 30.8<br>\n",
    "(b) APR_3_01: 0.7, 0.4, 0.0, 1.0; ABA_MED_nr: 0.3, 0.7, -1.0, 53.8<br>\n",
    "(c) APR_3_01: 0.0, 1.0, 0.0, 1.0; ABA_MED_nr: 0.3, 0.7, -1.0, 53.8<br>\n",
    "(d) APR_3_01: 0.7, 0.4, 0.0, 1.0; ABA_MED_nr: 0.3, 1.1, -0.5, 30.8<br>"
   ]
  },
  {
   "cell_type": "code",
   "execution_count": null,
   "metadata": {},
   "outputs": [],
   "source": []
  },
  {
   "cell_type": "markdown",
   "metadata": {},
   "source": [
    "### Questão 4)\n",
    " \n",
    " Transforme os atributos 'ABA_2' e 'ABA_MED' por meio da função da raiz quadrada. Para isso:\n",
    "1. Faça uma cópia da base de dados, e nessa cópia remova todas as linhas cujos atributos possuem valor 0 ou Nulos (`NaN`) em 'ABA_2' ou 'ABA_MED'\n",
    "2. Considerando os atributos 'ABA_2' e 'ABA_MED' transforme-os esses utilizando a operação da raiz quadrada no seguinte formato. Seja $x$ o atributo original, obtemos a sua versão transformada:\n",
    "$$x' = \\sqrt{x+1}$$\n",
    "e os adicione à base de dados com novos nomes, ex. 'sqrtABA_2' e  'sqrtABA_MED',\n",
    "3. Calcule a correlação entre os atributos após a transformação do passo 2 (utilize o método `.corr()`)\n",
    "\n",
    "Qual o valor obtido da correlação entre essas novas variáveis ('sqrtABA_2' e 'sqrtABA_MED') ao arredondar para 2 casas decimais?\n",
    "\n",
    "(a) 0.85<br>\n",
    "(b) 0.81<br>\n",
    "(c) 0.77<br>\n",
    "(d) 1.0<br>"
   ]
  },
  {
   "cell_type": "code",
   "execution_count": null,
   "metadata": {},
   "outputs": [],
   "source": []
  },
  {
   "cell_type": "markdown",
   "metadata": {},
   "source": [
    "### Questão 5)\n",
    " \n",
    "Utilize a base de dados antes da modificação feita na Questão 4. Codifique a variável categórica 'ABA_Q' para o tipo categórica ordinal e 'NM_MUNICIPIO:' para categórica nominal:\n",
    "* Para ABA_Q use números inteiros sequenciais, iniciados por 0, para codificar a variável na ordem dos valores dos intervalos e gere um novo atributo ABA_Q_cod. \n",
    "* Para NM_MUNICIPIO use números inteiros sequenciais, iniciados por 0 para codificar a variável em ordem alfabética, e gere um novo atributo NM_MUN_cod. \n",
    "\n",
    "Observação: aqui a intenção é que o atributo codificação tenha relação com a ordem alfabética do município. Se a intenção fosse a de posteriormente aplicar métodos que realizam comparação por distância independente da ordem alfabética, a codificação ideal seria one-hot-encoding/dummy variables.\n",
    "\n",
    "Use a função `value_counts()` para mostrar a frequência dos códigos de ABA_Q_cod e NM_MUN_cod. Responda abaixo quais **valores discretos** (após codificação realizada) possuem a maior frequência (maior contagem):\n",
    "\n",
    "(a) NM_MUN_cod: código 1124;  ABA_Q_cod: códigos 0 e 2<br>\n",
    "(b) NM_MUN_cod: código 563;  ABA_Q_cod: código 0 e 1<br>\n",
    "(c) NM_MUN_cod: código 1124;  ABA_Q_cod: códigos 0 e 1<br>\n",
    "(d) NM_MUN_cod: código 563;  ABA_Q_cod: códigos 0 e 3<br>"
   ]
  },
  {
   "cell_type": "code",
   "execution_count": null,
   "metadata": {
    "scrolled": true
   },
   "outputs": [],
   "source": []
  }
 ],
 "metadata": {
  "kernelspec": {
   "display_name": "Python 3",
   "language": "python",
   "name": "python3"
  },
  "language_info": {
   "codemirror_mode": {
    "name": "ipython",
    "version": 3
   },
   "file_extension": ".py",
   "mimetype": "text/x-python",
   "name": "python",
   "nbconvert_exporter": "python",
   "pygments_lexer": "ipython3",
   "version": "3.9.2"
  }
 },
 "nbformat": 4,
 "nbformat_minor": 4
}
