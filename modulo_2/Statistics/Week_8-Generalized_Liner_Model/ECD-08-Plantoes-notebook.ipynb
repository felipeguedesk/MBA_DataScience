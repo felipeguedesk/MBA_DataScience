{
 "cells": [
  {
   "cell_type": "markdown",
   "metadata": {},
   "source": [
    "# Prática 1 - Tutorias 08/06 e 10/06/21\n",
    "\n",
    "\n",
    "## Modelos Lineares Generalizados\n",
    "\n"
   ]
  },
  {
   "cell_type": "markdown",
   "metadata": {},
   "source": [
    "## Modelo para óbitos por COVID-19\n",
    "\n",
    "Na base de dados comorbidades.csv, são apresentados dados reais de uma amostra obtida do seade-R (Fonte dos dados originais: https://github.com/seade-R/dados-covid-sp). Estão disponíveis as seguintes informações:\n",
    "\n",
    "- Identificação do paciente\n",
    "- Município\n",
    "- Código do IBGE\n",
    "- Idade\n",
    "- Sexo (1: feminino, 0: masculino)\n",
    "- Óbito (1: sim, 0: não)\n",
    "- Comorbidades: asma, cardiopatia, diabetes, doença hematológica, doença renal, doença hepática, doença neurológica, imumodepressão, obesidade, outros fatores de risco, pneumopatia, puérpera, síndrome de down (para cada uma delas 1: presente, 0: ausente)\n",
    "\n",
    "Os dados faltantes foram excluídos da base original para esta análise específica, considerando que essa exclusão não afeta a representatividade da amostra.\n",
    "\n",
    "Desenvolva uma análise exploratória para investigar a associação entre idade e óbito, e repita para sexo e óbito. \n",
    "\n",
    "\n",
    "Ajuste um modelo de regressão logística com intercepto, considerando as preditoras sexo, idade, asma, cardiopatia, diabetes, doenca_renal, obesidade.\n"
   ]
  },
  {
   "cell_type": "code",
   "execution_count": 1,
   "metadata": {
    "execution": {
     "iopub.execute_input": "2021-02-02T06:54:01.752971Z",
     "iopub.status.busy": "2021-02-02T06:54:01.752380Z",
     "iopub.status.idle": "2021-02-02T06:54:02.648733Z",
     "shell.execute_reply": "2021-02-02T06:54:02.649867Z"
    }
   },
   "outputs": [],
   "source": [
    "import numpy as np\n",
    "import statsmodels.api as sm\n",
    "from scipy import stats\n",
    "from sklearn.model_selection import train_test_split\n",
    "from matplotlib import pyplot as plt\n",
    "import seaborn as sns \n",
    "%matplotlib inline\n",
    "import plotly.express as px\n"
   ]
  },
  {
   "cell_type": "code",
   "execution_count": 2,
   "metadata": {
    "scrolled": false
   },
   "outputs": [
    {
     "data": {
      "text/html": [
       "<div>\n",
       "<style scoped>\n",
       "    .dataframe tbody tr th:only-of-type {\n",
       "        vertical-align: middle;\n",
       "    }\n",
       "\n",
       "    .dataframe tbody tr th {\n",
       "        vertical-align: top;\n",
       "    }\n",
       "\n",
       "    .dataframe thead th {\n",
       "        text-align: right;\n",
       "    }\n",
       "</style>\n",
       "<table border=\"1\" class=\"dataframe\">\n",
       "  <thead>\n",
       "    <tr style=\"text-align: right;\">\n",
       "      <th></th>\n",
       "      <th>nome_munic</th>\n",
       "      <th>codigo_ibge</th>\n",
       "      <th>idade</th>\n",
       "      <th>sexo</th>\n",
       "      <th>obito</th>\n",
       "      <th>asma</th>\n",
       "      <th>cardiopatia</th>\n",
       "      <th>diabetes</th>\n",
       "      <th>doenca_hematologica</th>\n",
       "      <th>doenca_hepatica</th>\n",
       "      <th>doenca_neurologica</th>\n",
       "      <th>doenca_renal</th>\n",
       "      <th>imunodepressao</th>\n",
       "      <th>obesidade</th>\n",
       "      <th>outros_fatores_de_risco</th>\n",
       "      <th>pneumopatia</th>\n",
       "      <th>puerpera</th>\n",
       "      <th>sindrome_de_down</th>\n",
       "    </tr>\n",
       "  </thead>\n",
       "  <tbody>\n",
       "    <tr>\n",
       "      <th>0</th>\n",
       "      <td>Ferraz de Vasconcelos</td>\n",
       "      <td>3515707</td>\n",
       "      <td>86</td>\n",
       "      <td>0</td>\n",
       "      <td>1</td>\n",
       "      <td>0</td>\n",
       "      <td>1</td>\n",
       "      <td>1</td>\n",
       "      <td>0</td>\n",
       "      <td>0</td>\n",
       "      <td>0</td>\n",
       "      <td>0</td>\n",
       "      <td>0</td>\n",
       "      <td>0</td>\n",
       "      <td>0</td>\n",
       "      <td>0</td>\n",
       "      <td>0</td>\n",
       "      <td>0</td>\n",
       "    </tr>\n",
       "    <tr>\n",
       "      <th>1</th>\n",
       "      <td>São Paulo</td>\n",
       "      <td>3550308</td>\n",
       "      <td>62</td>\n",
       "      <td>0</td>\n",
       "      <td>0</td>\n",
       "      <td>0</td>\n",
       "      <td>0</td>\n",
       "      <td>1</td>\n",
       "      <td>0</td>\n",
       "      <td>0</td>\n",
       "      <td>0</td>\n",
       "      <td>0</td>\n",
       "      <td>0</td>\n",
       "      <td>0</td>\n",
       "      <td>0</td>\n",
       "      <td>1</td>\n",
       "      <td>0</td>\n",
       "      <td>0</td>\n",
       "    </tr>\n",
       "    <tr>\n",
       "      <th>2</th>\n",
       "      <td>São José dos Campos</td>\n",
       "      <td>3549904</td>\n",
       "      <td>58</td>\n",
       "      <td>0</td>\n",
       "      <td>0</td>\n",
       "      <td>0</td>\n",
       "      <td>1</td>\n",
       "      <td>0</td>\n",
       "      <td>0</td>\n",
       "      <td>0</td>\n",
       "      <td>0</td>\n",
       "      <td>0</td>\n",
       "      <td>1</td>\n",
       "      <td>0</td>\n",
       "      <td>1</td>\n",
       "      <td>0</td>\n",
       "      <td>0</td>\n",
       "      <td>0</td>\n",
       "    </tr>\n",
       "    <tr>\n",
       "      <th>3</th>\n",
       "      <td>Mauá</td>\n",
       "      <td>3529401</td>\n",
       "      <td>54</td>\n",
       "      <td>1</td>\n",
       "      <td>1</td>\n",
       "      <td>1</td>\n",
       "      <td>1</td>\n",
       "      <td>0</td>\n",
       "      <td>0</td>\n",
       "      <td>0</td>\n",
       "      <td>0</td>\n",
       "      <td>0</td>\n",
       "      <td>0</td>\n",
       "      <td>0</td>\n",
       "      <td>0</td>\n",
       "      <td>0</td>\n",
       "      <td>0</td>\n",
       "      <td>0</td>\n",
       "    </tr>\n",
       "    <tr>\n",
       "      <th>4</th>\n",
       "      <td>Cajamar</td>\n",
       "      <td>3509205</td>\n",
       "      <td>62</td>\n",
       "      <td>0</td>\n",
       "      <td>1</td>\n",
       "      <td>0</td>\n",
       "      <td>1</td>\n",
       "      <td>1</td>\n",
       "      <td>0</td>\n",
       "      <td>0</td>\n",
       "      <td>0</td>\n",
       "      <td>0</td>\n",
       "      <td>0</td>\n",
       "      <td>1</td>\n",
       "      <td>0</td>\n",
       "      <td>0</td>\n",
       "      <td>0</td>\n",
       "      <td>0</td>\n",
       "    </tr>\n",
       "  </tbody>\n",
       "</table>\n",
       "</div>"
      ],
      "text/plain": [
       "              nome_munic  codigo_ibge  idade  sexo  obito  asma  cardiopatia  \\\n",
       "0  Ferraz de Vasconcelos      3515707     86     0      1     0            1   \n",
       "1              São Paulo      3550308     62     0      0     0            0   \n",
       "2    São José dos Campos      3549904     58     0      0     0            1   \n",
       "3                   Mauá      3529401     54     1      1     1            1   \n",
       "4                Cajamar      3509205     62     0      1     0            1   \n",
       "\n",
       "   diabetes  doenca_hematologica  doenca_hepatica  doenca_neurologica  \\\n",
       "0         1                    0                0                   0   \n",
       "1         1                    0                0                   0   \n",
       "2         0                    0                0                   0   \n",
       "3         0                    0                0                   0   \n",
       "4         1                    0                0                   0   \n",
       "\n",
       "   doenca_renal  imunodepressao  obesidade  outros_fatores_de_risco  \\\n",
       "0             0               0          0                        0   \n",
       "1             0               0          0                        0   \n",
       "2             0               1          0                        1   \n",
       "3             0               0          0                        0   \n",
       "4             0               0          1                        0   \n",
       "\n",
       "   pneumopatia  puerpera  sindrome_de_down  \n",
       "0            0         0                 0  \n",
       "1            1         0                 0  \n",
       "2            0         0                 0  \n",
       "3            0         0                 0  \n",
       "4            0         0                 0  "
      ]
     },
     "execution_count": 2,
     "metadata": {},
     "output_type": "execute_result"
    }
   ],
   "source": [
    "import numpy as np\n",
    "import pandas as pd\n",
    "import statsmodels.api as sm\n",
    "from matplotlib import pyplot as plt\n",
    "from sklearn.model_selection import train_test_split\n",
    "\n",
    "pkgdir = '.'\n",
    "\n",
    "\n",
    "# Dados banco - Leitura dos dados\n",
    "dados = pd.read_csv(f'{pkgdir}/comorbidades.csv', index_col=0)\n",
    "dados.reset_index(drop=True, inplace=True)\n",
    "\n",
    "dados.head()"
   ]
  },
  {
   "cell_type": "code",
   "execution_count": 3,
   "metadata": {},
   "outputs": [
    {
     "data": {
      "text/plain": [
       "(1182, 18)"
      ]
     },
     "execution_count": 3,
     "metadata": {},
     "output_type": "execute_result"
    }
   ],
   "source": [
    "dados.shape"
   ]
  },
  {
   "cell_type": "code",
   "execution_count": 4,
   "metadata": {},
   "outputs": [
    {
     "data": {
      "text/plain": [
       "Index(['nome_munic', 'codigo_ibge', 'idade', 'sexo', 'obito', 'asma',\n",
       "       'cardiopatia', 'diabetes', 'doenca_hematologica', 'doenca_hepatica',\n",
       "       'doenca_neurologica', 'doenca_renal', 'imunodepressao', 'obesidade',\n",
       "       'outros_fatores_de_risco', 'pneumopatia', 'puerpera',\n",
       "       'sindrome_de_down'],\n",
       "      dtype='object')"
      ]
     },
     "execution_count": 4,
     "metadata": {},
     "output_type": "execute_result"
    }
   ],
   "source": [
    "dados.columns"
   ]
  },
  {
   "cell_type": "markdown",
   "metadata": {},
   "source": [
    "-Sexo (1: feminino, 0: masculino)\n",
    "\n",
    "-Óbito (1: sim, 0: não)"
   ]
  },
  {
   "cell_type": "code",
   "execution_count": 5,
   "metadata": {},
   "outputs": [
    {
     "data": {
      "text/plain": [
       "<AxesSubplot:xlabel='sexo', ylabel='count'>"
      ]
     },
     "execution_count": 5,
     "metadata": {},
     "output_type": "execute_result"
    },
    {
     "data": {
      "image/png": "[encoded data removed]",
      "text/plain": [
       "<Figure size 432x288 with 1 Axes>"
      ]
     },
     "metadata": {
      "needs_background": "light"
     },
     "output_type": "display_data"
    }
   ],
   "source": [
    "sns.countplot(x=dados.sexo,data=dados, hue='obito')"
   ]
  },
  {
   "cell_type": "markdown",
   "metadata": {},
   "source": [
    "Proporção de mulheres que morreram"
   ]
  },
  {
   "cell_type": "code",
   "execution_count": 6,
   "metadata": {},
   "outputs": [
    {
     "data": {
      "text/plain": [
       "0.4592074592074592"
      ]
     },
     "execution_count": 6,
     "metadata": {},
     "output_type": "execute_result"
    }
   ],
   "source": [
    "len(dados.loc[(dados['sexo']==1) & (dados['obito']==1)])/len( dados.loc[dados['obito']==1])"
   ]
  },
  {
   "cell_type": "markdown",
   "metadata": {},
   "source": [
    "Proporção de homens que morreram"
   ]
  },
  {
   "cell_type": "code",
   "execution_count": 7,
   "metadata": {},
   "outputs": [
    {
     "data": {
      "text/plain": [
       "0.5407925407925408"
      ]
     },
     "execution_count": 7,
     "metadata": {},
     "output_type": "execute_result"
    }
   ],
   "source": [
    "len(dados.loc[(dados['sexo']==0) & (dados['obito']==1)])/len( dados.loc[dados['obito']==1])"
   ]
  },
  {
   "cell_type": "code",
   "execution_count": 8,
   "metadata": {},
   "outputs": [
    {
     "data": {
      "text/plain": [
       "Text(0.5, 0.98, 'Idade e óbito')"
      ]
     },
     "execution_count": 8,
     "metadata": {},
     "output_type": "execute_result"
    },
    {
     "data": {
      "image/png": "[encoded data removed]",
      "text/plain": [
       "<Figure size 1440x720 with 2 Axes>"
      ]
     },
     "metadata": {
      "needs_background": "light"
     },
     "output_type": "display_data"
    }
   ],
   "source": [
    "fig, axes = plt.subplots(1,2, sharex=True, figsize=(20,10))\n",
    "sns.histplot(ax=axes[0],data=dados.loc[dados['obito']==0].idade)\n",
    "sns.histplot(ax=axes[1],data=dados.loc[dados['obito']==1].idade)\n",
    "fig.suptitle('Idade e óbito')"
   ]
  },
  {
   "cell_type": "markdown",
   "metadata": {},
   "source": [
    "### Ajustando um MLG com resposta binária com intercepto\n",
    "\n",
    "#### Considere a divisão da base em treinamento e teste, deixando 20% das observações para teste"
   ]
  },
  {
   "cell_type": "code",
   "execution_count": 9,
   "metadata": {},
   "outputs": [],
   "source": [
    "# Adicionar uma coluna de uns referente ao intercepto\n",
    "\n",
    "n=len(dados)\n",
    "dados.loc[:,'const']  = np.ones(n).reshape(n,1)\n"
   ]
  },
  {
   "cell_type": "code",
   "execution_count": 10,
   "metadata": {},
   "outputs": [
    {
     "data": {
      "text/html": [
       "<div>\n",
       "<style scoped>\n",
       "    .dataframe tbody tr th:only-of-type {\n",
       "        vertical-align: middle;\n",
       "    }\n",
       "\n",
       "    .dataframe tbody tr th {\n",
       "        vertical-align: top;\n",
       "    }\n",
       "\n",
       "    .dataframe thead th {\n",
       "        text-align: right;\n",
       "    }\n",
       "</style>\n",
       "<table border=\"1\" class=\"dataframe\">\n",
       "  <thead>\n",
       "    <tr style=\"text-align: right;\">\n",
       "      <th></th>\n",
       "      <th>nome_munic</th>\n",
       "      <th>codigo_ibge</th>\n",
       "      <th>idade</th>\n",
       "      <th>sexo</th>\n",
       "      <th>obito</th>\n",
       "      <th>asma</th>\n",
       "      <th>cardiopatia</th>\n",
       "      <th>diabetes</th>\n",
       "      <th>doenca_hematologica</th>\n",
       "      <th>doenca_hepatica</th>\n",
       "      <th>doenca_neurologica</th>\n",
       "      <th>doenca_renal</th>\n",
       "      <th>imunodepressao</th>\n",
       "      <th>obesidade</th>\n",
       "      <th>outros_fatores_de_risco</th>\n",
       "      <th>pneumopatia</th>\n",
       "      <th>puerpera</th>\n",
       "      <th>sindrome_de_down</th>\n",
       "      <th>const</th>\n",
       "    </tr>\n",
       "  </thead>\n",
       "  <tbody>\n",
       "    <tr>\n",
       "      <th>0</th>\n",
       "      <td>Ferraz de Vasconcelos</td>\n",
       "      <td>3515707</td>\n",
       "      <td>86</td>\n",
       "      <td>0</td>\n",
       "      <td>1</td>\n",
       "      <td>0</td>\n",
       "      <td>1</td>\n",
       "      <td>1</td>\n",
       "      <td>0</td>\n",
       "      <td>0</td>\n",
       "      <td>0</td>\n",
       "      <td>0</td>\n",
       "      <td>0</td>\n",
       "      <td>0</td>\n",
       "      <td>0</td>\n",
       "      <td>0</td>\n",
       "      <td>0</td>\n",
       "      <td>0</td>\n",
       "      <td>1.0</td>\n",
       "    </tr>\n",
       "    <tr>\n",
       "      <th>1</th>\n",
       "      <td>São Paulo</td>\n",
       "      <td>3550308</td>\n",
       "      <td>62</td>\n",
       "      <td>0</td>\n",
       "      <td>0</td>\n",
       "      <td>0</td>\n",
       "      <td>0</td>\n",
       "      <td>1</td>\n",
       "      <td>0</td>\n",
       "      <td>0</td>\n",
       "      <td>0</td>\n",
       "      <td>0</td>\n",
       "      <td>0</td>\n",
       "      <td>0</td>\n",
       "      <td>0</td>\n",
       "      <td>1</td>\n",
       "      <td>0</td>\n",
       "      <td>0</td>\n",
       "      <td>1.0</td>\n",
       "    </tr>\n",
       "    <tr>\n",
       "      <th>2</th>\n",
       "      <td>São José dos Campos</td>\n",
       "      <td>3549904</td>\n",
       "      <td>58</td>\n",
       "      <td>0</td>\n",
       "      <td>0</td>\n",
       "      <td>0</td>\n",
       "      <td>1</td>\n",
       "      <td>0</td>\n",
       "      <td>0</td>\n",
       "      <td>0</td>\n",
       "      <td>0</td>\n",
       "      <td>0</td>\n",
       "      <td>1</td>\n",
       "      <td>0</td>\n",
       "      <td>1</td>\n",
       "      <td>0</td>\n",
       "      <td>0</td>\n",
       "      <td>0</td>\n",
       "      <td>1.0</td>\n",
       "    </tr>\n",
       "    <tr>\n",
       "      <th>3</th>\n",
       "      <td>Mauá</td>\n",
       "      <td>3529401</td>\n",
       "      <td>54</td>\n",
       "      <td>1</td>\n",
       "      <td>1</td>\n",
       "      <td>1</td>\n",
       "      <td>1</td>\n",
       "      <td>0</td>\n",
       "      <td>0</td>\n",
       "      <td>0</td>\n",
       "      <td>0</td>\n",
       "      <td>0</td>\n",
       "      <td>0</td>\n",
       "      <td>0</td>\n",
       "      <td>0</td>\n",
       "      <td>0</td>\n",
       "      <td>0</td>\n",
       "      <td>0</td>\n",
       "      <td>1.0</td>\n",
       "    </tr>\n",
       "    <tr>\n",
       "      <th>4</th>\n",
       "      <td>Cajamar</td>\n",
       "      <td>3509205</td>\n",
       "      <td>62</td>\n",
       "      <td>0</td>\n",
       "      <td>1</td>\n",
       "      <td>0</td>\n",
       "      <td>1</td>\n",
       "      <td>1</td>\n",
       "      <td>0</td>\n",
       "      <td>0</td>\n",
       "      <td>0</td>\n",
       "      <td>0</td>\n",
       "      <td>0</td>\n",
       "      <td>1</td>\n",
       "      <td>0</td>\n",
       "      <td>0</td>\n",
       "      <td>0</td>\n",
       "      <td>0</td>\n",
       "      <td>1.0</td>\n",
       "    </tr>\n",
       "    <tr>\n",
       "      <th>...</th>\n",
       "      <td>...</td>\n",
       "      <td>...</td>\n",
       "      <td>...</td>\n",
       "      <td>...</td>\n",
       "      <td>...</td>\n",
       "      <td>...</td>\n",
       "      <td>...</td>\n",
       "      <td>...</td>\n",
       "      <td>...</td>\n",
       "      <td>...</td>\n",
       "      <td>...</td>\n",
       "      <td>...</td>\n",
       "      <td>...</td>\n",
       "      <td>...</td>\n",
       "      <td>...</td>\n",
       "      <td>...</td>\n",
       "      <td>...</td>\n",
       "      <td>...</td>\n",
       "      <td>...</td>\n",
       "    </tr>\n",
       "    <tr>\n",
       "      <th>1177</th>\n",
       "      <td>São Paulo</td>\n",
       "      <td>3550308</td>\n",
       "      <td>40</td>\n",
       "      <td>0</td>\n",
       "      <td>0</td>\n",
       "      <td>0</td>\n",
       "      <td>0</td>\n",
       "      <td>0</td>\n",
       "      <td>0</td>\n",
       "      <td>0</td>\n",
       "      <td>0</td>\n",
       "      <td>0</td>\n",
       "      <td>0</td>\n",
       "      <td>0</td>\n",
       "      <td>1</td>\n",
       "      <td>0</td>\n",
       "      <td>0</td>\n",
       "      <td>0</td>\n",
       "      <td>1.0</td>\n",
       "    </tr>\n",
       "    <tr>\n",
       "      <th>1178</th>\n",
       "      <td>Campinas</td>\n",
       "      <td>3509502</td>\n",
       "      <td>80</td>\n",
       "      <td>0</td>\n",
       "      <td>0</td>\n",
       "      <td>0</td>\n",
       "      <td>0</td>\n",
       "      <td>0</td>\n",
       "      <td>0</td>\n",
       "      <td>0</td>\n",
       "      <td>0</td>\n",
       "      <td>0</td>\n",
       "      <td>0</td>\n",
       "      <td>0</td>\n",
       "      <td>1</td>\n",
       "      <td>0</td>\n",
       "      <td>0</td>\n",
       "      <td>0</td>\n",
       "      <td>1.0</td>\n",
       "    </tr>\n",
       "    <tr>\n",
       "      <th>1179</th>\n",
       "      <td>São José do Rio Preto</td>\n",
       "      <td>3549805</td>\n",
       "      <td>44</td>\n",
       "      <td>0</td>\n",
       "      <td>0</td>\n",
       "      <td>0</td>\n",
       "      <td>1</td>\n",
       "      <td>0</td>\n",
       "      <td>0</td>\n",
       "      <td>0</td>\n",
       "      <td>0</td>\n",
       "      <td>0</td>\n",
       "      <td>0</td>\n",
       "      <td>0</td>\n",
       "      <td>0</td>\n",
       "      <td>0</td>\n",
       "      <td>0</td>\n",
       "      <td>0</td>\n",
       "      <td>1.0</td>\n",
       "    </tr>\n",
       "    <tr>\n",
       "      <th>1180</th>\n",
       "      <td>São Paulo</td>\n",
       "      <td>3550308</td>\n",
       "      <td>72</td>\n",
       "      <td>0</td>\n",
       "      <td>1</td>\n",
       "      <td>0</td>\n",
       "      <td>0</td>\n",
       "      <td>0</td>\n",
       "      <td>0</td>\n",
       "      <td>0</td>\n",
       "      <td>0</td>\n",
       "      <td>0</td>\n",
       "      <td>0</td>\n",
       "      <td>0</td>\n",
       "      <td>0</td>\n",
       "      <td>1</td>\n",
       "      <td>0</td>\n",
       "      <td>0</td>\n",
       "      <td>1.0</td>\n",
       "    </tr>\n",
       "    <tr>\n",
       "      <th>1181</th>\n",
       "      <td>São Paulo</td>\n",
       "      <td>3550308</td>\n",
       "      <td>60</td>\n",
       "      <td>0</td>\n",
       "      <td>0</td>\n",
       "      <td>0</td>\n",
       "      <td>1</td>\n",
       "      <td>0</td>\n",
       "      <td>0</td>\n",
       "      <td>0</td>\n",
       "      <td>0</td>\n",
       "      <td>0</td>\n",
       "      <td>0</td>\n",
       "      <td>0</td>\n",
       "      <td>0</td>\n",
       "      <td>0</td>\n",
       "      <td>0</td>\n",
       "      <td>0</td>\n",
       "      <td>1.0</td>\n",
       "    </tr>\n",
       "  </tbody>\n",
       "</table>\n",
       "<p>1182 rows × 19 columns</p>\n",
       "</div>"
      ],
      "text/plain": [
       "                 nome_munic  codigo_ibge  idade  sexo  obito  asma  \\\n",
       "0     Ferraz de Vasconcelos      3515707     86     0      1     0   \n",
       "1                 São Paulo      3550308     62     0      0     0   \n",
       "2       São José dos Campos      3549904     58     0      0     0   \n",
       "3                      Mauá      3529401     54     1      1     1   \n",
       "4                   Cajamar      3509205     62     0      1     0   \n",
       "...                     ...          ...    ...   ...    ...   ...   \n",
       "1177              São Paulo      3550308     40     0      0     0   \n",
       "1178               Campinas      3509502     80     0      0     0   \n",
       "1179  São José do Rio Preto      3549805     44     0      0     0   \n",
       "1180              São Paulo      3550308     72     0      1     0   \n",
       "1181              São Paulo      3550308     60     0      0     0   \n",
       "\n",
       "      cardiopatia  diabetes  doenca_hematologica  doenca_hepatica  \\\n",
       "0               1         1                    0                0   \n",
       "1               0         1                    0                0   \n",
       "2               1         0                    0                0   \n",
       "3               1         0                    0                0   \n",
       "4               1         1                    0                0   \n",
       "...           ...       ...                  ...              ...   \n",
       "1177            0         0                    0                0   \n",
       "1178            0         0                    0                0   \n",
       "1179            1         0                    0                0   \n",
       "1180            0         0                    0                0   \n",
       "1181            1         0                    0                0   \n",
       "\n",
       "      doenca_neurologica  doenca_renal  imunodepressao  obesidade  \\\n",
       "0                      0             0               0          0   \n",
       "1                      0             0               0          0   \n",
       "2                      0             0               1          0   \n",
       "3                      0             0               0          0   \n",
       "4                      0             0               0          1   \n",
       "...                  ...           ...             ...        ...   \n",
       "1177                   0             0               0          0   \n",
       "1178                   0             0               0          0   \n",
       "1179                   0             0               0          0   \n",
       "1180                   0             0               0          0   \n",
       "1181                   0             0               0          0   \n",
       "\n",
       "      outros_fatores_de_risco  pneumopatia  puerpera  sindrome_de_down  const  \n",
       "0                           0            0         0                 0    1.0  \n",
       "1                           0            1         0                 0    1.0  \n",
       "2                           1            0         0                 0    1.0  \n",
       "3                           0            0         0                 0    1.0  \n",
       "4                           0            0         0                 0    1.0  \n",
       "...                       ...          ...       ...               ...    ...  \n",
       "1177                        1            0         0                 0    1.0  \n",
       "1178                        1            0         0                 0    1.0  \n",
       "1179                        0            0         0                 0    1.0  \n",
       "1180                        0            1         0                 0    1.0  \n",
       "1181                        0            0         0                 0    1.0  \n",
       "\n",
       "[1182 rows x 19 columns]"
      ]
     },
     "execution_count": 10,
     "metadata": {},
     "output_type": "execute_result"
    }
   ],
   "source": [
    "dados"
   ]
  },
  {
   "cell_type": "code",
   "execution_count": 11,
   "metadata": {},
   "outputs": [],
   "source": [
    "dados_treino, dados_teste = train_test_split(dados,train_size = 0.8,random_state=3)"
   ]
  },
  {
   "cell_type": "code",
   "execution_count": 12,
   "metadata": {},
   "outputs": [],
   "source": [
    "preditoras = dados_treino[['const','idade','sexo','asma','cardiopatia','diabetes','doenca_renal', 'obesidade']]\n",
    "resposta = dados_treino[['obito']]"
   ]
  },
  {
   "cell_type": "code",
   "execution_count": 13,
   "metadata": {},
   "outputs": [
    {
     "name": "stdout",
     "output_type": "stream",
     "text": [
      "                 Generalized Linear Model Regression Results                  \n",
      "==============================================================================\n",
      "Dep. Variable:                  obito   No. Observations:                  945\n",
      "Model:                            GLM   Df Residuals:                      937\n",
      "Model Family:                Binomial   Df Model:                            7\n",
      "Link Function:                  logit   Scale:                          1.0000\n",
      "Method:                          IRLS   Log-Likelihood:                -575.28\n",
      "Date:                Tue, 08 Jun 2021   Deviance:                       1150.6\n",
      "Time:                        20:27:28   Pearson chi2:                     941.\n",
      "No. Iterations:                     4                                         \n",
      "Covariance Type:            nonrobust                                         \n",
      "================================================================================\n",
      "                   coef    std err          z      P>|z|      [0.025      0.975]\n",
      "--------------------------------------------------------------------------------\n",
      "const           -3.3762      0.351     -9.609      0.000      -4.065      -2.688\n",
      "idade            0.0429      0.005      8.212      0.000       0.033       0.053\n",
      "sexo            -0.1453      0.144     -1.011      0.312      -0.427       0.136\n",
      "asma            -0.3512      0.408     -0.860      0.390      -1.151       0.449\n",
      "cardiopatia     -0.0492      0.146     -0.337      0.736      -0.336       0.237\n",
      "diabetes         0.2503      0.145      1.721      0.085      -0.035       0.535\n",
      "doenca_renal     0.5812      0.296      1.961      0.050       0.000       1.162\n",
      "obesidade        0.6499      0.210      3.096      0.002       0.239       1.061\n",
      "================================================================================\n"
     ]
    }
   ],
   "source": [
    "glm_binom = sm.GLM(resposta, preditoras, family=sm.families.Binomial())\n",
    "res = glm_binom.fit()\n",
    "print(res.summary())\n"
   ]
  },
  {
   "cell_type": "code",
   "execution_count": 14,
   "metadata": {},
   "outputs": [],
   "source": [
    "ajustado = res.predict(preditoras)\n"
   ]
  },
  {
   "cell_type": "code",
   "execution_count": 15,
   "metadata": {},
   "outputs": [],
   "source": [
    "X_teste = dados_teste[['const','idade','sexo','asma','cardiopatia','diabetes','doenca_renal', 'obesidade']]\n",
    "Y_teste = dados_teste[['obito']]\n",
    "\n",
    "predito = res.predict(X_teste)\n"
   ]
  },
  {
   "cell_type": "code",
   "execution_count": 16,
   "metadata": {},
   "outputs": [
    {
     "data": {
      "text/plain": [
       "0.1993304697252316"
      ]
     },
     "execution_count": 16,
     "metadata": {},
     "output_type": "execute_result"
    }
   ],
   "source": [
    "from sklearn.metrics import mean_absolute_error, mean_squared_error\n",
    "mean_squared_error(predito, Y_teste)\n"
   ]
  },
  {
   "cell_type": "code",
   "execution_count": 17,
   "metadata": {},
   "outputs": [
    {
     "data": {
      "text/plain": [
       "1166.5619547074634"
      ]
     },
     "execution_count": 17,
     "metadata": {},
     "output_type": "execute_result"
    }
   ],
   "source": [
    "res.aic"
   ]
  },
  {
   "cell_type": "markdown",
   "metadata": {},
   "source": [
    "**Segundo modelo, excluindo cardiopatia**"
   ]
  },
  {
   "cell_type": "code",
   "execution_count": 18,
   "metadata": {},
   "outputs": [],
   "source": [
    "preditoras = dados_treino[['const','idade','sexo','asma','diabetes','doenca_renal', 'obesidade']]\n",
    "resposta = dados_treino[['obito']]"
   ]
  },
  {
   "cell_type": "code",
   "execution_count": 19,
   "metadata": {
    "execution": {
     "iopub.execute_input": "2021-02-02T06:54:02.714720Z",
     "iopub.status.busy": "2021-02-02T06:54:02.713600Z",
     "iopub.status.idle": "2021-02-02T06:54:02.759498Z",
     "shell.execute_reply": "2021-02-02T06:54:02.760452Z"
    }
   },
   "outputs": [
    {
     "name": "stdout",
     "output_type": "stream",
     "text": [
      "                 Generalized Linear Model Regression Results                  \n",
      "==============================================================================\n",
      "Dep. Variable:                  obito   No. Observations:                  945\n",
      "Model:                            GLM   Df Residuals:                      938\n",
      "Model Family:                Binomial   Df Model:                            6\n",
      "Link Function:                  logit   Scale:                          1.0000\n",
      "Method:                          IRLS   Log-Likelihood:                -575.34\n",
      "Date:                Tue, 08 Jun 2021   Deviance:                       1150.7\n",
      "Time:                        20:44:56   Pearson chi2:                     942.\n",
      "No. Iterations:                     4                                         \n",
      "Covariance Type:            nonrobust                                         \n",
      "================================================================================\n",
      "                   coef    std err          z      P>|z|      [0.025      0.975]\n",
      "--------------------------------------------------------------------------------\n",
      "const           -3.3807      0.351     -9.625      0.000      -4.069      -2.692\n",
      "idade            0.0426      0.005      8.304      0.000       0.033       0.053\n",
      "sexo            -0.1464      0.144     -1.019      0.308      -0.428       0.135\n",
      "asma            -0.3497      0.409     -0.856      0.392      -1.151       0.451\n",
      "diabetes         0.2489      0.145      1.712      0.087      -0.036       0.534\n",
      "doenca_renal     0.5768      0.296      1.948      0.051      -0.004       1.157\n",
      "obesidade        0.6495      0.210      3.093      0.002       0.238       1.061\n",
      "================================================================================\n"
     ]
    }
   ],
   "source": [
    "glm_binom = sm.GLM(resposta, preditoras, family=sm.families.Binomial())\n",
    "res = glm_binom.fit()\n",
    "print(res.summary())"
   ]
  },
  {
   "cell_type": "code",
   "execution_count": 20,
   "metadata": {},
   "outputs": [],
   "source": [
    "ajustado = res.predict()"
   ]
  },
  {
   "cell_type": "code",
   "execution_count": 21,
   "metadata": {},
   "outputs": [],
   "source": [
    "X_teste = dados_teste[['const','idade','sexo','asma','diabetes','doenca_renal', 'obesidade']]\n",
    "Y_teste = dados_teste[['obito']]\n",
    "\n",
    "predito = res.predict(X_teste)\n"
   ]
  },
  {
   "cell_type": "code",
   "execution_count": 22,
   "metadata": {},
   "outputs": [
    {
     "data": {
      "text/plain": [
       "0.19943538803697025"
      ]
     },
     "execution_count": 22,
     "metadata": {},
     "output_type": "execute_result"
    }
   ],
   "source": [
    "from sklearn.metrics import mean_absolute_error, mean_squared_error\n",
    "mean_squared_error(predito, Y_teste)"
   ]
  },
  {
   "cell_type": "code",
   "execution_count": 23,
   "metadata": {},
   "outputs": [
    {
     "data": {
      "text/plain": [
       "1164.6752349551355"
      ]
     },
     "execution_count": 23,
     "metadata": {},
     "output_type": "execute_result"
    }
   ],
   "source": [
    "res.aic"
   ]
  },
  {
   "cell_type": "markdown",
   "metadata": {},
   "source": [
    "**Terceiro modelo, excluindo asma**"
   ]
  },
  {
   "cell_type": "code",
   "execution_count": 24,
   "metadata": {},
   "outputs": [],
   "source": [
    "preditoras = dados_treino[['const','idade','sexo','diabetes','doenca_renal', 'obesidade']]\n",
    "resposta = dados_treino[['obito']]\n"
   ]
  },
  {
   "cell_type": "code",
   "execution_count": 25,
   "metadata": {},
   "outputs": [
    {
     "name": "stdout",
     "output_type": "stream",
     "text": [
      "                 Generalized Linear Model Regression Results                  \n",
      "==============================================================================\n",
      "Dep. Variable:                  obito   No. Observations:                  945\n",
      "Model:                            GLM   Df Residuals:                      939\n",
      "Model Family:                Binomial   Df Model:                            5\n",
      "Link Function:                  logit   Scale:                          1.0000\n",
      "Method:                          IRLS   Log-Likelihood:                -575.72\n",
      "Date:                Tue, 08 Jun 2021   Deviance:                       1151.4\n",
      "Time:                        20:51:12   Pearson chi2:                     942.\n",
      "No. Iterations:                     4                                         \n",
      "Covariance Type:            nonrobust                                         \n",
      "================================================================================\n",
      "                   coef    std err          z      P>|z|      [0.025      0.975]\n",
      "--------------------------------------------------------------------------------\n",
      "const           -3.3842      0.351     -9.651      0.000      -4.071      -2.697\n",
      "idade            0.0425      0.005      8.295      0.000       0.032       0.053\n",
      "sexo            -0.1461      0.144     -1.017      0.309      -0.428       0.135\n",
      "diabetes         0.2539      0.145      1.748      0.081      -0.031       0.539\n",
      "doenca_renal     0.5806      0.296      1.963      0.050       0.001       1.160\n",
      "obesidade        0.6365      0.209      3.040      0.002       0.226       1.047\n",
      "================================================================================\n"
     ]
    }
   ],
   "source": [
    "glm_binom = sm.GLM(resposta, preditoras, family=sm.families.Binomial())\n",
    "res = glm_binom.fit()\n",
    "print(res.summary())\n"
   ]
  },
  {
   "cell_type": "code",
   "execution_count": 26,
   "metadata": {},
   "outputs": [],
   "source": [
    "ajustado = res.predict()\n",
    "\n"
   ]
  },
  {
   "cell_type": "code",
   "execution_count": 27,
   "metadata": {},
   "outputs": [],
   "source": [
    "X_teste = dados_teste[['const','idade','sexo','diabetes','doenca_renal', 'obesidade']]\n",
    "Y_teste = dados_teste[['obito']]\n",
    "\n",
    "predito = res.predict(X_teste)"
   ]
  },
  {
   "cell_type": "code",
   "execution_count": 28,
   "metadata": {},
   "outputs": [
    {
     "data": {
      "text/plain": [
       "0.1996224183983691"
      ]
     },
     "execution_count": 28,
     "metadata": {},
     "output_type": "execute_result"
    }
   ],
   "source": [
    "from sklearn.metrics import mean_absolute_error, mean_squared_error\n",
    "mean_squared_error(predito, Y_teste)\n"
   ]
  },
  {
   "cell_type": "code",
   "execution_count": 29,
   "metadata": {},
   "outputs": [
    {
     "data": {
      "text/plain": [
       "1163.430212617864"
      ]
     },
     "execution_count": 29,
     "metadata": {},
     "output_type": "execute_result"
    }
   ],
   "source": [
    "res.aic"
   ]
  },
  {
   "cell_type": "markdown",
   "metadata": {},
   "source": [
    "**Quarto modelo, excluindo sexo**\n"
   ]
  },
  {
   "cell_type": "code",
   "execution_count": 30,
   "metadata": {},
   "outputs": [],
   "source": [
    "preditoras = dados_treino[['const','idade','diabetes','doenca_renal', 'obesidade']]\n",
    "resposta = dados_treino[['obito']]\n",
    "\n"
   ]
  },
  {
   "cell_type": "code",
   "execution_count": 31,
   "metadata": {},
   "outputs": [
    {
     "name": "stdout",
     "output_type": "stream",
     "text": [
      "                 Generalized Linear Model Regression Results                  \n",
      "==============================================================================\n",
      "Dep. Variable:                  obito   No. Observations:                  945\n",
      "Model:                            GLM   Df Residuals:                      940\n",
      "Model Family:                Binomial   Df Model:                            4\n",
      "Link Function:                  logit   Scale:                          1.0000\n",
      "Method:                          IRLS   Log-Likelihood:                -576.23\n",
      "Date:                Tue, 08 Jun 2021   Deviance:                       1152.5\n",
      "Time:                        20:51:55   Pearson chi2:                     942.\n",
      "No. Iterations:                     4                                         \n",
      "Covariance Type:            nonrobust                                         \n",
      "================================================================================\n",
      "                   coef    std err          z      P>|z|      [0.025      0.975]\n",
      "--------------------------------------------------------------------------------\n",
      "const           -3.4253      0.348     -9.834      0.000      -4.108      -2.743\n",
      "idade            0.0420      0.005      8.253      0.000       0.032       0.052\n",
      "diabetes         0.2648      0.145      1.829      0.067      -0.019       0.549\n",
      "doenca_renal     0.6034      0.295      2.048      0.041       0.026       1.181\n",
      "obesidade        0.6230      0.209      2.987      0.003       0.214       1.032\n",
      "================================================================================\n"
     ]
    }
   ],
   "source": [
    "glm_binom = sm.GLM(resposta, preditoras, family=sm.families.Binomial())\n",
    "res = glm_binom.fit()\n",
    "print(res.summary())\n",
    "\n",
    "\n",
    "ajustado = res.predict()\n"
   ]
  },
  {
   "cell_type": "markdown",
   "metadata": {},
   "source": [
    "Note que a significância marginal das preditoras que ficaram muda em relação aos modelos anteriores.\n",
    "Neste momento paramos as exclusões e vamos manter as preditoras."
   ]
  },
  {
   "cell_type": "code",
   "execution_count": 32,
   "metadata": {},
   "outputs": [],
   "source": [
    "X_teste = dados_teste[['const','idade','diabetes','doenca_renal', 'obesidade']]\n",
    "Y_teste = dados_teste[['obito']]\n",
    "\n",
    "predito = res.predict(X_teste)\n"
   ]
  },
  {
   "cell_type": "code",
   "execution_count": 33,
   "metadata": {},
   "outputs": [
    {
     "data": {
      "text/plain": [
       "0.2000601841534481"
      ]
     },
     "execution_count": 33,
     "metadata": {},
     "output_type": "execute_result"
    }
   ],
   "source": [
    "from sklearn.metrics import mean_absolute_error, mean_squared_error\n",
    "mean_squared_error(predito, Y_teste)\n"
   ]
  },
  {
   "cell_type": "code",
   "execution_count": 34,
   "metadata": {},
   "outputs": [
    {
     "data": {
      "text/plain": [
       "1162.4668937333213"
      ]
     },
     "execution_count": 34,
     "metadata": {},
     "output_type": "execute_result"
    }
   ],
   "source": [
    "res.aic"
   ]
  },
  {
   "cell_type": "markdown",
   "metadata": {},
   "source": [
    "**Análise de diagnóstico para o modelo \"final\", agora com a base toda**"
   ]
  },
  {
   "cell_type": "code",
   "execution_count": 35,
   "metadata": {},
   "outputs": [],
   "source": [
    "preditoras = dados[['const','idade','diabetes','doenca_renal', 'obesidade']]\n",
    "resposta = dados[['obito']]"
   ]
  },
  {
   "cell_type": "code",
   "execution_count": 36,
   "metadata": {},
   "outputs": [
    {
     "name": "stdout",
     "output_type": "stream",
     "text": [
      "                 Generalized Linear Model Regression Results                  \n",
      "==============================================================================\n",
      "Dep. Variable:                  obito   No. Observations:                 1182\n",
      "Model:                            GLM   Df Residuals:                     1177\n",
      "Model Family:                Binomial   Df Model:                            4\n",
      "Link Function:                  logit   Scale:                          1.0000\n",
      "Method:                          IRLS   Log-Likelihood:                -716.15\n",
      "Date:                Tue, 08 Jun 2021   Deviance:                       1432.3\n",
      "Time:                        20:54:54   Pearson chi2:                 1.21e+03\n",
      "No. Iterations:                     4                                         \n",
      "Covariance Type:            nonrobust                                         \n",
      "================================================================================\n",
      "                   coef    std err          z      P>|z|      [0.025      0.975]\n",
      "--------------------------------------------------------------------------------\n",
      "const           -3.5240      0.315    -11.194      0.000      -4.141      -2.907\n",
      "idade            0.0432      0.005      9.445      0.000       0.034       0.052\n",
      "diabetes         0.2758      0.130      2.121      0.034       0.021       0.531\n",
      "doenca_renal     0.4378      0.260      1.683      0.092      -0.072       0.948\n",
      "obesidade        0.6268      0.185      3.397      0.001       0.265       0.988\n",
      "================================================================================\n"
     ]
    }
   ],
   "source": [
    "glm_binom = sm.GLM(resposta, preditoras, family=sm.families.Binomial())\n",
    "res = glm_binom.fit()\n",
    "ajustado = res.predict()\n",
    "print(res.summary())"
   ]
  },
  {
   "cell_type": "markdown",
   "metadata": {},
   "source": [
    "Qual a interpretação dos parâmetros?\n",
    "\n",
    "Podemos fazê-la com a razão de chances. \n",
    "\n",
    "Exemplo: \n",
    "\n",
    "- Para a preditora obesidade, $\\exp(0.6268) = 1.87$, o que indica um aumento de 87% na chance de óbito para pacientes com obesidade em relação a pacientes que não apresentam essa característica.  "
   ]
  },
  {
   "cell_type": "markdown",
   "metadata": {},
   "source": [
    "O que é chance? Qual a diferença entre chance e probabilidade?"
   ]
  },
  {
   "cell_type": "markdown",
   "metadata": {},
   "source": [
    "A chance de ocorrência de um evento é a probabilidade de ocorrência deste evento dividida pela probabilidade da não ocorrência do mesmo evento. \n",
    "\n",
    "\n",
    "$c = \\dfrac{p}{1-p}$"
   ]
  },
  {
   "cell_type": "markdown",
   "metadata": {},
   "source": [
    "Dessa maneira, se a probabilidade de ocorrência de um evento é de 80%, então as chances de ocorrência deste evento são de 4 para 1."
   ]
  },
  {
   "cell_type": "markdown",
   "metadata": {},
   "source": [
    "E a razão de chances?"
   ]
  },
  {
   "cell_type": "markdown",
   "metadata": {},
   "source": [
    "A razão de chances é definida como a razão entre a chance de um evento ocorrer em um grupo e a chance de ocorrer em outro grupo. Neste caso, os grupos são definidos pela presença ou não da doença/condição médica."
   ]
  },
  {
   "cell_type": "markdown",
   "metadata": {},
   "source": [
    "Uma razão de chances de 1 indica que a condição ou evento sob estudo é igualmente provável de ocorrer nos dois grupos. Uma razão de chances maior do que 1 indica que a condição ou evento tem maior probabilidade de ocorrer no primeiro grupo. Finalmente, uma razão de chances menor do que 1 indica que a probabilidade é menor no primeiro grupo do que no segundo."
   ]
  },
  {
   "cell_type": "markdown",
   "metadata": {},
   "source": [
    "Para doença renal:"
   ]
  },
  {
   "cell_type": "code",
   "execution_count": 37,
   "metadata": {},
   "outputs": [
    {
     "data": {
      "text/plain": [
       "1.549295017428057"
      ]
     },
     "execution_count": 37,
     "metadata": {},
     "output_type": "execute_result"
    }
   ],
   "source": [
    "oc = np.exp(0.4378)\n",
    "oc"
   ]
  },
  {
   "cell_type": "code",
   "execution_count": 42,
   "metadata": {},
   "outputs": [
    {
     "data": {
      "text/plain": [
       "1.317584320809698"
      ]
     },
     "execution_count": 42,
     "metadata": {},
     "output_type": "execute_result"
    }
   ],
   "source": [
    "oc_d = np.exp( 0.2758)\n",
    "oc_d"
   ]
  },
  {
   "cell_type": "markdown",
   "metadata": {},
   "source": [
    "Como podemos intepretar essa razão de chances?"
   ]
  },
  {
   "cell_type": "markdown",
   "metadata": {},
   "source": [
    "Indica um aumento de 54,9% na chance de óbito para pacientes com doença renal em relação a pacientes que não apresentam essa característica."
   ]
  },
  {
   "cell_type": "markdown",
   "metadata": {},
   "source": [
    "E no caso da idade que não é binária? Como calculamos seu efeito e o interpretamos?\n",
    "\n",
    "A razão de chances nesse caso fica\n",
    "\n",
    "$$\\psi =  \\dfrac{\\pi(X + \\Delta)/(1-\\pi(X + \\Delta))}{\\pi(X)/(1-\\pi(X))} = \\dfrac{e^{\\beta *( X + \\Delta)}}{e^{\\beta * X}} = e^{\\beta * \\Delta} $$\n",
    "\n",
    "\n",
    "Para covariáveis numéricas calculamos a OR para uma variação $\\Delta$\n",
    "\n",
    "$$OR = e^{\\beta * \\Delta}$$"
   ]
  },
  {
   "cell_type": "markdown",
   "metadata": {},
   "source": [
    "Logo, fixando uma variação de 10 anos na idade temos:"
   ]
  },
  {
   "cell_type": "code",
   "execution_count": 38,
   "metadata": {},
   "outputs": [
    {
     "data": {
      "text/plain": [
       "1.540335115161127"
      ]
     },
     "execution_count": 38,
     "metadata": {},
     "output_type": "execute_result"
    }
   ],
   "source": [
    "delta = 10\n",
    "rr_idade_10 = np.exp(0.0432 * delta)\n",
    "rr_idade_10"
   ]
  },
  {
   "cell_type": "markdown",
   "metadata": {},
   "source": [
    "Como interpretamos?"
   ]
  },
  {
   "cell_type": "markdown",
   "metadata": {},
   "source": [
    "Se compararmos dois indivíduos com mesmas condições de saúde (diabetes, obesidade e doença renal), mas com uma diferença de idade de 10 anos, o indivíduo mais velho tem um aumento de 54% na chance de óbito quando comparado com indivíduo mais novo."
   ]
  },
  {
   "cell_type": "markdown",
   "metadata": {},
   "source": [
    "E para 20 anos?"
   ]
  },
  {
   "cell_type": "code",
   "execution_count": 40,
   "metadata": {},
   "outputs": [
    {
     "data": {
      "text/plain": [
       "0.6492093766851473"
      ]
     },
     "execution_count": 40,
     "metadata": {},
     "output_type": "execute_result"
    }
   ],
   "source": [
    "delta = -10\n",
    "rr_idade_20 = np.exp(0.0432 * delta)\n",
    "rr_idade_20"
   ]
  },
  {
   "cell_type": "code",
   "execution_count": 41,
   "metadata": {},
   "outputs": [
    {
     "data": {
      "text/plain": [
       "0.35079062331485267"
      ]
     },
     "execution_count": 41,
     "metadata": {},
     "output_type": "execute_result"
    }
   ],
   "source": [
    "1-rr_idade_20"
   ]
  },
  {
   "cell_type": "markdown",
   "metadata": {},
   "source": [
    "Qual interpretação?"
   ]
  },
  {
   "cell_type": "markdown",
   "metadata": {},
   "source": [
    "**Alguns códigos para a análise de diagnóstico.**"
   ]
  },
  {
   "cell_type": "code",
   "execution_count": null,
   "metadata": {},
   "outputs": [],
   "source": [
    "# Gráfico de pontos de alavanca - hii\n",
    "\n",
    "\n",
    "fig = px.scatter(res.get_hat_matrix_diag())\n",
    "\n",
    "\n",
    "fig.show()\n"
   ]
  },
  {
   "cell_type": "code",
   "execution_count": null,
   "metadata": {},
   "outputs": [],
   "source": [
    "# Gráfico de Resíduo Componente do desvio\n",
    "\n",
    "fig, ax = plt.subplots()\n",
    "plt.plot(ajustado,res.resid_deviance,  '.')\n",
    "\n",
    "\n",
    "ax.set_ylabel('Resíduo componente do desvio')\n",
    "ax.set_xlabel('valor ajustado');\n",
    "\n",
    "plt.show()\n"
   ]
  },
  {
   "cell_type": "code",
   "execution_count": null,
   "metadata": {},
   "outputs": [],
   "source": [
    "# x and y given as DataFrame columns\n",
    "\n",
    "\n",
    "fig = px.scatter(x = ajustado, y=res.resid_deviance)\n",
    "fig.show()"
   ]
  },
  {
   "cell_type": "code",
   "execution_count": null,
   "metadata": {},
   "outputs": [],
   "source": []
  }
 ],
 "metadata": {
  "kernelspec": {
   "display_name": "Python 3",
   "language": "python",
   "name": "python3"
  },
  "language_info": {
   "codemirror_mode": {
    "name": "ipython",
    "version": 3
   },
   "file_extension": ".py",
   "mimetype": "text/x-python",
   "name": "python",
   "nbconvert_exporter": "python",
   "pygments_lexer": "ipython3",
   "version": "3.8.8"
  }
 },
 "nbformat": 4,
 "nbformat_minor": 4
}
