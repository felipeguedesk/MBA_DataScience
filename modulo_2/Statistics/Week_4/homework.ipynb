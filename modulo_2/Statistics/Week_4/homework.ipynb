{
 "metadata": {
  "language_info": {
   "codemirror_mode": {
    "name": "ipython",
    "version": 3
   },
   "file_extension": ".py",
   "mimetype": "text/x-python",
   "name": "python",
   "nbconvert_exporter": "python",
   "pygments_lexer": "ipython3",
   "version": "3.8.5"
  },
  "orig_nbformat": 2,
  "kernelspec": {
   "name": "python385jvsc74a57bd054bfc7d4636b6a9e21c7fe418d72849dff5d8e5f01d1aec84a4210a34166d17b",
   "display_name": "Python 3.8.5 64-bit ('base': conda)"
  },
  "metadata": {
   "interpreter": {
    "hash": "e7370f93d1d0cde622a1f8e1c04877d8463912d04d973331ad4851f04de6915a"
   }
  }
 },
 "nbformat": 4,
 "nbformat_minor": 2,
 "cells": [
  {
   "cell_type": "code",
   "execution_count": 1,
   "metadata": {},
   "outputs": [
    {
     "output_type": "stream",
     "name": "stdout",
     "text": [
      "Z: 1.0\n0.15865525393145707\n"
     ]
    }
   ],
   "source": [
    "import scipy.stats as st\n",
    "\n",
    "mu = 100\n",
    "sigma = 10\n",
    "# determine P (x > 110)\n",
    "\n",
    "z = (110-mu)/sigma\n",
    "print('Z:', z)\n",
    "print(1-st.norm.cdf(z))"
   ]
  },
  {
   "cell_type": "code",
   "execution_count": 2,
   "metadata": {},
   "outputs": [
    {
     "output_type": "stream",
     "name": "stdout",
     "text": [
      "Z: 0.20000000000000018\n0.5792597094391031\n"
     ]
    }
   ],
   "source": [
    "import scipy.stats as st\n",
    "\n",
    "mu = 1.7\n",
    "sigma = 0.5\n",
    "# determine P (x < 1.8)\n",
    "\n",
    "z = (1.8-mu)/sigma\n",
    "print('Z:', z)\n",
    "print(st.norm.cdf(z))"
   ]
  },
  {
   "cell_type": "code",
   "execution_count": 17,
   "metadata": {},
   "outputs": [
    {
     "output_type": "stream",
     "name": "stdout",
     "text": [
      "Z1: -2.0\nZ1: 2.0\n0.95\n"
     ]
    }
   ],
   "source": [
    "import scipy.stats as st\n",
    "import numpy as np\n",
    "\n",
    "mu = 5\n",
    "sigma = 10\n",
    "n = 100\n",
    "# determine P (3 < x < 7)\n",
    "\n",
    "z1 = (3-mu)/(sigma / np.sqrt(n))\n",
    "z2 = (7-mu)/(sigma / np.sqrt(n))\n",
    "print('Z1:', z1)\n",
    "print('Z1:', z2)\n",
    "print(round(st.norm.cdf(z2) - st.norm.cdf(z1), 2))"
   ]
  },
  {
   "cell_type": "code",
   "execution_count": null,
   "metadata": {},
   "outputs": [],
   "source": []
  }
 ]
}