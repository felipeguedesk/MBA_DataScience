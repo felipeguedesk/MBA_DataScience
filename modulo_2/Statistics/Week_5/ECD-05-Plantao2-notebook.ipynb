{
 "cells": [
  {
   "cell_type": "markdown",
   "metadata": {
    "id": "OL3BaFKjodNJ"
   },
   "source": [
    "# Tutorias - Testes de Hipóteses\n",
    "## Estatística para Ciência de Dados \n",
    "### 17/05/2021 e 20/05/2021\n",
    "\n",
    "Luna Wagner e Maria Blanco\n",
    "\n"
   ]
  },
  {
   "cell_type": "markdown",
   "metadata": {
    "id": "vcXOqsAN_MMq"
   },
   "source": [
    "Importando as bibliotecas necessárias"
   ]
  },
  {
   "cell_type": "code",
   "execution_count": 1,
   "metadata": {
    "id": "Nr26-gR0oDWR"
   },
   "outputs": [],
   "source": [
    "import pandas as pd\n",
    "import numpy as np\n",
    "from scipy import stats"
   ]
  },
  {
   "cell_type": "markdown",
   "metadata": {
    "id": "93O-eT4slBZm"
   },
   "source": [
    "Função scipy stats para valores da distribuição normal - https://docs.scipy.org/doc/scipy/reference/generated/scipy.stats.norm.html\n",
    "\n",
    "https://machinelearningmastery.com/critical-values-for-statistical-hypothesis-testing/\n"
   ]
  },
  {
   "cell_type": "markdown",
   "metadata": {
    "id": "gxxSd_OZqHUj"
   },
   "source": [
    "**Revisão do teste para média** (simples)\n",
    "\n",
    "Vamos rever o exemplo dado em aula, mas sem a simulação de Monte Carlo.\n",
    "\n",
    "Uma fábrica anuncia que o índice de nicotina dos cigarros de uma dada marca é igual a 20 mg por cigarro. Um laboratório realiza 20 análises do índice obtendo: 22, 19, 21, 22, 20, 18, 27, 20, 21, 19, 20, 22, 17, 20, 21,18, 25, 16, 20, 21. Sabe-se que o índice de nicotina dos cigarros dessa marca se distribui normalmente com variância 4 mg$^2$. Pode-se aceitar a afirmação do fabricante, ao nível de 5%?\n",
    "\n",
    "Primeiro definimos as hipóteses que queremos testar ao nível $\\alpha = 0,05$ de significância:\n",
    "\n",
    "\n",
    "$H_0: \\mu = 20$<br>\n",
    "$H_1: \\mu > 20$"
   ]
  },
  {
   "cell_type": "markdown",
   "metadata": {
    "id": "M95XuwcSBq1E"
   },
   "source": [
    "Atribuímos os dados do problema: lista de observações X, $\\alpha$, $\\mu$ e $\\sigma^2$"
   ]
  },
  {
   "cell_type": "code",
   "execution_count": 2,
   "metadata": {
    "id": "xppXlgv7CQ3k"
   },
   "outputs": [],
   "source": [
    "X = [22, 19, 21, 22, 20, 18, 27, 20, 21, 19, 20, 22, 17, 20, 21,18, 25, 16, 20, 21]\n",
    "\n",
    "mu = 20\n",
    "\n",
    "sigma2 = 4\n",
    "\n",
    "alpha = 0.05"
   ]
  },
  {
   "cell_type": "markdown",
   "metadata": {
    "id": "WCMDrbqgChZd"
   },
   "source": [
    "E então calculamos a média observada e o valor crítico"
   ]
  },
  {
   "cell_type": "code",
   "execution_count": 3,
   "metadata": {
    "id": "F-5XyMw3kwz-"
   },
   "outputs": [],
   "source": [
    "xobs = np.mean(X)\n",
    "\n",
    "xc = stats.norm(mu, np.sqrt(sigma)).ppf((1-alpha))"
   ]
  },
  {
   "cell_type": "markdown",
   "metadata": {
    "id": "KjOE6tc6C1iC"
   },
   "source": [
    "Obs: estamos usando a função que retorna a probabilidade acumulada e, por ser um teste lateral á direita, devemos calcular o percentil 1-$\\alpha$\n",
    "\n",
    "Agora basta comparar os valores e concluir"
   ]
  },
  {
   "cell_type": "code",
   "execution_count": 4,
   "metadata": {
    "colab": {
     "base_uri": "https://localhost:8080/"
    },
    "id": "vc3HqI3HDhQk",
    "outputId": "fb9b929f-f1f4-4fa1-8296-d450adcff017"
   },
   "outputs": [
    {
     "name": "stdout",
     "output_type": "stream",
     "text": [
      "Xc= 23.289707253902943   Xobs =  20.45\n",
      "Aceitamos H0\n"
     ]
    }
   ],
   "source": [
    "print('Xc=',xc,'  Xobs = ', xobs)\n",
    "if(xobs < xc):\n",
    "    print(\"Aceitamos H0\")\n",
    "else:\n",
    "    print(\"Rejeitamos H0\")"
   ]
  },
  {
   "cell_type": "markdown",
   "metadata": {
    "id": "4kMBIoWkq8Q5"
   },
   "source": [
    "## Valor p\n",
    "\n",
    "Referências: http://www.portalaction.com.br/inferencia/512-calculo-e-interpretacao-do-p-valor"
   ]
  },
  {
   "cell_type": "markdown",
   "metadata": {
    "id": "arFXfUzdC0zK"
   },
   "source": [
    "Como ficaria se analisássemos pelo valor p?\n",
    "\n",
    "Neste caso, o valor p é probabilidade de X, sob $H_0$, ser maior que a média observada. "
   ]
  },
  {
   "cell_type": "code",
   "execution_count": 5,
   "metadata": {
    "colab": {
     "base_uri": "https://localhost:8080/"
    },
    "id": "ySS_dfj_Efhh",
    "outputId": "e245d2bf-c361-472c-868d-22596286ee74"
   },
   "outputs": [
    {
     "data": {
      "text/plain": [
       "0.41098963713127046"
      ]
     },
     "execution_count": 5,
     "metadata": {},
     "output_type": "execute_result"
    }
   ],
   "source": [
    "valor_p = 1 - stats.norm(mu, np.sqrt(sigma)).cdf(xobs)\n",
    "valor_p"
   ]
  },
  {
   "cell_type": "markdown",
   "metadata": {
    "id": "gp0D9tzrFMcP"
   },
   "source": [
    "E concluímos"
   ]
  },
  {
   "cell_type": "code",
   "execution_count": 6,
   "metadata": {
    "colab": {
     "base_uri": "https://localhost:8080/"
    },
    "id": "LgMA93zBFQRQ",
    "outputId": "95c995ef-4fa1-4422-ca9c-0807c6ddf8cb"
   },
   "outputs": [
    {
     "name": "stdout",
     "output_type": "stream",
     "text": [
      "Valor p= 0.41098963713127046   alpha =  0.05\n",
      "Aceitamos H0\n"
     ]
    }
   ],
   "source": [
    "print('Valor p=',valor_p,'  alpha = ', alpha)\n",
    "if(alpha < valor_p):\n",
    "    print(\"Aceitamos H0\")\n",
    "else:\n",
    "    print(\"Rejeitamos H0\")"
   ]
  },
  {
   "cell_type": "markdown",
   "metadata": {
    "id": "fEWaekBOqXDu"
   },
   "source": [
    "# Exercícios de fixação"
   ]
  },
  {
   "cell_type": "markdown",
   "metadata": {
    "id": "XR9BIjcmTBAH"
   },
   "source": [
    "**1)** Uma fábrica anuncia que o índice de nicotina dos cigarros de uma dada marca é igual a 20 mg por cigarro. Um laboratório realiza 20 análises do índice obtendo: 22, 19, 21, 22, 20, 18, 27, 20, 21, 19, 20, 22, 17, 20, 21,18, 25, 16, 20, 21. Sabe-se que o índice de nicotina dos cigarros dessa marca se distribui normalmente com variância 4 mg 2 . \n",
    "\n",
    "Pode-se aceitar a afirmação do fabricante, ao nível de 10% e 1%?"
   ]
  },
  {
   "cell_type": "markdown",
   "metadata": {
    "id": "xFPbXzTcUQ9t"
   },
   "source": [
    "\n",
    " *Vamos primeiro definir as hipóteses:*\n",
    "\n",
    "$H_0: \\mu = 20$\n",
    "\n",
    "$H_1: \\mu > 20$\n",
    "\n",
    "*Temos que*\n",
    "\n",
    "$\\sigma ^2 = 4$\n",
    "\n",
    "*E os dados:*"
   ]
  },
  {
   "cell_type": "code",
   "execution_count": 15,
   "metadata": {
    "id": "3e-z4kbzqh0U"
   },
   "outputs": [],
   "source": [
    "x1 = [22, 19, 21, 22, 20, 18, 27, 20, 21, 19, 20, 22, 17, 20, 21,18, 25, 16, 20, 21]\n",
    "n1 = len(x1)\n",
    "mu1 = 20\n",
    "var = 4"
   ]
  },
  {
   "cell_type": "code",
   "execution_count": 16,
   "metadata": {
    "colab": {
     "base_uri": "https://localhost:8080/"
    },
    "id": "GuVvU-qUUT4n",
    "outputId": "236bfd41-590c-4f84-ec7f-6993f594506b"
   },
   "outputs": [
    {
     "data": {
      "text/plain": [
       "20.45"
      ]
     },
     "execution_count": 16,
     "metadata": {},
     "output_type": "execute_result"
    }
   ],
   "source": [
    "x_obs_barr1 = np.mean(x1)\n",
    "x_obs_barr1"
   ]
  },
  {
   "cell_type": "code",
   "execution_count": 17,
   "metadata": {
    "colab": {
     "base_uri": "https://localhost:8080/"
    },
    "id": "2hJANWe_aHx5",
    "outputId": "216463eb-4407-4e00-ec89-336eba534279"
   },
   "outputs": [
    {
     "name": "stdout",
     "output_type": "stream",
     "text": [
      "Xc para 0.01 = 24.652695748081683 \n",
      " Xc para 0.1 = 22.5631031310892 \n",
      " Xobs =  20.45\n"
     ]
    }
   ],
   "source": [
    "alpha_1 = 0.01\n",
    "alpha_10 = 0.1\n",
    "\n",
    "\n",
    "xc_1 = stats.norm(20, 2).ppf((1- alpha_1))\n",
    "\n",
    "xc_10 = stats.norm(20, 2).ppf((1- alpha_10))\n",
    "\n",
    "print('Xc para 0.01 =',xc_1,'\\n', 'Xc para 0.1 =',xc_10, '\\n', 'Xobs = ', xobs)"
   ]
  },
  {
   "cell_type": "markdown",
   "metadata": {
    "id": "oK7tIXpiI2Gj"
   },
   "source": [
    "**O que podemos concluir olhando para os diferentes valores críticos e a média observada?**\n",
    "\n",
    "E se olharmos para valor p?"
   ]
  },
  {
   "cell_type": "code",
   "execution_count": 18,
   "metadata": {
    "colab": {
     "base_uri": "https://localhost:8080/"
    },
    "id": "xEdYWeTmIy5h",
    "outputId": "f29578ba-76a4-4d4c-e55d-1f7bd226e848"
   },
   "outputs": [
    {
     "data": {
      "text/plain": [
       "0.41098963713127046"
      ]
     },
     "execution_count": 18,
     "metadata": {},
     "output_type": "execute_result"
    }
   ],
   "source": [
    "valor_p1 = 1 - stats.norm(mu1, np.sqrt(var)).cdf(x_obs_barr1)\n",
    "valor_p1"
   ]
  },
  {
   "cell_type": "markdown",
   "metadata": {
    "id": "AsNtJDtKu13c"
   },
   "source": [
    "**2)** Um pesquisador deseja estudar o efeito de certa substância no tempo de reação de seres vivos a um certo tipo de estímulo. Um experimento é desenvolvido com cobaias, que são inoculadas com a substância e submetidas a um estímulo elétrico, com seus tempos de reação (em segundos) anotados. Os seguintes valores foram obtidos:\n",
    "T = [9,1;9,3;7,2;13,3;10,9;7,2;9,9;8,0;8,6;7,5]<br>\n",
    "Admite-se que, em geral,  o tempo de reação tem distribuição Normal com média 8 segundos e desvio padrão 2 segundos. Entretanto, o pesquisador desconfia que o tempo médio sofre um aumento, por influência da substância. Verifique a nível 2% se o tempo de reação das cobaias submetidas à substância foi aumentado."
   ]
  },
  {
   "cell_type": "markdown",
   "metadata": {
    "id": "cdwwSatpKe2p"
   },
   "source": [
    "Queremos testas as hipóteses:\n",
    "\n",
    "\n",
    "$H_0: \\mu = 8 $\n",
    "\n",
    "$H_1: \\mu > 8 $\n",
    "\n",
    "Ao nível de significância $\\alpha = 0,02$\n",
    "\n",
    "Temos os dados:"
   ]
  },
  {
   "cell_type": "code",
   "execution_count": 11,
   "metadata": {
    "id": "ZgonJCFON9Mq"
   },
   "outputs": [],
   "source": [
    "T = [9.1,9.3,7.2,13.3,10.9,7.2,9.9,8.0,8.6,7.5]\n",
    "\n",
    "mu_t = 8\n",
    "\n",
    "dp_t = 2\n",
    "\n",
    "alpha_t = 0.02"
   ]
  },
  {
   "cell_type": "markdown",
   "metadata": {
    "id": "hMZ-L9f1OaaL"
   },
   "source": [
    "E calculamos a média observada de T e o valor crítico"
   ]
  },
  {
   "cell_type": "code",
   "execution_count": 12,
   "metadata": {
    "colab": {
     "base_uri": "https://localhost:8080/"
    },
    "id": "mkYhe4_Au5Df",
    "outputId": "8baaba91-f03e-4c8a-ec52-4c06ab82a4b6"
   },
   "outputs": [
    {
     "name": "stdout",
     "output_type": "stream",
     "text": [
      "Tc= 12.107497821263646  e  Tobs =  9.1\n",
      "Aceitamos H0\n"
     ]
    }
   ],
   "source": [
    "t_obs = np.mean(T)\n",
    "\n",
    "tc = stats.norm(mu_t, dp_t).ppf((1-alpha_t))\n",
    "\n",
    "print('Tc=', tc,' e  Tobs = ', t_obs)\n",
    "if( t_obs > tc):\n",
    "    print(\"Rejeitamos H0\")\n",
    "else:\n",
    "    print(\"Aceitamos H0\")"
   ]
  },
  {
   "cell_type": "markdown",
   "metadata": {},
   "source": [
    "Valor p"
   ]
  },
  {
   "cell_type": "code",
   "execution_count": 13,
   "metadata": {},
   "outputs": [],
   "source": [
    "valor_p_t = 1 - stats.norm(mu_t, dp_t).cdf(t_obs)"
   ]
  },
  {
   "cell_type": "markdown",
   "metadata": {},
   "source": [
    "Conclusão"
   ]
  },
  {
   "cell_type": "code",
   "execution_count": 14,
   "metadata": {},
   "outputs": [
    {
     "name": "stdout",
     "output_type": "stream",
     "text": [
      "Valor p= 0.29115968678834636   alpha =  0.02\n",
      "Aceitamos H0\n"
     ]
    }
   ],
   "source": [
    "print('Valor p=',valor_p_t,'  alpha = ', alpha_t)\n",
    "if(alpha_t < valor_p_t):\n",
    "    print(\"Aceitamos H0\")\n",
    "else:\n",
    "    print(\"Rejeitamos H0\")"
   ]
  },
  {
   "cell_type": "markdown",
   "metadata": {},
   "source": [
    "## Exercício 3 de fixação"
   ]
  },
  {
   "cell_type": "markdown",
   "metadata": {},
   "source": [
    "Considere a base de dados da flor iris. Realize a seleção de atributos usando teste de hipóteses. Use o classificador Naive Bayes e verifique se o erro na classificação diminui quando usamos 2 atributos selecionados."
   ]
  },
  {
   "cell_type": "markdown",
   "metadata": {},
   "source": [
    "Dados da flor Iris disponível em datasets do sklearn: https://scikit-learn.org/stable/auto_examples/datasets/plot_iris_dataset.html#"
   ]
  },
  {
   "cell_type": "code",
   "execution_count": 19,
   "metadata": {},
   "outputs": [],
   "source": [
    "from sklearn import datasets\n",
    "import matplotlib.pyplot as plt"
   ]
  },
  {
   "cell_type": "code",
   "execution_count": 20,
   "metadata": {},
   "outputs": [],
   "source": [
    "iris = datasets.load_iris()\n",
    "X3 = iris.data \n",
    "y = iris.target"
   ]
  },
  {
   "cell_type": "code",
   "execution_count": 21,
   "metadata": {},
   "outputs": [
    {
     "data": {
      "text/plain": [
       "(150, 4)"
      ]
     },
     "execution_count": 21,
     "metadata": {},
     "output_type": "execute_result"
    }
   ],
   "source": [
    "X3.shape"
   ]
  },
  {
   "cell_type": "markdown",
   "metadata": {},
   "source": [
    "Vamos fazer uma breve visualização das 4 variáveis e as classes"
   ]
  },
  {
   "cell_type": "code",
   "execution_count": 22,
   "metadata": {},
   "outputs": [
    {
     "data": {
      "image/png": "[encoded data removed]",
      "text/plain": [
       "<Figure size 432x288 with 1 Axes>"
      ]
     },
     "metadata": {
      "needs_background": "light"
     },
     "output_type": "display_data"
    }
   ],
   "source": [
    "plt.scatter(X3[:,0], X3[:,1], cmap='viridis',  c=y, s=50, alpha=0.9)\n",
    "plt.xlabel('X1', fontsize=20)\n",
    "plt.ylabel('X2', fontsize=20)\n",
    "plt.show(True)"
   ]
  },
  {
   "cell_type": "code",
   "execution_count": 23,
   "metadata": {},
   "outputs": [
    {
     "data": {
      "image/png": "[encoded data removed]",
      "text/plain": [
       "<Figure size 432x288 with 1 Axes>"
      ]
     },
     "metadata": {
      "needs_background": "light"
     },
     "output_type": "display_data"
    }
   ],
   "source": [
    "plt.scatter(X3[:,2], X3[:,3], c=y, cmap='viridis', s=50, alpha=0.9)\n",
    "plt.xlabel('X3', fontsize=20)\n",
    "plt.ylabel('X4', fontsize=20)\n",
    "plt.show(True)"
   ]
  },
  {
   "cell_type": "markdown",
   "metadata": {},
   "source": [
    "Vamos fazer a classificação usando todo o conjunto de dados."
   ]
  },
  {
   "cell_type": "code",
   "execution_count": 24,
   "metadata": {},
   "outputs": [
    {
     "name": "stdout",
     "output_type": "stream",
     "text": [
      "Accuracy:  0.9736842105263158\n"
     ]
    }
   ],
   "source": [
    "from sklearn.model_selection import train_test_split\n",
    "p = 0.25 \n",
    "x_train, x_test, y_train, y_test = train_test_split(X3, y, test_size = p, random_state = 2)\n",
    "\n",
    "from sklearn.naive_bayes import GaussianNB\n",
    "from sklearn import metrics\n",
    "\n",
    "model = GaussianNB()\n",
    "model.fit(x_train, y_train)\n",
    "\n",
    "y_pred = model.predict(x_test)\n",
    "print('Accuracy: ', model.score(x_test, y_test))"
   ]
  },
  {
   "cell_type": "code",
   "execution_count": 25,
   "metadata": {},
   "outputs": [
    {
     "name": "stdout",
     "output_type": "stream",
     "text": [
      "Número de pontos classificados incorretamente 1 do total de 38\n"
     ]
    }
   ],
   "source": [
    "print(\"Número de pontos classificados incorretamente\",(y_test != y_pred).sum(),'do total de', x_test.shape[0])"
   ]
  },
  {
   "cell_type": "markdown",
   "metadata": {},
   "source": [
    "Para realizar a seleção dos atributos, usamos Anova (https://pt.wikipedia.org/wiki/An%C3%A1lise_de_vari%C3%A2ncia), que usa o teste de hipóteses. \n",
    "\n",
    "Para cada covariável vamos testar se há diferença estatística entre as 3 classes da flor Iris. Neste caso, como há mais de dois tipos, é utilizado a ANOVA para teste de comparações múltiplas, como melhor detalhado em: http://www.portalaction.com.br/anova/teste-de-comparacoes-multiplas\n",
    "\n",
    "Por exemplo, para a variável 1, testamos:\n",
    "\n",
    "$H_0: \\mu_1 = \\mu_2 = \\mu_3$\n",
    "\n",
    "$H_1: \\mu_i \\neq \\mu_j$\n",
    "\n",
    "Se rejeitamos a hipótese nula, isso significa que pelo menos duas médias diferem entre si e, portanto, é interessante utilizar tal atributo na nossa classificação. Note que, se não rejeitamos H0, a utilização dessa variável não acrescenta na distinção entre as classes.\n",
    "\n",
    "Este método de seleção de variáveis não depende do método de classificação utilizado, pois leva em consideração apenas a relação das covariáveis com o target."
   ]
  },
  {
   "cell_type": "code",
   "execution_count": 26,
   "metadata": {},
   "outputs": [],
   "source": [
    "from sklearn.feature_selection import SelectKBest\n",
    "from sklearn.feature_selection import f_classif\n",
    "\n",
    "\n",
    "fvalue_selector = SelectKBest(f_classif, k=2)\n",
    "\n",
    "X_kbest = fvalue_selector.fit_transform(X3, y)"
   ]
  },
  {
   "cell_type": "code",
   "execution_count": 27,
   "metadata": {},
   "outputs": [
    {
     "data": {
      "image/png": "[encoded data removed]",
      "text/plain": [
       "<Figure size 432x288 with 1 Axes>"
      ]
     },
     "metadata": {
      "needs_background": "light"
     },
     "output_type": "display_data"
    }
   ],
   "source": [
    "plt.scatter(X_kbest[:,0], X_kbest[:,1], c=y, cmap='viridis', s=50, alpha=0.9)\n",
    "plt.show(True)"
   ]
  },
  {
   "cell_type": "markdown",
   "metadata": {},
   "source": [
    "Vamos verificar como ficou a acurácia só com as 2 variáveis escolhidas"
   ]
  },
  {
   "cell_type": "code",
   "execution_count": 28,
   "metadata": {},
   "outputs": [
    {
     "name": "stdout",
     "output_type": "stream",
     "text": [
      "Accuracy:  0.9736842105263158\n"
     ]
    }
   ],
   "source": [
    "from sklearn.model_selection import train_test_split\n",
    "p = 0.25\n",
    "x_train, x_test, y_train, y_test = train_test_split(X_kbest, y, test_size = p, random_state = 2)\n",
    "\n",
    "from sklearn.naive_bayes import GaussianNB\n",
    "from sklearn import metrics\n",
    "\n",
    "model = GaussianNB()\n",
    "model.fit(x_train, y_train)\n",
    "\n",
    "y_pred = model.predict(x_test)\n",
    "print('Accuracy: ', model.score(x_test, y_test))"
   ]
  },
  {
   "cell_type": "code",
   "execution_count": 29,
   "metadata": {},
   "outputs": [
    {
     "name": "stdout",
     "output_type": "stream",
     "text": [
      "Número de pontos classificados incorretamente 1 do total de 38\n"
     ]
    }
   ],
   "source": [
    "print(\"Número de pontos classificados incorretamente\",(y_test != y_pred).sum(),'do total de', x_test.shape[0])"
   ]
  },
  {
   "cell_type": "markdown",
   "metadata": {},
   "source": [
    "## Exemplo de teste de hipóteses"
   ]
  },
  {
   "cell_type": "markdown",
   "metadata": {},
   "source": [
    "http://www.portalaction.com.br/inferencia/52-teste-para-media-teste-t"
   ]
  },
  {
   "cell_type": "markdown",
   "metadata": {},
   "source": [
    "Um engenheiro de produção quer testar, com base nos dados da tabela a seguir, e para um nível de significância $\\alpha$=0,05, se a altura média de uma haste está próxima do valor nominal de 1055 mm sabendo que o desvio padrão é de 90 mm.  Uma amostra de 20 hastes foi analisada as medidas obtidas são dadas a seguir."
   ]
  },
  {
   "cell_type": "markdown",
   "metadata": {},
   "source": [
    "Observações = (903,88;\t1036,92;\t1098,04;\t1011,26;\n",
    "1020,70;\t915,38;\t1014,53;\t1097,79;\n",
    "934,52;\t1214,08;\t993,45;\t1120,19;\n",
    "860,41;\t1039,19;\t950,38;\t941,83;\n",
    "936,78;\t1086,98;\t1144,94;\t1066,12)"
   ]
  },
  {
   "cell_type": "markdown",
   "metadata": {},
   "source": [
    "\n",
    " *Vamos primeiro definir as hipóteses:*\n",
    "\n",
    "$H_0: \\mu = 1055$\n",
    "\n",
    "$H_1: \\mu \\neq 1055 $\n",
    "\n",
    "*Temos que*\n",
    "\n",
    "$\\alpha = 0.05$\n",
    "\n",
    "$\\sigma  = 90$"
   ]
  },
  {
   "cell_type": "code",
   "execution_count": 30,
   "metadata": {},
   "outputs": [],
   "source": [
    "w = [903.88, 1036.92, 1098.04, 1011.26, 1020.70, 915.38, 1014.53, 1097.79, 934.52, 1214.08, 993.45, 1120.19, 860.41, 1039.19, 950.38, 941.83, 936.7, 1086.98, 1144.94, 1066.12]\n",
    "\n",
    "alpha_w = 0.05\n",
    "\n",
    "mu_w = 1055\n",
    "\n",
    "dp_w = 90\n",
    "\n",
    "nw = len(w)"
   ]
  },
  {
   "cell_type": "markdown",
   "metadata": {},
   "source": [
    "Logo, teremos que a estatística observada é "
   ]
  },
  {
   "cell_type": "code",
   "execution_count": 31,
   "metadata": {},
   "outputs": [
    {
     "data": {
      "text/plain": [
       "1019.3644999999999"
      ]
     },
     "execution_count": 31,
     "metadata": {},
     "output_type": "execute_result"
    }
   ],
   "source": [
    "w_obs = np.mean(w)\n",
    "w_obs"
   ]
  },
  {
   "cell_type": "markdown",
   "metadata": {},
   "source": [
    "E os valores críticos são dados por:"
   ]
  },
  {
   "cell_type": "code",
   "execution_count": 32,
   "metadata": {},
   "outputs": [],
   "source": [
    "wc_1 = stats.norm(mu_w, dp_w).ppf((alpha_w/2))\n",
    "wc_2 = stats.norm(mu_w, dp_w).ppf(1-(alpha_w/2))"
   ]
  },
  {
   "cell_type": "code",
   "execution_count": 33,
   "metadata": {},
   "outputs": [
    {
     "name": "stdout",
     "output_type": "stream",
     "text": [
      "Portanto, NÃO rejeitamos H0 se a altura média observada estiver entre  878.6032413913952  e  1231.3967586086048  ao nível  0.05 de significância\n"
     ]
    }
   ],
   "source": [
    "print(\"Portanto, NÃO rejeitamos H0 se a altura média observada estiver entre \", wc_1, \" e \", wc_2, \" ao nível \", alpha_w,\"de significância\")"
   ]
  },
  {
   "cell_type": "markdown",
   "metadata": {},
   "source": [
    "E para a amostra observada temos:"
   ]
  },
  {
   "cell_type": "code",
   "execution_count": 34,
   "metadata": {},
   "outputs": [
    {
     "name": "stdout",
     "output_type": "stream",
     "text": [
      "Wc1= 878.6032413913952  e  Wc2 =  1231.3967586086048 \n",
      " Altura média observada =  1019.3644999999999\n",
      "Aceitamos H0\n"
     ]
    }
   ],
   "source": [
    "print('Wc1=', wc_1,' e  Wc2 = ', wc_2, '\\n Altura média observada = ',w_obs)\n",
    "if( (w_obs< wc_1) | (w_obs >wc_2)):\n",
    "    print(\"Rejeitamos H0\")\n",
    "else:\n",
    "    print(\"Aceitamos H0\")"
   ]
  },
  {
   "cell_type": "markdown",
   "metadata": {},
   "source": [
    "Valor p"
   ]
  },
  {
   "cell_type": "code",
   "execution_count": 35,
   "metadata": {},
   "outputs": [
    {
     "data": {
      "text/plain": [
       "0.6921419142768478"
      ]
     },
     "execution_count": 35,
     "metadata": {},
     "output_type": "execute_result"
    }
   ],
   "source": [
    "valor_p_w = 2 * min(stats.norm(mu_w, dp_w).cdf(w_obs),1 - stats.norm(mu_w, dp_w).cdf(w_obs) )\n",
    "valor_p_w"
   ]
  },
  {
   "cell_type": "markdown",
   "metadata": {},
   "source": [
    "## Como interpretamos esse resultado no contexto do problema?"
   ]
  },
  {
   "cell_type": "markdown",
   "metadata": {
    "id": "OVmonq4_qjJg"
   },
   "source": [
    "## Testes para comparação de médias \n",
    "http://www.portalaction.com.br/inferencia/571-comparacao-de-medias-variancias-iguais\n",
    "\n",
    "\n"
   ]
  },
  {
   "cell_type": "markdown",
   "metadata": {
    "id": "_OD7xLsumKhN"
   },
   "source": [
    "Podemos estar interessados em testar se dois experimentos geraram resultados divergentes, podemos fazer isso checando se a média de duas amostras são significativamente diferentes.\n",
    "\n",
    "$H_0: \\mu_a = \\mu_b$\n",
    "\n",
    "$H_1: \\mu_a \\neq \\mu_b$\n"
   ]
  },
  {
   "cell_type": "code",
   "execution_count": 36,
   "metadata": {
    "colab": {
     "base_uri": "https://localhost:8080/"
    },
    "id": "aKOFYUvrqhHM",
    "outputId": "a770be20-f77b-4d2c-8438-660f59bac6a4"
   },
   "outputs": [
    {
     "data": {
      "text/plain": [
       "Ttest_indResult(statistic=-3.2391053207156637, pvalue=0.00888286699136881)"
      ]
     },
     "execution_count": 36,
     "metadata": {},
     "output_type": "execute_result"
    }
   ],
   "source": [
    "a = [2,3,4,3,5,6] # amostra a\n",
    "b = [5,7,8,8,5,6] # amostra b\n",
    "stats.ttest_ind(a,b)"
   ]
  },
  {
   "cell_type": "code",
   "execution_count": null,
   "metadata": {
    "id": "5_dlIKIFE_ON"
   },
   "outputs": [],
   "source": []
  }
 ],
 "metadata": {
  "colab": {
   "collapsed_sections": [],
   "name": "Tutoria - 17/05.ipynb",
   "provenance": []
  },
  "kernelspec": {
   "display_name": "Python 3",
   "language": "python",
   "name": "python3"
  },
  "language_info": {
   "codemirror_mode": {
    "name": "ipython",
    "version": 3
   },
   "file_extension": ".py",
   "mimetype": "text/x-python",
   "name": "python",
   "nbconvert_exporter": "python",
   "pygments_lexer": "ipython3",
   "version": "3.8.8"
  }
 },
 "nbformat": 4,
 "nbformat_minor": 1
}
