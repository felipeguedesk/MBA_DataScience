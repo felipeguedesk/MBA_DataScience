{
 "metadata": {
  "language_info": {
   "codemirror_mode": {
    "name": "ipython",
    "version": 3
   },
   "file_extension": ".py",
   "mimetype": "text/x-python",
   "name": "python",
   "nbconvert_exporter": "python",
   "pygments_lexer": "ipython3",
   "version": "3.8.5"
  },
  "orig_nbformat": 2,
  "kernelspec": {
   "name": "python385jvsc74a57bd054bfc7d4636b6a9e21c7fe418d72849dff5d8e5f01d1aec84a4210a34166d17b",
   "display_name": "Python 3.8.5 64-bit ('base': conda)"
  }
 },
 "nbformat": 4,
 "nbformat_minor": 2,
 "cells": [
  {
   "cell_type": "code",
   "execution_count": 18,
   "metadata": {},
   "outputs": [
    {
     "output_type": "stream",
     "name": "stdout",
     "text": [
      "0.205078125\n"
     ]
    }
   ],
   "source": [
    "from random import seed\n",
    "from matplotlib import pyplot as plt\n",
    "import numpy as np\n",
    "from scipy.stats import binom\n",
    "import math\n",
    "\n",
    "seed(100) # semente do gerador de números aleatórios\n",
    "\n",
    "def get_binomial_accum_prob(n:int, p:float, interval:list)->float:\n",
    "    accum_prob = 0.0\n",
    "    for k in interval:\n",
    "        accum_prob += get_binomial_prob(n, p, k)\n",
    "    return accum_prob\n",
    "\n",
    "def get_binomial_prob(n:int, p:float, k:int)->float:\n",
    "    A = (math.factorial(n)/(math.factorial(n-k)*math.factorial(k)))\n",
    "    return A*(p**k)*(1-p)**(n-k)\n",
    "\n",
    "print(get_binomial_prob(10, 0.5, 6))"
   ]
  },
  {
   "cell_type": "code",
   "execution_count": 19,
   "metadata": {},
   "outputs": [
    {
     "output_type": "stream",
     "name": "stdout",
     "text": [
      "0.08422433748856833\n"
     ]
    }
   ],
   "source": [
    "from random import seed\n",
    "from matplotlib import pyplot as plt\n",
    "import numpy as np\n",
    "from scipy.stats import binom\n",
    "import math\n",
    "\n",
    "def get_poisson_accum_prob(rate:float, interval:list)->float:\n",
    "    accum_prob = 0.0\n",
    "    for k in interval:\n",
    "        accum_prob += get_poisson_prob(rate, k)\n",
    "    return accum_prob\n",
    "\n",
    "def get_poisson_prob(rate:float, k:int)->float:\n",
    "    return math.exp(-rate)*(rate**k)/(math.factorial(k))\n",
    "print(get_poisson_prob(5, 2))"
   ]
  },
  {
   "cell_type": "code",
   "execution_count": null,
   "metadata": {},
   "outputs": [],
   "source": []
  },
  {
   "cell_type": "code",
   "execution_count": null,
   "metadata": {},
   "outputs": [],
   "source": []
  }
 ]
}