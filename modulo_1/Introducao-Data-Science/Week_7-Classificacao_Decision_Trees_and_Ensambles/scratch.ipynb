{
 "metadata": {
  "language_info": {
   "codemirror_mode": {
    "name": "ipython",
    "version": 3
   },
   "file_extension": ".py",
   "mimetype": "text/x-python",
   "name": "python",
   "nbconvert_exporter": "python",
   "pygments_lexer": "ipython3",
   "version": "3.8.5-final"
  },
  "orig_nbformat": 2,
  "kernelspec": {
   "name": "python3",
   "display_name": "Python 3.8.5 64-bit (conda)",
   "metadata": {
    "interpreter": {
     "hash": "575c858066fb107161e6d07f33cfe6fccf09a248d406505ce32e9429f4d08601"
    }
   }
  }
 },
 "nbformat": 4,
 "nbformat_minor": 2,
 "cells": [
  {
   "cell_type": "code",
   "execution_count": 1,
   "metadata": {},
   "outputs": [],
   "source": [
    "import random\n",
    "import pandas as pd\n",
    "import numpy as np\n",
    "import matplotlib.pyplot as plt\n",
    "from sklearn.model_selection import train_test_split\n",
    "\n",
    "np.random.seed(42)\n",
    "\n",
    "data = pd.read_csv('../data/vertebralcolumn-2C.csv', header=(0))\n",
    "\n",
    "data = data.to_numpy()\n",
    "nrow,ncol = data.shape\n",
    "y = data[:,-1]\n",
    "X = data[:,0:ncol-1]\n",
    "\n",
    "p = 0.2 # fracao de elementos no conjunto de teste\n",
    "x_train, x_test, y_train, y_test = train_test_split(X, y, test_size = p, random_state = 2)"
   ]
  },
  {
   "source": [
    "## Question 1 \n",
    "### Considere os dados da vertebralcolumn-2C e o código abaixo. Use uma árvore de decisão com o critério Gini, isto é, use: model = tree.DecisionTreeClassifier(criterion = 'gini', ran-dom_state = 101)\n",
    "\n",
    "### Determine o valor das medidas F1 e precision. Arredonde para a primeira casa decimal."
   ],
   "cell_type": "markdown",
   "metadata": {}
  },
  {
   "cell_type": "code",
   "execution_count": 6,
   "metadata": {},
   "outputs": [
    {
     "output_type": "stream",
     "name": "stdout",
     "text": [
      "F1 score: 0.7163398692810458\nPrecision: 0.7255434782608696\n"
     ]
    }
   ],
   "source": [
    "from sklearn import tree\n",
    "from sklearn.metrics import precision_score, recall_score, classification_report, accuracy_score, f1_score\n",
    "\n",
    "# Cria o modelo usando o criterio Gini\n",
    "model = tree.DecisionTreeClassifier(criterion = 'gini', random_state = 101)\n",
    "# Ajusta o modelo usando os dados de treinamento\n",
    "model.fit(x_train,y_train)\n",
    "# realizar a predição\n",
    "y_pred = model.predict(x_test) \n",
    "\n",
    "print('F1 score:', f1_score(y_test, y_pred, average=\"macro\"))\n",
    "print('Precision:', precision_score(y_test, y_pred, average=\"macro\"))"
   ]
  },
  {
   "source": [
    "## Question 2\n",
    "\n",
    "### Considere os dados do exercício anterior. Qual o valor das medidas F1 e Accuracy quando usamos o algoritmo random forest com 100 árvores? Arredonde para a primeira casa decimal.\n",
    "\n",
    "### Use: model=RandomForestClassifier(n_estimators=100, random_state = 42)"
   ],
   "cell_type": "markdown",
   "metadata": {}
  },
  {
   "cell_type": "code",
   "execution_count": 5,
   "metadata": {},
   "outputs": [
    {
     "output_type": "stream",
     "name": "stdout",
     "text": [
      "F1 score: 0.8554778554778555\nPrecision: 0.8801418439716312\n"
     ]
    }
   ],
   "source": [
    "from sklearn.ensemble import RandomForestClassifier\n",
    "model=RandomForestClassifier(n_estimators=100, random_state = 42)\n",
    "# Ajusta o modelo usando os dados de treinamento\n",
    "model.fit(x_train,y_train)\n",
    "# realizar a predição\n",
    "y_pred = model.predict(x_test) \n",
    "\n",
    "print('F1 score:', f1_score(y_test, y_pred, average=\"macro\"))\n",
    "print('Precision:', precision_score(y_test, y_pred, average=\"macro\"))"
   ]
  },
  {
   "cell_type": "code",
   "execution_count": null,
   "metadata": {},
   "outputs": [],
   "source": []
  }
 ]
}