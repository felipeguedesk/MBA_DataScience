{
 "cells": [
  {
   "cell_type": "markdown",
   "metadata": {},
   "source": [
    "# <span style=\"color:blue\"> MBA em Ciência de Dados</span>\n",
    "# <span style=\"color:blue\">Programação para Ciência de Dados</span>\n",
    "\n",
    "## <span style=\"color:blue\">Numpy Parte I - Exercícios</span>\n",
    "**Material Produzido por Luis Gustavo Nonato**<br>\n",
    "**Cemeai - ICMC/USP São Carlos**"
   ]
  },
  {
   "cell_type": "markdown",
   "metadata": {},
   "source": [
    "#### <span style=\"color:red\">Recomenda-se fortemente que os exercícios sejam feitos sem consultar as respostas antecipadamente.</span>"
   ]
  },
  {
   "cell_type": "code",
   "execution_count": 1,
   "metadata": {},
   "outputs": [],
   "source": [
    "import numpy as np"
   ]
  },
  {
   "cell_type": "markdown",
   "metadata": {},
   "source": [
    "### Exercício 1)\n",
    "Utilize comprehension para gerar a lista de todos os números interios entre 0 e 19. Converta a lista em um <font color='blue'>numpy</font> array bidimensional (matriz) com 4 linhas e 5 colunas."
   ]
  },
  {
   "cell_type": "code",
   "execution_count": 4,
   "metadata": {},
   "outputs": [
    {
     "output_type": "stream",
     "name": "stdout",
     "text": [
      "[[ 0  1  2  3  4]\n [ 5  6  7  8  9]\n [10 11 12 13 14]\n [15 16 17 18 19]]\n"
     ]
    }
   ],
   "source": [
    "import numpy as np\n",
    "numeros_0_a_9 = np.arange(20).reshape(4,5)\n",
    "print(numeros_0_a_9)"
   ]
  },
  {
   "cell_type": "markdown",
   "metadata": {},
   "source": [
    "### Exercício 2)\n",
    "Construa um array unidimensional com 30 números inteiros escolhidos de forma randômica no intervalo entre 0 e 20. Reformate o array para que se torne uma matriz `A` com 5 linhas e 6 colunas."
   ]
  },
  {
   "cell_type": "code",
   "execution_count": 8,
   "metadata": {},
   "outputs": [
    {
     "output_type": "stream",
     "name": "stdout",
     "text": [
      "[[ 3  2 14  6  2  9]\n [12  1  0  2 15  9]\n [ 4  5  5 10  3 19]\n [ 8  0  8 19 14  1]\n [ 0 10  3 11  7 14]]\n"
     ]
    }
   ],
   "source": [
    "import numpy as np\n",
    "\n",
    "array_30_random = np.random.randint(0, 20, 30, dtype=int)\n",
    "A = array_30_random.reshape(5,6)\n",
    "print(A)"
   ]
  },
  {
   "cell_type": "markdown",
   "metadata": {},
   "source": [
    "### Exercício 3)\n",
    "Crie uma __view__ da matriz `A` gerada na célula anterior contendo:\n",
    "- as linhas de `A` com índices 0,1 e 3\n",
    "- as linhas de `A` com índice 1 e 2 e as colunas com índice 0,2 e 4\n",
    "- as linhas de `A` com índice 1 e 3 e as colunas com índice 1 e 3"
   ]
  },
  {
   "cell_type": "code",
   "execution_count": 12,
   "metadata": {},
   "outputs": [
    {
     "output_type": "stream",
     "name": "stdout",
     "text": [
      "[[ 3  2 14  6  2  9]\n [12  1  0  2 15  9]\n [ 8  0  8 19 14  1]]\n[[12  0 15]\n [ 4  5  3]]\n[[ 1  2]\n [ 0 19]]\n"
     ]
    }
   ],
   "source": [
    "print(A[[0,1,3],:])\n",
    "print(A[1:3,[0,2,4]])\n",
    "print(A[[1,3]][:,[1,3]])"
   ]
  },
  {
   "cell_type": "markdown",
   "metadata": {},
   "source": [
    "### Exercício 4)\n",
    "Construa um array `A` bidimensional 5x6 com 30 números inteiros escolhidos de forma randômica no intervalo entre 0 e 20. \n",
    "- faça uma cópia do array `A` criado, chamando a cópia de `Ac`\n",
    "- Substitua todos os elementos do array `A` que sejam maiores que 10 pelo valor -1 \n",
    "- Substitua todos os elementos do array `Ac` que sejam maiores que 7 e menores que 15 pelo valor -1 \n",
    "\n",
    "__Dica:__ Gere máscaras booleanas para realizar as modificações nos arrays."
   ]
  },
  {
   "cell_type": "code",
   "execution_count": 25,
   "metadata": {},
   "outputs": [
    {
     "output_type": "stream",
     "name": "stdout",
     "text": [
      "original A=\n[[13 12  8  9  8  3]\n [ 0 16 13  8 11 14]\n [ 9 13  4  8 15  3]\n [18  4 16 14  2 17]\n [19  5  0  3 14 18]]\noriginal Ac=\n[[13 12  8  9  8  3]\n [ 0 16 13  8 11 14]\n [ 9 13  4  8 15  3]\n [18  4 16 14  2 17]\n [19  5  0  3 14 18]]\nnew A=\n[[-1 -1  8  9  8  3]\n [ 0 -1 -1  8 -1 -1]\n [ 9 -1  4  8 -1  3]\n [-1  4 -1 -1  2 -1]\n [-1  5  0  3 -1 -1]]\nnew Ac=\n[[-1 -1 -1 -1 -1  3]\n [ 0 16 -1 -1 -1 -1]\n [-1 -1  4 -1 15  3]\n [18  4 16 -1  2 17]\n [19  5  0  3 -1 18]]\n"
     ]
    }
   ],
   "source": [
    "A = np.random.randint(0,20,30).reshape(5,6)\n",
    "Ac = np.copy(A)\n",
    "\n",
    "print(f\"original A=\\n{A}\")\n",
    "print(f\"original Ac=\\n{Ac}\")\n",
    "\n",
    "mask_greater_than_10 = (A > 10)\n",
    "A[mask_greater_than_10] = -1\n",
    "\n",
    "mask_greather_than_7_smaller_15 = (Ac > 7) & (Ac < 15)\n",
    "Ac[mask_greather_than_7_smaller_15] = -1\n",
    "\n",
    "print(f\"new A=\\n{A}\")\n",
    "print(f\"new Ac=\\n{Ac}\")\n"
   ]
  },
  {
   "cell_type": "markdown",
   "metadata": {},
   "source": [
    "### Exercício 5)\n",
    "Construa um array `A` com 20 linhas e 10 colunas onde os elementos são os números interios de  1 até 200.\n",
    "- Crie uma __view__ de `A` chamada `A_lpares` contendo apenas as linhas de `A` com índice par. \n",
    "- Crie uma __view__ de `A` chamada `A_lpares_cimpares` contendo as linhas `A` com índice par e colunas com índice ímpar. "
   ]
  },
  {
   "cell_type": "code",
   "execution_count": 28,
   "metadata": {},
   "outputs": [
    {
     "output_type": "stream",
     "name": "stdout",
     "text": [
      "[[  1   2   3   4   5   6   7   8   9  10]\n [ 11  12  13  14  15  16  17  18  19  20]\n [ 21  22  23  24  25  26  27  28  29  30]\n [ 31  32  33  34  35  36  37  38  39  40]\n [ 41  42  43  44  45  46  47  48  49  50]\n [ 51  52  53  54  55  56  57  58  59  60]\n [ 61  62  63  64  65  66  67  68  69  70]\n [ 71  72  73  74  75  76  77  78  79  80]\n [ 81  82  83  84  85  86  87  88  89  90]\n [ 91  92  93  94  95  96  97  98  99 100]\n [101 102 103 104 105 106 107 108 109 110]\n [111 112 113 114 115 116 117 118 119 120]\n [121 122 123 124 125 126 127 128 129 130]\n [131 132 133 134 135 136 137 138 139 140]\n [141 142 143 144 145 146 147 148 149 150]\n [151 152 153 154 155 156 157 158 159 160]\n [161 162 163 164 165 166 167 168 169 170]\n [171 172 173 174 175 176 177 178 179 180]\n [181 182 183 184 185 186 187 188 189 190]\n [191 192 193 194 195 196 197 198 199 200]]\n[[  1   2   3   4   5   6   7   8   9  10]\n [ 21  22  23  24  25  26  27  28  29  30]\n [ 41  42  43  44  45  46  47  48  49  50]\n [ 61  62  63  64  65  66  67  68  69  70]\n [ 81  82  83  84  85  86  87  88  89  90]\n [101 102 103 104 105 106 107 108 109 110]\n [121 122 123 124 125 126 127 128 129 130]\n [141 142 143 144 145 146 147 148 149 150]\n [161 162 163 164 165 166 167 168 169 170]\n [181 182 183 184 185 186 187 188 189 190]]\n[[  2   4   6   8  10]\n [ 22  24  26  28  30]\n [ 42  44  46  48  50]\n [ 62  64  66  68  70]\n [ 82  84  86  88  90]\n [102 104 106 108 110]\n [122 124 126 128 130]\n [142 144 146 148 150]\n [162 164 166 168 170]\n [182 184 186 188 190]]\n"
     ]
    }
   ],
   "source": [
    "A = np.arange(start=1, stop=201, step=1, dtype=int).reshape(20,10)\n",
    "print(A)\n",
    "evenNumberChecker = lambda num:num%2==0\n",
    "evenNumbers = [num for num in range(A.shape[0]) if evenNumberChecker(num)]\n",
    "A_lpares = A[evenNumbers,:]\n",
    "print(A_lpares)\n",
    "\n",
    "oddColumns = [column for column in range(A.shape[1]) if not evenNumberChecker(column)]\n",
    "A_lpares_cimpares = A_lpares[:,oddColumns]\n",
    "print(A_lpares_cimpares)"
   ]
  },
  {
   "cell_type": "markdown",
   "metadata": {},
   "source": [
    "### Exercício 6)\n",
    "Substitua os elememtos do array `A` do exercício anterior por -1 quando pelo menos um dos índices do elemento é par. \n",
    "\n",
    "__Dica:__ Construa uma máscara booleana"
   ]
  },
  {
   "cell_type": "code",
   "execution_count": 37,
   "metadata": {},
   "outputs": [
    {
     "output_type": "stream",
     "name": "stdout",
     "text": [
      "[[ -1  -1  -1  -1  -1  -1  -1  -1  -1  -1]\n [ -1  12  -1  14  -1  16  -1  18  -1  20]\n [ -1  -1  -1  -1  -1  -1  -1  -1  -1  -1]\n [ -1  32  -1  34  -1  36  -1  38  -1  40]\n [ -1  -1  -1  -1  -1  -1  -1  -1  -1  -1]\n [ -1  52  -1  54  -1  56  -1  58  -1  60]\n [ -1  -1  -1  -1  -1  -1  -1  -1  -1  -1]\n [ -1  72  -1  74  -1  76  -1  78  -1  80]\n [ -1  -1  -1  -1  -1  -1  -1  -1  -1  -1]\n [ -1  92  -1  94  -1  96  -1  98  -1 100]\n [ -1  -1  -1  -1  -1  -1  -1  -1  -1  -1]\n [ -1 112  -1 114  -1 116  -1 118  -1 120]\n [ -1  -1  -1  -1  -1  -1  -1  -1  -1  -1]\n [ -1 132  -1 134  -1 136  -1 138  -1 140]\n [ -1  -1  -1  -1  -1  -1  -1  -1  -1  -1]\n [ -1 152  -1 154  -1 156  -1 158  -1 160]\n [ -1  -1  -1  -1  -1  -1  -1  -1  -1  -1]\n [ -1 172  -1 174  -1 176  -1 178  -1 180]\n [ -1  -1  -1  -1  -1  -1  -1  -1  -1  -1]\n [ -1 192  -1 194  -1 196  -1 198  -1 200]]\n"
     ]
    }
   ],
   "source": [
    "mask_at_least_one_even = np.array([r%2==0 or c%2==0 for r in range(A.shape[0]) for c in range(A.shape[1])]).reshape(A.shape)\n",
    "A[mask_at_least_one_even] = -1\n",
    "print(A)\n"
   ]
  },
  {
   "cell_type": "markdown",
   "metadata": {},
   "source": [
    "### Exercício 7)\n",
    "Considere o array `X` de números tipo <font color='blue'>float</font> gerado a partir de uma distribuição uniforme no intervalo entre 0 e 1. Escreva um código para encontrar os três menores valores do array.\n",
    "\n",
    "__Dica:__ Converta o array em uma lista e ordene."
   ]
  },
  {
   "cell_type": "code",
   "execution_count": 49,
   "metadata": {},
   "outputs": [
    {
     "output_type": "stream",
     "name": "stdout",
     "text": [
      "[[0.96870984 0.42253458 0.58717756 0.53808838 0.78749494]\n [0.12767755 0.07217331 0.92734796 0.53259192 0.12820624]]\nThe three smallest values are: [0.07217331471024624, 0.12767755139681491, 0.12820624419673687]\n"
     ]
    }
   ],
   "source": [
    "X = np.random.uniform(0, 1, 10).reshape(2,5)\n",
    "\n",
    "print(X)\n",
    "print(f'The three smallest values are: {sorted(X.flatten())[0:3]}')\n"
   ]
  },
  {
   "cell_type": "markdown",
   "metadata": {},
   "source": [
    "### Exercício 8)\n",
    "Escreva uma função chamada `troca_colunas` que recebe um array e o índice de duas colunas como parâmetros e retorna o array com as colunas trocadas. Por exemplo:\n",
    "```python\n",
    "X = np.array([[0, 1, 2, 3, 4, 5], \n",
    "              [0, 1, 2, 3, 4, 5], \n",
    "              [0, 1, 2, 3, 4, 5]])\n",
    "\n",
    "X = troca_colunas(X,1,3)\n",
    "print(X)\n",
    "```\n",
    "deve resultar em\n",
    "```python\n",
    "[[0 3 2 1 4 5]\n",
    " [0 3 2 1 4 5]\n",
    " [0 3 2 1 4 5]]\n",
    "```\n"
   ]
  },
  {
   "cell_type": "code",
   "execution_count": 59,
   "metadata": {},
   "outputs": [
    {
     "output_type": "stream",
     "name": "stdout",
     "text": [
      "[[0 1 2 3 4 5]\n [0 1 2 3 4 5]\n [0 1 2 3 4 5]]\n6\n[[0 3 2 1 4 5]\n [0 3 2 1 4 5]\n [0 3 2 1 4 5]]\n"
     ]
    }
   ],
   "source": [
    "def troca_colunas(A,i,j):\n",
    "    if (i == j):\n",
    "        return A\n",
    "    maxDimension = np.max(A.shape)\n",
    "    if (maxDimension < i or maxDimension < j):\n",
    "        return A # can raise an error here\n",
    "    A_i = np.copy(A[:,i])\n",
    "    A[:,i] = A[:, j]\n",
    "    A[:,j] = A_i\n",
    "    return A\n",
    "\n",
    "\n",
    "X = np.array([[0, 1, 2, 3, 4, 5], [0, 1, 2, 3, 4, 5], [0, 1, 2, 3, 4, 5]])\n",
    "print(X)\n",
    "\n",
    "X = troca_colunas(X,1,3)\n",
    "print(X)"
   ]
  },
  {
   "cell_type": "markdown",
   "metadata": {},
   "source": [
    "### Exercício 9)\n",
    "Os métodos <font color='blue'>vstack</font> e <font color='blue'>hstack</font> do <font color='blue'>numpy</font> empilha matrizes na vertical e horizontal, respectivamente. Por exemplo:\n",
    "```python\n",
    "A = [[1.0, 1.0, 1.0], [1.0, 1.0, 1.0]]\n",
    "B = [[2.0, 2.0, 2.0], [2.0, 2.0, 2.0]]\n",
    "\n",
    "C = np.vstack((A,B))\n",
    "print(C)\n",
    "```\n",
    "resulta em\n",
    "```python\n",
    "[[1. 1. 1.]\n",
    " [1. 1. 1.]\n",
    " [2. 2. 2.]\n",
    " [2. 2. 2.]]\n",
    "```\n",
    "Escreva um código para gerar duas matrizes `A` e `B` de números inteiros randômicos no intervalo entre 0 e 10, onde:\n",
    "- A matriz `A` é 5x6\n",
    "- A matriz `B` é 5x3\n",
    "\n",
    "Utilize o método <font color='blue'>hstack</font> para empilhar as matrizes\n",
    "\n",
    "O que acontece se tentar utilizar o método <font color='blue'>vstack</font>? Explique o motivo da mensagem gerada."
   ]
  },
  {
   "cell_type": "code",
   "execution_count": 64,
   "metadata": {},
   "outputs": [
    {
     "output_type": "stream",
     "name": "stdout",
     "text": [
      "[[7 2 0 7 8 8 0 1 7]\n [8 2 1 6 5 5 7 6 4]\n [7 8 2 6 1 2 2 4 2]\n [1 2 4 3 2 9 0 9 9]\n [1 6 8 9 5 8 0 9 9]]\n"
     ]
    }
   ],
   "source": [
    "A = np.random.randint(0,10,30).reshape(5,6)\n",
    "B = np.random.randint(0,10,15).reshape(5,3)\n",
    "horizontally_stacked = np.hstack((A,B))\n",
    "print(horizontally_stacked)"
   ]
  },
  {
   "cell_type": "markdown",
   "metadata": {},
   "source": [
    "### Exercício 10)\n",
    "Escreva um código para, data uma matriz, zerar todos os elementos abaixo da diagonal principal da matriz. Por exemplo:\n",
    "```python\n",
    "[[2 8 3 4 8]\n",
    " [4 8 7 7 3]\n",
    " [8 2 3 1 4]\n",
    " [8 6 3 8 1]\n",
    " [6 4 4 6 1]]\n",
    "```\n",
    "deve resultar em\n",
    "```python\n",
    "[[2 8 3 4 8]\n",
    " [0 8 7 7 3]\n",
    " [0 0 3 1 4]\n",
    " [0 0 0 8 1]\n",
    " [0 0 0 0 1]]\n",
    "```"
   ]
  },
  {
   "cell_type": "code",
   "execution_count": 67,
   "metadata": {},
   "outputs": [
    {
     "output_type": "stream",
     "name": "stdout",
     "text": [
      "[[2 8 3 4 8]\n [0 8 7 7 3]\n [0 0 3 1 4]\n [0 0 0 8 1]\n [0 0 0 0 1]]\n"
     ]
    }
   ],
   "source": [
    "def zere_baja_diagonal(matrix):\n",
    "    r,c = matrix.shape\n",
    "    mask = [row > column for row in range(r) for column in range(c)]\n",
    "    matrix[np.array(mask).reshape(r,c)] = 0\n",
    "\n",
    "test = np.array([[2,8,3,4,8], [0,8,7,7,3],[8, 2, 3, 1, 4], [8, 6, 3, 8, 1], [6, 4, 4, 6, 1]]) \n",
    "print(np.triu(test))\n",
    "zere_baja_diagonal(test)"
   ]
  }
 ],
 "metadata": {
  "kernelspec": {
   "display_name": "Python 3",
   "language": "python",
   "name": "python3"
  },
  "language_info": {
   "codemirror_mode": {
    "name": "ipython",
    "version": 3
   },
   "file_extension": ".py",
   "mimetype": "text/x-python",
   "name": "python",
   "nbconvert_exporter": "python",
   "pygments_lexer": "ipython3",
   "version": "3.8.5-final"
  }
 },
 "nbformat": 4,
 "nbformat_minor": 2
}