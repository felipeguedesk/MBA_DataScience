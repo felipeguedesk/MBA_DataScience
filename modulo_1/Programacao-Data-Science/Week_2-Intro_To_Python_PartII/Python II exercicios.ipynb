{
 "cells": [
  {
   "cell_type": "markdown",
   "metadata": {
    "id": "YRuQfjG7jPDg"
   },
   "source": [
    "# <span style=\"color:blue\"> MBA em Ciência de Dados</span>\n",
    "# <span style=\"color:blue\">Programação para Ciência de Dados</span>\n",
    "\n",
    "## <span style=\"color:blue\">Exercícios Python Parte II</span>\n",
    "**Material Produzido por Luis Gustavo Nonato**<br>\n",
    "**Cemeai - ICMC/USP São Carlos**"
   ]
  },
  {
   "cell_type": "markdown",
   "metadata": {
    "id": "Pdh0qGE0jPDl"
   },
   "source": [
    "#### <span style=\"color:red\">Recomenda-se fortemente que os exercícios sejam feitos sem consultar as respostas antecipadamente.</span>"
   ]
  },
  {
   "cell_type": "markdown",
   "metadata": {
    "id": "6bULgIjJjPDm"
   },
   "source": [
    "### Exercício 1)"
   ]
  },
  {
   "cell_type": "markdown",
   "metadata": {
    "id": "BFbk3dhsjPDm"
   },
   "source": [
    "**1.1** No código abaixo, explique por que o valor da variável `y` não é o mesmo que o valor de `x` após a operação `x = x+1`."
   ]
  },
  {
   "cell_type": "code",
   "execution_count": null,
   "metadata": {
    "id": "1vKxIn2DjPDm"
   },
   "outputs": [],
   "source": [
    "x = 3\n",
    "y = x\n",
    "print(x,y)\n",
    "x = x+1\n",
    "print(x,y)"
   ]
  },
  {
   "cell_type": "markdown",
   "metadata": {
    "id": "9hbR9r2FjPDn"
   },
   "source": [
    "**Resposta:** "
   ]
  },
  {
   "cell_type": "code",
   "execution_count": null,
   "metadata": {
    "id": "vAw_Nry2jPDn"
   },
   "outputs": [],
   "source": [
    "print(id(x))\n",
    "print(id(y))"
   ]
  },
  {
   "cell_type": "markdown",
   "metadata": {
    "id": "dr-Sea_zjPDn"
   },
   "source": [
    "**1.2** No código abaixo, explique por que o conteúdo da variável `y` também é afetado quando um novo elemento é adicionado à lista referenciada por `x`."
   ]
  },
  {
   "cell_type": "code",
   "execution_count": null,
   "metadata": {
    "id": "95ABvrG2jPDn"
   },
   "outputs": [],
   "source": [
    "x = [3]\n",
    "y = x\n",
    "print(x,y)\n",
    "x.append(1)\n",
    "print(x,y)"
   ]
  },
  {
   "cell_type": "markdown",
   "metadata": {
    "id": "YihrK6m8jPDo"
   },
   "source": [
    "**Resposta:** "
   ]
  },
  {
   "cell_type": "markdown",
   "metadata": {
    "id": "KxqASTBujPDo"
   },
   "source": [
    "**1.3** No código abaixo, explique por que o conteúdo da variável `y` NÃO afetado após a operação `x = x+[1]`."
   ]
  },
  {
   "cell_type": "code",
   "execution_count": 1,
   "metadata": {
    "id": "etpIR6QzjPDo"
   },
   "outputs": [
    {
     "name": "stdout",
     "output_type": "stream",
     "text": [
      "[3] [3]\n",
      "[3, 1] [3]\n"
     ]
    }
   ],
   "source": [
    "x = [3]\n",
    "y = x\n",
    "print(x,y)\n",
    "x = x+[1]\n",
    "print(x,y)"
   ]
  },
  {
   "cell_type": "markdown",
   "metadata": {
    "id": "4APTG6kujPDo"
   },
   "source": [
    "**Resposta:** "
   ]
  },
  {
   "cell_type": "markdown",
   "metadata": {
    "id": "DLXnfiUnjPDo"
   },
   "source": [
    "### Exercício 2)\n",
    "Considere a lista `pessoas` abaixo. Escreva um códico para remover todos os nomes da lista que começam com as letras 'A' e 'M', inserindo estes nomes em uma nova lista chamada `pessoasAM`. "
   ]
  },
  {
   "cell_type": "code",
   "execution_count": 3,
   "metadata": {
    "id": "yA69aRl-jPDp"
   },
   "outputs": [
    {
     "name": "stdout",
     "output_type": "stream",
     "text": [
      "['Sophia', 'Davi', 'Julia', 'Pedro', 'Isabella', 'Gabriel', 'Laura']\n",
      "['Miguel', 'Alice', 'Arthur', 'Manuela']\n"
     ]
    }
   ],
   "source": [
    "pessoas = ['Miguel','Sophia','Davi','Alice','Arthur','Julia','Pedro','Isabella','Gabriel',\n",
    "           'Manuela','Laura']\n",
    "a_and_m = ['A', 'M']\n",
    "a_and_m_rule = lambda pessoa : pessoa[0] in a_and_m\n",
    "pessoasAM = [pessoa for pessoa in pessoas if a_and_m_rule(pessoa)]\n",
    "pessoas = [pessoa for pessoa in pessoas if not a_and_m_rule(pessoa)]\n",
    "\n",
    "print(pessoas)\n",
    "print(pessoasAM)"
   ]
  },
  {
   "cell_type": "markdown",
   "metadata": {
    "id": "XhBHJYm3jPDp"
   },
   "source": [
    "### Exercício 3) \n",
    "Crie um dicionário cujas chaves são as strings da lista `pessoas` definida no exercício anterior, sendo o comprimento da string correspondentes o valor associado a chave. Utilize comprehension para criar o dicionário. Por exemplo:\n",
    "```python\n",
    "{'Miguel': 6, 'Sophia': 6, 'Davi': 4,...}\n",
    "```"
   ]
  },
  {
   "cell_type": "code",
   "execution_count": 6,
   "metadata": {
    "id": "up0uKilYjPDp"
   },
   "outputs": [
    {
     "name": "stdout",
     "output_type": "stream",
     "text": [
      "{'Miguel': 6, 'Sophia': 6, 'Davi': 4, 'Alice': 5, 'Arthur': 6, 'Julia': 5, 'Pedro': 5, 'Isabella': 8, 'Gabriel': 7, 'Manuela': 7, 'Laura': 5}\n"
     ]
    }
   ],
   "source": [
    "pessoas = ['Miguel','Sophia','Davi','Alice','Arthur','Julia','Pedro','Isabella','Gabriel','Manuela','Laura']\n",
    "# Escreva o código aqui\n",
    "new_dictionary = {name:len(name) for name in pessoas}\n",
    "print(new_dictionary)"
   ]
  },
  {
   "cell_type": "markdown",
   "metadata": {
    "id": "nSeVwbvojPDp"
   },
   "source": [
    "### Exercício 4) \n",
    "Considere a lista `pessoas` abaixo. Modifique os elementos da lista fazendo que com que o último caracter de cada elemento fique maiúsculo caso tal caractere seja uma vogal. Utilize o método <font color='blue'>'.upper'</font> de objetos string para converter um caracter em maiúsculo. Por exemplo, o método <font color='blue'>'.upper'</font> no código abaixo:\n",
    "```python\n",
    "x = 'abc'.upper()\n",
    "print(x)\n",
    "```\n",
    "resulta em `ABC`. Você não deve utilizar um laço <font color='blue'>'for'</font>, apenas comprehension."
   ]
  },
  {
   "cell_type": "code",
   "execution_count": 7,
   "metadata": {
    "id": "aZkQbcMDjPDp"
   },
   "outputs": [
    {
     "name": "stdout",
     "output_type": "stream",
     "text": [
      "['Miguel', 'SophiA', 'DavI', 'AlicE', 'Arthur', 'JuliA', 'PedrO', 'IsabellA', 'Gabriel', 'ManuelA', 'LaurA']\n"
     ]
    }
   ],
   "source": [
    "pessoas = ['Miguel','Sophia','Davi','Alice','Arthur','Julia','Pedro','Isabella','Gabriel','Manuela','Laura']\n",
    "vocals = ['A', 'E', 'I', 'O', 'U']\n",
    "last_vocal_to_upper = lambda pessoa : pessoa[:-1] + pessoa[-1].upper() if pessoa[-1].upper() in vocals else pessoa\n",
    "pessoas = [last_vocal_to_upper(name) for name in pessoas]\n",
    "print(pessoas)"
   ]
  },
  {
   "cell_type": "markdown",
   "metadata": {
    "id": "uStoN3C3jPDp"
   },
   "source": [
    "### Exercício 5)\n",
    "Escreva uma função chamda `div3e5` que recebe como parâmetro um número. Se o número for divisível por 3 a função retorna `div3`, se for divisível por 5 retorna `div5`, se for divisível por 3 e 5 retorna `div3div5`, senão retorna o próprio número. Aplique a função na lista `teste` abaixo e utilize comprehension para gerar uma nova lista com os resultados correspondentes. Por exemplo, dada a lista:\n",
    "```python\n",
    "[30, 21, 21, 49, 39, 49, 19,  5, 17,  4]\n",
    "```\n",
    "o código deve produzir\n",
    "```python\n",
    "['div3div5', 'div3', 'div3', 49, 'div3', 49, 19, 'div5', 17, 4]\n",
    "```"
   ]
  },
  {
   "cell_type": "code",
   "execution_count": 8,
   "metadata": {
    "id": "77I618NZjPDq"
   },
   "outputs": [
    {
     "name": "stdout",
     "output_type": "stream",
     "text": [
      "[4, 7, 'div3', 'div5', 'div3div5', 34, 'div3div5', 'div3', 17, 'div3', 'div3', 26, 32, 'div5', 34, 'div3', 41, 'div3', 7, 'div3']\n"
     ]
    }
   ],
   "source": [
    "teste = [4, 7, 33, 20, 30, 34, 15, 3, 17, 39, 21, 26, 32, 10, 34, 42, 41, 18, 7, 36]\n",
    "\n",
    "def div3e5(x):\n",
    "    if (x%3 == 0 and x%5 ==0):\n",
    "        return 'div3div5'\n",
    "    elif (x%5 == 0):\n",
    "        return 'div5'\n",
    "    elif (x%3 == 0):\n",
    "        return 'div3'\n",
    "    else:\n",
    "        return x\n",
    "\n",
    "print([div3e5(x) for x in teste])"
   ]
  },
  {
   "cell_type": "markdown",
   "metadata": {
    "id": "ynf1pLUdjPDq"
   },
   "source": [
    "### Exercício 6) \n",
    "Considere a lista `numeros` abaixo que contém números inteiros entre 0 e 5. Escreva uma função chamda `ocorrencias` que recebe a lista `numeros` como parâmetro e retorna um dicionário onde as chaves são números de 0 a 5 e os valores associados correspondem ao número de vezes que a chave aparece na lista. Por exemplo, o código abaixo:\n",
    "```python\n",
    "numeros = [2, 1, 1, 2, 0, 2, 0, 1, 4, 1]\n",
    "print(ocorrencias(numeros))\n",
    "```\n",
    "deve gerar o seguinte resultado:\n",
    "```python\n",
    "{0: 2, 1: 4, 2: 3, 3: 0, 4: 1, 5: 0}\n",
    "```\n",
    "Tente não utilizar um laço <font color='blue'>'for'</font>, mas sim comprehension para dicionários."
   ]
  },
  {
   "cell_type": "code",
   "execution_count": 9,
   "metadata": {
    "id": "4bIm9xi0jPDq"
   },
   "outputs": [
    {
     "name": "stdout",
     "output_type": "stream",
     "text": [
      "{0: 7, 1: 3, 2: 2, 3: 2, 4: 4, 5: 2}\n"
     ]
    }
   ],
   "source": [
    "numeros = [1, 5, 1, 4, 3, 2, 4, 0, 0, 0, 3, 0, 2, 1, 0, 0, 4, 0, 5, 4]\n",
    "\n",
    "def ocorrencias(l):\n",
    "    return {i:l.count(i) for i in range(0,6)}\n",
    "\n",
    "print(ocorrencias(numeros))"
   ]
  },
  {
   "cell_type": "markdown",
   "metadata": {
    "id": "3YhUAQCYjPDq"
   },
   "source": [
    "### Exercício 7) \n",
    "Escreva uma função `retorna_maiuscula` que recebe um caractere como parâmetro e retorna o caracter em maiúsculo caso ele seja uma vogal. Utilize a função `retorna_maiuscula` para converter todas as vogais de uma string em maiúsculas.\n",
    "Por exemplo: \n",
    "```python\n",
    "'string para testar a funcao'\n",
    "```\n",
    "deve ser transformada em:\n",
    "```python\n",
    "'strIng pArA tEstAr A fUncAO'\n",
    "```\n",
    "Não utilize um laço <font color='blue'>'for'</font> em seu código.\n",
    "\n",
    "__Dica:__ Armazene os resultados da função `retorna_maiuscula` em uma lista e utilize a função <font color='blue'>.join</font> para converter a lista em uma string."
   ]
  },
  {
   "cell_type": "code",
   "execution_count": 10,
   "metadata": {
    "id": "kbQ78-FBjPDq"
   },
   "outputs": [
    {
     "name": "stdout",
     "output_type": "stream",
     "text": [
      "strIng pArA tEstAr A fUncAO\n"
     ]
    }
   ],
   "source": [
    "def retorna_maiuscula(s):\n",
    "    vocals = ['A', 'E', 'I', 'O', 'U']\n",
    "    lista = list(s)\n",
    "    vocalToUpper = lambda character : character.upper() if character.upper() in vocals else character\n",
    "    return ''.join([vocalToUpper(character) for character in lista])\n",
    "\n",
    "print(retorna_maiuscula('string para testar a funcao'))"
   ]
  },
  {
   "cell_type": "markdown",
   "metadata": {
    "id": "-xZENba5jPDr"
   },
   "source": [
    "### Exercício 8)\n",
    "Repita o exercício 6) utilizando a função <font color='blue'>'lambda'</font> ao invés de uma função declarada pelo comando <font color='blue'>'def'</font>."
   ]
  },
  {
   "cell_type": "code",
   "execution_count": 11,
   "metadata": {
    "id": "mJzu7XZ9jPDr"
   },
   "outputs": [
    {
     "name": "stdout",
     "output_type": "stream",
     "text": [
      "strIng pArA tEstAr A fUncAO\n"
     ]
    }
   ],
   "source": [
    "vocals = ['A', 'E', 'I', 'O', 'U']\n",
    "vocalToUpper = lambda character : character.upper() if character.upper() in vocals else character\n",
    "getStringWithUpperVocal = lambda str : ''.join([vocalToUpper(character) for character in list(str)])\n",
    "print(getStringWithUpperVocal('string para testar a funcao'))"
   ]
  },
  {
   "cell_type": "markdown",
   "metadata": {
    "id": "j8usO24FjPDr"
   },
   "source": [
    "### Exercício 9)\n",
    "Escreva uma função `intersecao` que recebe duas listas como parâmetros e retorna uma outra lista contendo apenas os elementos que aparencem em ambas, sem repetição de elementos.\n",
    "Por exemplo, o código abaixo:\n",
    "```python\n",
    "s1 = ['a', 'f', 'o', 'i', 'n', 'f', 'g', 'a', 'o', 'i']\n",
    "s2 = ['l', 'k', 'j', 'f', 'a', 'j', 'i']\n",
    "print(intersecao(s1,s2))\n",
    "```\n",
    "deve resultar em \n",
    "```python\n",
    "['a', 'f', 'i']\n",
    "```\n",
    "__Dica:__ Utilize dicionário para encontrar os elementos únicos em cada lista. Você também pode converter a lista para uma váriavel tipo conjunto utilizando o comando <font color='blue'>set</font> disponível no python. Conjuntos não possuem elementos repetidos."
   ]
  },
  {
   "cell_type": "code",
   "execution_count": 12,
   "metadata": {
    "id": "jM_fTiSNjPDr"
   },
   "outputs": [
    {
     "name": "stdout",
     "output_type": "stream",
     "text": [
      "['a', 'f', 'i']\n"
     ]
    }
   ],
   "source": [
    "def intersecao(l1,l2):\n",
    "    setL1 = set(l1)\n",
    "    setL2 = set(l2)\n",
    "    isInterSection = lambda value, set1 : value in set1\n",
    "    return sorted([character for character in setL1 if isInterSection(character, setL2)])\n",
    "\n",
    "s1 = ['a', 'f', 'o', 'i', 'n', 'f', 'g', 'a', 'o', 'i']\n",
    "s2 = ['l', 'k', 'j', 'f', 'a', 'j', 'i']\n",
    "print(intersecao(s1,s2))"
   ]
  },
  {
   "cell_type": "markdown",
   "metadata": {
    "id": "qdRPcylZjPDr"
   },
   "source": [
    "### Exercício 10)\n",
    "As funções <font color='blue'>lambda</font>, também chamada de _funções anônimas_, são muito utilizadas quando se invoca um método (ou função) que aceita outra função como parâmetro. Por exemplo, a função <font color='blue'>sorted</font> aceita uma função com parâmetro, a qual é aplicada aos elementos da lista antes que a ordenação seja feita. Por exemplo:\n",
    "```python\n",
    "numeros = [0.11, -0.11, 0.4, 0.11, -0.57, -0.05, 0.85, -0.27, -0.07, -0.78]\n",
    "print(sorted(numeros,key=lambda x:x**2))\n",
    "```\n",
    "resulta nos elementos ordenados, mas como se eles estivessem elevados ao quadrado, ou seja, o resultado é:\n",
    "```python\n",
    "[-0.05, -0.07, 0.11, -0.11, 0.11, -0.27, 0.4, -0.57, -0.78, 0.85]\n",
    "```\n",
    "pois quando elevados ao quadrado e ordenados, os elementos da lista `numeros` resultam em:\n",
    "```python\n",
    "[0.0025, 0.0049, 0.0121, 0.0121, 0.0121, 0.0729, 0.1600, 0.3248, 0.6084, 0.7224]\n",
    "```\n",
    "\n",
    "Utilize a função <font color='blue'>lambda</font> combinada com o método <font color='blue'>sorted</font> para colocar todos os números múltiplos de 3 na parte esquerda de uma lista, ficando os demais números a direita. Por exemplo, a lista:\n",
    "```python\n",
    "[17, 46, 21, 16, 44, 1, 6, 5, 27, 24]\n",
    "```\n",
    "deve ficar organizada como:\n",
    "```python\n",
    "[21, 6, 27, 24, 17, 46, 16, 44, 1, 5]\n",
    "```\n",
    "onde `21, 6, 27, 24` ficam a esquerda, pois são múltipos de 3, equanto \n",
    "`17, 46, 16, 44, 1, 5` ficam a direita pois não são múltiplos de 3.\n",
    "\n",
    "Como teste para seu código, utilize a lista\n",
    "```python\n",
    "[2, 17, 12, 35, 39, 35, 4, 44, 12, 20, 7, 1, 21, 45, 43, 26, 6, 13, 48, 42]\n",
    "```\n",
    "que deve ficar organizada da seguinte forma:\n",
    "```python\n",
    "[12, 39, 12, 21, 45, 6, 48, 42, 2, 17, 35, 35, 4, 44, 20, 7, 1, 43, 26, 13]\n",
    "```"
   ]
  },
  {
   "cell_type": "code",
   "execution_count": 13,
   "metadata": {
    "id": "DyGB9wuQjPDs"
   },
   "outputs": [
    {
     "name": "stdout",
     "output_type": "stream",
     "text": [
      "[12, 39, 12, 21, 45, 6, 48, 42, 4, 7, 1, 43, 13, 2, 17, 35, 35, 44, 20, 26]\n"
     ]
    }
   ],
   "source": [
    "n = [2, 17, 12, 35, 39, 35, 4, 44, 12, 20, 7, 1, 21, 45, 43, 26, 6, 13, 48, 42]\n",
    "mod3 = lambda x:x % 3\n",
    "print(sorted(n,key=mod3))"
   ]
  },
  {
   "cell_type": "code",
   "execution_count": null,
   "metadata": {},
   "outputs": [],
   "source": []
  }
 ],
 "metadata": {
  "colab": {
   "collapsed_sections": [],
   "name": "Python II exercicios.ipynb",
   "provenance": []
  },
  "kernelspec": {
   "display_name": "Python 3",
   "language": "python",
   "name": "python3"
  },
  "language_info": {
   "codemirror_mode": {
    "name": "ipython",
    "version": 3
   },
   "file_extension": ".py",
   "mimetype": "text/x-python",
   "name": "python",
   "nbconvert_exporter": "python",
   "pygments_lexer": "ipython3",
   "version": "3.8.5"
  }
 },
 "nbformat": 4,
 "nbformat_minor": 1
}
