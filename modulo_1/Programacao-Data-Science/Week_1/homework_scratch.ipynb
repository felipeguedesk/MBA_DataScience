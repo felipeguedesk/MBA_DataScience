{
 "cells": [
  {
   "cell_type": "code",
   "execution_count": 1,
   "metadata": {},
   "outputs": [
    {
     "name": "stdout",
     "output_type": "stream",
     "text": [
      "There are 20 multiples of 2 and 15 multiples of 3\n"
     ]
    }
   ],
   "source": [
    "lt = [99, 128, 185, 19, 215, 493, 104, 78, 248, 299, 278, 141, 467, \n",
    "           212, 465, 130, 320, 35, 148, 351, 176, 366, 373, 256, 314, \n",
    "           354, 188, 259, 443, 81, 447, 313, 368, 197, 185, 328, 275, \n",
    "           269, 153, 495, 155, 312, 87, 141, 413, 129, 106, 44, 245, 479]\n",
    "multiplos_2 = len([num for num in lt if num % 2 == 0])\n",
    "multiplos_3 = len([num for num in lt if num % 3 == 0])\n",
    "print(\"There are {} multiples of 2 and {} multiples of 3\".format(multiplos_2, multiplos_3))"
   ]
  },
  {
   "cell_type": "code",
   "execution_count": 3,
   "metadata": {},
   "outputs": [
    {
     "name": "stdout",
     "output_type": "stream",
     "text": [
      "imprescindivel\n"
     ]
    }
   ],
   "source": [
    "palavras = ['adeus','adoravel','amor','caminhos','chuva','coragem','cuidar','equilibrio',\n",
    "                 'esperanca','felicidade','gentilezas','liberdade','melancolia','paz','respeito',\n",
    "                 'riso','saudade','palimpsesto','perfeito','reciproco','recomeçar','resiliente',\n",
    "                 'sentir','silencio','imprescindivel','sublime','tertulias']\n",
    "palavras_size = [len(palavra) for palavra in  palavras]\n",
    "print(palavras[palavras_size.index(max(palavras_size))])"
   ]
  },
  {
   "cell_type": "code",
   "execution_count": 6,
   "metadata": {},
   "outputs": [
    {
     "name": "stdout",
     "output_type": "stream",
     "text": [
      "21757.440000000006\n"
     ]
    }
   ],
   "source": [
    "dados_deputados = [('JOSE STEDILE', 'RS', 'PSB', 106.03), ('BENITO GAMA', 'BA', 'PTB', 46.82),\n",
    "                   ('LUCIO VIEIRA LIMA', 'BA', 'PMDB', 332.0), ('FABIO REIS', 'SE', 'PMDB', 80.0), \n",
    "                   ('LUIZA ERUNDINA', 'SP', 'PSOL', 5.7), ('MAURO MARIANI', 'SC', 'PMDB', 526.68), \n",
    "                   ('MAJOR OLIMPIO', 'SP', 'SD', 38.1), ('BETINHO GOMES', 'PE', 'PSDB', 12000.0), \n",
    "                   ('PAULO ABI-ACKEL', 'MG', 'PSDB', 972.72), ('EZEQUIEL TEIXEIRA', 'RJ', 'PTN', 50.0), \n",
    "                   ('ADELMO CARNEIRO LEÃO', 'MG', 'PT', 709.72), ('HISSA ABRAHAO', 'AM', 'PDT', 1379.58), \n",
    "                   ('PAES LANDIM', 'PI', 'PTB', 1091.66), ('ANDRES SANCHEZ', 'SP', 'PT', 61.4), \n",
    "                   ('JOZI ARAUJO', 'AP', 'PTN', 141.0), ('ROBERTO FREIRE', 'SP', 'PPS', 161.88), \n",
    "                   ('ELIZIANE GAMA', 'MA', 'PPS', 546.73), ('CACA LEAO', 'BA', 'PP', 77.5), \n",
    "                   ('DIMAS FABIANO', 'MG', 'PP', 185.0), ('SILVIO TORRES', 'SP', 'PSDB', 233.0), \n",
    "                   ('RICARDO TEOBALDO ', 'PE', 'PTN', 50.0), ('ZECA DIRCEU', 'PR', 'PT', 499.29), \n",
    "                   ('ROCHA', 'AC', 'PSDB', 152.9), ('LAUDIVIO CARVALHO', 'MG', 'SD', 15.6), \n",
    "                   ('CRISTIANE BRASIL', 'RJ', 'PTB', 240.45), ('FABIO SOUSA', 'GO', 'PSDB', 80.0), \n",
    "                   ('CARLOS MANATO', 'ES', 'SD', 124.9), ('GONZAGA PATRIOTA', 'PE', 'PSB', 6.0), \n",
    "                   ('LUIZ COUTO', 'PB', 'PT', 868.83), ('EZEQUIEL TEIXEIRA', 'RJ', 'PTN', 710.45), \n",
    "                   ('MAURO LOPES', 'MG', 'PMDB', 92.6), ('MARCIO ALVINO', 'SP', 'PR', 5.2),\n",
    "                   ('ALEX SANTANA','BA','PDT',137.8),('AELTON FREITAS','MG','PR',27.9)]\n",
    "sum_values = 0\n",
    "for deputado_tuple in dados_deputados:\n",
    "    sum_values += deputado_tuple[3]\n",
    "print(sum_values)"
   ]
  },
  {
   "cell_type": "code",
   "execution_count": 11,
   "metadata": {},
   "outputs": [
    {
     "name": "stdout",
     "output_type": "stream",
     "text": [
      "PE 12056.0\n"
     ]
    }
   ],
   "source": [
    "valores_por_estado = {}\n",
    "for deputado_tuple in dados_deputados:\n",
    "    estado = deputado_tuple[1]\n",
    "    if (estado in valores_por_estado):\n",
    "        valores_por_estado[estado] += deputado_tuple[3]\n",
    "    else:\n",
    "        valores_por_estado[estado] = deputado_tuple[3]\n",
    "lista_valores = list(valores_por_estado.values())\n",
    "lista_estados = list(valores_por_estado.keys())\n",
    "index_max = lista_valores.index(max(lista_valores))\n",
    "print(lista_estados[index_max], lista_valores[index_max])"
   ]
  },
  {
   "cell_type": "code",
   "execution_count": 20,
   "metadata": {},
   "outputs": [
    {
     "name": "stdout",
     "output_type": "stream",
     "text": [
      "PSOL 1\n"
     ]
    }
   ],
   "source": [
    "request_per_party = {}\n",
    "for deputado_tuple in dados_deputados:\n",
    "    partido = deputado_tuple[2]\n",
    "    if (partido in request_per_party):\n",
    "        request_per_party[partido] += 1\n",
    "    else:\n",
    "        request_per_party[partido] = 1\n",
    "lista_requests = list(request_per_party.values())\n",
    "lista_partidos = list(request_per_party.keys())\n",
    "index_max = lista_requests.index(min(lista_requests))\n",
    "print(lista_partidos[index_max], lista_requests[index_max])"
   ]
  },
  {
   "cell_type": "code",
   "execution_count": null,
   "metadata": {},
   "outputs": [],
   "source": []
  }
 ],
 "metadata": {
  "kernelspec": {
   "display_name": "Python 3",
   "language": "python",
   "name": "python3"
  },
  "language_info": {
   "codemirror_mode": {
    "name": "ipython",
    "version": 3
   },
   "file_extension": ".py",
   "mimetype": "text/x-python",
   "name": "python",
   "nbconvert_exporter": "python",
   "pygments_lexer": "ipython3",
   "version": "3.8.5"
  }
 },
 "nbformat": 4,
 "nbformat_minor": 4
}
