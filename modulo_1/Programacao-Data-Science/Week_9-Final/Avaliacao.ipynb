{
 "cells": [
  {
   "cell_type": "markdown",
   "metadata": {},
   "source": [
    "# <font color=\"blue\"> MBA em Ciência de Dados</font>\n",
    "# <font color=\"blue\">Programação para Ciência de Dados</font>\n",
    "\n",
    "## <font color=\"blue\">Avaliação Final</font>\n",
    "**Material Produzido por Luis Gustavo Nonato**<br>\n",
    "**Cemeai - ICMC/USP São Carlos**"
   ]
  },
  {
   "cell_type": "markdown",
   "metadata": {},
   "source": [
    "A avaliação vale 10 pontos. As questões de 1 a 4, caso respondidas da forma correta, já totalizam 10 pontos. A última questão é um bônus e se respondida corretamente pode ajudar na nota final, ou seja, caso tenha respondido incorretamente uma das questões de 1 a 4, mas tenha acertado a questão bônus, ainda poderá atingir 10 pontos."
   ]
  },
  {
   "cell_type": "markdown",
   "metadata": {},
   "source": [
    "<font color='red'>**ATENÇÃO:** Quando terminar o exame, você deve fazer um \"upload\" do notebook no _moodle_</font>."
   ]
  },
  {
   "cell_type": "markdown",
   "metadata": {},
   "source": [
    "Para responder as questões abaixo será necessário fazer uso do arquivo <font style=\"font-family: monaco\">covid.csv\"</font> disponível para download no _moodle_. As colunas do conjunto de dados fornecem informações sobre:\n",
    "- **'Country/Region'**: país onde os casos de COVID19 foram registrados\n",
    "- **'Lat'** e **'Long'**: latitude e longitude de referência\n",
    "- **'Date'**: data dos registros\n",
    "- **'Value'**: quantidade acumulada de casos registrados"
   ]
  },
  {
   "cell_type": "code",
   "execution_count": 99,
   "metadata": {},
   "outputs": [],
   "source": [
    "import numpy as np\n",
    "import pandas as pd\n",
    "import matplotlib.pyplot as plt"
   ]
  },
  {
   "cell_type": "markdown",
   "metadata": {},
   "source": [
    "### Questão 1 (2 pontos)\n",
    "Considerando os dados contidos no arquivo <font style=\"font-family: monaco\">covid.csv\"</font>:\n"
   ]
  },
  {
   "cell_type": "markdown",
   "metadata": {},
   "source": [
    "#### a) (0.5 pontos)\n",
    "Carregue o arquivo \"covid.csv\" e armazena em um pandas DataFrame."
   ]
  },
  {
   "cell_type": "code",
   "execution_count": 4,
   "metadata": {
    "scrolled": true
   },
   "outputs": [
    {
     "output_type": "execute_result",
     "data": {
      "text/plain": [
       "  Country/Region       Lat      Long        Date                         Value\n",
       "0  #country+name  #geo+lat  #geo+lon       #date  #affected+infected+value+num\n",
       "1    afghanistan        33        65  2020-03-18                            22\n",
       "2    afghanistan        33        65  2020-03-17                            22\n",
       "3    afghanistan        33        65  2020-03-16                            21\n",
       "4    Afghanistan        33        65  2020-03-15                            16"
      ],
      "text/html": "<div>\n<style scoped>\n    .dataframe tbody tr th:only-of-type {\n        vertical-align: middle;\n    }\n\n    .dataframe tbody tr th {\n        vertical-align: top;\n    }\n\n    .dataframe thead th {\n        text-align: right;\n    }\n</style>\n<table border=\"1\" class=\"dataframe\">\n  <thead>\n    <tr style=\"text-align: right;\">\n      <th></th>\n      <th>Country/Region</th>\n      <th>Lat</th>\n      <th>Long</th>\n      <th>Date</th>\n      <th>Value</th>\n    </tr>\n  </thead>\n  <tbody>\n    <tr>\n      <th>0</th>\n      <td>#country+name</td>\n      <td>#geo+lat</td>\n      <td>#geo+lon</td>\n      <td>#date</td>\n      <td>#affected+infected+value+num</td>\n    </tr>\n    <tr>\n      <th>1</th>\n      <td>afghanistan</td>\n      <td>33</td>\n      <td>65</td>\n      <td>2020-03-18</td>\n      <td>22</td>\n    </tr>\n    <tr>\n      <th>2</th>\n      <td>afghanistan</td>\n      <td>33</td>\n      <td>65</td>\n      <td>2020-03-17</td>\n      <td>22</td>\n    </tr>\n    <tr>\n      <th>3</th>\n      <td>afghanistan</td>\n      <td>33</td>\n      <td>65</td>\n      <td>2020-03-16</td>\n      <td>21</td>\n    </tr>\n    <tr>\n      <th>4</th>\n      <td>Afghanistan</td>\n      <td>33</td>\n      <td>65</td>\n      <td>2020-03-15</td>\n      <td>16</td>\n    </tr>\n  </tbody>\n</table>\n</div>"
     },
     "metadata": {},
     "execution_count": 4
    }
   ],
   "source": [
    "covidTbl = pd.read_csv('covid.csv')\n",
    "covidTbl.head(5)"
   ]
  },
  {
   "cell_type": "markdown",
   "metadata": {},
   "source": [
    "#### b) (0.5 pontos)\n",
    "Elimine a primeira linha do DataFrame, a qual contém a informação:\n",
    "```python\n",
    "#adm1+name,#country+name,#geo+lat,#geo+lon,#date,#affected+infected+value+num\n",
    "```"
   ]
  },
  {
   "cell_type": "code",
   "execution_count": 7,
   "metadata": {},
   "outputs": [
    {
     "output_type": "execute_result",
     "data": {
      "text/plain": [
       "  Country/Region Lat Long        Date Value\n",
       "1    afghanistan  33   65  2020-03-18    22\n",
       "2    afghanistan  33   65  2020-03-17    22\n",
       "3    afghanistan  33   65  2020-03-16    21\n",
       "4    Afghanistan  33   65  2020-03-15    16\n",
       "5    afghanistan  33   65  2020-03-14    11"
      ],
      "text/html": "<div>\n<style scoped>\n    .dataframe tbody tr th:only-of-type {\n        vertical-align: middle;\n    }\n\n    .dataframe tbody tr th {\n        vertical-align: top;\n    }\n\n    .dataframe thead th {\n        text-align: right;\n    }\n</style>\n<table border=\"1\" class=\"dataframe\">\n  <thead>\n    <tr style=\"text-align: right;\">\n      <th></th>\n      <th>Country/Region</th>\n      <th>Lat</th>\n      <th>Long</th>\n      <th>Date</th>\n      <th>Value</th>\n    </tr>\n  </thead>\n  <tbody>\n    <tr>\n      <th>1</th>\n      <td>afghanistan</td>\n      <td>33</td>\n      <td>65</td>\n      <td>2020-03-18</td>\n      <td>22</td>\n    </tr>\n    <tr>\n      <th>2</th>\n      <td>afghanistan</td>\n      <td>33</td>\n      <td>65</td>\n      <td>2020-03-17</td>\n      <td>22</td>\n    </tr>\n    <tr>\n      <th>3</th>\n      <td>afghanistan</td>\n      <td>33</td>\n      <td>65</td>\n      <td>2020-03-16</td>\n      <td>21</td>\n    </tr>\n    <tr>\n      <th>4</th>\n      <td>Afghanistan</td>\n      <td>33</td>\n      <td>65</td>\n      <td>2020-03-15</td>\n      <td>16</td>\n    </tr>\n    <tr>\n      <th>5</th>\n      <td>afghanistan</td>\n      <td>33</td>\n      <td>65</td>\n      <td>2020-03-14</td>\n      <td>11</td>\n    </tr>\n  </tbody>\n</table>\n</div>"
     },
     "metadata": {},
     "execution_count": 7
    }
   ],
   "source": [
    "covidTbl.drop(0, axis=0, inplace=True)\n",
    "covidTbl.head(5)"
   ]
  },
  {
   "cell_type": "markdown",
   "metadata": {},
   "source": [
    "#### c) (1 ponto)\n",
    "Verifique qual o tipo de dado da coluna \"Value\" e converta o tipo para inteiro (<font color='blue'>int</font>)."
   ]
  },
  {
   "cell_type": "code",
   "execution_count": 14,
   "metadata": {},
   "outputs": [
    {
     "output_type": "stream",
     "name": "stdout",
     "text": [
      "Data type for column value: object\nData type for column value: int64\n"
     ]
    }
   ],
   "source": [
    "VALUE_COLUMN = 'Value'\n",
    "print(f\"Data type for column value: {covidTbl.dtypes[VALUE_COLUMN]}\")\n",
    "covidTbl[VALUE_COLUMN] = covidTbl[VALUE_COLUMN].astype(np.int64)\n",
    "print(f\"Data type for column value: {covidTbl.dtypes[VALUE_COLUMN]}\")"
   ]
  },
  {
   "cell_type": "markdown",
   "metadata": {},
   "source": [
    "### Questão 2 (2 pontos)\n",
    "Devido a um erro de armazenamento de inteiros, alguns países apresentam mais de 8 bilhões de casos de COVID19 (valor da coluna \"Value\" maior ou igual a 8.000.000.000) \n",
    "\n",
    "Elimine as linhas onde o número de casos é maior ou igual a 8 bilhões."
   ]
  },
  {
   "cell_type": "code",
   "execution_count": 35,
   "metadata": {},
   "outputs": [
    {
     "output_type": "stream",
     "name": "stdout",
     "text": [
      "Length of data prior to removing rows: 26334\nLength of data after removing rows: 26315\n"
     ]
    }
   ],
   "source": [
    "print(f\"Length of data prior to removing rows: {len(covidTbl)}\")\n",
    "covidTbl.drop(covidTbl[covidTbl[VALUE_COLUMN] > 8_000_000_000].index, inplace=True)\n",
    "print(f\"Length of data after removing rows: {len(covidTbl2)}\")"
   ]
  },
  {
   "cell_type": "markdown",
   "metadata": {},
   "source": [
    "### Questão 3 (3 pontos)\n",
    "Qual registro contém o maior número de infectados? Exiba a data e o país deste registro"
   ]
  },
  {
   "cell_type": "code",
   "execution_count": 60,
   "metadata": {},
   "outputs": [
    {
     "output_type": "stream",
     "name": "stdout",
     "text": [
      "The info regarding the entry highest infection number is:\nDate:2020-03-18, Country=china\n"
     ]
    }
   ],
   "source": [
    "max_infected_entry = covidTbl.loc[covidTbl[VALUE_COLUMN].idxmax()]\n",
    "print(f\"The info regarding the entry highest infection number is:\\nDate:{max_infected_entry['Date']}, Country={max_infected_entry['Country/Region']}\")"
   ]
  },
  {
   "cell_type": "markdown",
   "metadata": {},
   "source": [
    "### Questão 4 (3 pontos)\n",
    "Quais são os três países com a maior quantidade acumulada de infectados?\n",
    "\n",
    "Note que o nome dos países podem aparecer com letras maiúsculas ou minusculas, portanto é necessários fazer uma padronização antes de calcular o gráfico.\n",
    "\n",
    "**DICA:** groupby + max"
   ]
  },
  {
   "cell_type": "code",
   "execution_count": 84,
   "metadata": {},
   "outputs": [
    {
     "output_type": "stream",
     "name": "stdout",
     "text": [
      "The three countries with highest accumulated number of infected people are:\n ['Iran' 'Italy' 'China']\n"
     ]
    }
   ],
   "source": [
    "covidTbl['Country/Region'] = covidTbl['Country/Region'].apply(lambda x: x[0].upper() + x[1:len(x)]) # normalize country data by making all first characters uppercase\n",
    "accumValuePerCountry = covidTbl.groupby('Country/Region')[VALUE_COLUMN].max().sort_values()\n",
    "print(f\"The three countries with highest accumulated number of infected people are:\\n {accumValuePerCountry.index[-3:].values}\")"
   ]
  },
  {
   "cell_type": "markdown",
   "metadata": {},
   "source": [
    "### Questão Bonus (2 pontos)\n",
    "Faça o gráfico do número de contaminados no Brasil e na Itália. Note que o nome dos países podem aparecer com letras maiúsculas ou minusculas, portanto é necessários fazer uma padronização antes de calcular o gráfico."
   ]
  },
  {
   "cell_type": "code",
   "execution_count": 100,
   "metadata": {},
   "outputs": [
    {
     "output_type": "execute_result",
     "data": {
      "text/plain": [
       "[<matplotlib.lines.Line2D at 0x24f6aa07fd0>]"
      ]
     },
     "metadata": {},
     "execution_count": 100
    }
   ],
   "source": [
    "covidTbl['Country/Region'] = covidTbl['Country/Region'].apply(lambda x: x[0].upper() + x[1:len(x)]) # normalize country data by making all first characters uppercase\n",
    "covidTbl['Date'] = pd.to_datetime(covidTbl['Date']) # change 'Date' column type to DateTime in order to sort it effectively\n",
    "\n",
    "casesBr = covidTbl.loc[covidTbl['Country/Region'] == 'Brazil'].sort_values(by=['Date'])\n",
    "casesItaly = covidTbl.loc[covidTbl['Country/Region'] == 'Italy'].sort_values(by=['Date'])\n"
   ]
  },
  {
   "cell_type": "code",
   "execution_count": null,
   "metadata": {},
   "outputs": [],
   "source": []
  },
  {
   "cell_type": "markdown",
   "metadata": {},
   "source": [
    "R: 13 dias"
   ]
  }
 ],
 "metadata": {
  "kernelspec": {
   "display_name": "Python 3",
   "language": "python",
   "name": "python3"
  },
  "language_info": {
   "codemirror_mode": {
    "name": "ipython",
    "version": 3
   },
   "file_extension": ".py",
   "mimetype": "text/x-python",
   "name": "python",
   "nbconvert_exporter": "python",
   "pygments_lexer": "ipython3",
   "version": "3.8.5-final"
  },
  "toc": {
   "base_numbering": 1,
   "nav_menu": {},
   "number_sections": true,
   "sideBar": true,
   "skip_h1_title": false,
   "title_cell": "Table of Contents",
   "title_sidebar": "Contents",
   "toc_cell": false,
   "toc_position": {},
   "toc_section_display": true,
   "toc_window_display": false
  }
 },
 "nbformat": 4,
 "nbformat_minor": 2
}