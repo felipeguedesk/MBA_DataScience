{
 "cells": [
  {
   "cell_type": "markdown",
   "metadata": {},
   "source": [
    "# <font color=\"blue\"> MBA em Ciência de Dados</font>\n",
    "# <font color=\"blue\">Programação para Ciência de Dados</font>\n",
    "\n",
    "## <font color=\"blue\">Pandas Parte II - Avaliação</font>\n",
    "**Material Produzido por Luis Gustavo Nonato**<br>\n",
    "**Cemeai - ICMC/USP São Carlos**\n",
    "---"
   ]
  },
  {
   "cell_type": "markdown",
   "metadata": {},
   "source": [
    "Os exercícios a seguir farão uso dos arquivos <font style=\"font-family: monaco\">ESC2013\\_RMSP\\_CEM.csv</font> e <font style=\"font-family: monaco\">ENEM2015.csv</font> disponíveis para download no sistema _Moodle_."
   ]
  },
  {
   "cell_type": "code",
   "execution_count": 1,
   "metadata": {},
   "outputs": [],
   "source": [
    "import numpy as np\n",
    "import pandas as pd\n",
    "import matplotlib.pyplot as plt"
   ]
  },
  {
   "cell_type": "code",
   "execution_count": 3,
   "metadata": {},
   "outputs": [],
   "source": [
    "# Os comandos abaixo são apenas para modificar como as informações serão apresentadas\n",
    "# no notebook\n",
    "\n",
    "# mostra no máximo 50 colunas\n",
    "pd.set_option('display.max_columns', 50)\n",
    "\n",
    "# aumenta o tamanho das figuras geradas pelo matplotlib\n",
    "plt.rcParams['figure.figsize'] = (10.0, 8.0)"
   ]
  },
  {
   "cell_type": "markdown",
   "metadata": {},
   "source": [
    "### Exercício 1)\n",
    "Carregue os arquivos <font style=\"font-family: monaco\">ESC2013\\_RMSP\\_CEM.csv</font> e <font style=\"font-family: monaco\">ENEM2015.csv</font>, armazenando-os em variáveis tipo DataFrame chamadas `escolas` e `enem` respectivamente. \n",
    "Os arquivos <font style=\"font-family: monaco\">ESC2013_RMSP_CEM.csv</font> e <font style=\"font-family: monaco\">ENEM2015.csv</font> possuem em comum o código das escolas, os quais estão armazenados nas colunas CODESC e CODIGO DA ENTIDADE, respectivamente.\n",
    "\n",
    "Quantas escolas cujo código aparece no arquivo <font style=\"font-family: monaco\">ENEM2015.csv</font> tambem aparecem em <font style=\"font-family: monaco\">ESC2013_RMSP_CEM.csv</font>?\n",
    "\n",
    "a) 1243 escolas<br>\n",
    "b) 1043 escolas <br>\n",
    "c) 10243 escolas <br>\n",
    "d) 1003 escolas\n",
    "\n",
    "**Dica**: Utilize o método <font color='blue'>isin</font> do <font color='blue'>pandas</font>."
   ]
  },
  {
   "cell_type": "code",
   "execution_count": 7,
   "metadata": {},
   "outputs": [
    {
     "output_type": "stream",
     "name": "stdout",
     "text": [
      "1243\n"
     ]
    }
   ],
   "source": [
    "escolas = pd.read_csv('ESC2013_RMSP_CEM.csv')\n",
    "enem = pd.read_csv('ENEM2015.csv')\n",
    "\n",
    "escolas_enem = pd.merge(escolas,enem, how='inner', left_on='CODESC', right_on='CODIGO DA ENTIDADE')\n",
    "\n",
    "print(len(escolas_enem))"
   ]
  },
  {
   "cell_type": "markdown",
   "metadata": {},
   "source": [
    "### Exercício 2)\n",
    "\n",
    "Verifique quantos valores faltantes existem em cada um dos DataFrames:\n",
    "\n",
    "a) `escolas`: 776346 valores faltantes; `enem`: 0 valores faltantes <br>\n",
    "b) `escolas`: 776346 valores faltantes; `enem`: 1 valor faltante <br>\n",
    "c) `escolas`: 7346 valores faltantes; `enem`: 103 valores faltantes <br>\n",
    "d) `escolas`: 7346 valores faltantes; `enem`: 10 valores faltantes  "
   ]
  },
  {
   "cell_type": "code",
   "execution_count": 9,
   "metadata": {},
   "outputs": [
    {
     "output_type": "stream",
     "name": "stdout",
     "text": [
      "Missing values in escola=776346\nMissing values in enem=1\n"
     ]
    }
   ],
   "source": [
    "print(f'Missing values in escola={escolas.isna().sum(axis=1).sum()}')\n",
    "print(f'Missing values in enem={enem.isna().sum(axis=1).sum()}')"
   ]
  },
  {
   "cell_type": "markdown",
   "metadata": {},
   "source": [
    "### Exercício 3)\n",
    "No DataFrame `escolas`, qual o rótulo da coluna com o maior número de valores faltantes.\n",
    "\n",
    "a) LP05_AF<br>\n",
    "b) MAT05_AF <br>\n",
    "c) IDEB05AF <br>\n",
    "d) COD_SC\n",
    "\n",
    "__Dica__: Utilize uma combinação dos comandos <font color='blue'>isna</font>, <font color='blue'>sum</font> e <font color='blue'>idxmax</font> do <font color='blue'>pandas</font>"
   ]
  },
  {
   "cell_type": "code",
   "execution_count": 10,
   "metadata": {},
   "outputs": [
    {
     "output_type": "stream",
     "name": "stdout",
     "text": [
      "The column 'COD_SC' has 10937 NaN values\n"
     ]
    }
   ],
   "source": [
    "max_per_column = escolas.isna().sum(axis=0)\n",
    "print(f\"The column '{max_per_column.idxmax()}' has {max_per_column[max_per_column.idxmax()]} NaN values\")"
   ]
  },
  {
   "cell_type": "markdown",
   "metadata": {},
   "source": [
    "### Exercício 4)\n",
    "\n",
    "O DataFrame `enem` possui valores faltantes na coluna 'Classificacao'. Preencha os valores faltantes com o valor da 'moda' da coluna. Qual o valor da moda utilizado para preencher os valores faltantes?\n",
    "\n",
    "a) 1<br>\n",
    "b) 2<br>\n",
    "c) 3<br>\n",
    "d) 4"
   ]
  },
  {
   "cell_type": "code",
   "execution_count": 12,
   "metadata": {},
   "outputs": [
    {
     "output_type": "stream",
     "name": "stdout",
     "text": [
      "The mode for column 'Classificao'=2.0\n"
     ]
    }
   ],
   "source": [
    "modes_per_column = enem.mode(axis=0, dropna=True).iloc[0]\n",
    "print(f\"The mode for column 'Classificao'={modes_per_column['Classificacao']}\")"
   ]
  },
  {
   "cell_type": "markdown",
   "metadata": {},
   "source": [
    "### Exercício 5)\n",
    "Os arquivos <font style=\"font-family: monaco\">ESC2013\\_RMSP\\_CEM.csv</font> e <font style=\"font-family: monaco\">ENEM2015.csv</font> possuem em comum o código das escolas, os quais estão armazenados nas colunas _CODESC_ e _CODIGO DA ENTIDADE_, respectivamente.\n",
    "\n",
    "Busque na coluna 'NUMERO DE PARTICIPANTES' do DataFrame `enem` o código das escolas com o menor número de participantes no ENEM. Utilizando o código obtido, imprima os nomes de tais escolas (armazenado na coluna 'NOMEESC' do DataFrame `escolas`). Uma das escolas com o menor número de participantes é:\n",
    "\n",
    "a) TEOTONIO ALVES PEREIRA<br>\n",
    "b) THAMARA CORREA DE MATOS<br>\n",
    "c) BRASILIO FLORES DE AZEVEDO<br>\n",
    "d) OSWALDO SAMMARTINO"
   ]
  },
  {
   "cell_type": "code",
   "execution_count": 25,
   "metadata": {
    "scrolled": true
   },
   "outputs": [
    {
     "output_type": "stream",
     "name": "stdout",
     "text": [
      "71                             SHANGRI LA COLEGIO\n72                             SANTA RITA COLEGIO\n237                           RUI BARBOSA COLEGIO\n296            PRESTES MAIA INSTITUTO EDUCACIONAL\n322                         COSTA ZAVAGLI COLEGIO\n329                              FUTURO ESCOLA DO\n342                               CRIACAO COLEGIO\n489                              ADVENTUS COLEGIO\n500          ALEXANDRE DUMAS COMPLEXO EDUCACIONAL\n534                               ARCADIA COLEGIO\n571                              HARMONIA COLEGIO\n661     DOM BOSCO SANTO ANDRE UNIDADE III COLEGIO\n675                                VIVARE COLEGIO\n724                     EUCLYDES DA CUNHA COLEGIO\n728                           JEAN PIAGET COLEGIO\n746                        ASSUNCAO COLEGIO EIEFM\n782                              POLIEDRO COLEGIO\n792                        TEOTONIO ALVES PEREIRA\n795                        PAULO DE TARSO COLEGIO\n820                            CENTENARIO COLEGIO\n878                            MARCO ZERO COLEGIO\n927      NOSSA SENHORA DO SAGRADO CORACAO COLEGIO\n934                     CALIFORNIA JUNIOR COLEGIO\n939                                BRASIL COLEGIO\n1005                  GUARULHOS COLEGIO INTEGRADO\n1053                        AUGUSTO SILVA COLEGIO\n1102           MANOEL MARCONDES GALVAO UNIDADE II\n1117                               FUTURA COLEGIO\n1164                ANDRADE INSTITUTO EDUCACIONAL\n1167                COOPERATIVISTA DE POA COLEGIO\nName: NOMEESC, dtype: object\nTEOTONIO ALVES PEREIRA True\n"
     ]
    }
   ],
   "source": [
    "min_part = (escolas_enem['NUMERO DE PARTICIPANTES']).min()\n",
    "escolas_min = escolas_enem[escolas_enem['NUMERO DE PARTICIPANTES'] == min_part]['NOMEESC']\n",
    "print(\"TEOTONIO ALVES PEREIRA in escolas_min?\", 'TEOTONIO ALVES PEREIRA' in escolas_min.values)\n"
   ]
  },
  {
   "cell_type": "code",
   "execution_count": null,
   "metadata": {},
   "outputs": [],
   "source": []
  }
 ],
 "metadata": {
  "kernelspec": {
   "display_name": "Python 3",
   "language": "python",
   "name": "python3"
  },
  "language_info": {
   "codemirror_mode": {
    "name": "ipython",
    "version": 3
   },
   "file_extension": ".py",
   "mimetype": "text/x-python",
   "name": "python",
   "nbconvert_exporter": "python",
   "pygments_lexer": "ipython3",
   "version": "3.8.5-final"
  },
  "toc": {
   "base_numbering": 1,
   "nav_menu": {},
   "number_sections": true,
   "sideBar": true,
   "skip_h1_title": false,
   "title_cell": "Table of Contents",
   "title_sidebar": "Contents",
   "toc_cell": false,
   "toc_position": {},
   "toc_section_display": true,
   "toc_window_display": false
  }
 },
 "nbformat": 4,
 "nbformat_minor": 2
}