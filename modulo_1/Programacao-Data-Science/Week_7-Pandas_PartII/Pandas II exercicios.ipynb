{
 "cells": [
  {
   "cell_type": "markdown",
   "metadata": {},
   "source": [
    "# <font color=\"blue\"> MBA em Ciência de Dados</font>\n",
    "# <font color=\"blue\">Programação para Ciência de Dados</font>\n",
    "\n",
    "## <font color=\"blue\">Pandas Parte II - Exercícios</font>\n",
    "**Material Produzido por Luis Gustavo Nonato**<br>\n",
    "**Cemeai - ICMC/USP São Carlos**\n",
    "---"
   ]
  },
  {
   "cell_type": "markdown",
   "metadata": {},
   "source": [
    "#### <font color=\"red\">Recomenda-se fortemente que os exercícios sejam feitos sem consultar as respostas antecipadamente.</font>"
   ]
  },
  {
   "cell_type": "markdown",
   "metadata": {},
   "source": [
    "Os exercícios a seguir farão uso do arquivo <font style=\"font-family: monaco\">ESC2013\\_RMSP\\_CEM.csv</font> disponível para download no sistema _Moodle_. Este conjunto de dados fornece informações a respeito das escolas de ensino básico, fundamental e médio do estado de São Paulo. O significado de cada coluna pode ser encontrado no arquivo <font style=\"font-family: monaco\">DicionarioESC.pdf</font> também disponível no moodle."
   ]
  },
  {
   "cell_type": "code",
   "execution_count": 2,
   "metadata": {},
   "outputs": [],
   "source": [
    "import numpy as np\n",
    "import pandas as pd\n",
    "import matplotlib.pyplot as plt"
   ]
  },
  {
   "cell_type": "code",
   "execution_count": 4,
   "metadata": {},
   "outputs": [],
   "source": [
    "# Os comandos abaixo são apenas para modificar como as informações serão apresentadas\n",
    "# no notebook\n",
    "\n",
    "# mostra no máximo 50 colunas\n",
    "pd.set_option('display.max_columns', 50)\n",
    "\n",
    "# aumenta o tamanho das figuras geradas pelo matplotlib\n",
    "plt.rcParams['figure.figsize'] = (10.0, 8.0)"
   ]
  },
  {
   "cell_type": "markdown",
   "metadata": {},
   "source": [
    "### Exercício 1)\n",
    "Carregue o arquivo <font style=\"font-family: monaco\">ESC2013\\_RMSP\\_CEM.csv</font> e armazene-o em uma variável DataFrame chamada `escolas`. Visualize as primeiras 5 linhas do DataFrame."
   ]
  },
  {
   "cell_type": "code",
   "execution_count": 6,
   "metadata": {},
   "outputs": [
    {
     "output_type": "execute_result",
     "data": {
      "text/plain": [
       "    ID  LONGITUDE  LATITUDE    CODESC  CODESCTX  \\\n",
       "0   90  -47143986 -23986886  35080548  35080548   \n",
       "1  398  -47145545 -23985717  35352524  35352524   \n",
       "2  399  -47145560 -23985685  35069929  35069929   \n",
       "3  400  -47146239 -23983873  35036365  35036365   \n",
       "4   97  -47141337 -23964408  35913424  35913424   \n",
       "\n",
       "                                          NOMEESC    NOMEMUN   CODMUN  \\\n",
       "0       BAIRRO DOS BARNABES RECANTO DAS ORQUIDEAS  JUQUITIBA  3526209   \n",
       "1  MARIA CRISTINA BRESSALI CHAMA CRECHE MUNICIPAL  JUQUITIBA  3526209   \n",
       "2                                   TERRA NOVA EM  JUQUITIBA  3526209   \n",
       "3                             BAIRRO DOS BARNABES  JUQUITIBA  3526209   \n",
       "4                          BAIRRO DAS SENHORINHAS  JUQUITIBA  3526209   \n",
       "\n",
       "    NOMDIST      CODDIST  COD_SC  COD_DEP    TIP_DEP               BAIRRO  \\\n",
       "0  BARNABES  352620910.0     NaN        2   Estadual  BAIRRO DOS BARNABES   \n",
       "1  BARNABES  352620910.0     NaN        3  Municipal             BARNABES   \n",
       "2  BARNABES  352620910.0     NaN        3  Municipal             BARNABES   \n",
       "3  BARNABES  352620910.0     NaN        2   Estadual             BARNABES   \n",
       "4  BARNABES  352620910.0     NaN        2   Estadual          SENHORINHAS   \n",
       "\n",
       "         CEP                        END_ESC NUM_ESC DDD  TELEFONE  LOCALIZA  \\\n",
       "0  6950000.0  RUA ANTONIO FRANCISCO PEREIRA     285  11  46841502         1   \n",
       "1  6950000.0     RUA ANTONIO SOARES GODINHO      31  11  46841666         1   \n",
       "2  6950000.0       R ANTONIO SOARES GODINHO      35  11  46841462         1   \n",
       "3  6950000.0       R ANTONIO SOARES GODINHO     413  11  46841155         1   \n",
       "4  6950000.0                  RUA DOS LAGOS      20  11  46812769         1   \n",
       "\n",
       "   LAB_INF  QD_ESP_C  QD_ESP_D  BIBLIO  ENS_REG  ...  MAT07_AF  LP07_AF  \\\n",
       "0        0         0         1       0        1  ...       NaN      NaN   \n",
       "1        0         0         0       0        1  ...       NaN      NaN   \n",
       "2        0         0         0       0        1  ...       NaN      NaN   \n",
       "3        1         0         1       0        1  ...    230.40   220.14   \n",
       "4        0         1         0       0        1  ...    241.29   226.74   \n",
       "\n",
       "   NP07_AF  MAT09_AF  LP09_AF  NP09_AF  MAT11_AF  LP11_AF  NP11_AF  MAT13_AF  \\\n",
       "0      NaN       NaN      NaN      NaN       NaN      NaN      NaN       NaN   \n",
       "1      NaN       NaN      NaN      NaN       NaN      NaN      NaN       NaN   \n",
       "2      NaN       NaN      NaN      NaN       NaN      NaN      NaN       NaN   \n",
       "3     4.18    229.93   229.88     4.33    242.32   248.41     4.85    247.08   \n",
       "4     4.47    172.40   170.80     2.39    249.23   244.94     4.90    244.75   \n",
       "\n",
       "   LP13_AF  NP13_AF  IDEB05AF  IDEB07AF  IDEB09AF  IDEB11AF  IDEB13AF  \\\n",
       "0      NaN      NaN       NaN       NaN       NaN       NaN       NaN   \n",
       "1      NaN      NaN       NaN       NaN       NaN       NaN       NaN   \n",
       "2      NaN      NaN       NaN       NaN       NaN       NaN       NaN   \n",
       "3   238.32     4.76       NaN       3.7       4.2       4.5       4.4   \n",
       "4   231.59     4.61       NaN       4.2       2.3       4.7       4.4   \n",
       "\n",
       "   RED_EN13  LC_EN13  MAT_EN13  CH_EN13  CN_EN13  ENEM2013  INSE_AB  \\\n",
       "0       NaN      NaN       NaN      NaN      NaN       NaN  50.6921   \n",
       "1       NaN      NaN       NaN      NaN      NaN       NaN      NaN   \n",
       "2       NaN      NaN       NaN      NaN      NaN       NaN      NaN   \n",
       "3       NaN      NaN       NaN      NaN      NaN       NaN  47.3253   \n",
       "4    451.33   469.34    480.52   485.11   444.71    469.92  49.3778   \n",
       "\n",
       "      INSE_CL  \n",
       "0  Medio Alto  \n",
       "1         NaN  \n",
       "2         NaN  \n",
       "3       Medio  \n",
       "4       Medio  \n",
       "\n",
       "[5 rows x 136 columns]"
      ],
      "text/html": "<div>\n<style scoped>\n    .dataframe tbody tr th:only-of-type {\n        vertical-align: middle;\n    }\n\n    .dataframe tbody tr th {\n        vertical-align: top;\n    }\n\n    .dataframe thead th {\n        text-align: right;\n    }\n</style>\n<table border=\"1\" class=\"dataframe\">\n  <thead>\n    <tr style=\"text-align: right;\">\n      <th></th>\n      <th>ID</th>\n      <th>LONGITUDE</th>\n      <th>LATITUDE</th>\n      <th>CODESC</th>\n      <th>CODESCTX</th>\n      <th>NOMEESC</th>\n      <th>NOMEMUN</th>\n      <th>CODMUN</th>\n      <th>NOMDIST</th>\n      <th>CODDIST</th>\n      <th>COD_SC</th>\n      <th>COD_DEP</th>\n      <th>TIP_DEP</th>\n      <th>BAIRRO</th>\n      <th>CEP</th>\n      <th>END_ESC</th>\n      <th>NUM_ESC</th>\n      <th>DDD</th>\n      <th>TELEFONE</th>\n      <th>LOCALIZA</th>\n      <th>LAB_INF</th>\n      <th>QD_ESP_C</th>\n      <th>QD_ESP_D</th>\n      <th>BIBLIO</th>\n      <th>ENS_REG</th>\n      <th>...</th>\n      <th>MAT07_AF</th>\n      <th>LP07_AF</th>\n      <th>NP07_AF</th>\n      <th>MAT09_AF</th>\n      <th>LP09_AF</th>\n      <th>NP09_AF</th>\n      <th>MAT11_AF</th>\n      <th>LP11_AF</th>\n      <th>NP11_AF</th>\n      <th>MAT13_AF</th>\n      <th>LP13_AF</th>\n      <th>NP13_AF</th>\n      <th>IDEB05AF</th>\n      <th>IDEB07AF</th>\n      <th>IDEB09AF</th>\n      <th>IDEB11AF</th>\n      <th>IDEB13AF</th>\n      <th>RED_EN13</th>\n      <th>LC_EN13</th>\n      <th>MAT_EN13</th>\n      <th>CH_EN13</th>\n      <th>CN_EN13</th>\n      <th>ENEM2013</th>\n      <th>INSE_AB</th>\n      <th>INSE_CL</th>\n    </tr>\n  </thead>\n  <tbody>\n    <tr>\n      <th>0</th>\n      <td>90</td>\n      <td>-47143986</td>\n      <td>-23986886</td>\n      <td>35080548</td>\n      <td>35080548</td>\n      <td>BAIRRO DOS BARNABES RECANTO DAS ORQUIDEAS</td>\n      <td>JUQUITIBA</td>\n      <td>3526209</td>\n      <td>BARNABES</td>\n      <td>352620910.0</td>\n      <td>NaN</td>\n      <td>2</td>\n      <td>Estadual</td>\n      <td>BAIRRO DOS BARNABES</td>\n      <td>6950000.0</td>\n      <td>RUA ANTONIO FRANCISCO PEREIRA</td>\n      <td>285</td>\n      <td>11</td>\n      <td>46841502</td>\n      <td>1</td>\n      <td>0</td>\n      <td>0</td>\n      <td>1</td>\n      <td>0</td>\n      <td>1</td>\n      <td>...</td>\n      <td>NaN</td>\n      <td>NaN</td>\n      <td>NaN</td>\n      <td>NaN</td>\n      <td>NaN</td>\n      <td>NaN</td>\n      <td>NaN</td>\n      <td>NaN</td>\n      <td>NaN</td>\n      <td>NaN</td>\n      <td>NaN</td>\n      <td>NaN</td>\n      <td>NaN</td>\n      <td>NaN</td>\n      <td>NaN</td>\n      <td>NaN</td>\n      <td>NaN</td>\n      <td>NaN</td>\n      <td>NaN</td>\n      <td>NaN</td>\n      <td>NaN</td>\n      <td>NaN</td>\n      <td>NaN</td>\n      <td>50.6921</td>\n      <td>Medio Alto</td>\n    </tr>\n    <tr>\n      <th>1</th>\n      <td>398</td>\n      <td>-47145545</td>\n      <td>-23985717</td>\n      <td>35352524</td>\n      <td>35352524</td>\n      <td>MARIA CRISTINA BRESSALI CHAMA CRECHE MUNICIPAL</td>\n      <td>JUQUITIBA</td>\n      <td>3526209</td>\n      <td>BARNABES</td>\n      <td>352620910.0</td>\n      <td>NaN</td>\n      <td>3</td>\n      <td>Municipal</td>\n      <td>BARNABES</td>\n      <td>6950000.0</td>\n      <td>RUA ANTONIO SOARES GODINHO</td>\n      <td>31</td>\n      <td>11</td>\n      <td>46841666</td>\n      <td>1</td>\n      <td>0</td>\n      <td>0</td>\n      <td>0</td>\n      <td>0</td>\n      <td>1</td>\n      <td>...</td>\n      <td>NaN</td>\n      <td>NaN</td>\n      <td>NaN</td>\n      <td>NaN</td>\n      <td>NaN</td>\n      <td>NaN</td>\n      <td>NaN</td>\n      <td>NaN</td>\n      <td>NaN</td>\n      <td>NaN</td>\n      <td>NaN</td>\n      <td>NaN</td>\n      <td>NaN</td>\n      <td>NaN</td>\n      <td>NaN</td>\n      <td>NaN</td>\n      <td>NaN</td>\n      <td>NaN</td>\n      <td>NaN</td>\n      <td>NaN</td>\n      <td>NaN</td>\n      <td>NaN</td>\n      <td>NaN</td>\n      <td>NaN</td>\n      <td>NaN</td>\n    </tr>\n    <tr>\n      <th>2</th>\n      <td>399</td>\n      <td>-47145560</td>\n      <td>-23985685</td>\n      <td>35069929</td>\n      <td>35069929</td>\n      <td>TERRA NOVA EM</td>\n      <td>JUQUITIBA</td>\n      <td>3526209</td>\n      <td>BARNABES</td>\n      <td>352620910.0</td>\n      <td>NaN</td>\n      <td>3</td>\n      <td>Municipal</td>\n      <td>BARNABES</td>\n      <td>6950000.0</td>\n      <td>R ANTONIO SOARES GODINHO</td>\n      <td>35</td>\n      <td>11</td>\n      <td>46841462</td>\n      <td>1</td>\n      <td>0</td>\n      <td>0</td>\n      <td>0</td>\n      <td>0</td>\n      <td>1</td>\n      <td>...</td>\n      <td>NaN</td>\n      <td>NaN</td>\n      <td>NaN</td>\n      <td>NaN</td>\n      <td>NaN</td>\n      <td>NaN</td>\n      <td>NaN</td>\n      <td>NaN</td>\n      <td>NaN</td>\n      <td>NaN</td>\n      <td>NaN</td>\n      <td>NaN</td>\n      <td>NaN</td>\n      <td>NaN</td>\n      <td>NaN</td>\n      <td>NaN</td>\n      <td>NaN</td>\n      <td>NaN</td>\n      <td>NaN</td>\n      <td>NaN</td>\n      <td>NaN</td>\n      <td>NaN</td>\n      <td>NaN</td>\n      <td>NaN</td>\n      <td>NaN</td>\n    </tr>\n    <tr>\n      <th>3</th>\n      <td>400</td>\n      <td>-47146239</td>\n      <td>-23983873</td>\n      <td>35036365</td>\n      <td>35036365</td>\n      <td>BAIRRO DOS BARNABES</td>\n      <td>JUQUITIBA</td>\n      <td>3526209</td>\n      <td>BARNABES</td>\n      <td>352620910.0</td>\n      <td>NaN</td>\n      <td>2</td>\n      <td>Estadual</td>\n      <td>BARNABES</td>\n      <td>6950000.0</td>\n      <td>R ANTONIO SOARES GODINHO</td>\n      <td>413</td>\n      <td>11</td>\n      <td>46841155</td>\n      <td>1</td>\n      <td>1</td>\n      <td>0</td>\n      <td>1</td>\n      <td>0</td>\n      <td>1</td>\n      <td>...</td>\n      <td>230.40</td>\n      <td>220.14</td>\n      <td>4.18</td>\n      <td>229.93</td>\n      <td>229.88</td>\n      <td>4.33</td>\n      <td>242.32</td>\n      <td>248.41</td>\n      <td>4.85</td>\n      <td>247.08</td>\n      <td>238.32</td>\n      <td>4.76</td>\n      <td>NaN</td>\n      <td>3.7</td>\n      <td>4.2</td>\n      <td>4.5</td>\n      <td>4.4</td>\n      <td>NaN</td>\n      <td>NaN</td>\n      <td>NaN</td>\n      <td>NaN</td>\n      <td>NaN</td>\n      <td>NaN</td>\n      <td>47.3253</td>\n      <td>Medio</td>\n    </tr>\n    <tr>\n      <th>4</th>\n      <td>97</td>\n      <td>-47141337</td>\n      <td>-23964408</td>\n      <td>35913424</td>\n      <td>35913424</td>\n      <td>BAIRRO DAS SENHORINHAS</td>\n      <td>JUQUITIBA</td>\n      <td>3526209</td>\n      <td>BARNABES</td>\n      <td>352620910.0</td>\n      <td>NaN</td>\n      <td>2</td>\n      <td>Estadual</td>\n      <td>SENHORINHAS</td>\n      <td>6950000.0</td>\n      <td>RUA DOS LAGOS</td>\n      <td>20</td>\n      <td>11</td>\n      <td>46812769</td>\n      <td>1</td>\n      <td>0</td>\n      <td>1</td>\n      <td>0</td>\n      <td>0</td>\n      <td>1</td>\n      <td>...</td>\n      <td>241.29</td>\n      <td>226.74</td>\n      <td>4.47</td>\n      <td>172.40</td>\n      <td>170.80</td>\n      <td>2.39</td>\n      <td>249.23</td>\n      <td>244.94</td>\n      <td>4.90</td>\n      <td>244.75</td>\n      <td>231.59</td>\n      <td>4.61</td>\n      <td>NaN</td>\n      <td>4.2</td>\n      <td>2.3</td>\n      <td>4.7</td>\n      <td>4.4</td>\n      <td>451.33</td>\n      <td>469.34</td>\n      <td>480.52</td>\n      <td>485.11</td>\n      <td>444.71</td>\n      <td>469.92</td>\n      <td>49.3778</td>\n      <td>Medio</td>\n    </tr>\n  </tbody>\n</table>\n<p>5 rows × 136 columns</p>\n</div>"
     },
     "metadata": {},
     "execution_count": 6
    }
   ],
   "source": [
    "escolas = pd.read_csv('ESC2013_RMSP_CEM.csv')\n",
    "escolas.head(5)"
   ]
  },
  {
   "cell_type": "markdown",
   "metadata": {},
   "source": [
    "### Exercício 2)\n",
    "O arquivo <font style=\"font-family: monaco\">ESC2013\\_RMSP\\_CEM.csv</font> possui muitos valores faltantes. Encontre e imprima o nome da coluna com mais valores faltantes. Calcule também o número de valores faltantes em tal coluna.\n",
    "\n",
    "__DICA__: Utilize uma combinação dos métodos do <font color='blue'>pandas</font>:\n",
    "\n",
    "[isna](https://pandas.pydata.org/pandas-docs/stable/reference/api/pandas.DataFrame.isna.html) que retorna uma máscara com True nas posições onde valores faltantes ocorrem<br>\n",
    "[idxmax](https://pandas.pydata.org/pandas-docs/stable/reference/api/pandas.DataFrame.idxmax.html) retorna o rótulo onde o valor máximo que ocorre em um dado eixo (rótulo da linha ou coluna dependento do valor do parâmetro `axis`)<br> \n",
    "[max](https://pandas.pydata.org/pandas-docs/stable/reference/api/pandas.DataFrame.max.html) que retorna o valor máximo em um eixo especificado"
   ]
  },
  {
   "cell_type": "code",
   "execution_count": 25,
   "metadata": {
    "scrolled": true
   },
   "outputs": [
    {
     "output_type": "stream",
     "name": "stdout",
     "text": [
      "The column 'COD_SC' has 10937 NaN values\n"
     ]
    }
   ],
   "source": [
    "max_per_column = escolas.isna().sum(axis=0)\n",
    "print(f\"The column '{max_per_column.idxmax()}' has {max_per_column[max_per_column.idxmax()]} NaN values\")"
   ]
  },
  {
   "cell_type": "markdown",
   "metadata": {},
   "source": [
    "### Exercício 3)\n",
    "Verifique se existem linhas duplicadas no conjunto de dados\n",
    "\n",
    "__Dica:__ Utilize o método <font color='blue'>duplicated</font> do <font color='blue'>pandas</font>"
   ]
  },
  {
   "cell_type": "code",
   "execution_count": 26,
   "metadata": {},
   "outputs": [
    {
     "output_type": "stream",
     "name": "stdout",
     "text": [
      "Does the table escolas have any duplicated rows? False\n"
     ]
    }
   ],
   "source": [
    "print('Does the table escolas have any duplicated rows?', escolas.duplicated().any())"
   ]
  },
  {
   "cell_type": "markdown",
   "metadata": {},
   "source": [
    "### Exercício 4)\n",
    "A coluna 'COD_DEP' do DataFrame `escolas` representa o código da dependência administrativa da escola (1 - Federal, 2 - Estadual, 3 - Municipal, 4 - Privada).\n",
    "\n",
    "Calcule quantas escolas federais, estaduais, municipais e particulares existem na base de dados. Armazene a contagem em uma série cujos rótulos são o tipo de dependência e os valores correspondentes o número de ocorrências da dependência administrativa.\n",
    "\n",
    "**DICA**: Utilize o método <font color='blue'>value_counts</font> do <font color='blue'>pandas</font>"
   ]
  },
  {
   "cell_type": "code",
   "execution_count": 28,
   "metadata": {},
   "outputs": [
    {
     "output_type": "stream",
     "name": "stdout",
     "text": [
      "The type of school and their respetive counts are:\n Privado      5225\nMuniciapl    3405\nEstadual     2303\nFederal         4\nName: COD_DEP, dtype: int64\n"
     ]
    }
   ],
   "source": [
    "count_per_school_type = escolas['COD_DEP'].value_counts().rename(index={1:'Federal',2:'Estadual',3:'Municiapl',4:'Privado'})\n",
    "print('The type of school and their respetive counts are:\\n', count_per_school_type)"
   ]
  },
  {
   "cell_type": "markdown",
   "metadata": {},
   "source": [
    "### Exercício 5) \n",
    "O Pandas também oferece recursos para visualização que são simples de utilizar. Utilize o método <font color='blue'>plot</font> do <font color='blue'>pandas</font> com o parâmetro `bar` para gerar um gráfico de barras com o número de escolas calculadas na célula acima. Para mais informações sobre os recursos gráficos disponíveis no pandas veja documentação [aqui](https://pandas.pydata.org/pandas-docs/version/0.23.4/generated/pandas.DataFrame.plot.html)."
   ]
  },
  {
   "cell_type": "code",
   "execution_count": 30,
   "metadata": {},
   "outputs": [
    {
     "output_type": "execute_result",
     "data": {
      "text/plain": [
       "<AxesSubplot:>"
      ]
     },
     "metadata": {},
     "execution_count": 30
    },
    {
     "output_type": "display_data",
     "data": {
      "text/plain": "<Figure size 720x576 with 1 Axes>",
      "image/svg+xml": "<?xml version=\"1.0\" encoding=\"utf-8\" standalone=\"no\"?>\r\n<!DOCTYPE svg PUBLIC \"-//W3C//DTD SVG 1.1//EN\"\r\n  \"http://www.w3.org/Graphics/SVG/1.1/DTD/svg11.dtd\">\r\n<!-- Created with matplotlib (https://matplotlib.org/) -->\r\n<svg height=\"503.8925pt\" version=\"1.1\" viewBox=\"0 0 604.85 503.8925\" width=\"604.85pt\" xmlns=\"http://www.w3.org/2000/svg\" xmlns:xlink=\"http://www.w3.org/1999/xlink\">\r\n <metadata>\r\n  <rdf:RDF xmlns:cc=\"http://creativecommons.org/ns#\" xmlns:dc=\"http://purl.org/dc/elements/1.1/\" xmlns:rdf=\"http://www.w3.org/1999/02/22-rdf-syntax-ns#\">\r\n   <cc:Work>\r\n    <dc:type rdf:resource=\"http://purl.org/dc/dcmitype/StillImage\"/>\r\n    <dc:date>2021-03-15T22:30:19.767366</dc:date>\r\n    <dc:format>image/svg+xml</dc:format>\r\n    <dc:creator>\r\n     <cc:Agent>\r\n      <dc:title>Matplotlib v3.3.2, https://matplotlib.org/</dc:title>\r\n     </cc:Agent>\r\n    </dc:creator>\r\n   </cc:Work>\r\n  </rdf:RDF>\r\n </metadata>\r\n <defs>\r\n  <style type=\"text/css\">*{stroke-linecap:butt;stroke-linejoin:round;}</style>\r\n </defs>\r\n <g id=\"figure_1\">\r\n  <g id=\"patch_1\">\r\n   <path d=\"M 0 503.8925 \r\nL 604.85 503.8925 \r\nL 604.85 0 \r\nL 0 0 \r\nz\r\n\" style=\"fill:none;\"/>\r\n  </g>\r\n  <g id=\"axes_1\">\r\n   <g id=\"patch_2\">\r\n    <path d=\"M 39.65 442.08 \r\nL 597.65 442.08 \r\nL 597.65 7.2 \r\nL 39.65 7.2 \r\nz\r\n\" style=\"fill:#ffffff;\"/>\r\n   </g>\r\n   <g id=\"patch_3\">\r\n    <path clip-path=\"url(#pabf6a58799)\" d=\"M 74.525 442.08 \r\nL 144.275 442.08 \r\nL 144.275 27.908571 \r\nL 74.525 27.908571 \r\nz\r\n\" style=\"fill:#1f77b4;\"/>\r\n   </g>\r\n   <g id=\"patch_4\">\r\n    <path clip-path=\"url(#pabf6a58799)\" d=\"M 214.025 442.08 \r\nL 283.775 442.08 \r\nL 283.775 172.174983 \r\nL 214.025 172.174983 \r\nz\r\n\" style=\"fill:#1f77b4;\"/>\r\n   </g>\r\n   <g id=\"patch_5\">\r\n    <path clip-path=\"url(#pabf6a58799)\" d=\"M 353.525 442.08 \r\nL 423.275 442.08 \r\nL 423.275 259.527502 \r\nL 353.525 259.527502 \r\nz\r\n\" style=\"fill:#1f77b4;\"/>\r\n   </g>\r\n   <g id=\"patch_6\">\r\n    <path clip-path=\"url(#pabf6a58799)\" d=\"M 493.025 442.08 \r\nL 562.775 442.08 \r\nL 562.775 441.762931 \r\nL 493.025 441.762931 \r\nz\r\n\" style=\"fill:#1f77b4;\"/>\r\n   </g>\r\n   <g id=\"matplotlib.axis_1\">\r\n    <g id=\"xtick_1\">\r\n     <g id=\"line2d_1\">\r\n      <defs>\r\n       <path d=\"M 0 0 \r\nL 0 3.5 \r\n\" id=\"mcb164a0e24\" style=\"stroke:#000000;stroke-width:0.8;\"/>\r\n      </defs>\r\n      <g>\r\n       <use style=\"stroke:#000000;stroke-width:0.8;\" x=\"109.4\" xlink:href=\"#mcb164a0e24\" y=\"442.08\"/>\r\n      </g>\r\n     </g>\r\n     <g id=\"text_1\">\r\n      <!-- Privado -->\r\n      <g transform=\"translate(112.159375 486.337812)rotate(-90)scale(0.1 -0.1)\">\r\n       <defs>\r\n        <path d=\"M 19.671875 64.796875 \r\nL 19.671875 37.40625 \r\nL 32.078125 37.40625 \r\nQ 38.96875 37.40625 42.71875 40.96875 \r\nQ 46.484375 44.53125 46.484375 51.125 \r\nQ 46.484375 57.671875 42.71875 61.234375 \r\nQ 38.96875 64.796875 32.078125 64.796875 \r\nz\r\nM 9.8125 72.90625 \r\nL 32.078125 72.90625 \r\nQ 44.34375 72.90625 50.609375 67.359375 \r\nQ 56.890625 61.8125 56.890625 51.125 \r\nQ 56.890625 40.328125 50.609375 34.8125 \r\nQ 44.34375 29.296875 32.078125 29.296875 \r\nL 19.671875 29.296875 \r\nL 19.671875 0 \r\nL 9.8125 0 \r\nz\r\n\" id=\"DejaVuSans-80\"/>\r\n        <path d=\"M 41.109375 46.296875 \r\nQ 39.59375 47.171875 37.8125 47.578125 \r\nQ 36.03125 48 33.890625 48 \r\nQ 26.265625 48 22.1875 43.046875 \r\nQ 18.109375 38.09375 18.109375 28.8125 \r\nL 18.109375 0 \r\nL 9.078125 0 \r\nL 9.078125 54.6875 \r\nL 18.109375 54.6875 \r\nL 18.109375 46.1875 \r\nQ 20.953125 51.171875 25.484375 53.578125 \r\nQ 30.03125 56 36.53125 56 \r\nQ 37.453125 56 38.578125 55.875 \r\nQ 39.703125 55.765625 41.0625 55.515625 \r\nz\r\n\" id=\"DejaVuSans-114\"/>\r\n        <path d=\"M 9.421875 54.6875 \r\nL 18.40625 54.6875 \r\nL 18.40625 0 \r\nL 9.421875 0 \r\nz\r\nM 9.421875 75.984375 \r\nL 18.40625 75.984375 \r\nL 18.40625 64.59375 \r\nL 9.421875 64.59375 \r\nz\r\n\" id=\"DejaVuSans-105\"/>\r\n        <path d=\"M 2.984375 54.6875 \r\nL 12.5 54.6875 \r\nL 29.59375 8.796875 \r\nL 46.6875 54.6875 \r\nL 56.203125 54.6875 \r\nL 35.6875 0 \r\nL 23.484375 0 \r\nz\r\n\" id=\"DejaVuSans-118\"/>\r\n        <path d=\"M 34.28125 27.484375 \r\nQ 23.390625 27.484375 19.1875 25 \r\nQ 14.984375 22.515625 14.984375 16.5 \r\nQ 14.984375 11.71875 18.140625 8.90625 \r\nQ 21.296875 6.109375 26.703125 6.109375 \r\nQ 34.1875 6.109375 38.703125 11.40625 \r\nQ 43.21875 16.703125 43.21875 25.484375 \r\nL 43.21875 27.484375 \r\nz\r\nM 52.203125 31.203125 \r\nL 52.203125 0 \r\nL 43.21875 0 \r\nL 43.21875 8.296875 \r\nQ 40.140625 3.328125 35.546875 0.953125 \r\nQ 30.953125 -1.421875 24.3125 -1.421875 \r\nQ 15.921875 -1.421875 10.953125 3.296875 \r\nQ 6 8.015625 6 15.921875 \r\nQ 6 25.140625 12.171875 29.828125 \r\nQ 18.359375 34.515625 30.609375 34.515625 \r\nL 43.21875 34.515625 \r\nL 43.21875 35.40625 \r\nQ 43.21875 41.609375 39.140625 45 \r\nQ 35.0625 48.390625 27.6875 48.390625 \r\nQ 23 48.390625 18.546875 47.265625 \r\nQ 14.109375 46.140625 10.015625 43.890625 \r\nL 10.015625 52.203125 \r\nQ 14.9375 54.109375 19.578125 55.046875 \r\nQ 24.21875 56 28.609375 56 \r\nQ 40.484375 56 46.34375 49.84375 \r\nQ 52.203125 43.703125 52.203125 31.203125 \r\nz\r\n\" id=\"DejaVuSans-97\"/>\r\n        <path d=\"M 45.40625 46.390625 \r\nL 45.40625 75.984375 \r\nL 54.390625 75.984375 \r\nL 54.390625 0 \r\nL 45.40625 0 \r\nL 45.40625 8.203125 \r\nQ 42.578125 3.328125 38.25 0.953125 \r\nQ 33.9375 -1.421875 27.875 -1.421875 \r\nQ 17.96875 -1.421875 11.734375 6.484375 \r\nQ 5.515625 14.40625 5.515625 27.296875 \r\nQ 5.515625 40.1875 11.734375 48.09375 \r\nQ 17.96875 56 27.875 56 \r\nQ 33.9375 56 38.25 53.625 \r\nQ 42.578125 51.265625 45.40625 46.390625 \r\nz\r\nM 14.796875 27.296875 \r\nQ 14.796875 17.390625 18.875 11.75 \r\nQ 22.953125 6.109375 30.078125 6.109375 \r\nQ 37.203125 6.109375 41.296875 11.75 \r\nQ 45.40625 17.390625 45.40625 27.296875 \r\nQ 45.40625 37.203125 41.296875 42.84375 \r\nQ 37.203125 48.484375 30.078125 48.484375 \r\nQ 22.953125 48.484375 18.875 42.84375 \r\nQ 14.796875 37.203125 14.796875 27.296875 \r\nz\r\n\" id=\"DejaVuSans-100\"/>\r\n        <path d=\"M 30.609375 48.390625 \r\nQ 23.390625 48.390625 19.1875 42.75 \r\nQ 14.984375 37.109375 14.984375 27.296875 \r\nQ 14.984375 17.484375 19.15625 11.84375 \r\nQ 23.34375 6.203125 30.609375 6.203125 \r\nQ 37.796875 6.203125 41.984375 11.859375 \r\nQ 46.1875 17.53125 46.1875 27.296875 \r\nQ 46.1875 37.015625 41.984375 42.703125 \r\nQ 37.796875 48.390625 30.609375 48.390625 \r\nz\r\nM 30.609375 56 \r\nQ 42.328125 56 49.015625 48.375 \r\nQ 55.71875 40.765625 55.71875 27.296875 \r\nQ 55.71875 13.875 49.015625 6.21875 \r\nQ 42.328125 -1.421875 30.609375 -1.421875 \r\nQ 18.84375 -1.421875 12.171875 6.21875 \r\nQ 5.515625 13.875 5.515625 27.296875 \r\nQ 5.515625 40.765625 12.171875 48.375 \r\nQ 18.84375 56 30.609375 56 \r\nz\r\n\" id=\"DejaVuSans-111\"/>\r\n       </defs>\r\n       <use xlink:href=\"#DejaVuSans-80\"/>\r\n       <use x=\"58.552734\" xlink:href=\"#DejaVuSans-114\"/>\r\n       <use x=\"99.666016\" xlink:href=\"#DejaVuSans-105\"/>\r\n       <use x=\"127.449219\" xlink:href=\"#DejaVuSans-118\"/>\r\n       <use x=\"186.628906\" xlink:href=\"#DejaVuSans-97\"/>\r\n       <use x=\"247.908203\" xlink:href=\"#DejaVuSans-100\"/>\r\n       <use x=\"311.384766\" xlink:href=\"#DejaVuSans-111\"/>\r\n      </g>\r\n     </g>\r\n    </g>\r\n    <g id=\"xtick_2\">\r\n     <g id=\"line2d_2\">\r\n      <g>\r\n       <use style=\"stroke:#000000;stroke-width:0.8;\" x=\"248.9\" xlink:href=\"#mcb164a0e24\" y=\"442.08\"/>\r\n      </g>\r\n     </g>\r\n     <g id=\"text_2\">\r\n      <!-- Municiapl -->\r\n      <g transform=\"translate(251.659375 496.6925)rotate(-90)scale(0.1 -0.1)\">\r\n       <defs>\r\n        <path d=\"M 9.8125 72.90625 \r\nL 24.515625 72.90625 \r\nL 43.109375 23.296875 \r\nL 61.8125 72.90625 \r\nL 76.515625 72.90625 \r\nL 76.515625 0 \r\nL 66.890625 0 \r\nL 66.890625 64.015625 \r\nL 48.09375 14.015625 \r\nL 38.1875 14.015625 \r\nL 19.390625 64.015625 \r\nL 19.390625 0 \r\nL 9.8125 0 \r\nz\r\n\" id=\"DejaVuSans-77\"/>\r\n        <path d=\"M 8.5 21.578125 \r\nL 8.5 54.6875 \r\nL 17.484375 54.6875 \r\nL 17.484375 21.921875 \r\nQ 17.484375 14.15625 20.5 10.265625 \r\nQ 23.53125 6.390625 29.59375 6.390625 \r\nQ 36.859375 6.390625 41.078125 11.03125 \r\nQ 45.3125 15.671875 45.3125 23.6875 \r\nL 45.3125 54.6875 \r\nL 54.296875 54.6875 \r\nL 54.296875 0 \r\nL 45.3125 0 \r\nL 45.3125 8.40625 \r\nQ 42.046875 3.421875 37.71875 1 \r\nQ 33.40625 -1.421875 27.6875 -1.421875 \r\nQ 18.265625 -1.421875 13.375 4.4375 \r\nQ 8.5 10.296875 8.5 21.578125 \r\nz\r\nM 31.109375 56 \r\nz\r\n\" id=\"DejaVuSans-117\"/>\r\n        <path d=\"M 54.890625 33.015625 \r\nL 54.890625 0 \r\nL 45.90625 0 \r\nL 45.90625 32.71875 \r\nQ 45.90625 40.484375 42.875 44.328125 \r\nQ 39.84375 48.1875 33.796875 48.1875 \r\nQ 26.515625 48.1875 22.3125 43.546875 \r\nQ 18.109375 38.921875 18.109375 30.90625 \r\nL 18.109375 0 \r\nL 9.078125 0 \r\nL 9.078125 54.6875 \r\nL 18.109375 54.6875 \r\nL 18.109375 46.1875 \r\nQ 21.34375 51.125 25.703125 53.5625 \r\nQ 30.078125 56 35.796875 56 \r\nQ 45.21875 56 50.046875 50.171875 \r\nQ 54.890625 44.34375 54.890625 33.015625 \r\nz\r\n\" id=\"DejaVuSans-110\"/>\r\n        <path d=\"M 48.78125 52.59375 \r\nL 48.78125 44.1875 \r\nQ 44.96875 46.296875 41.140625 47.34375 \r\nQ 37.3125 48.390625 33.40625 48.390625 \r\nQ 24.65625 48.390625 19.8125 42.84375 \r\nQ 14.984375 37.3125 14.984375 27.296875 \r\nQ 14.984375 17.28125 19.8125 11.734375 \r\nQ 24.65625 6.203125 33.40625 6.203125 \r\nQ 37.3125 6.203125 41.140625 7.25 \r\nQ 44.96875 8.296875 48.78125 10.40625 \r\nL 48.78125 2.09375 \r\nQ 45.015625 0.34375 40.984375 -0.53125 \r\nQ 36.96875 -1.421875 32.421875 -1.421875 \r\nQ 20.0625 -1.421875 12.78125 6.34375 \r\nQ 5.515625 14.109375 5.515625 27.296875 \r\nQ 5.515625 40.671875 12.859375 48.328125 \r\nQ 20.21875 56 33.015625 56 \r\nQ 37.15625 56 41.109375 55.140625 \r\nQ 45.0625 54.296875 48.78125 52.59375 \r\nz\r\n\" id=\"DejaVuSans-99\"/>\r\n        <path d=\"M 18.109375 8.203125 \r\nL 18.109375 -20.796875 \r\nL 9.078125 -20.796875 \r\nL 9.078125 54.6875 \r\nL 18.109375 54.6875 \r\nL 18.109375 46.390625 \r\nQ 20.953125 51.265625 25.265625 53.625 \r\nQ 29.59375 56 35.59375 56 \r\nQ 45.5625 56 51.78125 48.09375 \r\nQ 58.015625 40.1875 58.015625 27.296875 \r\nQ 58.015625 14.40625 51.78125 6.484375 \r\nQ 45.5625 -1.421875 35.59375 -1.421875 \r\nQ 29.59375 -1.421875 25.265625 0.953125 \r\nQ 20.953125 3.328125 18.109375 8.203125 \r\nz\r\nM 48.6875 27.296875 \r\nQ 48.6875 37.203125 44.609375 42.84375 \r\nQ 40.53125 48.484375 33.40625 48.484375 \r\nQ 26.265625 48.484375 22.1875 42.84375 \r\nQ 18.109375 37.203125 18.109375 27.296875 \r\nQ 18.109375 17.390625 22.1875 11.75 \r\nQ 26.265625 6.109375 33.40625 6.109375 \r\nQ 40.53125 6.109375 44.609375 11.75 \r\nQ 48.6875 17.390625 48.6875 27.296875 \r\nz\r\n\" id=\"DejaVuSans-112\"/>\r\n        <path d=\"M 9.421875 75.984375 \r\nL 18.40625 75.984375 \r\nL 18.40625 0 \r\nL 9.421875 0 \r\nz\r\n\" id=\"DejaVuSans-108\"/>\r\n       </defs>\r\n       <use xlink:href=\"#DejaVuSans-77\"/>\r\n       <use x=\"86.279297\" xlink:href=\"#DejaVuSans-117\"/>\r\n       <use x=\"149.658203\" xlink:href=\"#DejaVuSans-110\"/>\r\n       <use x=\"213.037109\" xlink:href=\"#DejaVuSans-105\"/>\r\n       <use x=\"240.820312\" xlink:href=\"#DejaVuSans-99\"/>\r\n       <use x=\"295.800781\" xlink:href=\"#DejaVuSans-105\"/>\r\n       <use x=\"323.583984\" xlink:href=\"#DejaVuSans-97\"/>\r\n       <use x=\"384.863281\" xlink:href=\"#DejaVuSans-112\"/>\r\n       <use x=\"448.339844\" xlink:href=\"#DejaVuSans-108\"/>\r\n      </g>\r\n     </g>\r\n    </g>\r\n    <g id=\"xtick_3\">\r\n     <g id=\"line2d_3\">\r\n      <g>\r\n       <use style=\"stroke:#000000;stroke-width:0.8;\" x=\"388.4\" xlink:href=\"#mcb164a0e24\" y=\"442.08\"/>\r\n      </g>\r\n     </g>\r\n     <g id=\"text_3\">\r\n      <!-- Estadual -->\r\n      <g transform=\"translate(391.159375 492.24875)rotate(-90)scale(0.1 -0.1)\">\r\n       <defs>\r\n        <path d=\"M 9.8125 72.90625 \r\nL 55.90625 72.90625 \r\nL 55.90625 64.59375 \r\nL 19.671875 64.59375 \r\nL 19.671875 43.015625 \r\nL 54.390625 43.015625 \r\nL 54.390625 34.71875 \r\nL 19.671875 34.71875 \r\nL 19.671875 8.296875 \r\nL 56.78125 8.296875 \r\nL 56.78125 0 \r\nL 9.8125 0 \r\nz\r\n\" id=\"DejaVuSans-69\"/>\r\n        <path d=\"M 44.28125 53.078125 \r\nL 44.28125 44.578125 \r\nQ 40.484375 46.53125 36.375 47.5 \r\nQ 32.28125 48.484375 27.875 48.484375 \r\nQ 21.1875 48.484375 17.84375 46.4375 \r\nQ 14.5 44.390625 14.5 40.28125 \r\nQ 14.5 37.15625 16.890625 35.375 \r\nQ 19.28125 33.59375 26.515625 31.984375 \r\nL 29.59375 31.296875 \r\nQ 39.15625 29.25 43.1875 25.515625 \r\nQ 47.21875 21.78125 47.21875 15.09375 \r\nQ 47.21875 7.46875 41.1875 3.015625 \r\nQ 35.15625 -1.421875 24.609375 -1.421875 \r\nQ 20.21875 -1.421875 15.453125 -0.5625 \r\nQ 10.6875 0.296875 5.421875 2 \r\nL 5.421875 11.28125 \r\nQ 10.40625 8.6875 15.234375 7.390625 \r\nQ 20.0625 6.109375 24.8125 6.109375 \r\nQ 31.15625 6.109375 34.5625 8.28125 \r\nQ 37.984375 10.453125 37.984375 14.40625 \r\nQ 37.984375 18.0625 35.515625 20.015625 \r\nQ 33.0625 21.96875 24.703125 23.78125 \r\nL 21.578125 24.515625 \r\nQ 13.234375 26.265625 9.515625 29.90625 \r\nQ 5.8125 33.546875 5.8125 39.890625 \r\nQ 5.8125 47.609375 11.28125 51.796875 \r\nQ 16.75 56 26.8125 56 \r\nQ 31.78125 56 36.171875 55.265625 \r\nQ 40.578125 54.546875 44.28125 53.078125 \r\nz\r\n\" id=\"DejaVuSans-115\"/>\r\n        <path d=\"M 18.3125 70.21875 \r\nL 18.3125 54.6875 \r\nL 36.8125 54.6875 \r\nL 36.8125 47.703125 \r\nL 18.3125 47.703125 \r\nL 18.3125 18.015625 \r\nQ 18.3125 11.328125 20.140625 9.421875 \r\nQ 21.96875 7.515625 27.59375 7.515625 \r\nL 36.8125 7.515625 \r\nL 36.8125 0 \r\nL 27.59375 0 \r\nQ 17.1875 0 13.234375 3.875 \r\nQ 9.28125 7.765625 9.28125 18.015625 \r\nL 9.28125 47.703125 \r\nL 2.6875 47.703125 \r\nL 2.6875 54.6875 \r\nL 9.28125 54.6875 \r\nL 9.28125 70.21875 \r\nz\r\n\" id=\"DejaVuSans-116\"/>\r\n       </defs>\r\n       <use xlink:href=\"#DejaVuSans-69\"/>\r\n       <use x=\"63.183594\" xlink:href=\"#DejaVuSans-115\"/>\r\n       <use x=\"115.283203\" xlink:href=\"#DejaVuSans-116\"/>\r\n       <use x=\"154.492188\" xlink:href=\"#DejaVuSans-97\"/>\r\n       <use x=\"215.771484\" xlink:href=\"#DejaVuSans-100\"/>\r\n       <use x=\"279.248047\" xlink:href=\"#DejaVuSans-117\"/>\r\n       <use x=\"342.626953\" xlink:href=\"#DejaVuSans-97\"/>\r\n       <use x=\"403.90625\" xlink:href=\"#DejaVuSans-108\"/>\r\n      </g>\r\n     </g>\r\n    </g>\r\n    <g id=\"xtick_4\">\r\n     <g id=\"line2d_4\">\r\n      <g>\r\n       <use style=\"stroke:#000000;stroke-width:0.8;\" x=\"527.9\" xlink:href=\"#mcb164a0e24\" y=\"442.08\"/>\r\n      </g>\r\n     </g>\r\n     <g id=\"text_4\">\r\n      <!-- Federal -->\r\n      <g transform=\"translate(530.659375 485.953437)rotate(-90)scale(0.1 -0.1)\">\r\n       <defs>\r\n        <path d=\"M 9.8125 72.90625 \r\nL 51.703125 72.90625 \r\nL 51.703125 64.59375 \r\nL 19.671875 64.59375 \r\nL 19.671875 43.109375 \r\nL 48.578125 43.109375 \r\nL 48.578125 34.8125 \r\nL 19.671875 34.8125 \r\nL 19.671875 0 \r\nL 9.8125 0 \r\nz\r\n\" id=\"DejaVuSans-70\"/>\r\n        <path d=\"M 56.203125 29.59375 \r\nL 56.203125 25.203125 \r\nL 14.890625 25.203125 \r\nQ 15.484375 15.921875 20.484375 11.0625 \r\nQ 25.484375 6.203125 34.421875 6.203125 \r\nQ 39.59375 6.203125 44.453125 7.46875 \r\nQ 49.3125 8.734375 54.109375 11.28125 \r\nL 54.109375 2.78125 \r\nQ 49.265625 0.734375 44.1875 -0.34375 \r\nQ 39.109375 -1.421875 33.890625 -1.421875 \r\nQ 20.796875 -1.421875 13.15625 6.1875 \r\nQ 5.515625 13.8125 5.515625 26.8125 \r\nQ 5.515625 40.234375 12.765625 48.109375 \r\nQ 20.015625 56 32.328125 56 \r\nQ 43.359375 56 49.78125 48.890625 \r\nQ 56.203125 41.796875 56.203125 29.59375 \r\nz\r\nM 47.21875 32.234375 \r\nQ 47.125 39.59375 43.09375 43.984375 \r\nQ 39.0625 48.390625 32.421875 48.390625 \r\nQ 24.90625 48.390625 20.390625 44.140625 \r\nQ 15.875 39.890625 15.1875 32.171875 \r\nz\r\n\" id=\"DejaVuSans-101\"/>\r\n       </defs>\r\n       <use xlink:href=\"#DejaVuSans-70\"/>\r\n       <use x=\"52.019531\" xlink:href=\"#DejaVuSans-101\"/>\r\n       <use x=\"113.542969\" xlink:href=\"#DejaVuSans-100\"/>\r\n       <use x=\"177.019531\" xlink:href=\"#DejaVuSans-101\"/>\r\n       <use x=\"238.542969\" xlink:href=\"#DejaVuSans-114\"/>\r\n       <use x=\"279.65625\" xlink:href=\"#DejaVuSans-97\"/>\r\n       <use x=\"340.935547\" xlink:href=\"#DejaVuSans-108\"/>\r\n      </g>\r\n     </g>\r\n    </g>\r\n   </g>\r\n   <g id=\"matplotlib.axis_2\">\r\n    <g id=\"ytick_1\">\r\n     <g id=\"line2d_5\">\r\n      <defs>\r\n       <path d=\"M 0 0 \r\nL -3.5 0 \r\n\" id=\"ma427e156b6\" style=\"stroke:#000000;stroke-width:0.8;\"/>\r\n      </defs>\r\n      <g>\r\n       <use style=\"stroke:#000000;stroke-width:0.8;\" x=\"39.65\" xlink:href=\"#ma427e156b6\" y=\"442.08\"/>\r\n      </g>\r\n     </g>\r\n     <g id=\"text_5\">\r\n      <!-- 0 -->\r\n      <g transform=\"translate(26.2875 445.879219)scale(0.1 -0.1)\">\r\n       <defs>\r\n        <path d=\"M 31.78125 66.40625 \r\nQ 24.171875 66.40625 20.328125 58.90625 \r\nQ 16.5 51.421875 16.5 36.375 \r\nQ 16.5 21.390625 20.328125 13.890625 \r\nQ 24.171875 6.390625 31.78125 6.390625 \r\nQ 39.453125 6.390625 43.28125 13.890625 \r\nQ 47.125 21.390625 47.125 36.375 \r\nQ 47.125 51.421875 43.28125 58.90625 \r\nQ 39.453125 66.40625 31.78125 66.40625 \r\nz\r\nM 31.78125 74.21875 \r\nQ 44.046875 74.21875 50.515625 64.515625 \r\nQ 56.984375 54.828125 56.984375 36.375 \r\nQ 56.984375 17.96875 50.515625 8.265625 \r\nQ 44.046875 -1.421875 31.78125 -1.421875 \r\nQ 19.53125 -1.421875 13.0625 8.265625 \r\nQ 6.59375 17.96875 6.59375 36.375 \r\nQ 6.59375 54.828125 13.0625 64.515625 \r\nQ 19.53125 74.21875 31.78125 74.21875 \r\nz\r\n\" id=\"DejaVuSans-48\"/>\r\n       </defs>\r\n       <use xlink:href=\"#DejaVuSans-48\"/>\r\n      </g>\r\n     </g>\r\n    </g>\r\n    <g id=\"ytick_2\">\r\n     <g id=\"line2d_6\">\r\n      <g>\r\n       <use style=\"stroke:#000000;stroke-width:0.8;\" x=\"39.65\" xlink:href=\"#ma427e156b6\" y=\"362.812741\"/>\r\n      </g>\r\n     </g>\r\n     <g id=\"text_6\">\r\n      <!-- 1000 -->\r\n      <g transform=\"translate(7.2 366.61196)scale(0.1 -0.1)\">\r\n       <defs>\r\n        <path d=\"M 12.40625 8.296875 \r\nL 28.515625 8.296875 \r\nL 28.515625 63.921875 \r\nL 10.984375 60.40625 \r\nL 10.984375 69.390625 \r\nL 28.421875 72.90625 \r\nL 38.28125 72.90625 \r\nL 38.28125 8.296875 \r\nL 54.390625 8.296875 \r\nL 54.390625 0 \r\nL 12.40625 0 \r\nz\r\n\" id=\"DejaVuSans-49\"/>\r\n       </defs>\r\n       <use xlink:href=\"#DejaVuSans-49\"/>\r\n       <use x=\"63.623047\" xlink:href=\"#DejaVuSans-48\"/>\r\n       <use x=\"127.246094\" xlink:href=\"#DejaVuSans-48\"/>\r\n       <use x=\"190.869141\" xlink:href=\"#DejaVuSans-48\"/>\r\n      </g>\r\n     </g>\r\n    </g>\r\n    <g id=\"ytick_3\">\r\n     <g id=\"line2d_7\">\r\n      <g>\r\n       <use style=\"stroke:#000000;stroke-width:0.8;\" x=\"39.65\" xlink:href=\"#ma427e156b6\" y=\"283.545482\"/>\r\n      </g>\r\n     </g>\r\n     <g id=\"text_7\">\r\n      <!-- 2000 -->\r\n      <g transform=\"translate(7.2 287.344701)scale(0.1 -0.1)\">\r\n       <defs>\r\n        <path d=\"M 19.1875 8.296875 \r\nL 53.609375 8.296875 \r\nL 53.609375 0 \r\nL 7.328125 0 \r\nL 7.328125 8.296875 \r\nQ 12.9375 14.109375 22.625 23.890625 \r\nQ 32.328125 33.6875 34.8125 36.53125 \r\nQ 39.546875 41.84375 41.421875 45.53125 \r\nQ 43.3125 49.21875 43.3125 52.78125 \r\nQ 43.3125 58.59375 39.234375 62.25 \r\nQ 35.15625 65.921875 28.609375 65.921875 \r\nQ 23.96875 65.921875 18.8125 64.3125 \r\nQ 13.671875 62.703125 7.8125 59.421875 \r\nL 7.8125 69.390625 \r\nQ 13.765625 71.78125 18.9375 73 \r\nQ 24.125 74.21875 28.421875 74.21875 \r\nQ 39.75 74.21875 46.484375 68.546875 \r\nQ 53.21875 62.890625 53.21875 53.421875 \r\nQ 53.21875 48.921875 51.53125 44.890625 \r\nQ 49.859375 40.875 45.40625 35.40625 \r\nQ 44.1875 33.984375 37.640625 27.21875 \r\nQ 31.109375 20.453125 19.1875 8.296875 \r\nz\r\n\" id=\"DejaVuSans-50\"/>\r\n       </defs>\r\n       <use xlink:href=\"#DejaVuSans-50\"/>\r\n       <use x=\"63.623047\" xlink:href=\"#DejaVuSans-48\"/>\r\n       <use x=\"127.246094\" xlink:href=\"#DejaVuSans-48\"/>\r\n       <use x=\"190.869141\" xlink:href=\"#DejaVuSans-48\"/>\r\n      </g>\r\n     </g>\r\n    </g>\r\n    <g id=\"ytick_4\">\r\n     <g id=\"line2d_8\">\r\n      <g>\r\n       <use style=\"stroke:#000000;stroke-width:0.8;\" x=\"39.65\" xlink:href=\"#ma427e156b6\" y=\"204.278223\"/>\r\n      </g>\r\n     </g>\r\n     <g id=\"text_8\">\r\n      <!-- 3000 -->\r\n      <g transform=\"translate(7.2 208.077442)scale(0.1 -0.1)\">\r\n       <defs>\r\n        <path d=\"M 40.578125 39.3125 \r\nQ 47.65625 37.796875 51.625 33 \r\nQ 55.609375 28.21875 55.609375 21.1875 \r\nQ 55.609375 10.40625 48.1875 4.484375 \r\nQ 40.765625 -1.421875 27.09375 -1.421875 \r\nQ 22.515625 -1.421875 17.65625 -0.515625 \r\nQ 12.796875 0.390625 7.625 2.203125 \r\nL 7.625 11.71875 \r\nQ 11.71875 9.328125 16.59375 8.109375 \r\nQ 21.484375 6.890625 26.8125 6.890625 \r\nQ 36.078125 6.890625 40.9375 10.546875 \r\nQ 45.796875 14.203125 45.796875 21.1875 \r\nQ 45.796875 27.640625 41.28125 31.265625 \r\nQ 36.765625 34.90625 28.71875 34.90625 \r\nL 20.21875 34.90625 \r\nL 20.21875 43.015625 \r\nL 29.109375 43.015625 \r\nQ 36.375 43.015625 40.234375 45.921875 \r\nQ 44.09375 48.828125 44.09375 54.296875 \r\nQ 44.09375 59.90625 40.109375 62.90625 \r\nQ 36.140625 65.921875 28.71875 65.921875 \r\nQ 24.65625 65.921875 20.015625 65.03125 \r\nQ 15.375 64.15625 9.8125 62.3125 \r\nL 9.8125 71.09375 \r\nQ 15.4375 72.65625 20.34375 73.4375 \r\nQ 25.25 74.21875 29.59375 74.21875 \r\nQ 40.828125 74.21875 47.359375 69.109375 \r\nQ 53.90625 64.015625 53.90625 55.328125 \r\nQ 53.90625 49.265625 50.4375 45.09375 \r\nQ 46.96875 40.921875 40.578125 39.3125 \r\nz\r\n\" id=\"DejaVuSans-51\"/>\r\n       </defs>\r\n       <use xlink:href=\"#DejaVuSans-51\"/>\r\n       <use x=\"63.623047\" xlink:href=\"#DejaVuSans-48\"/>\r\n       <use x=\"127.246094\" xlink:href=\"#DejaVuSans-48\"/>\r\n       <use x=\"190.869141\" xlink:href=\"#DejaVuSans-48\"/>\r\n      </g>\r\n     </g>\r\n    </g>\r\n    <g id=\"ytick_5\">\r\n     <g id=\"line2d_9\">\r\n      <g>\r\n       <use style=\"stroke:#000000;stroke-width:0.8;\" x=\"39.65\" xlink:href=\"#ma427e156b6\" y=\"125.010964\"/>\r\n      </g>\r\n     </g>\r\n     <g id=\"text_9\">\r\n      <!-- 4000 -->\r\n      <g transform=\"translate(7.2 128.810183)scale(0.1 -0.1)\">\r\n       <defs>\r\n        <path d=\"M 37.796875 64.3125 \r\nL 12.890625 25.390625 \r\nL 37.796875 25.390625 \r\nz\r\nM 35.203125 72.90625 \r\nL 47.609375 72.90625 \r\nL 47.609375 25.390625 \r\nL 58.015625 25.390625 \r\nL 58.015625 17.1875 \r\nL 47.609375 17.1875 \r\nL 47.609375 0 \r\nL 37.796875 0 \r\nL 37.796875 17.1875 \r\nL 4.890625 17.1875 \r\nL 4.890625 26.703125 \r\nz\r\n\" id=\"DejaVuSans-52\"/>\r\n       </defs>\r\n       <use xlink:href=\"#DejaVuSans-52\"/>\r\n       <use x=\"63.623047\" xlink:href=\"#DejaVuSans-48\"/>\r\n       <use x=\"127.246094\" xlink:href=\"#DejaVuSans-48\"/>\r\n       <use x=\"190.869141\" xlink:href=\"#DejaVuSans-48\"/>\r\n      </g>\r\n     </g>\r\n    </g>\r\n    <g id=\"ytick_6\">\r\n     <g id=\"line2d_10\">\r\n      <g>\r\n       <use style=\"stroke:#000000;stroke-width:0.8;\" x=\"39.65\" xlink:href=\"#ma427e156b6\" y=\"45.743705\"/>\r\n      </g>\r\n     </g>\r\n     <g id=\"text_10\">\r\n      <!-- 5000 -->\r\n      <g transform=\"translate(7.2 49.542923)scale(0.1 -0.1)\">\r\n       <defs>\r\n        <path d=\"M 10.796875 72.90625 \r\nL 49.515625 72.90625 \r\nL 49.515625 64.59375 \r\nL 19.828125 64.59375 \r\nL 19.828125 46.734375 \r\nQ 21.96875 47.46875 24.109375 47.828125 \r\nQ 26.265625 48.1875 28.421875 48.1875 \r\nQ 40.625 48.1875 47.75 41.5 \r\nQ 54.890625 34.8125 54.890625 23.390625 \r\nQ 54.890625 11.625 47.5625 5.09375 \r\nQ 40.234375 -1.421875 26.90625 -1.421875 \r\nQ 22.3125 -1.421875 17.546875 -0.640625 \r\nQ 12.796875 0.140625 7.71875 1.703125 \r\nL 7.71875 11.625 \r\nQ 12.109375 9.234375 16.796875 8.0625 \r\nQ 21.484375 6.890625 26.703125 6.890625 \r\nQ 35.15625 6.890625 40.078125 11.328125 \r\nQ 45.015625 15.765625 45.015625 23.390625 \r\nQ 45.015625 31 40.078125 35.4375 \r\nQ 35.15625 39.890625 26.703125 39.890625 \r\nQ 22.75 39.890625 18.8125 39.015625 \r\nQ 14.890625 38.140625 10.796875 36.28125 \r\nz\r\n\" id=\"DejaVuSans-53\"/>\r\n       </defs>\r\n       <use xlink:href=\"#DejaVuSans-53\"/>\r\n       <use x=\"63.623047\" xlink:href=\"#DejaVuSans-48\"/>\r\n       <use x=\"127.246094\" xlink:href=\"#DejaVuSans-48\"/>\r\n       <use x=\"190.869141\" xlink:href=\"#DejaVuSans-48\"/>\r\n      </g>\r\n     </g>\r\n    </g>\r\n   </g>\r\n   <g id=\"patch_7\">\r\n    <path d=\"M 39.65 442.08 \r\nL 39.65 7.2 \r\n\" style=\"fill:none;stroke:#000000;stroke-linecap:square;stroke-linejoin:miter;stroke-width:0.8;\"/>\r\n   </g>\r\n   <g id=\"patch_8\">\r\n    <path d=\"M 597.65 442.08 \r\nL 597.65 7.2 \r\n\" style=\"fill:none;stroke:#000000;stroke-linecap:square;stroke-linejoin:miter;stroke-width:0.8;\"/>\r\n   </g>\r\n   <g id=\"patch_9\">\r\n    <path d=\"M 39.65 442.08 \r\nL 597.65 442.08 \r\n\" style=\"fill:none;stroke:#000000;stroke-linecap:square;stroke-linejoin:miter;stroke-width:0.8;\"/>\r\n   </g>\r\n   <g id=\"patch_10\">\r\n    <path d=\"M 39.65 7.2 \r\nL 597.65 7.2 \r\n\" style=\"fill:none;stroke:#000000;stroke-linecap:square;stroke-linejoin:miter;stroke-width:0.8;\"/>\r\n   </g>\r\n  </g>\r\n </g>\r\n <defs>\r\n  <clipPath id=\"pabf6a58799\">\r\n   <rect height=\"434.88\" width=\"558\" x=\"39.65\" y=\"7.2\"/>\r\n  </clipPath>\r\n </defs>\r\n</svg>\r\n",
      "image/png": "[encoded data removed]"
     },
     "metadata": {
      "needs_background": "light"
     }
    }
   ],
   "source": [
    "count_per_school_type.plot(kind='bar')"
   ]
  },
  {
   "cell_type": "markdown",
   "metadata": {},
   "source": [
    "### Exercício 6)\n",
    "Como visto anteriormente, o conjunto de dados do arquivo <font style=\"font-family: monaco\">ESC2013\\_RMSP\\_CEM.csv</font> possui muitos valores faltantes. Utilize uma combinação do método <font color='blue'>map</font> e <font color='blue'>isna</font> para encontrar a porcentagem de linhas do DataFrame que possuem dados faltantes."
   ]
  },
  {
   "cell_type": "code",
   "execution_count": 37,
   "metadata": {},
   "outputs": [
    {
     "output_type": "stream",
     "name": "stdout",
     "text": [
      "The percentage of rows with some missing data is: 100.0%\n"
     ]
    }
   ],
   "source": [
    "print(f'The percentage of rows with some missing data is: {escolas.isna().any(axis=1).sum()/len(escolas) * 100}%')"
   ]
  },
  {
   "cell_type": "markdown",
   "metadata": {},
   "source": [
    "### Exercício 7)\n",
    "\n",
    "O resultado do exercício anterior mostra que todas as linhas do conjunto de dados <font style=\"font-family: monaco\">ESC2013_RMSP_CEM.csv</font> possuem pelo menos um dado faltante. Assim, se adotarmos a estratégia de remover as linhas que possuem dados faltantes, todo o conjunto de dados será descartado. \n",
    "\n",
    "Uma alternativa é remover do conjunto de dados as colunas onde o número de valores faltantes é elevado. Escreva um código que gere um novo DataFrame chamado `escolas30` contendo as colunas do DataFrame `escolas` com no máximo 30% de valores faltantes. \n",
    "\n",
    "__Dica:__ Gere uma série booleana onde os rótulos das linhas são os rótulos das colunas do DataFrame `escolas`, sendo os valores 'True' nas entradas correspondendo às colunas\n",
    "com menos que 30% de valores faltantes. Utilize a série booleana em conjunto com o comando <font color='blue'>loc</font> do <font color='blue'>pandas</font> para extrair as colunas desejadas."
   ]
  },
  {
   "cell_type": "code",
   "execution_count": 46,
   "metadata": {},
   "outputs": [
    {
     "output_type": "stream",
     "name": "stdout",
     "text": [
      "          ID  LONGITUDE  LATITUDE    CODESC  CODESCTX  \\\n0         90  -47143986 -23986886  35080548  35080548   \n1        398  -47145545 -23985717  35352524  35352524   \n2        399  -47145560 -23985685  35069929  35069929   \n3        400  -47146239 -23983873  35036365  35036365   \n4         97  -47141337 -23964408  35913424  35913424   \n...      ...        ...       ...       ...       ...   \n10932   9280  -45845711 -23529824  35221247  35221247   \n10933   9281  -45844148 -23531405  35006737  35006737   \n10934   9282  -45841153 -23529823  35224807  35224807   \n10935  11476  -45858908 -23510052  35662082  35662082   \n10936  11428  -45756429 -23591099  35249191  35249191   \n\n                                              NOMEESC      NOMEMUN   CODMUN  \\\n0           BAIRRO DOS BARNABES RECANTO DAS ORQUIDEAS    JUQUITIBA  3526209   \n1      MARIA CRISTINA BRESSALI CHAMA CRECHE MUNICIPAL    JUQUITIBA  3526209   \n2                                       TERRA NOVA EM    JUQUITIBA  3526209   \n3                                 BAIRRO DOS BARNABES    JUQUITIBA  3526209   \n4                              BAIRRO DAS SENHORINHAS    JUQUITIBA  3526209   \n...                                               ...          ...      ...   \n10932                          HENRIQUETA MESTRA EMEF  SALESOPOLIS  3545001   \n10933                    OLGA CHAKUR FARAH PROFESSORA  SALESOPOLIS  3545001   \n10934      MARIA APARECIDA FREIRE DE FARIA PROFA EMEI  SALESOPOLIS  3545001   \n10935                       PEDRO DE SOUZA BRITO EMEF  SALESOPOLIS  3545001   \n10936               ANTONIO RODRIGUES DOS SANTOS EMEF  SALESOPOLIS  3545001   \n\n           NOMDIST      CODDIST  COD_DEP    TIP_DEP               BAIRRO  \\\n0         BARNABES  352620910.0        2   Estadual  BAIRRO DOS BARNABES   \n1         BARNABES  352620910.0        3  Municipal             BARNABES   \n2         BARNABES  352620910.0        3  Municipal             BARNABES   \n3         BARNABES  352620910.0        2   Estadual             BARNABES   \n4         BARNABES  352620910.0        2   Estadual          SENHORINHAS   \n...            ...          ...      ...        ...                  ...   \n10932  SALESOPOLIS  354500105.0        3  Municipal               CENTRO   \n10933  SALESOPOLIS  354500105.0        2   Estadual               CENTRO   \n10934  SALESOPOLIS  354500105.0        3  Municipal              ROSARIO   \n10935  SALESOPOLIS  354500105.0        3  Municipal       PARAITINGUINHA   \n10936  SALESOPOLIS  354500105.0        3  Municipal    NASCENTE DO TIETE   \n\n             CEP                        END_ESC NUM_ESC DDD  TELEFONE  \\\n0      6950000.0  RUA ANTONIO FRANCISCO PEREIRA     285  11  46841502   \n1      6950000.0     RUA ANTONIO SOARES GODINHO      31  11  46841666   \n2      6950000.0       R ANTONIO SOARES GODINHO      35  11  46841462   \n3      6950000.0       R ANTONIO SOARES GODINHO     413  11  46841155   \n4      6950000.0                  RUA DOS LAGOS      20  11  46812769   \n...          ...                            ...     ...  ..       ...   \n10932  8970000.0             RUA XV DE NOVEMBRO    1070  11  46961863   \n10933  8970000.0        AV ANTONIO P DE MIRANDA     101  11  46961252   \n10934  8970000.0              RUA ROQUE TORRAGA      25  11  46963013   \n10935  8970000.0    ESTRADA DO OURO BRANCO KM02     S/N  11  46961280   \n10936  8970000.0           ESTRADA DA PETROBRAS     S/N  11  46961863   \n\n       LOCALIZA  LAB_INF  QD_ESP_C  QD_ESP_D  BIBLIO  ENS_REG  REG_IN_CR  \\\n0             1        0         0         1       0        1          0   \n1             1        0         0         0       0        1          1   \n2             1        0         0         0       0        1          1   \n3             1        1         0         1       0        1          0   \n4             1        0         1         0       0        1          0   \n...         ...      ...       ...       ...     ...      ...        ...   \n10932         1        0         0         1       0        1          0   \n10933         1        1         1         1       0        1          0   \n10934         1        0         0         0       0        1          1   \n10935         2        0         0         0       0        0          0   \n10936         2        0         0         0       0        1          0   \n\n       REG_IN_PE  REG_FU_8A  REG_FU_9A  REG_MED  REG_MED_I  REG_MED_N  \\\n0              0          0          1        0          0          0   \n1              0          0          0        0          0          0   \n2              1          0          0        0          0          0   \n3              0          1          1        1          0          0   \n4              0          1          1        1          0          0   \n...          ...        ...        ...      ...        ...        ...   \n10932          0          0          1        0          0          0   \n10933          0          1          1        1          0          0   \n10934          1          0          0        0          0          0   \n10935          0          0          0        0          0          0   \n10936          0          0          1        0          0          0   \n\n       REG_MED_P  ENS_ESP  ESP_IN_CR  ESP_IN_PE  ESP_FU_8A  ESP_FU_9A  \\\n0              0        0          0          0          0          0   \n1              0        0          0          0          0          0   \n2              0        0          0          0          0          0   \n3              0        0          0          0          0          0   \n4              0        0          0          0          0          0   \n...          ...      ...        ...        ...        ...        ...   \n10932          0        0          0          0          0          0   \n10933          0        0          0          0          0          0   \n10934          0        0          0          0          0          0   \n10935          0        0          0          0          0          0   \n10936          0        0          0          0          0          0   \n\n       ESP_MED  ESP_MED_I  ESP_MED_N  ESP_MED_P  ESP_EJA_F  ESP_EJA_M  EJA  \\\n0            0          0          0          0          0          0    0   \n1            0          0          0          0          0          0    0   \n2            0          0          0          0          0          0    0   \n3            0          0          0          0          0          0    0   \n4            0          0          0          0          0          0    0   \n...        ...        ...        ...        ...        ...        ...  ...   \n10932        0          0          0          0          0          0    1   \n10933        0          0          0          0          0          0    1   \n10934        0          0          0          0          0          0    0   \n10935        0          0          0          0          0          0    0   \n10936        0          0          0          0          0          0    0   \n\n       EJA_FUND  EJA_MED  EJA_PROJ  \n0             0        0         0  \n1             0        0         0  \n2             0        0         0  \n3             0        0         0  \n4             0        0         0  \n...         ...      ...       ...  \n10932         1        0         0  \n10933         0        1         0  \n10934         0        0         0  \n10935         0        0         0  \n10936         0        0         0  \n\n[10937 rows x 47 columns]\n"
     ]
    }
   ],
   "source": [
    "max_na_rows_threshold = 0.3 * len(escolas) # upper threshold of number of columns that can contain NaN values\n",
    "boolean_mask = escolas.isna().sum(axis=0) < max_na_rows_threshold\n",
    "escolas30 = escolas.loc[:, boolean_mask.values]\n",
    "print(escolas30)\n"
   ]
  },
  {
   "cell_type": "markdown",
   "metadata": {},
   "source": [
    "### Exercício 8)\n",
    "\n",
    "Quantas colunas restaram no DataFrame `escolas30`? Recalcule a porcentagem de linhas com pelo menos um valor faltante."
   ]
  },
  {
   "cell_type": "code",
   "execution_count": 51,
   "metadata": {},
   "outputs": [
    {
     "output_type": "stream",
     "name": "stdout",
     "text": [
      "The number of columns in escola30 is: 47\nThe percentage of lines with at least one null value in escola30 is 10.07%\n"
     ]
    }
   ],
   "source": [
    "print(\"The number of columns in escola30 is:\",len(escolas30.columns))\n",
    "print(f\"The percentage of lines with at least one null value in escola30 is {escolas30.isna().any(axis=1).sum() / len(escolas30) * 100:.2f}%\")"
   ]
  },
  {
   "cell_type": "markdown",
   "metadata": {},
   "source": [
    "### Exercício 9)\n",
    "\n",
    "O DataFrame `escolas30` possui poucos valores faltantes. Preencha os valores faltantes com o valor da _moda_  da coluna onde o valor faltante ocorre. \n",
    "\n",
    "__Dica:__ Utilize o método <font color='blue'>mode</font> combinado com <font color='blue'>fillna</font> do <font color='blue'>pandas</font>. Note que o método  <font color='blue'>mode</font> pode retornar vários valores caso haja um empate no cálculo da moda. Escolha o primeiro dentre os valores retornados como o valor da moda."
   ]
  },
  {
   "cell_type": "code",
   "execution_count": 69,
   "metadata": {
    "scrolled": false
   },
   "outputs": [
    {
     "output_type": "stream",
     "name": "stdout",
     "text": [
      "          ID  LONGITUDE  LATITUDE    CODESC  CODESCTX  \\\n0         90  -47143986 -23986886  35080548  35080548   \n1        398  -47145545 -23985717  35352524  35352524   \n2        399  -47145560 -23985685  35069929  35069929   \n3        400  -47146239 -23983873  35036365  35036365   \n4         97  -47141337 -23964408  35913424  35913424   \n...      ...        ...       ...       ...       ...   \n10932   9280  -45845711 -23529824  35221247  35221247   \n10933   9281  -45844148 -23531405  35006737  35006737   \n10934   9282  -45841153 -23529823  35224807  35224807   \n10935  11476  -45858908 -23510052  35662082  35662082   \n10936  11428  -45756429 -23591099  35249191  35249191   \n\n                                              NOMEESC      NOMEMUN   CODMUN  \\\n0           BAIRRO DOS BARNABES RECANTO DAS ORQUIDEAS    JUQUITIBA  3526209   \n1      MARIA CRISTINA BRESSALI CHAMA CRECHE MUNICIPAL    JUQUITIBA  3526209   \n2                                       TERRA NOVA EM    JUQUITIBA  3526209   \n3                                 BAIRRO DOS BARNABES    JUQUITIBA  3526209   \n4                              BAIRRO DAS SENHORINHAS    JUQUITIBA  3526209   \n...                                               ...          ...      ...   \n10932                          HENRIQUETA MESTRA EMEF  SALESOPOLIS  3545001   \n10933                    OLGA CHAKUR FARAH PROFESSORA  SALESOPOLIS  3545001   \n10934      MARIA APARECIDA FREIRE DE FARIA PROFA EMEI  SALESOPOLIS  3545001   \n10935                       PEDRO DE SOUZA BRITO EMEF  SALESOPOLIS  3545001   \n10936               ANTONIO RODRIGUES DOS SANTOS EMEF  SALESOPOLIS  3545001   \n\n           NOMDIST      CODDIST  COD_DEP    TIP_DEP               BAIRRO  \\\n0         BARNABES  352620910.0        2   Estadual  BAIRRO DOS BARNABES   \n1         BARNABES  352620910.0        3  Municipal             BARNABES   \n2         BARNABES  352620910.0        3  Municipal             BARNABES   \n3         BARNABES  352620910.0        2   Estadual             BARNABES   \n4         BARNABES  352620910.0        2   Estadual          SENHORINHAS   \n...            ...          ...      ...        ...                  ...   \n10932  SALESOPOLIS  354500105.0        3  Municipal               CENTRO   \n10933  SALESOPOLIS  354500105.0        2   Estadual               CENTRO   \n10934  SALESOPOLIS  354500105.0        3  Municipal              ROSARIO   \n10935  SALESOPOLIS  354500105.0        3  Municipal       PARAITINGUINHA   \n10936  SALESOPOLIS  354500105.0        3  Municipal    NASCENTE DO TIETE   \n\n             CEP                        END_ESC NUM_ESC DDD  TELEFONE  \\\n0      6950000.0  RUA ANTONIO FRANCISCO PEREIRA     285  11  46841502   \n1      6950000.0     RUA ANTONIO SOARES GODINHO      31  11  46841666   \n2      6950000.0       R ANTONIO SOARES GODINHO      35  11  46841462   \n3      6950000.0       R ANTONIO SOARES GODINHO     413  11  46841155   \n4      6950000.0                  RUA DOS LAGOS      20  11  46812769   \n...          ...                            ...     ...  ..       ...   \n10932  8970000.0             RUA XV DE NOVEMBRO    1070  11  46961863   \n10933  8970000.0        AV ANTONIO P DE MIRANDA     101  11  46961252   \n10934  8970000.0              RUA ROQUE TORRAGA      25  11  46963013   \n10935  8970000.0    ESTRADA DO OURO BRANCO KM02     S/N  11  46961280   \n10936  8970000.0           ESTRADA DA PETROBRAS     S/N  11  46961863   \n\n       LOCALIZA  LAB_INF  QD_ESP_C  QD_ESP_D  BIBLIO  ENS_REG  REG_IN_CR  \\\n0             1        0         0         1       0        1          0   \n1             1        0         0         0       0        1          1   \n2             1        0         0         0       0        1          1   \n3             1        1         0         1       0        1          0   \n4             1        0         1         0       0        1          0   \n...         ...      ...       ...       ...     ...      ...        ...   \n10932         1        0         0         1       0        1          0   \n10933         1        1         1         1       0        1          0   \n10934         1        0         0         0       0        1          1   \n10935         2        0         0         0       0        0          0   \n10936         2        0         0         0       0        1          0   \n\n       REG_IN_PE  REG_FU_8A  REG_FU_9A  REG_MED  REG_MED_I  REG_MED_N  \\\n0              0          0          1        0          0          0   \n1              0          0          0        0          0          0   \n2              1          0          0        0          0          0   \n3              0          1          1        1          0          0   \n4              0          1          1        1          0          0   \n...          ...        ...        ...      ...        ...        ...   \n10932          0          0          1        0          0          0   \n10933          0          1          1        1          0          0   \n10934          1          0          0        0          0          0   \n10935          0          0          0        0          0          0   \n10936          0          0          1        0          0          0   \n\n       REG_MED_P  ENS_ESP  ESP_IN_CR  ESP_IN_PE  ESP_FU_8A  ESP_FU_9A  \\\n0              0        0          0          0          0          0   \n1              0        0          0          0          0          0   \n2              0        0          0          0          0          0   \n3              0        0          0          0          0          0   \n4              0        0          0          0          0          0   \n...          ...      ...        ...        ...        ...        ...   \n10932          0        0          0          0          0          0   \n10933          0        0          0          0          0          0   \n10934          0        0          0          0          0          0   \n10935          0        0          0          0          0          0   \n10936          0        0          0          0          0          0   \n\n       ESP_MED  ESP_MED_I  ESP_MED_N  ESP_MED_P  ESP_EJA_F  ESP_EJA_M  EJA  \\\n0            0          0          0          0          0          0    0   \n1            0          0          0          0          0          0    0   \n2            0          0          0          0          0          0    0   \n3            0          0          0          0          0          0    0   \n4            0          0          0          0          0          0    0   \n...        ...        ...        ...        ...        ...        ...  ...   \n10932        0          0          0          0          0          0    1   \n10933        0          0          0          0          0          0    1   \n10934        0          0          0          0          0          0    0   \n10935        0          0          0          0          0          0    0   \n10936        0          0          0          0          0          0    0   \n\n       EJA_FUND  EJA_MED  EJA_PROJ  \n0             0        0         0  \n1             0        0         0  \n2             0        0         0  \n3             0        0         0  \n4             0        0         0  \n...         ...      ...       ...  \n10932         1        0         0  \n10933         0        1         0  \n10934         0        0         0  \n10935         0        0         0  \n10936         0        0         0  \n\n[10937 rows x 47 columns]\n"
     ]
    }
   ],
   "source": [
    "modes_per_column = escolas30.mode(axis=0, dropna=True).iloc[0]\n",
    "na_free_escolas = escolas30.fillna(value=modes_per_column)\n",
    "print(na_free_escolas)"
   ]
  },
  {
   "cell_type": "markdown",
   "metadata": {},
   "source": [
    "### Exercício 10)\n",
    "\n",
    "Certifique que o DataFrame `escolas30` não possui qualquer valor faltante após o tratamento realizado no exercício anterior."
   ]
  },
  {
   "cell_type": "code",
   "execution_count": 72,
   "metadata": {},
   "outputs": [
    {
     "output_type": "stream",
     "name": "stdout",
     "text": [
      "False\n"
     ]
    }
   ],
   "source": [
    "print(na_free_escolas.isna().any().any())"
   ]
  }
 ],
 "metadata": {
  "kernelspec": {
   "display_name": "Python 3",
   "language": "python",
   "name": "python3"
  },
  "language_info": {
   "codemirror_mode": {
    "name": "ipython",
    "version": 3
   },
   "file_extension": ".py",
   "mimetype": "text/x-python",
   "name": "python",
   "nbconvert_exporter": "python",
   "pygments_lexer": "ipython3",
   "version": "3.8.5-final"
  },
  "toc": {
   "base_numbering": 1,
   "nav_menu": {},
   "number_sections": true,
   "sideBar": true,
   "skip_h1_title": false,
   "title_cell": "Table of Contents",
   "title_sidebar": "Contents",
   "toc_cell": false,
   "toc_position": {},
   "toc_section_display": true,
   "toc_window_display": false
  }
 },
 "nbformat": 4,
 "nbformat_minor": 2
}