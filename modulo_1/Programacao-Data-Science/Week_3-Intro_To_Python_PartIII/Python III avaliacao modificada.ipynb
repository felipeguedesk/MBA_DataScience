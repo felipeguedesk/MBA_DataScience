{
 "cells": [
  {
   "cell_type": "markdown",
   "metadata": {
    "id": "ot40VXRWWN4u"
   },
   "source": [
    "# <span style=\"color:blue\"> MBA em Ciência de Dados</span>\n",
    "# <span style=\"color:blue\">Programação para Ciência de Dados</span>\n",
    "\n",
    "## <span style=\"color:blue\">Avaliação Python Parte III</span>\n",
    "**Material Produzido por Luis Gustavo Nonato**<br>\n",
    "**Cemeai - ICMC/USP São Carlos**"
   ]
  },
  {
   "cell_type": "markdown",
   "metadata": {
    "id": "0X5CJb0WWN43"
   },
   "source": [
    "### Exercício 1)\n",
    "Considere a lista `numeros` abaixo. Utilize o comando <font color='blue'>filter</font> para gerar um nova lista `maiores10` contendo somente os elementos de `numeros` que são maiores que 10. Os 5 primeiros elementos da lista serão:<br>\n",
    "a) [13, 44, 30, 47, 28, ...]<br>\n",
    "b) [13, 44, 28, 47, 10, ...]<br>\n",
    "c) [13, 44, 28, 47, 10, ...]<br>\n",
    "d) [13, 44, 10, 47, 28, ...]<br>"
   ]
  },
  {
   "cell_type": "code",
   "execution_count": 1,
   "metadata": {
    "colab": {
     "base_uri": "https://localhost:8080/"
    },
    "executionInfo": {
     "elapsed": 1066,
     "status": "ok",
     "timestamp": 1613321429253,
     "user": {
      "displayName": "Edesio Alcobaça",
      "photoUrl": "https://lh3.googleusercontent.com/a-/AOh14GhybDI1qzP3W03EYKTP89NWEXxwNg5z5OM5L6kdTg=s64",
      "userId": "10422480453975814446"
     },
     "user_tz": 180
    },
    "id": "99XJEoJdWN44",
    "outputId": "67b139b5-e87f-498a-99a4-b6fc72948c5a"
   },
   "outputs": [
    {
     "name": "stdout",
     "output_type": "stream",
     "text": [
      "[13, 44, 30, 47, 28, 12, 32, 21, 32, 44, 36, 26, 29, 36, 49, 11, 42, 26, 20, 16, 38, 26, 19, 26, 22, 14, 30, 41, 42, 18, 44, 12]\n"
     ]
    }
   ],
   "source": [
    "numeros = [7, 3, 2, 13, 44, 3, 30, 47, 28, 10, 4, 12, 7, 32, 21, 32, 44, 2, 36, 9, 26, \n",
    "           6, 29, 36, 49, 11, 8, 42, 26, 20, 6, 16, 38, 26, 19, 26, 8, 22, 14, 10, 30, \n",
    "           41, 42, 10, 4, 9, 2, 18, 44, 12]\n",
    "\n",
    "maiores10 = list(filter(lambda num : num > 10, numeros))\n",
    "print(maiores10)"
   ]
  },
  {
   "cell_type": "markdown",
   "metadata": {
    "id": "QedRh0OTWN45"
   },
   "source": [
    "### Exercício 2)\n",
    "Considere a lista `numeros` abaixo. Utilize uma combinação dos comandos \n",
    "<font color='blue'>reduce</font> e <font color='blue'>filter</font> para somar todos os elementos da lista que são divisiveis por 3. O código que gera a soma corretamente será:<br>\n",
    "a) list(reduce(lambda x,y: x+y,list(filter(lambda x: x<3,numeros))))<br>\n",
    "b) reduce(lambda x,y: x+y,list(filter(lambda x: x>3,numeros)))<br>\n",
    "c) reduce(lambda x,y: x+y,list(filter(lambda x: x%2==0,numeros)))<br>\n",
    "d) reduce(lambda x,y: x+y,filter(lambda x: x%3==0,numeros))"
   ]
  },
  {
   "cell_type": "code",
   "execution_count": 2,
   "metadata": {
    "colab": {
     "base_uri": "https://localhost:8080/"
    },
    "executionInfo": {
     "elapsed": 1058,
     "status": "ok",
     "timestamp": 1613321429254,
     "user": {
      "displayName": "Edesio Alcobaça",
      "photoUrl": "https://lh3.googleusercontent.com/a-/AOh14GhybDI1qzP3W03EYKTP89NWEXxwNg5z5OM5L6kdTg=s64",
      "userId": "10422480453975814446"
     },
     "user_tz": 180
    },
    "id": "gdLTUMHnWN45",
    "outputId": "9e1b6794-8cdf-4cb9-dc9f-c34585643a16"
   },
   "outputs": [
    {
     "name": "stdout",
     "output_type": "stream",
     "text": [
      "282\n"
     ]
    }
   ],
   "source": [
    "from functools import reduce\n",
    "\n",
    "numeros = [7, 3, 2, 13, 44, 3, 30, 47, 28, 10, 4, 17, 7, 37, 21, 32, 44, 2, 33, 9, 26, \n",
    "           9, 29, 9, 49, 11, 8, 42, 26, 23, 17, 16, 37, 26, 19, 26, 8, 27, 15, 10, 31, \n",
    "           41, 42, 10, 4, 9, 7, 18, 44, 12]\n",
    "\n",
    "soma_divisiveis_tres = reduce(lambda x,y: x+y,filter(lambda x: x%3==0,numeros))\n",
    "print(soma_divisiveis_tres)"
   ]
  },
  {
   "cell_type": "markdown",
   "metadata": {
    "id": "12JHpGqVWN45"
   },
   "source": [
    "### Exercício 3)\n",
    "Assinale a alternativa que melhor explica o que significa `f` e `x` na declaração `f(x)` que está dentro do comando <font color='blue'>map</font> no código abaixo:<br>\n",
    "a) `x` corresponde a lista de números [10, 20, 30] e `f` é um dos elementos da lista.<br>\n",
    "\n",
    "b) `f` corresponde a lista `funcoes` e `x` é um dos elementos desta lista.<br>\n",
    "\n",
    "c)  `f` corresponde a um números da lista [10, 20, 30] e `x` é um dos elementos da lista `funcoes`.<br>\n",
    "\n",
    "d) `f` corresponde a um dos elementos da lista `funcoes` e `x` é um número da lista [10, 20, 30].<br>"
   ]
  },
  {
   "cell_type": "code",
   "execution_count": null,
   "metadata": {
    "colab": {
     "base_uri": "https://localhost:8080/"
    },
    "executionInfo": {
     "elapsed": 1049,
     "status": "ok",
     "timestamp": 1613321429255,
     "user": {
      "displayName": "Edesio Alcobaça",
      "photoUrl": "https://lh3.googleusercontent.com/a-/AOh14GhybDI1qzP3W03EYKTP89NWEXxwNg5z5OM5L6kdTg=s64",
      "userId": "10422480453975814446"
     },
     "user_tz": 180
    },
    "id": "a7yWWRVEWN46",
    "outputId": "25db2332-0da0-401e-92bc-8deef6d2b037"
   },
   "outputs": [
    {
     "name": "stdout",
     "output_type": "stream",
     "text": [
      "[0, 20, 100]\n",
      "[0, 40, 400]\n",
      "[0, 60, 900]\n"
     ]
    }
   ],
   "source": [
    "def subtracao(x):\n",
    "    return(x-x)\n",
    "\n",
    "def soma(x):\n",
    "    return(x+x)\n",
    "\n",
    "def multiplica(x):\n",
    "    return(x*x)\n",
    "\n",
    "funcoes = [subtracao, soma, multiplica]\n",
    "numeros = [10, 20, 30]\n",
    "\n",
    "for x in numeros:\n",
    "    res = list(map(lambda f: f(x),funcoes))\n",
    "    print(res)"
   ]
  },
  {
   "cell_type": "markdown",
   "metadata": {
    "id": "EM5UBhWBt1u1"
   },
   "source": [
    "### Exercício 4)\n",
    "No arquivo <font color='blue'>`roda-viva.txt`</font>, temos o refrão com pedaços faltando da música Roda Viva de Chico Buarque. O código abaixo deveria reescrever o refrão, mas está adicionando no final do arquivo o refrão corrigido. Qual o valor que a variável <font color='blue'>`mode`</font> deve assumir para que o código cumpra o objetivo descrito:\n",
    "\n",
    "a) `r`<br>\n",
    "\n",
    "b) `a`<br>\n",
    "\n",
    "c) `w`<br>\n",
    "\n",
    "d) `ab`<br>"
   ]
  },
  {
   "cell_type": "code",
   "execution_count": null,
   "metadata": {
    "colab": {
     "base_uri": "https://localhost:8080/"
    },
    "executionInfo": {
     "elapsed": 1043,
     "status": "ok",
     "timestamp": 1613321429257,
     "user": {
      "displayName": "Edesio Alcobaça",
      "photoUrl": "https://lh3.googleusercontent.com/a-/AOh14GhybDI1qzP3W03EYKTP89NWEXxwNg5z5OM5L6kdTg=s64",
      "userId": "10422480453975814446"
     },
     "user_tz": 180
    },
    "id": "1HAPHihnuKXq",
    "outputId": "5e3e5410-93e0-4e25-a6c8-150fa9aa75f8"
   },
   "outputs": [
    {
     "name": "stdout",
     "output_type": "stream",
     "text": [
      "Overwriting roda-viva.txt\n"
     ]
    }
   ],
   "source": [
    "%%writefile roda-viva.txt \n",
    "Roda $$$$, roda-gigante\n",
    "Rodamoinho, roda $$$$\n",
    "O tempo $$$$$ num $$$$$$$$\n",
    "Nas $$$$$ do meu coração\n"
   ]
  },
  {
   "cell_type": "code",
   "execution_count": null,
   "metadata": {
    "id": "iAPlVRedt6za"
   },
   "outputs": [],
   "source": [
    "mode = # escreva o códio aqui\n",
    "with open(file='roda-viva.txt', mode=mode) as fp:\n",
    "  refrao = 'Roda mundo, roda-gigante\\nRodamoinho, roda pião\\nO tempo rodou num instante\\nNas voltas do meu coração\\n'\n",
    "  fp.write(refrao)"
   ]
  },
  {
   "cell_type": "markdown",
   "metadata": {
    "id": "M9gU8MJvhPEa"
   },
   "source": [
    "### Exercício 5)\n",
    "A classe <font color='blue'>`FuncaoAfim`</font> definida no código abaixo representa uma equação linear de primeiro grau na forma <font color='blue'>`f(x) = a*x + b`</font>. Os códigos em `(I)`, `(II)` e `(III)` a seguir apresentam três formas distintas de definir os coeficiêntes `a` e `b` da equação como `1` e `2`, respectivamente:<br>\n",
    "\n",
    "I)\n",
    "```python\n",
    "fa = FuncaoAfim(a=1, b=2)\n",
    "```\n",
    "\n",
    "II)\n",
    "```python\n",
    "fa = FuncaoAfim()\n",
    "fa.atualiza_coeficientes(a=1, b=2)\n",
    "```\n",
    "\n",
    "III)\n",
    "```python\n",
    "fa = FuncaoAfim()\n",
    "fa.a = 1\n",
    "fa._b = 2\n",
    "```\n",
    "\n",
    "Assinale a alternativa correta:<br>\n",
    "a) Apenas `(I)` está correto.<br>\n",
    "\n",
    "b) Apenas `(I)` e `(II)` estão corretos.<br>\n",
    "\n",
    "c) Apenas `(I)` e `(III)` estão corretos.<br>\n",
    "\n",
    "d) `(I)`, `(II)` e `(III)` estão corretos.<br>"
   ]
  },
  {
   "cell_type": "code",
   "execution_count": 16,
   "metadata": {
    "colab": {
     "base_uri": "https://localhost:8080/"
    },
    "executionInfo": {
     "elapsed": 1028,
     "status": "ok",
     "timestamp": 1613321429259,
     "user": {
      "displayName": "Edesio Alcobaça",
      "photoUrl": "https://lh3.googleusercontent.com/a-/AOh14GhybDI1qzP3W03EYKTP89NWEXxwNg5z5OM5L6kdTg=s64",
      "userId": "10422480453975814446"
     },
     "user_tz": 180
    },
    "id": "tjj4t_eehVS8",
    "outputId": "523f6d60-0e3d-44f8-d043-5c5db915c7d2"
   },
   "outputs": [
    {
     "name": "stdout",
     "output_type": "stream",
     "text": [
      "Para x=10, a função f(x)= 1x + 2 resulta em  12\n"
     ]
    }
   ],
   "source": [
    "class FuncaoAfim(object):\n",
    "\n",
    "  def __init__(self, a=0, b=0):\n",
    "    self._a = a\n",
    "    self._b = b\n",
    "\n",
    "  def atualiza_coeficientes(self, a, b):\n",
    "    self._a = a\n",
    "    self._b = b\n",
    "\n",
    "  def aplica(self, x):\n",
    "    return self._a*x + self._b\n",
    "\n",
    "fa = FuncaoAfim(a=1, b=2)\n",
    "\n",
    "x = 10\n",
    "res = fa.aplica(x)\n",
    "print(f\"Para x={x}, a função f(x)= 1x + 2 resulta em \", res)\n"
   ]
  }
 ],
 "metadata": {
  "colab": {
   "collapsed_sections": [],
   "name": "Python III avaliacao modificada.ipynb",
   "provenance": []
  },
  "kernelspec": {
   "display_name": "Python 3",
   "language": "python",
   "name": "python3"
  },
  "language_info": {
   "codemirror_mode": {
    "name": "ipython",
    "version": 3
   },
   "file_extension": ".py",
   "mimetype": "text/x-python",
   "name": "python",
   "nbconvert_exporter": "python",
   "pygments_lexer": "ipython3",
   "version": "3.8.5"
  }
 },
 "nbformat": 4,
 "nbformat_minor": 1
}
