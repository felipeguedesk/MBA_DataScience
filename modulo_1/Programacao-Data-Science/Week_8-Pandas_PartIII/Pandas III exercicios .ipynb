{
 "cells": [
  {
   "cell_type": "markdown",
   "metadata": {},
   "source": [
    "# <font color=\"blue\"> MBA em Ciência de Dados</font>\n",
    "# <font color=\"blue\"> Programação para Ciência de Dados</font>\n",
    "\n",
    "## <font color=\"blue\">Exercícios Pandas Parte III</font>\n",
    "**Material Produzido por Luis Gustavo Nonato**<br>\n",
    "**Cemeai - ICMC/USP São Carlos**"
   ]
  },
  {
   "cell_type": "markdown",
   "metadata": {},
   "source": [
    "#### <span style=\"color:red\">Recomenda-se fortemente que os exercícios sejam feitos sem consultar as respostas antecipadamente.</span>"
   ]
  },
  {
   "cell_type": "markdown",
   "metadata": {},
   "source": [
    "Parte dos exercícios a seguir farão uso do arquivo <font style=\"font-family: monaco\">sales.csv</font> disponível para download no moodle.\n",
    "\n",
    "O arquivo <font style=\"font-family: monaco\">sales.csv</font> possui informações relativas à venda de produtos. As colunas abaixo são de particular importância para solução dos exercícios:\n",
    "- *Country*: país da venda\n",
    "- *Item Type*: tipo do produto vendido\n",
    "- *Units Sold*: quantidade vendida\n",
    "- *Unit Price*: preço de venda\n",
    "- *Unit Cost*: preço de custo\n",
    "- *Total Profit*: lucro"
   ]
  },
  {
   "cell_type": "code",
   "execution_count": 3,
   "metadata": {},
   "outputs": [],
   "source": [
    "# importando o 'pandas' e 'numpy'\n",
    "import pandas as pd\n",
    "import numpy as np"
   ]
  },
  {
   "cell_type": "code",
   "execution_count": 4,
   "metadata": {},
   "outputs": [
    {
     "output_type": "execute_result",
     "data": {
      "text/plain": [
       "                              Region                Country        Item Type  \\\n",
       "0              Australia and Oceania                 Tuvalu        Baby Food   \n",
       "1  Central America and the Caribbean                Grenada           Cereal   \n",
       "2                             Europe                 Russia  Office Supplies   \n",
       "3                 Sub-Saharan Africa  Sao Tome and Principe           Fruits   \n",
       "4                 Sub-Saharan Africa                 Rwanda  Office Supplies   \n",
       "\n",
       "  Sales Channel Order Priority Order Date   Order ID  Ship Date  Units Sold  \\\n",
       "0       Offline              H  5/28/2010  669165933  6/27/2010        9925   \n",
       "1        Online              C  8/22/2012  963881480  9/15/2012        2804   \n",
       "2       Offline              L   5/2/2014  341417157   5/8/2014        1779   \n",
       "3        Online              C  6/20/2014  514321792   7/5/2014        8102   \n",
       "4       Offline              L   2/1/2013  115456712   2/6/2013        5062   \n",
       "\n",
       "   Unit Price  Unit Cost  Total Revenue  Total Cost  Total Profit  \n",
       "0      255.28     159.42     2533654.00  1582243.50     951410.50  \n",
       "1      205.70     117.11      576782.80   328376.44     248406.36  \n",
       "2      651.21     524.96     1158502.59   933903.84     224598.75  \n",
       "3        9.33       6.92       75591.66    56065.84      19525.82  \n",
       "4      651.21     524.96     3296425.02  2657347.52     639077.50  "
      ],
      "text/html": "<div>\n<style scoped>\n    .dataframe tbody tr th:only-of-type {\n        vertical-align: middle;\n    }\n\n    .dataframe tbody tr th {\n        vertical-align: top;\n    }\n\n    .dataframe thead th {\n        text-align: right;\n    }\n</style>\n<table border=\"1\" class=\"dataframe\">\n  <thead>\n    <tr style=\"text-align: right;\">\n      <th></th>\n      <th>Region</th>\n      <th>Country</th>\n      <th>Item Type</th>\n      <th>Sales Channel</th>\n      <th>Order Priority</th>\n      <th>Order Date</th>\n      <th>Order ID</th>\n      <th>Ship Date</th>\n      <th>Units Sold</th>\n      <th>Unit Price</th>\n      <th>Unit Cost</th>\n      <th>Total Revenue</th>\n      <th>Total Cost</th>\n      <th>Total Profit</th>\n    </tr>\n  </thead>\n  <tbody>\n    <tr>\n      <th>0</th>\n      <td>Australia and Oceania</td>\n      <td>Tuvalu</td>\n      <td>Baby Food</td>\n      <td>Offline</td>\n      <td>H</td>\n      <td>5/28/2010</td>\n      <td>669165933</td>\n      <td>6/27/2010</td>\n      <td>9925</td>\n      <td>255.28</td>\n      <td>159.42</td>\n      <td>2533654.00</td>\n      <td>1582243.50</td>\n      <td>951410.50</td>\n    </tr>\n    <tr>\n      <th>1</th>\n      <td>Central America and the Caribbean</td>\n      <td>Grenada</td>\n      <td>Cereal</td>\n      <td>Online</td>\n      <td>C</td>\n      <td>8/22/2012</td>\n      <td>963881480</td>\n      <td>9/15/2012</td>\n      <td>2804</td>\n      <td>205.70</td>\n      <td>117.11</td>\n      <td>576782.80</td>\n      <td>328376.44</td>\n      <td>248406.36</td>\n    </tr>\n    <tr>\n      <th>2</th>\n      <td>Europe</td>\n      <td>Russia</td>\n      <td>Office Supplies</td>\n      <td>Offline</td>\n      <td>L</td>\n      <td>5/2/2014</td>\n      <td>341417157</td>\n      <td>5/8/2014</td>\n      <td>1779</td>\n      <td>651.21</td>\n      <td>524.96</td>\n      <td>1158502.59</td>\n      <td>933903.84</td>\n      <td>224598.75</td>\n    </tr>\n    <tr>\n      <th>3</th>\n      <td>Sub-Saharan Africa</td>\n      <td>Sao Tome and Principe</td>\n      <td>Fruits</td>\n      <td>Online</td>\n      <td>C</td>\n      <td>6/20/2014</td>\n      <td>514321792</td>\n      <td>7/5/2014</td>\n      <td>8102</td>\n      <td>9.33</td>\n      <td>6.92</td>\n      <td>75591.66</td>\n      <td>56065.84</td>\n      <td>19525.82</td>\n    </tr>\n    <tr>\n      <th>4</th>\n      <td>Sub-Saharan Africa</td>\n      <td>Rwanda</td>\n      <td>Office Supplies</td>\n      <td>Offline</td>\n      <td>L</td>\n      <td>2/1/2013</td>\n      <td>115456712</td>\n      <td>2/6/2013</td>\n      <td>5062</td>\n      <td>651.21</td>\n      <td>524.96</td>\n      <td>3296425.02</td>\n      <td>2657347.52</td>\n      <td>639077.50</td>\n    </tr>\n  </tbody>\n</table>\n</div>"
     },
     "metadata": {},
     "execution_count": 4
    }
   ],
   "source": [
    "# carregando o arquivo 'sales.csv'\n",
    "df = pd.read_csv('sales.csv')\n",
    "df.head()"
   ]
  },
  {
   "cell_type": "markdown",
   "metadata": {},
   "source": [
    "### Exercício 1)\n",
    "Agrupe os dados da base <font style=\"font-family: monaco\">sales.csv</font> de acordo com os países. Imprima as colunas 'Item Type' and 'Total Profit' dos grupos gerados. "
   ]
  },
  {
   "cell_type": "code",
   "execution_count": 15,
   "metadata": {
    "tags": []
   },
   "outputs": [
    {
     "output_type": "stream",
     "name": "stdout",
     "text": [
      "----- \n",
      " Country:  Albania\n",
      "   Item Type  Total Profit\n",
      "50   Clothes     166635.36 \n",
      "\n",
      "----- \n",
      " Country:  Angola\n",
      "   Item Type  Total Profit\n",
      "6  Household     693911.51 \n",
      "\n",
      "----- \n",
      " Country:  Australia\n",
      "          Item Type  Total Profit\n",
      "32  Office Supplies     369155.00\n",
      "60           Cereal      60418.38\n",
      "91        Beverages     147031.74 \n",
      "\n",
      "----- \n",
      " Country:  Austria\n",
      "    Item Type  Total Profit\n",
      "57  Cosmetics     495007.89 \n",
      "\n",
      "----- \n",
      " Country:  Azerbaijan\n",
      "          Item Type  Total Profit\n",
      "41        Cosmetics    1257775.58\n",
      "92  Office Supplies     255151.25 \n",
      "\n",
      "----- \n",
      " Country:  Bangladesh\n",
      "   Item Type  Total Profit\n",
      "12   Clothes     606834.72 \n",
      "\n",
      "----- \n",
      " Country:  Belize\n",
      "   Item Type  Total Profit\n",
      "67   Clothes     403773.12 \n",
      "\n",
      "----- \n",
      " Country:  Brunei\n",
      "          Item Type  Total Profit\n",
      "38  Office Supplies      846885.0 \n",
      "\n",
      "----- \n",
      " Country:  Bulgaria\n",
      "          Item Type  Total Profit\n",
      "15          Clothes     122865.12\n",
      "39  Office Supplies     503358.75 \n",
      "\n",
      "----- \n",
      " Country:  Burkina Faso\n",
      "    Item Type  Total Profit\n",
      "7  Vegetables     510216.66 \n",
      "\n",
      "----- \n",
      " Country:  Cameroon\n",
      "          Item Type  Total Profit\n",
      "17        Beverages       85033.8\n",
      "62  Office Supplies      696647.5 \n",
      "\n",
      "----- \n",
      " Country:  Cape Verde\n",
      "   Item Type  Total Profit\n",
      "11   Clothes     306097.92 \n",
      "\n",
      "----- \n",
      " Country:  Comoros\n",
      "   Item Type  Total Profit\n",
      "45    Cereal      85223.58 \n",
      "\n",
      "----- \n",
      " Country:  Costa Rica\n",
      "        Item Type  Total Profit\n",
      "35  Personal Care     160609.54 \n",
      "\n",
      "----- \n",
      " Country:  Cote d'Ivoire\n",
      "   Item Type  Total Profit\n",
      "55   Clothes     255718.08 \n",
      "\n",
      "----- \n",
      " Country:  Democratic Republic of the Congo\n",
      "    Item Type  Total Profit\n",
      "72  Beverages      89904.06 \n",
      "\n",
      "----- \n",
      " Country:  Djibouti\n",
      "    Item Type  Total Profit\n",
      "34     Snacks     404010.78\n",
      "59  Cosmetics    1254472.05\n",
      "73     Cereal     766835.04 \n",
      "\n",
      "----- \n",
      " Country:  East Timor\n",
      "   Item Type  Total Profit\n",
      "19      Meat      337937.6 \n",
      "\n",
      "----- \n",
      " Country:  Federated States of Micronesia\n",
      "    Item Type  Total Profit\n",
      "76  Beverages     146875.14 \n",
      "\n",
      "----- \n",
      " Country:  Fiji\n",
      "   Item Type  Total Profit\n",
      "56   Clothes      727423.2 \n",
      "\n",
      "----- \n",
      " Country:  France\n",
      "    Item Type  Total Profit\n",
      "25  Cosmetics     315574.05 \n",
      "\n",
      "----- \n",
      " Country:  Gabon\n",
      "        Item Type  Total Profit\n",
      "66  Personal Care     216919.36 \n",
      "\n",
      "----- \n",
      " Country:  Grenada\n",
      "  Item Type  Total Profit\n",
      "1    Cereal     248406.36 \n",
      "\n",
      "----- \n",
      " Country:  Haiti\n",
      "    Item Type  Total Profit\n",
      "64  Cosmetics     296448.35 \n",
      "\n",
      "----- \n",
      " Country:  Honduras\n",
      "    Item Type  Total Profit\n",
      "13  Household    1487261.02\n",
      "22     Snacks     122686.50 \n",
      "\n",
      "----- \n",
      " Country:  Iceland\n",
      "    Item Type  Total Profit\n",
      "46  Cosmetics    1541705.29 \n",
      "\n",
      "----- \n",
      " Country:  Iran\n",
      "    Item Type  Total Profit\n",
      "82  Cosmetics    1128242.43 \n",
      "\n",
      "----- \n",
      " Country:  Kenya\n",
      "     Item Type  Total Profit\n",
      "84  Vegetables     407630.41 \n",
      "\n",
      "----- \n",
      " Country:  Kiribati\n",
      "   Item Type  Total Profit\n",
      "26    Fruits      13009.18 \n",
      "\n",
      "----- \n",
      " Country:  Kuwait\n",
      "   Item Type  Total Profit\n",
      "88    Fruits       1258.02 \n",
      "\n",
      "----- \n",
      " Country:  Kyrgyzstan\n",
      "     Item Type  Total Profit\n",
      "10  Vegetables       7828.12 \n",
      "\n",
      "----- \n",
      " Country:  Laos\n",
      "     Item Type  Total Profit\n",
      "77  Vegetables     235601.16 \n",
      "\n",
      "----- \n",
      " Country:  Lebanon\n",
      "   Item Type  Total Profit\n",
      "81   Clothes     579000.96 \n",
      "\n",
      "----- \n",
      " Country:  Lesotho\n",
      "   Item Type  Total Profit\n",
      "51    Fruits      23150.46 \n",
      "\n",
      "----- \n",
      " Country:  Libya\n",
      "   Item Type  Total Profit\n",
      "63   Clothes     449159.04\n",
      "71    Fruits       1621.93 \n",
      "\n",
      "----- \n",
      " Country:  Lithuania\n",
      "          Item Type  Total Profit\n",
      "68  Office Supplies    1046233.75 \n",
      "\n",
      "----- \n",
      " Country:  Macedonia\n",
      "   Item Type  Total Profit\n",
      "48   Clothes     575916.48 \n",
      "\n",
      "----- \n",
      " Country:  Madagascar\n",
      "   Item Type  Total Profit\n",
      "69   Clothes     539196.48 \n",
      "\n",
      "----- \n",
      " Country:  Malaysia\n",
      "   Item Type  Total Profit\n",
      "96    Fruits      15103.47 \n",
      "\n",
      "----- \n",
      " Country:  Mali\n",
      "   Item Type  Total Profit\n",
      "27    Fruits      14031.02\n",
      "95   Clothes      65214.72 \n",
      "\n",
      "----- \n",
      " Country:  Mauritania\n",
      "          Item Type  Total Profit\n",
      "49  Office Supplies      159832.5 \n",
      "\n",
      "----- \n",
      " Country:  Mexico\n",
      "        Item Type  Total Profit\n",
      "75      Household    1152486.42\n",
      "85  Personal Care     160935.32\n",
      "98  Personal Care     144521.02 \n",
      "\n",
      "----- \n",
      " Country:  Moldova \n",
      "        Item Type  Total Profit\n",
      "24  Personal Care      127054.2 \n",
      "\n",
      "----- \n",
      " Country:  Monaco\n",
      "    Item Type  Total Profit\n",
      "78  Baby Food     825738.04 \n",
      "\n",
      "----- \n",
      " Country:  Mongolia\n",
      "        Item Type  Total Profit\n",
      "14  Personal Care     122819.06 \n",
      "\n",
      "----- \n",
      " Country:  Mozambique\n",
      "    Item Type  Total Profit\n",
      "99  Household     889472.91 \n",
      "\n",
      "----- \n",
      " Country:  Myanmar\n",
      "    Item Type  Total Profit\n",
      "33  Household     1367272.5\n",
      "44    Clothes      435499.2 \n",
      "\n",
      "----- \n",
      " Country:  New Zealand\n",
      "   Item Type  Total Profit\n",
      "23    Fruits       5270.67 \n",
      "\n",
      "----- \n",
      " Country:  Nicaragua\n",
      "    Item Type  Total Profit\n",
      "94  Beverages     127722.96 \n",
      "\n",
      "----- \n",
      " Country:  Niger\n",
      "        Item Type  Total Profit\n",
      "40  Personal Care       75555.9 \n",
      "\n",
      "----- \n",
      " Country:  Norway\n",
      "    Item Type  Total Profit\n",
      "20  Baby Food     714157.00\n",
      "28  Beverages      80241.84 \n",
      "\n",
      "----- \n",
      " Country:  Pakistan\n",
      "    Item Type  Total Profit\n",
      "74  Cosmetics    1719922.04 \n",
      "\n",
      "----- \n",
      " Country:  Portugal\n",
      "    Item Type  Total Profit\n",
      "21  Baby Food     122029.78 \n",
      "\n",
      "----- \n",
      " Country:  Republic of the Congo\n",
      "       Item Type  Total Profit\n",
      "8  Personal Care      152114.2 \n",
      "\n",
      "----- \n",
      " Country:  Romania\n",
      "    Item Type  Total Profit\n",
      "93  Cosmetics     1375311.7 \n",
      "\n",
      "----- \n",
      " Country:  Russia\n",
      "         Item Type  Total Profit\n",
      "2  Office Supplies     224598.75 \n",
      "\n",
      "----- \n",
      " Country:  Rwanda\n",
      "          Item Type  Total Profit\n",
      "4   Office Supplies     639077.50\n",
      "65        Cosmetics     778415.99 \n",
      "\n",
      "----- \n",
      " Country:  Samoa \n",
      "    Item Type  Total Profit\n",
      "79  Cosmetics    1678540.98 \n",
      "\n",
      "----- \n",
      " Country:  San Marino\n",
      "    Item Type  Total Profit\n",
      "61  Baby Food      455335.0 \n",
      "\n",
      "----- \n",
      " Country:  Sao Tome and Principe\n",
      "    Item Type  Total Profit\n",
      "3      Fruits      19525.82\n",
      "54     Fruits      18405.17\n",
      "86  Beverages     138262.14 \n",
      "\n",
      "----- \n",
      " Country:  Saudi Arabia\n",
      "   Item Type  Total Profit\n",
      "52    Cereal     359941.17 \n",
      "\n",
      "----- \n",
      " Country:  Senegal\n",
      "  Item Type  Total Profit\n",
      "9    Cereal     584073.87 \n",
      "\n",
      "----- \n",
      " Country:  Sierra Leone\n",
      "          Item Type  Total Profit\n",
      "53  Office Supplies     436446.25\n",
      "90  Office Supplies     119685.00\n",
      "97       Vegetables      93748.05 \n",
      "\n",
      "----- \n",
      " Country:  Slovakia\n",
      "     Item Type  Total Profit\n",
      "43  Vegetables      10795.23 \n",
      "\n",
      "----- \n",
      " Country:  Slovenia\n",
      "    Item Type  Total Profit\n",
      "89  Beverages       72975.6 \n",
      "\n",
      "----- \n",
      " Country:  Solomon Islands\n",
      "   Item Type  Total Profit\n",
      "5  Baby Food     285087.64 \n",
      "\n",
      "----- \n",
      " Country:  South Sudan\n",
      "        Item Type  Total Profit\n",
      "31  Personal Care       53252.5 \n",
      "\n",
      "----- \n",
      " Country:  Spain\n",
      "    Item Type  Total Profit\n",
      "80  Household     747939.49 \n",
      "\n",
      "----- \n",
      " Country:  Sri Lanka\n",
      "    Item Type  Total Profit\n",
      "16  Cosmetics    1208744.24 \n",
      "\n",
      "----- \n",
      " Country:  Switzerland\n",
      "        Item Type  Total Profit\n",
      "30      Cosmetics    1505888.07\n",
      "47  Personal Care       6841.38 \n",
      "\n",
      "----- \n",
      " Country:  Syria\n",
      "   Item Type  Total Profit\n",
      "36    Fruits       9119.44 \n",
      "\n",
      "----- \n",
      " Country:  The Gambia\n",
      "    Item Type  Total Profit\n",
      "29  Household     392780.10\n",
      "37       Meat     272672.40\n",
      "42     Cereal     187545.03\n",
      "87  Baby Food     532885.74 \n",
      "\n",
      "----- \n",
      " Country:  Turkmenistan\n",
      "          Item Type  Total Profit\n",
      "18        Household      634745.9\n",
      "70  Office Supplies      632512.5 \n",
      "\n",
      "----- \n",
      " Country:  Tuvalu\n",
      "   Item Type  Total Profit\n",
      "0  Baby Food      951410.5 \n",
      "\n",
      "----- \n",
      " Country:  United Kingdom\n",
      "    Item Type  Total Profit\n",
      "58  Household      46735.86 \n",
      "\n",
      "----- \n",
      " Country:  Zambia\n",
      "   Item Type  Total Profit\n",
      "83    Snacks      225246.9 \n",
      "\n"
     ]
    }
   ],
   "source": [
    "df_by_country = df.groupby('Country')\n",
    "for groupname,group in df_by_country:\n",
    "    print(5*'-','\\n Country: ',groupname)\n",
    "    print(group[['Item Type', 'Total Profit']],'\\n')"
   ]
  },
  {
   "cell_type": "markdown",
   "metadata": {},
   "source": [
    "### Exercício 2)\n",
    "Encontre quantos tipos distintos de produtos o 'México' e a 'Austria' vendem."
   ]
  },
  {
   "cell_type": "code",
   "execution_count": 25,
   "metadata": {},
   "outputs": [
    {
     "output_type": "stream",
     "name": "stdout",
     "text": [
      "\nMexico:  2  produtos diferentes\n\\Austria:  1  produtos diferentes\n"
     ]
    }
   ],
   "source": [
    "mexico = df_by_country.get_group('Mexico')\n",
    "austria = df_by_country.get_group('Austria')\n",
    "print('\\nMexico: ',len(mexico['Item Type'].unique()),' produtos diferentes')\n",
    "print('\\Austria: ',len(austria['Item Type'].unique()),' produtos diferentes')\n"
   ]
  },
  {
   "cell_type": "markdown",
   "metadata": {},
   "source": [
    "### Exercício 3)\n",
    "Qual o país com o maior número de produtos distintos?"
   ]
  },
  {
   "cell_type": "code",
   "execution_count": 37,
   "metadata": {},
   "outputs": [
    {
     "output_type": "stream",
     "name": "stdout",
     "text": [
      "The country with the max number of unique product is \"The Gambia\" with 4 products\n"
     ]
    }
   ],
   "source": [
    "unique_product_count_by_country = df_by_country['Item Type'].nunique()\n",
    "max_unique_country = unique_product_count_by_country.idxmax()\n",
    "print(f'The country with the max number of unique product is \"{max_unique_country}\" with {unique_product_count_by_country[max_unique_country]} products')"
   ]
  },
  {
   "cell_type": "markdown",
   "metadata": {},
   "source": [
    "### Exercício 4)\n",
    "Utilizando <font color='blue'>groupby</font>, construa um DataFrame onde:\n",
    "- os rótulos das linhas correspondem a cada tipo de produto vendido\n",
    "- possua uma coluna contendo a quantidade total de vendas de cada produto\n",
    "- possua uma coluna contendo o lucro total de cada produto"
   ]
  },
  {
   "cell_type": "code",
   "execution_count": 39,
   "metadata": {},
   "outputs": [
    {
     "output_type": "stream",
     "name": "stdout",
     "text": [
      "                 Total_Units_Sold  Total_Profit\nItem Type                                      \nBaby Food                   40545    3886643.70\nBeverages                   56708     888047.28\nCereal                      25877    2292443.43\nClothes                     71260    5233334.40\nCosmetics                   83718   14556048.66\nFruits                      49998     120495.18\nHousehold                   44727    7412605.71\nMeat                        10675     610610.00\nOffice Supplies             46967    5929583.75\nPersonal Care               48708    1220622.48\nSnacks                      13637     751944.18\nVegetables                  20051    1265819.63\n"
     ]
    }
   ],
   "source": [
    "# a solução deste exercício é uma aplicação direta de grouby com agregação\n",
    "df_by_type = df.groupby('Item Type').agg(Total_Units_Sold=(\"Units Sold\", \"sum\"),\n",
    "                              Total_Profit=(\"Total Profit\", \"sum\"))\n",
    "print(df_by_type)"
   ]
  },
  {
   "cell_type": "markdown",
   "metadata": {},
   "source": [
    "### Exercício 5)\n",
    "Utilizando <font color='blue'>groupby</font>, construa um DataFrame contendo:\n",
    "- uma coluna com o nome dos países contidos na base de dados, sendo que cada país aparece somente uma vez \n",
    "- uma coluna com o total de unidades vendas no país correspondente"
   ]
  },
  {
   "cell_type": "code",
   "execution_count": 41,
   "metadata": {},
   "outputs": [
    {
     "output_type": "stream",
     "name": "stdout",
     "text": [
      "           Country  Units Sold\n0          Albania        2269\n1           Angola        4187\n2        Australia       12995\n3          Austria        2847\n4       Azerbaijan        9255\n..             ...         ...\n71      The Gambia       14813\n72    Turkmenistan        8840\n73          Tuvalu        9925\n74  United Kingdom         282\n75          Zambia        4085\n\n[76 rows x 2 columns]\n"
     ]
    }
   ],
   "source": [
    "# Para agrupar e fazer com que o nome dos grupos se tornem uma coluna \n",
    "# e não rótulos para as linhas, deve-se utilizar o método reset_index()'\n",
    "reset_df_by_country = df_by_country['Units Sold'].sum().reset_index()\n",
    "print(reset_df_by_country)"
   ]
  },
  {
   "cell_type": "markdown",
   "metadata": {},
   "source": [
    "### Exercício 6)\n",
    "Construa um DataFrame com as seguintes características:\n",
    "- Possua uma coluna contendo cada tipo de produto (cada produto aparece apenas uma vez)\n",
    "- Para cada produto, incluir seu lucro médio em uma nova coluna, ou seja, para cada produto deve-se calcular a diferença entre o valor de venda e o valor de custo do produto e calcular a média destas diferenças.\n",
    "\n",
    "**Dica**: Adicione uma nova coluna no DataFrame original com as diferenças e depois construa o novo DataFrame"
   ]
  },
  {
   "cell_type": "code",
   "execution_count": 45,
   "metadata": {},
   "outputs": [
    {
     "output_type": "stream",
     "name": "stdout",
     "text": [
      "          Item Type  Avg_Profit\n0         Baby Food       95.86\n1         Beverages       15.66\n2            Cereal       88.59\n3           Clothes       73.44\n4         Cosmetics      173.87\n5            Fruits        2.41\n6         Household      165.73\n7              Meat       57.20\n8   Office Supplies      126.25\n9     Personal Care       25.06\n10           Snacks       55.14\n11       Vegetables       63.13\n"
     ]
    }
   ],
   "source": [
    "df['Profit'] = df['Unit Price'] - df['Unit Cost']\n",
    "df_by_product = df.groupby('Item Type').agg(Avg_Profit=('Profit', 'mean')).reset_index()\n",
    "print(df_by_product)"
   ]
  },
  {
   "cell_type": "markdown",
   "metadata": {},
   "source": [
    "### Exercício 7) \n",
    "Utilizando o método <font color='blue'>transfom</font> do <font color='blue'>groupby</font> construa uma Serie com o mesmo número de linhas do conjunto de dados <font style=\"font-family: monaco\">sales.csv</font>, onde os valores correspondem ao índice da linha onde o produto mais vendido de cada país ocorre.\n",
    "\n",
    "Por exemplo: O país 'Australia' vende três tipos de produtos, \n",
    "'Office Supplies', 'Cereal', and 'Beverages'. A busca \n",
    "```python\n",
    "df[['Country','Item Type','Units Sold']].loc[df['Country']=='Australia'])\n",
    "```\n",
    "resulta em:\n",
    "```python\n",
    "      Country        Item Type  Units Sold\n",
    "32  Australia  Office Supplies        2924\n",
    "60  Australia           Cereal         682\n",
    "91  Australia        Beverages        9389\n",
    "```\n",
    "Assim, o produto mais vendido da 'Australia' é 'Beverages' e esta informação ocorre na linha de índice 91 do DataFrame original. Desta forma, a Serie gerada deve possuir nas linhas de índice 32, 60 e 91 o valor 91.\n",
    "\n",
    "**Dica**: Agrupe pela coluna 'Country' e aplique o método <font color='blue'>transfom</font> somente na coluna 'Units Sold'. O método <font color='blue'>idxmax()</font>  do <font color='blue'>pandas</font>  retorna o índice da linha onde o máximo valor de uma Serie ocorre. "
   ]
  },
  {
   "cell_type": "code",
   "execution_count": 53,
   "metadata": {
    "scrolled": true
   },
   "outputs": [
    {
     "output_type": "stream",
     "name": "stdout",
     "text": [
      "32    91\n60    91\n91    91\nName: Units Sold, dtype: int64\n"
     ]
    }
   ],
   "source": [
    "df_max_unit = df_by_country['Units Sold'].transform(lambda x: x.idxmax())\n",
    "print(df_max_unit[[32, 60, 91]])"
   ]
  },
  {
   "cell_type": "markdown",
   "metadata": {},
   "source": [
    "### Exercício 8) \n",
    "Construa um DataFrame com uma coluna chamada 'Pais', contendo os nomes de todos os países do DataFrame original (sem repetição). O DataFrame deve ser indexado com valores interios entre 0 e $n-1$, onde $n$ é o número de paises. Quantos países existem na base de dados?\n",
    "\n",
    "**Dica**: Para obter o rótulo (nome) de um grupo dentro do método <font color='blue'>apply</font> pode-se utilizar o atributo <font color='blue'>.name</font>, ou seja,\n",
    "```python\n",
    "df.groupby(<dados agrupamento>).apply(lambda x. x.name)\n",
    "```\n",
    "retorna o rótulo de cada grupo gerado pelo <font color='blue'>groupby</font>"
   ]
  },
  {
   "cell_type": "code",
   "execution_count": 57,
   "metadata": {},
   "outputs": [
    {
     "output_type": "stream",
     "name": "stdout",
     "text": [
      "Countries table:\n            Country\n0          Albania\n1           Angola\n2        Australia\n3          Austria\n4       Azerbaijan\n..             ...\n71      The Gambia\n72    Turkmenistan\n73          Tuvalu\n74  United Kingdom\n75          Zambia\n\n[76 rows x 1 columns]\nThe number of countries is 76\n"
     ]
    }
   ],
   "source": [
    "countries = df_by_country.apply(lambda x: x.name).reset_index().drop(0, axis=1)\n",
    "print('Countries table:\\n', countries)\n",
    "print(f'The number of countries is {len(countries)}')"
   ]
  },
  {
   "cell_type": "markdown",
   "metadata": {},
   "source": [
    "### Exercício 9) \n",
    "Construa um DataFrame contendo:\n",
    "- uma coluna com os nomes dos países (cada país aparece apenas uma vez)\n",
    "- uma coluna com o nome do produto mais vendido no país, ou seja, cada linha contém o nome do país e o produto mais vendido daquele país.\n",
    "\n",
    "**Dica**: Agrupe a Serie criada no exercício 7) de acordo com os países,\n",
    "gerando uma nova Serie com o número de linhas equivalente ao número de países. Utilize a Serie gerada para buscar, no DataFrame original, o nome do produto mais vendido."
   ]
  },
  {
   "cell_type": "code",
   "execution_count": 72,
   "metadata": {
    "scrolled": true
   },
   "outputs": [
    {
     "output_type": "stream",
     "name": "stdout",
     "text": [
      "           Country              MSP\n0          Albania          Clothes\n1           Angola        Household\n2        Australia        Beverages\n3          Austria        Cosmetics\n4       Azerbaijan        Cosmetics\n..             ...              ...\n71      The Gambia        Baby Food\n72    Turkmenistan  Office Supplies\n73          Tuvalu        Baby Food\n74  United Kingdom        Household\n75          Zambia           Snacks\n\n[76 rows x 2 columns]\n"
     ]
    }
   ],
   "source": [
    "df_max_unit = df_by_country['Units Sold'].transform(lambda x: x.idxmax())\n",
    "countries_and_msp = pd.DataFrame(df.groupby('Country').apply(lambda x: x.name).values, columns=['Country'])\n",
    "most_sold_item_index = df_max_unit.groupby(df['Country'].values).apply(lambda x:x.iloc[0]).values\n",
    "countries_and_msp['MSP'] = df['Item Type'].iloc[most_sold_item_index].values\n",
    "print(countries_and_msp)"
   ]
  },
  {
   "cell_type": "code",
   "execution_count": null,
   "metadata": {},
   "outputs": [],
   "source": []
  },
  {
   "cell_type": "markdown",
   "metadata": {},
   "source": [
    "### Exercício 10) \n",
    "O método <font color='blue'>groupby</font> combinado com a transformação <font color='blue'>apply</font> podem ser utilizados para preencher dados faltantes com valores específicos em cada grupo. O DataFrame gerado no código abaixo possui dados faltantes (`NaN`) em várias posições. \n",
    "1. Divida os elementos do DataFrame em dois grupos, o grupo das linha pares e o grupo das linhas ímpares.\n",
    "2. Preencha os dados faltantes do grupo das linhas pares com o valor médio dos valores no grupo \n",
    "3. Preencha os dados faltantes do grupo das linhas ímpares com o valor médio dos valores no grupo "
   ]
  },
  {
   "cell_type": "code",
   "execution_count": null,
   "metadata": {},
   "outputs": [],
   "source": [
    "# construindo um DataFrame com valores faltantes\n",
    "dataf = np.random.randint(low=0, high=10, size=(10,5)).astype(float)\n",
    "rid = np.random.randint(low=0, high=10, size=5)\n",
    "cid = np.random.randint(low=0, high=5, size=5)\n",
    "dataf[rid,cid] = np.nan\n",
    "\n",
    "clabels=['c1','c2','c3','c4','c5']\n",
    "df = pd.DataFrame(data=dataf,columns=clabels)\n",
    "\n",
    "print(df)"
   ]
  },
  {
   "cell_type": "code",
   "execution_count": null,
   "metadata": {},
   "outputs": [],
   "source": [
    "# escreva o codigo aqui\n",
    "\n",
    "dfgrouped = df.groupby(lambda x: x%2==0).apply(lambda i: i.fillna(i.mean()))\n",
    "print(dfgrouped)"
   ]
  }
 ],
 "metadata": {
  "kernelspec": {
   "display_name": "Python 3",
   "language": "python",
   "name": "python3"
  },
  "language_info": {
   "codemirror_mode": {
    "name": "ipython",
    "version": 3
   },
   "file_extension": ".py",
   "mimetype": "text/x-python",
   "name": "python",
   "nbconvert_exporter": "python",
   "pygments_lexer": "ipython3",
   "version": "3.8.5-final"
  },
  "toc": {
   "base_numbering": 1,
   "nav_menu": {},
   "number_sections": true,
   "sideBar": true,
   "skip_h1_title": false,
   "title_cell": "Table of Contents",
   "title_sidebar": "Contents",
   "toc_cell": false,
   "toc_position": {},
   "toc_section_display": true,
   "toc_window_display": false
  }
 },
 "nbformat": 4,
 "nbformat_minor": 2
}